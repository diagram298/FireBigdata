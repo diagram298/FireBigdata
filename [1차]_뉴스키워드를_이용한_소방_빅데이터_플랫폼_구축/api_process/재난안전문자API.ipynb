{
  "cells": [
    {
      "cell_type": "code",
      "execution_count": 1,
      "metadata": {
        "id": "c1J-wlQGRADl"
      },
      "outputs": [],
      "source": [
        "import pandas as pd\n",
        "import json\n",
        "import requests\n",
        "from urllib import parse"
      ]
    },
    {
      "cell_type": "code",
      "execution_count": 2,
      "metadata": {
        "colab": {
          "base_uri": "https://localhost:8080/"
        },
        "id": "-CSF2sVRRBbt",
        "outputId": "0f4bdb7f-a05e-4701-9eee-bd3b3925d712"
      },
      "outputs": [],
      "source": [
        "url = 'http://apis.data.go.kr/1741000/DisasterMsg3/getDisasterMsg1List'\n",
        "key = 'buNPq8BZdGw2p%2B3l2B7IMBy3e9PX5fahBKLPiW518y4yMZsQFDJeQW9fpNMb2nt7Xu6j4vz6txHwT5%2BrcFrwhA%3D%3D'\n",
        "\n",
        "date = []\n",
        "location = []\n",
        "msg = []\n",
        "\n",
        "for i in range(1, 1657):\n",
        "    queryParams = f'?{parse.quote_plus(\"ServiceKey\")}={key}&' + parse.urlencode({\n",
        "    parse.quote_plus(\"type\"): 'json',\n",
        "    parse.quote_plus(\"pageNo\"): i,\n",
        "    parse.quote_plus(\"numOfRows\"):'100',\n",
        "    })\n",
        "\n",
        "    response = requests.get(url + queryParams)\n",
        "    text = response.text\n",
        "    json_ob = json.loads(text)\n",
        "    \n",
        "    \n",
        "    for j in range(100):\n",
        "        date.append(json_ob['DisasterMsg'][1]['row'][j]['create_date'])\n",
        "        location.append(json_ob['DisasterMsg'][1]['row'][j]['location_name'])\n",
        "        msg.append(json_ob['DisasterMsg'][1]['row'][j]['msg'])"
      ]
    },
    {
      "cell_type": "code",
      "execution_count": 3,
      "metadata": {},
      "outputs": [],
      "source": [
        "df_date = pd.DataFrame(date, columns = ['date'])\n",
        "df_location = pd.DataFrame(location, columns = ['location'])\n",
        "df_msg = pd.DataFrame(msg, columns = ['msg'])"
      ]
    },
    {
      "cell_type": "code",
      "execution_count": 4,
      "metadata": {},
      "outputs": [
        {
          "data": {
            "text/html": [
              "<div>\n",
              "<style scoped>\n",
              "    .dataframe tbody tr th:only-of-type {\n",
              "        vertical-align: middle;\n",
              "    }\n",
              "\n",
              "    .dataframe tbody tr th {\n",
              "        vertical-align: top;\n",
              "    }\n",
              "\n",
              "    .dataframe thead th {\n",
              "        text-align: right;\n",
              "    }\n",
              "</style>\n",
              "<table border=\"1\" class=\"dataframe\">\n",
              "  <thead>\n",
              "    <tr style=\"text-align: right;\">\n",
              "      <th></th>\n",
              "      <th>date</th>\n",
              "      <th>location</th>\n",
              "      <th>msg</th>\n",
              "    </tr>\n",
              "  </thead>\n",
              "  <tbody>\n",
              "    <tr>\n",
              "      <th>0</th>\n",
              "      <td>2022/12/21 11:30:13</td>\n",
              "      <td>서울특별시 전체</td>\n",
              "      <td>[서울시청]12.21(수) 0시기준 신규확진 15,564명 bit.ly/3o0icf...</td>\n",
              "    </tr>\n",
              "    <tr>\n",
              "      <th>1</th>\n",
              "      <td>2022/12/21 11:27:39</td>\n",
              "      <td>전라북도 순창군</td>\n",
              "      <td>[순창군청] 내일(22일) 새벽부터 많은 눈이 예상되니 농작물 냉해방지, 비닐하우스...</td>\n",
              "    </tr>\n",
              "    <tr>\n",
              "      <th>2</th>\n",
              "      <td>2022/12/21 11:25:16</td>\n",
              "      <td>경상남도 양산시</td>\n",
              "      <td>[양산시청] 원동면 천태사 ~ 삼랑진 방면 도로 결빙으로 인해 교통통제중입니다. 차...</td>\n",
              "    </tr>\n",
              "    <tr>\n",
              "      <th>3</th>\n",
              "      <td>2022/12/21 11:19:45</td>\n",
              "      <td>강원도 고성군</td>\n",
              "      <td>[고성군청]12.21.(수) 0시 기준 확진자 45명 발생▲코로나19 재유행 대비 ...</td>\n",
              "    </tr>\n",
              "    <tr>\n",
              "      <th>4</th>\n",
              "      <td>2022/12/21 11:14:41</td>\n",
              "      <td>충청남도 서산시</td>\n",
              "      <td>[서산시청] 12/21(수) 11시 기준 확진자 424명발생(누적95,017명) ▲...</td>\n",
              "    </tr>\n",
              "    <tr>\n",
              "      <th>...</th>\n",
              "      <td>...</td>\n",
              "      <td>...</td>\n",
              "      <td>...</td>\n",
              "    </tr>\n",
              "    <tr>\n",
              "      <th>165595</th>\n",
              "      <td>2012/11/29 14:15:52</td>\n",
              "      <td>강원도 원주시</td>\n",
              "      <td>[중앙대책본부]\\n금일14시∼15시, \\n중앙고속도로 치\\n악휴게소부근, 폭\\n설대...</td>\n",
              "    </tr>\n",
              "    <tr>\n",
              "      <th>165596</th>\n",
              "      <td>2012/11/29 12:07:39</td>\n",
              "      <td>강원도 원주시</td>\n",
              "      <td>[중앙대책본부]\\n금일14시∼15시, 중앙고속도로 치악휴게소부근, 폭설대응훈련, 휴...</td>\n",
              "    </tr>\n",
              "    <tr>\n",
              "      <th>165597</th>\n",
              "      <td>2012/11/25 17:13:33</td>\n",
              "      <td>강원도 동해시</td>\n",
              "      <td>[기상예보]11.25일밤~26일오전사이 강원내륙.강원산간에 눈이 예상되니 피해없도록...</td>\n",
              "    </tr>\n",
              "    <tr>\n",
              "      <th>165598</th>\n",
              "      <td>2012/11/12 07:41:04</td>\n",
              "      <td>강원도 강릉시,강원도 고성군,강원도 동해시,강원도 삼척시,강원도 속초시,강원도 양양군</td>\n",
              "      <td>[국민안전처]\\n12일09시동해중부먼바다 풍랑경보, 어선은 출항을 금지하고 출 어선...</td>\n",
              "    </tr>\n",
              "    <tr>\n",
              "      <th>165599</th>\n",
              "      <td>2012/11/07 11:35:32</td>\n",
              "      <td></td>\n",
              "      <td>순환정전 실시 안내입니다.\\n\\n일시 : 2012년09월25일 16시~18시\\n대상...</td>\n",
              "    </tr>\n",
              "  </tbody>\n",
              "</table>\n",
              "<p>165600 rows × 3 columns</p>\n",
              "</div>"
            ],
            "text/plain": [
              "                       date                                         location  \\\n",
              "0       2022/12/21 11:30:13                                         서울특별시 전체   \n",
              "1       2022/12/21 11:27:39                                         전라북도 순창군   \n",
              "2       2022/12/21 11:25:16                                         경상남도 양산시   \n",
              "3       2022/12/21 11:19:45                                          강원도 고성군   \n",
              "4       2022/12/21 11:14:41                                         충청남도 서산시   \n",
              "...                     ...                                              ...   \n",
              "165595  2012/11/29 14:15:52                                          강원도 원주시   \n",
              "165596  2012/11/29 12:07:39                                          강원도 원주시   \n",
              "165597  2012/11/25 17:13:33                                          강원도 동해시   \n",
              "165598  2012/11/12 07:41:04  강원도 강릉시,강원도 고성군,강원도 동해시,강원도 삼척시,강원도 속초시,강원도 양양군   \n",
              "165599  2012/11/07 11:35:32                                                    \n",
              "\n",
              "                                                      msg  \n",
              "0       [서울시청]12.21(수) 0시기준 신규확진 15,564명 bit.ly/3o0icf...  \n",
              "1       [순창군청] 내일(22일) 새벽부터 많은 눈이 예상되니 농작물 냉해방지, 비닐하우스...  \n",
              "2       [양산시청] 원동면 천태사 ~ 삼랑진 방면 도로 결빙으로 인해 교통통제중입니다. 차...  \n",
              "3       [고성군청]12.21.(수) 0시 기준 확진자 45명 발생▲코로나19 재유행 대비 ...  \n",
              "4       [서산시청] 12/21(수) 11시 기준 확진자 424명발생(누적95,017명) ▲...  \n",
              "...                                                   ...  \n",
              "165595  [중앙대책본부]\\n금일14시∼15시, \\n중앙고속도로 치\\n악휴게소부근, 폭\\n설대...  \n",
              "165596  [중앙대책본부]\\n금일14시∼15시, 중앙고속도로 치악휴게소부근, 폭설대응훈련, 휴...  \n",
              "165597  [기상예보]11.25일밤~26일오전사이 강원내륙.강원산간에 눈이 예상되니 피해없도록...  \n",
              "165598  [국민안전처]\\n12일09시동해중부먼바다 풍랑경보, 어선은 출항을 금지하고 출 어선...  \n",
              "165599  순환정전 실시 안내입니다.\\n\\n일시 : 2012년09월25일 16시~18시\\n대상...  \n",
              "\n",
              "[165600 rows x 3 columns]"
            ]
          },
          "execution_count": 4,
          "metadata": {},
          "output_type": "execute_result"
        }
      ],
      "source": [
        "df = pd.concat([df_date, df_location, df_msg], axis=1)\n",
        "df"
      ]
    },
    {
      "cell_type": "code",
      "execution_count": 5,
      "metadata": {},
      "outputs": [],
      "source": [
        "df.to_csv('재난안전문자.csv', encoding = 'UTF-8-sig')"
      ]
    },
    {
      "cell_type": "code",
      "execution_count": null,
      "metadata": {},
      "outputs": [],
      "source": []
    }
  ],
  "metadata": {
    "colab": {
      "provenance": []
    },
    "kernelspec": {
      "display_name": "Python 3",
      "language": "python",
      "name": "python3"
    },
    "language_info": {
      "codemirror_mode": {
        "name": "ipython",
        "version": 3
      },
      "file_extension": ".py",
      "mimetype": "text/x-python",
      "name": "python",
      "nbconvert_exporter": "python",
      "pygments_lexer": "ipython3",
      "version": "3.9.5 (tags/v3.9.5:0a7dcbd, May  3 2021, 17:27:52) [MSC v.1928 64 bit (AMD64)]"
    },
    "vscode": {
      "interpreter": {
        "hash": "7c900b78eeb171c21ddcb3a089a503deb6b74e1d42a7e047216b3e06e37eb059"
      }
    }
  },
  "nbformat": 4,
  "nbformat_minor": 0
}
