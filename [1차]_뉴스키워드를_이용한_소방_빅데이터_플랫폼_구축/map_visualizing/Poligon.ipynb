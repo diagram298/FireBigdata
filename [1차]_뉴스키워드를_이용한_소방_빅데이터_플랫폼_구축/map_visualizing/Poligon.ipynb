{
 "cells": [
  {
   "cell_type": "code",
   "execution_count": null,
   "metadata": {},
   "outputs": [],
   "source": []
  }
 ],
 "metadata": {
  "kernelspec": {
   "display_name": "Python 3.10.7 64-bit",
   "language": "python",
   "name": "python3"
  },
  "language_info": {
   "name": "python",
   "version": "3.10.7"
  },
  "orig_nbformat": 4,
  "vscode": {
   "interpreter": {
    "hash": "8592c5686a4ee86636763dfbb580e0886326a68bd7d99adc81692a28e917b78f"
   }
  }
 },
 "nbformat": 4,
 "nbformat_minor": 2
}
