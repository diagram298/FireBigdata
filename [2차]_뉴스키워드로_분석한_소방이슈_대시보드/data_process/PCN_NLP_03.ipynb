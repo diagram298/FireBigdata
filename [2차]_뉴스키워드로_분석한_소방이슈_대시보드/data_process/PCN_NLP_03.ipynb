{
 "cells": [
  {
   "cell_type": "code",
   "execution_count": 100,
   "metadata": {},
   "outputs": [],
   "source": [
    "import numpy as np\n",
    "import pandas as pd\n",
    "import re\n",
    "import matplotlib.pyplot as plt\n",
    "from nltk.corpus import stopwords\n",
    "from bs4 import BeautifulSoup \n",
    "from tensorflow.keras.preprocessing.text import Tokenizer \n",
    "from tensorflow.keras.preprocessing.sequence import pad_sequences\n",
    "import urllib.request\n",
    "np.random.seed(seed=0)"
   ]
  },
  {
   "cell_type": "code",
   "execution_count": 101,
   "metadata": {},
   "outputs": [],
   "source": [
    "import nltk\n",
    "# nltk.download()"
   ]
  },
  {
   "cell_type": "code",
   "execution_count": 102,
   "metadata": {},
   "outputs": [
    {
     "data": {
      "text/html": [
       "<div>\n",
       "<style scoped>\n",
       "    .dataframe tbody tr th:only-of-type {\n",
       "        vertical-align: middle;\n",
       "    }\n",
       "\n",
       "    .dataframe tbody tr th {\n",
       "        vertical-align: top;\n",
       "    }\n",
       "\n",
       "    .dataframe thead th {\n",
       "        text-align: right;\n",
       "    }\n",
       "</style>\n",
       "<table border=\"1\" class=\"dataframe\">\n",
       "  <thead>\n",
       "    <tr style=\"text-align: right;\">\n",
       "      <th></th>\n",
       "      <th>Unnamed: 0</th>\n",
       "      <th>_index</th>\n",
       "      <th>_type</th>\n",
       "      <th>_id</th>\n",
       "      <th>_score</th>\n",
       "      <th>YNewsML.Header.SendTime</th>\n",
       "      <th>YNewsML.Header.Action</th>\n",
       "      <th>YNewsML.Header.ServiceType</th>\n",
       "      <th>YNewsML.Header.ContentID</th>\n",
       "      <th>YNewsML.Header.SendDate</th>\n",
       "      <th>...</th>\n",
       "      <th>YNewsML.Metadata.Region.RegionCode</th>\n",
       "      <th>YNewsML.Metadata.Attribute.AttributeCode</th>\n",
       "      <th>YNewsML.RefContent</th>\n",
       "      <th>YNewsML.Metadata.Issue.IssueCode.code</th>\n",
       "      <th>YNewsML.Metadata.Issue.IssueCode.name</th>\n",
       "      <th>YNewsML.RefContent.Title</th>\n",
       "      <th>YNewsML.RefContent.Href</th>\n",
       "      <th>YNewsML.RefContent.ContentID</th>\n",
       "      <th>YNewsML.RefContent.type</th>\n",
       "      <th>YNewsML.Metadata.Embargo</th>\n",
       "    </tr>\n",
       "  </thead>\n",
       "  <tbody>\n",
       "    <tr>\n",
       "      <th>0</th>\n",
       "      <td>0</td>\n",
       "      <td>rens_test</td>\n",
       "      <td>_doc</td>\n",
       "      <td>AKR20210105121500009</td>\n",
       "      <td>NaN</td>\n",
       "      <td>160431</td>\n",
       "      <td>C</td>\n",
       "      <td>AKR0</td>\n",
       "      <td>AKR20210105121500009</td>\n",
       "      <td>20210105</td>\n",
       "      <td>...</td>\n",
       "      <td>NaN</td>\n",
       "      <td>NaN</td>\n",
       "      <td>NaN</td>\n",
       "      <td>NaN</td>\n",
       "      <td>NaN</td>\n",
       "      <td>NaN</td>\n",
       "      <td>NaN</td>\n",
       "      <td>NaN</td>\n",
       "      <td>NaN</td>\n",
       "      <td>NaN</td>\n",
       "    </tr>\n",
       "    <tr>\n",
       "      <th>1</th>\n",
       "      <td>1</td>\n",
       "      <td>rens_test</td>\n",
       "      <td>_doc</td>\n",
       "      <td>AKR20210105124700009</td>\n",
       "      <td>NaN</td>\n",
       "      <td>160508</td>\n",
       "      <td>C</td>\n",
       "      <td>AKR0</td>\n",
       "      <td>AKR20210105124700009</td>\n",
       "      <td>20210105</td>\n",
       "      <td>...</td>\n",
       "      <td>NaN</td>\n",
       "      <td>NaN</td>\n",
       "      <td>NaN</td>\n",
       "      <td>NaN</td>\n",
       "      <td>NaN</td>\n",
       "      <td>NaN</td>\n",
       "      <td>NaN</td>\n",
       "      <td>NaN</td>\n",
       "      <td>NaN</td>\n",
       "      <td>NaN</td>\n",
       "    </tr>\n",
       "    <tr>\n",
       "      <th>2</th>\n",
       "      <td>2</td>\n",
       "      <td>rens_test</td>\n",
       "      <td>_doc</td>\n",
       "      <td>AKR20210105123300530</td>\n",
       "      <td>NaN</td>\n",
       "      <td>160514</td>\n",
       "      <td>C</td>\n",
       "      <td>AKR0</td>\n",
       "      <td>AKR20210105123300530</td>\n",
       "      <td>20210105</td>\n",
       "      <td>...</td>\n",
       "      <td>NaN</td>\n",
       "      <td>NaN</td>\n",
       "      <td>NaN</td>\n",
       "      <td>NaN</td>\n",
       "      <td>NaN</td>\n",
       "      <td>NaN</td>\n",
       "      <td>NaN</td>\n",
       "      <td>NaN</td>\n",
       "      <td>NaN</td>\n",
       "      <td>NaN</td>\n",
       "    </tr>\n",
       "    <tr>\n",
       "      <th>3</th>\n",
       "      <td>3</td>\n",
       "      <td>rens_test</td>\n",
       "      <td>_doc</td>\n",
       "      <td>AKR20210105126900002</td>\n",
       "      <td>NaN</td>\n",
       "      <td>160538</td>\n",
       "      <td>C</td>\n",
       "      <td>AKR0</td>\n",
       "      <td>AKR20210105126900002</td>\n",
       "      <td>20210105</td>\n",
       "      <td>...</td>\n",
       "      <td>NaN</td>\n",
       "      <td>NaN</td>\n",
       "      <td>NaN</td>\n",
       "      <td>NaN</td>\n",
       "      <td>NaN</td>\n",
       "      <td>NaN</td>\n",
       "      <td>NaN</td>\n",
       "      <td>NaN</td>\n",
       "      <td>NaN</td>\n",
       "      <td>NaN</td>\n",
       "    </tr>\n",
       "    <tr>\n",
       "      <th>4</th>\n",
       "      <td>4</td>\n",
       "      <td>rens_test</td>\n",
       "      <td>_doc</td>\n",
       "      <td>AKR20210105126800017</td>\n",
       "      <td>NaN</td>\n",
       "      <td>160650</td>\n",
       "      <td>C</td>\n",
       "      <td>AKR0</td>\n",
       "      <td>AKR20210105126800017</td>\n",
       "      <td>20210105</td>\n",
       "      <td>...</td>\n",
       "      <td>NaN</td>\n",
       "      <td>NaN</td>\n",
       "      <td>NaN</td>\n",
       "      <td>NaN</td>\n",
       "      <td>NaN</td>\n",
       "      <td>NaN</td>\n",
       "      <td>NaN</td>\n",
       "      <td>NaN</td>\n",
       "      <td>NaN</td>\n",
       "      <td>NaN</td>\n",
       "    </tr>\n",
       "    <tr>\n",
       "      <th>...</th>\n",
       "      <td>...</td>\n",
       "      <td>...</td>\n",
       "      <td>...</td>\n",
       "      <td>...</td>\n",
       "      <td>...</td>\n",
       "      <td>...</td>\n",
       "      <td>...</td>\n",
       "      <td>...</td>\n",
       "      <td>...</td>\n",
       "      <td>...</td>\n",
       "      <td>...</td>\n",
       "      <td>...</td>\n",
       "      <td>...</td>\n",
       "      <td>...</td>\n",
       "      <td>...</td>\n",
       "      <td>...</td>\n",
       "      <td>...</td>\n",
       "      <td>...</td>\n",
       "      <td>...</td>\n",
       "      <td>...</td>\n",
       "      <td>...</td>\n",
       "    </tr>\n",
       "    <tr>\n",
       "      <th>109995</th>\n",
       "      <td>109995</td>\n",
       "      <td>rens_test</td>\n",
       "      <td>_doc</td>\n",
       "      <td>PYH20210406053100013</td>\n",
       "      <td>NaN</td>\n",
       "      <td>104446</td>\n",
       "      <td>C</td>\n",
       "      <td>PYH0</td>\n",
       "      <td>PYH20210406053100013</td>\n",
       "      <td>20210406</td>\n",
       "      <td>...</td>\n",
       "      <td>NaN</td>\n",
       "      <td>NaN</td>\n",
       "      <td>NaN</td>\n",
       "      <td>NaN</td>\n",
       "      <td>NaN</td>\n",
       "      <td>NaN</td>\n",
       "      <td>NaN</td>\n",
       "      <td>NaN</td>\n",
       "      <td>NaN</td>\n",
       "      <td>NaN</td>\n",
       "    </tr>\n",
       "    <tr>\n",
       "      <th>109996</th>\n",
       "      <td>109996</td>\n",
       "      <td>rens_test</td>\n",
       "      <td>_doc</td>\n",
       "      <td>PYH20210406053200013</td>\n",
       "      <td>NaN</td>\n",
       "      <td>104450</td>\n",
       "      <td>C</td>\n",
       "      <td>PYH0</td>\n",
       "      <td>PYH20210406053200013</td>\n",
       "      <td>20210406</td>\n",
       "      <td>...</td>\n",
       "      <td>NaN</td>\n",
       "      <td>NaN</td>\n",
       "      <td>NaN</td>\n",
       "      <td>NaN</td>\n",
       "      <td>NaN</td>\n",
       "      <td>NaN</td>\n",
       "      <td>NaN</td>\n",
       "      <td>NaN</td>\n",
       "      <td>NaN</td>\n",
       "      <td>NaN</td>\n",
       "    </tr>\n",
       "    <tr>\n",
       "      <th>109997</th>\n",
       "      <td>109997</td>\n",
       "      <td>rens_test</td>\n",
       "      <td>_doc</td>\n",
       "      <td>PYH20210406053300013</td>\n",
       "      <td>NaN</td>\n",
       "      <td>104457</td>\n",
       "      <td>C</td>\n",
       "      <td>PYH0</td>\n",
       "      <td>PYH20210406053300013</td>\n",
       "      <td>20210406</td>\n",
       "      <td>...</td>\n",
       "      <td>NaN</td>\n",
       "      <td>NaN</td>\n",
       "      <td>NaN</td>\n",
       "      <td>NaN</td>\n",
       "      <td>NaN</td>\n",
       "      <td>NaN</td>\n",
       "      <td>NaN</td>\n",
       "      <td>NaN</td>\n",
       "      <td>NaN</td>\n",
       "      <td>NaN</td>\n",
       "    </tr>\n",
       "    <tr>\n",
       "      <th>109998</th>\n",
       "      <td>109998</td>\n",
       "      <td>rens_test</td>\n",
       "      <td>_doc</td>\n",
       "      <td>AKR20210406067000001</td>\n",
       "      <td>NaN</td>\n",
       "      <td>104505</td>\n",
       "      <td>C</td>\n",
       "      <td>AKR0</td>\n",
       "      <td>AKR20210406067000001</td>\n",
       "      <td>20210406</td>\n",
       "      <td>...</td>\n",
       "      <td>NaN</td>\n",
       "      <td>NaN</td>\n",
       "      <td>NaN</td>\n",
       "      <td>NaN</td>\n",
       "      <td>NaN</td>\n",
       "      <td>NaN</td>\n",
       "      <td>NaN</td>\n",
       "      <td>NaN</td>\n",
       "      <td>NaN</td>\n",
       "      <td>NaN</td>\n",
       "    </tr>\n",
       "    <tr>\n",
       "      <th>109999</th>\n",
       "      <td>109999</td>\n",
       "      <td>rens_test</td>\n",
       "      <td>_doc</td>\n",
       "      <td>PYH20210406053400013</td>\n",
       "      <td>NaN</td>\n",
       "      <td>104558</td>\n",
       "      <td>C</td>\n",
       "      <td>PYH0</td>\n",
       "      <td>PYH20210406053400013</td>\n",
       "      <td>20210406</td>\n",
       "      <td>...</td>\n",
       "      <td>NaN</td>\n",
       "      <td>NaN</td>\n",
       "      <td>NaN</td>\n",
       "      <td>NaN</td>\n",
       "      <td>NaN</td>\n",
       "      <td>NaN</td>\n",
       "      <td>NaN</td>\n",
       "      <td>NaN</td>\n",
       "      <td>NaN</td>\n",
       "      <td>NaN</td>\n",
       "    </tr>\n",
       "  </tbody>\n",
       "</table>\n",
       "<p>110000 rows × 51 columns</p>\n",
       "</div>"
      ],
      "text/plain": [
       "        Unnamed: 0     _index _type                   _id  _score  \\\n",
       "0                0  rens_test  _doc  AKR20210105121500009     NaN   \n",
       "1                1  rens_test  _doc  AKR20210105124700009     NaN   \n",
       "2                2  rens_test  _doc  AKR20210105123300530     NaN   \n",
       "3                3  rens_test  _doc  AKR20210105126900002     NaN   \n",
       "4                4  rens_test  _doc  AKR20210105126800017     NaN   \n",
       "...            ...        ...   ...                   ...     ...   \n",
       "109995      109995  rens_test  _doc  PYH20210406053100013     NaN   \n",
       "109996      109996  rens_test  _doc  PYH20210406053200013     NaN   \n",
       "109997      109997  rens_test  _doc  PYH20210406053300013     NaN   \n",
       "109998      109998  rens_test  _doc  AKR20210406067000001     NaN   \n",
       "109999      109999  rens_test  _doc  PYH20210406053400013     NaN   \n",
       "\n",
       "        YNewsML.Header.SendTime YNewsML.Header.Action  \\\n",
       "0                        160431                     C   \n",
       "1                        160508                     C   \n",
       "2                        160514                     C   \n",
       "3                        160538                     C   \n",
       "4                        160650                     C   \n",
       "...                         ...                   ...   \n",
       "109995                   104446                     C   \n",
       "109996                   104450                     C   \n",
       "109997                   104457                     C   \n",
       "109998                   104505                     C   \n",
       "109999                   104558                     C   \n",
       "\n",
       "       YNewsML.Header.ServiceType YNewsML.Header.ContentID  \\\n",
       "0                            AKR0     AKR20210105121500009   \n",
       "1                            AKR0     AKR20210105124700009   \n",
       "2                            AKR0     AKR20210105123300530   \n",
       "3                            AKR0     AKR20210105126900002   \n",
       "4                            AKR0     AKR20210105126800017   \n",
       "...                           ...                      ...   \n",
       "109995                       PYH0     PYH20210406053100013   \n",
       "109996                       PYH0     PYH20210406053200013   \n",
       "109997                       PYH0     PYH20210406053300013   \n",
       "109998                       AKR0     AKR20210406067000001   \n",
       "109999                       PYH0     PYH20210406053400013   \n",
       "\n",
       "        YNewsML.Header.SendDate  ...  YNewsML.Metadata.Region.RegionCode  \\\n",
       "0                      20210105  ...                                 NaN   \n",
       "1                      20210105  ...                                 NaN   \n",
       "2                      20210105  ...                                 NaN   \n",
       "3                      20210105  ...                                 NaN   \n",
       "4                      20210105  ...                                 NaN   \n",
       "...                         ...  ...                                 ...   \n",
       "109995                 20210406  ...                                 NaN   \n",
       "109996                 20210406  ...                                 NaN   \n",
       "109997                 20210406  ...                                 NaN   \n",
       "109998                 20210406  ...                                 NaN   \n",
       "109999                 20210406  ...                                 NaN   \n",
       "\n",
       "       YNewsML.Metadata.Attribute.AttributeCode YNewsML.RefContent  \\\n",
       "0                                           NaN                NaN   \n",
       "1                                           NaN                NaN   \n",
       "2                                           NaN                NaN   \n",
       "3                                           NaN                NaN   \n",
       "4                                           NaN                NaN   \n",
       "...                                         ...                ...   \n",
       "109995                                      NaN                NaN   \n",
       "109996                                      NaN                NaN   \n",
       "109997                                      NaN                NaN   \n",
       "109998                                      NaN                NaN   \n",
       "109999                                      NaN                NaN   \n",
       "\n",
       "       YNewsML.Metadata.Issue.IssueCode.code  \\\n",
       "0                                        NaN   \n",
       "1                                        NaN   \n",
       "2                                        NaN   \n",
       "3                                        NaN   \n",
       "4                                        NaN   \n",
       "...                                      ...   \n",
       "109995                                   NaN   \n",
       "109996                                   NaN   \n",
       "109997                                   NaN   \n",
       "109998                                   NaN   \n",
       "109999                                   NaN   \n",
       "\n",
       "       YNewsML.Metadata.Issue.IssueCode.name  YNewsML.RefContent.Title  \\\n",
       "0                                        NaN                       NaN   \n",
       "1                                        NaN                       NaN   \n",
       "2                                        NaN                       NaN   \n",
       "3                                        NaN                       NaN   \n",
       "4                                        NaN                       NaN   \n",
       "...                                      ...                       ...   \n",
       "109995                                   NaN                       NaN   \n",
       "109996                                   NaN                       NaN   \n",
       "109997                                   NaN                       NaN   \n",
       "109998                                   NaN                       NaN   \n",
       "109999                                   NaN                       NaN   \n",
       "\n",
       "       YNewsML.RefContent.Href YNewsML.RefContent.ContentID  \\\n",
       "0                          NaN                          NaN   \n",
       "1                          NaN                          NaN   \n",
       "2                          NaN                          NaN   \n",
       "3                          NaN                          NaN   \n",
       "4                          NaN                          NaN   \n",
       "...                        ...                          ...   \n",
       "109995                     NaN                          NaN   \n",
       "109996                     NaN                          NaN   \n",
       "109997                     NaN                          NaN   \n",
       "109998                     NaN                          NaN   \n",
       "109999                     NaN                          NaN   \n",
       "\n",
       "        YNewsML.RefContent.type YNewsML.Metadata.Embargo  \n",
       "0                           NaN                      NaN  \n",
       "1                           NaN                      NaN  \n",
       "2                           NaN                      NaN  \n",
       "3                           NaN                      NaN  \n",
       "4                           NaN                      NaN  \n",
       "...                         ...                      ...  \n",
       "109995                      NaN                      NaN  \n",
       "109996                      NaN                      NaN  \n",
       "109997                      NaN                      NaN  \n",
       "109998                      NaN                      NaN  \n",
       "109999                      NaN                      NaN  \n",
       "\n",
       "[110000 rows x 51 columns]"
      ]
     },
     "execution_count": 102,
     "metadata": {},
     "output_type": "execute_result"
    }
   ],
   "source": [
    "df = pd.read_csv('D:\\LYS\\Team Project2(빅데이터를 활용한 소방안전에 대한 동향분석 및 정책이슈 도출)-20221211T134252Z-001\\Data\\연합뉴스API\\df100000.csv', encoding = 'utf-8')\n",
    "df"
   ]
  },
  {
   "cell_type": "code",
   "execution_count": 103,
   "metadata": {},
   "outputs": [
    {
     "data": {
      "text/plain": [
       "['Unnamed: 0',\n",
       " '_index',\n",
       " '_type',\n",
       " '_id',\n",
       " '_score',\n",
       " 'YNewsML.Header.SendTime',\n",
       " 'YNewsML.Header.Action',\n",
       " 'YNewsML.Header.ServiceType',\n",
       " 'YNewsML.Header.ContentID',\n",
       " 'YNewsML.Header.SendDate',\n",
       " 'YNewsML.Metadata.Category.code',\n",
       " 'YNewsML.Metadata.Category.name',\n",
       " 'YNewsML.Metadata.Credit',\n",
       " 'YNewsML.Metadata.DeliCode',\n",
       " 'YNewsML.Metadata.Href',\n",
       " 'YNewsML.Metadata.Desk.code',\n",
       " 'YNewsML.Metadata.Desk.content',\n",
       " 'YNewsML.Metadata.Class.ClassCode',\n",
       " 'YNewsML.Metadata.Urgency',\n",
       " 'YNewsML.Metadata.Source',\n",
       " 'YNewsML.Metadata.Writer.uid',\n",
       " 'YNewsML.Metadata.Writer.content',\n",
       " 'YNewsML.NewsContent.LangType',\n",
       " 'YNewsML.NewsContent.Title',\n",
       " 'YNewsML.NewsContent.Body',\n",
       " 'send_timestamp',\n",
       " 'YNewsML.Metadata.Region.RegionCode.code',\n",
       " 'YNewsML.Metadata.Region.RegionCode.name',\n",
       " 'YNewsML.NewsContent.SubTitle',\n",
       " 'YNewsML.Metadata.Attribute.AttributeCode.code',\n",
       " 'YNewsML.Metadata.Attribute.AttributeCode.name',\n",
       " 'YNewsML.Metadata.Class.ClassCode.code',\n",
       " 'YNewsML.Metadata.Class.ClassCode.name',\n",
       " 'YNewsML.Metadata.Category',\n",
       " 'YNewsML.Metadata.PublishNo',\n",
       " 'YNewsML.NewsContent.TaggedBody',\n",
       " 'YNewsML.NewsContent.MultiMedia.DataFile.mimetype',\n",
       " 'YNewsML.NewsContent.MultiMedia.DataFile.type',\n",
       " 'YNewsML.NewsContent.MultiMedia.DataFile.content',\n",
       " 'YNewsML.NewsContent.MultiMedia.DataFile.desc',\n",
       " 'YNewsML.NewsContent.Comment',\n",
       " 'YNewsML.Metadata.Region.RegionCode',\n",
       " 'YNewsML.Metadata.Attribute.AttributeCode',\n",
       " 'YNewsML.RefContent',\n",
       " 'YNewsML.Metadata.Issue.IssueCode.code',\n",
       " 'YNewsML.Metadata.Issue.IssueCode.name',\n",
       " 'YNewsML.RefContent.Title',\n",
       " 'YNewsML.RefContent.Href',\n",
       " 'YNewsML.RefContent.ContentID',\n",
       " 'YNewsML.RefContent.type',\n",
       " 'YNewsML.Metadata.Embargo']"
      ]
     },
     "execution_count": 103,
     "metadata": {},
     "output_type": "execute_result"
    }
   ],
   "source": [
    "df.columns.tolist()"
   ]
  },
  {
   "cell_type": "code",
   "execution_count": 104,
   "metadata": {},
   "outputs": [
    {
     "data": {
      "text/html": [
       "<div>\n",
       "<style scoped>\n",
       "    .dataframe tbody tr th:only-of-type {\n",
       "        vertical-align: middle;\n",
       "    }\n",
       "\n",
       "    .dataframe tbody tr th {\n",
       "        vertical-align: top;\n",
       "    }\n",
       "\n",
       "    .dataframe thead th {\n",
       "        text-align: right;\n",
       "    }\n",
       "</style>\n",
       "<table border=\"1\" class=\"dataframe\">\n",
       "  <thead>\n",
       "    <tr style=\"text-align: right;\">\n",
       "      <th></th>\n",
       "      <th>YNewsML.NewsContent.Title</th>\n",
       "      <th>YNewsML.NewsContent.Body</th>\n",
       "    </tr>\n",
       "  </thead>\n",
       "  <tbody>\n",
       "    <tr>\n",
       "      <th>0</th>\n",
       "      <td>인니 대표 스타트업 고젝, 토코피디아와 합병 논의</td>\n",
       "      <td>인니 대표 스타트업 고젝, 토코피디아와 합병 논의\\n\\r\\n    (서울=연합뉴스)...</td>\n",
       "    </tr>\n",
       "    <tr>\n",
       "      <th>1</th>\n",
       "      <td>중앙아프리카공화국 대선 결과 투아데레 대통령 재선</td>\n",
       "      <td>중앙아프리카공화국 대선 결과 투아데레 대통령 재선\\n폭력 사태 속 치러진 선거서 과...</td>\n",
       "    </tr>\n",
       "    <tr>\n",
       "      <th>2</th>\n",
       "      <td>당국, 동부구치소 사망자 늑장통보 논란에 \"화장 전에 통보했다\"</td>\n",
       "      <td>당국, 동부구치소 사망자 늑장통보 논란에 \"화장 전에 통보했다\"\\n\\r\\n&lt;YNAO...</td>\n",
       "    </tr>\n",
       "    <tr>\n",
       "      <th>3</th>\n",
       "      <td>삼성전자 사흘째 최고가 경신…시총 500조 시대</td>\n",
       "      <td>삼성전자 사흘째 최고가 경신…시총 500조 시대\\n\\r\\n&lt;YNAOBJECT id=...</td>\n",
       "    </tr>\n",
       "    <tr>\n",
       "      <th>4</th>\n",
       "      <td>지아이그룹-세브란스병원, 혁신 신약 개발 공동연구 협약</td>\n",
       "      <td>지아이그룹-세브란스병원, 혁신 신약 개발 공동연구 협약\\n\\r\\n    (서울=연합...</td>\n",
       "    </tr>\n",
       "    <tr>\n",
       "      <th>...</th>\n",
       "      <td>...</td>\n",
       "      <td>...</td>\n",
       "    </tr>\n",
       "    <tr>\n",
       "      <th>109995</th>\n",
       "      <td>국무회의에서 발언하는 정세균 총리</td>\n",
       "      <td>국무회의에서 발언하는 정세균 총리\\r\\n    (세종=연합뉴스) 김주형 기자 = 정...</td>\n",
       "    </tr>\n",
       "    <tr>\n",
       "      <th>109996</th>\n",
       "      <td>의사봉 두드리는 정세균 총리</td>\n",
       "      <td>의사봉 두드리는 정세균 총리\\r\\n    (세종=연합뉴스) 김주형 기자 = 정세균 ...</td>\n",
       "    </tr>\n",
       "    <tr>\n",
       "      <th>109997</th>\n",
       "      <td>국무회의에서 발언하는 정세균 총리</td>\n",
       "      <td>국무회의에서 발언하는 정세균 총리\\r\\n    (세종=연합뉴스) 김주형 기자 = 정...</td>\n",
       "    </tr>\n",
       "    <tr>\n",
       "      <th>109998</th>\n",
       "      <td>정총리 \"투기근절 개혁 필수…공직사회 흔들림 없어야\"</td>\n",
       "      <td>정총리 \"투기근절 개혁 필수…공직사회 흔들림 없어야\"\\n\"투표는 세상을 바꿀 소중한...</td>\n",
       "    </tr>\n",
       "    <tr>\n",
       "      <th>109999</th>\n",
       "      <td>국무회의에서 발언하는 정세균 총리</td>\n",
       "      <td>국무회의에서 발언하는 정세균 총리\\r\\n    (세종=연합뉴스) 김주형 기자 = 정...</td>\n",
       "    </tr>\n",
       "  </tbody>\n",
       "</table>\n",
       "<p>110000 rows × 2 columns</p>\n",
       "</div>"
      ],
      "text/plain": [
       "                  YNewsML.NewsContent.Title  \\\n",
       "0               인니 대표 스타트업 고젝, 토코피디아와 합병 논의   \n",
       "1               중앙아프리카공화국 대선 결과 투아데레 대통령 재선   \n",
       "2       당국, 동부구치소 사망자 늑장통보 논란에 \"화장 전에 통보했다\"   \n",
       "3                삼성전자 사흘째 최고가 경신…시총 500조 시대   \n",
       "4            지아이그룹-세브란스병원, 혁신 신약 개발 공동연구 협약   \n",
       "...                                     ...   \n",
       "109995                   국무회의에서 발언하는 정세균 총리   \n",
       "109996                      의사봉 두드리는 정세균 총리   \n",
       "109997                   국무회의에서 발언하는 정세균 총리   \n",
       "109998        정총리 \"투기근절 개혁 필수…공직사회 흔들림 없어야\"   \n",
       "109999                   국무회의에서 발언하는 정세균 총리   \n",
       "\n",
       "                                 YNewsML.NewsContent.Body  \n",
       "0       인니 대표 스타트업 고젝, 토코피디아와 합병 논의\\n\\r\\n    (서울=연합뉴스)...  \n",
       "1       중앙아프리카공화국 대선 결과 투아데레 대통령 재선\\n폭력 사태 속 치러진 선거서 과...  \n",
       "2       당국, 동부구치소 사망자 늑장통보 논란에 \"화장 전에 통보했다\"\\n\\r\\n<YNAO...  \n",
       "3       삼성전자 사흘째 최고가 경신…시총 500조 시대\\n\\r\\n<YNAOBJECT id=...  \n",
       "4       지아이그룹-세브란스병원, 혁신 신약 개발 공동연구 협약\\n\\r\\n    (서울=연합...  \n",
       "...                                                   ...  \n",
       "109995  국무회의에서 발언하는 정세균 총리\\r\\n    (세종=연합뉴스) 김주형 기자 = 정...  \n",
       "109996  의사봉 두드리는 정세균 총리\\r\\n    (세종=연합뉴스) 김주형 기자 = 정세균 ...  \n",
       "109997  국무회의에서 발언하는 정세균 총리\\r\\n    (세종=연합뉴스) 김주형 기자 = 정...  \n",
       "109998  정총리 \"투기근절 개혁 필수…공직사회 흔들림 없어야\"\\n\"투표는 세상을 바꿀 소중한...  \n",
       "109999  국무회의에서 발언하는 정세균 총리\\r\\n    (세종=연합뉴스) 김주형 기자 = 정...  \n",
       "\n",
       "[110000 rows x 2 columns]"
      ]
     },
     "execution_count": 104,
     "metadata": {},
     "output_type": "execute_result"
    }
   ],
   "source": [
    "# 뉴스 제목과 본문만 우선적으로 추출\n",
    "df1 = df[['YNewsML.NewsContent.Title', 'YNewsML.NewsContent.Body']]\n",
    "df1"
   ]
  },
  {
   "cell_type": "code",
   "execution_count": 105,
   "metadata": {},
   "outputs": [
    {
     "name": "stdout",
     "output_type": "stream",
     "text": [
      "뉴스제목 열에서 중복을 배제한 유일한 샘플의 수 :  76279\n",
      "뉴스본문 열에서 중복을 배제한 유일한 샘플의 수 :  84459\n"
     ]
    }
   ],
   "source": [
    "print('뉴스제목 열에서 중복을 배제한 유일한 샘플의 수 : ', df1['YNewsML.NewsContent.Title'].nunique())\n",
    "print('뉴스본문 열에서 중복을 배제한 유일한 샘플의 수 : ', df1['YNewsML.NewsContent.Body'].nunique())"
   ]
  },
  {
   "cell_type": "code",
   "execution_count": 106,
   "metadata": {},
   "outputs": [
    {
     "name": "stdout",
     "output_type": "stream",
     "text": [
      "전체 샘플수 : 84459\n"
     ]
    },
    {
     "name": "stderr",
     "output_type": "stream",
     "text": [
      "C:\\Users\\DMC CONET\\AppData\\Local\\Temp\\ipykernel_11844\\4171227445.py:2: SettingWithCopyWarning: \n",
      "A value is trying to be set on a copy of a slice from a DataFrame\n",
      "\n",
      "See the caveats in the documentation: https://pandas.pydata.org/pandas-docs/stable/user_guide/indexing.html#returning-a-view-versus-a-copy\n",
      "  df1.drop_duplicates(subset=['YNewsML.NewsContent.Title', 'YNewsML.NewsContent.Body'], inplace=True)\n"
     ]
    }
   ],
   "source": [
    "# 제목과 본문 열에서 중복인 내용이 있다면 중복 제거\n",
    "df1.drop_duplicates(subset=['YNewsML.NewsContent.Title', 'YNewsML.NewsContent.Body'], inplace=True)\n",
    "print(\"전체 샘플수 :\", len(df1))"
   ]
  },
  {
   "cell_type": "code",
   "execution_count": 107,
   "metadata": {},
   "outputs": [
    {
     "data": {
      "text/plain": [
       "YNewsML.NewsContent.Title    0\n",
       "YNewsML.NewsContent.Body     0\n",
       "dtype: int64"
      ]
     },
     "execution_count": 107,
     "metadata": {},
     "output_type": "execute_result"
    }
   ],
   "source": [
    "df1.isnull().sum()"
   ]
  },
  {
   "cell_type": "code",
   "execution_count": 108,
   "metadata": {},
   "outputs": [],
   "source": [
    "from hanspell import spell_checker"
   ]
  },
  {
   "cell_type": "code",
   "execution_count": 109,
   "metadata": {},
   "outputs": [
    {
     "data": {
      "text/plain": [
       "{'result': True,\n",
       " 'original': '협동조합 회장단, 총리에 농수산물 선물가액 상향 건의',\n",
       " 'checked': '협동조합 회장단, 총리에 농수산물 선물가 핵 상향 건의',\n",
       " 'errors': 1,\n",
       " 'words': OrderedDict([('협동조합', 0),\n",
       "              ('회장단,', 0),\n",
       "              ('총리에', 0),\n",
       "              ('농수산물', 0),\n",
       "              ('선물가', 4),\n",
       "              ('핵', 4),\n",
       "              ('상향', 0),\n",
       "              ('건의', 0)]),\n",
       " 'time': 0.05485248565673828}"
      ]
     },
     "execution_count": 109,
     "metadata": {},
     "output_type": "execute_result"
    }
   ],
   "source": [
    "result = spell_checker.check(df1['YNewsML.NewsContent.Title'][123])\n",
    "result.as_dict()  # dict로 출력"
   ]
  },
  {
   "cell_type": "code",
   "execution_count": 110,
   "metadata": {},
   "outputs": [
    {
     "name": "stdout",
     "output_type": "stream",
     "text": [
      "불용어 개수 : 179\n",
      "{'in', 'but', 'herself', 'ain', 'are', 'me', 'below', 'each', 'other', 'doing', 'm', \"haven't\", \"won't\", 'both', 'doesn', 'down', 'while', 've', 'having', 'when', 't', 'same', 'all', 'some', 'between', 'isn', 'myself', 'aren', \"weren't\", 'few', 'shan', 'or', 'of', 'now', 'my', 'it', \"you'd\", 'hasn', \"you've\", 'd', 'ma', 'mustn', 'own', 'nor', 'been', \"shan't\", \"hasn't\", 'after', 'a', 'we', 'through', \"shouldn't\", 'be', 'wouldn', 'up', 'as', 'if', 'does', 'and', 'our', 'that', 'ours', 'only', 'from', 'into', 'o', \"it's\", 'during', 'was', 'just', 'by', 'no', 'he', 'has', 'any', 'have', 'too', 's', \"wasn't\", 'her', 'had', \"mightn't\", 'there', 'don', 'most', 'i', 'shouldn', 'with', 'to', 'at', 'further', 'than', 'where', 'haven', 'under', 'yourself', 'did', 'didn', 'such', 'its', \"that'll\", 'his', 'the', 'on', \"you're\", 're', 'y', 'their', 'those', 'against', 'again', 'not', 'then', 'whom', 'themselves', 'am', 'your', 'itself', 'until', \"isn't\", 'do', 'is', 'couldn', \"you'll\", 'were', 'so', \"couldn't\", 'who', 'she', 'will', 'more', 'needn', 'can', 'an', 'because', 'here', 'out', 'over', \"don't\", 'hers', 'about', 'off', 'yours', \"mustn't\", 'you', 'won', 'should', \"hadn't\", 'weren', \"didn't\", 'very', 'himself', 'hadn', 'mightn', 'above', 'theirs', 'wasn', 'll', 'they', 'them', \"wouldn't\", \"she's\", 'which', 'ourselves', \"aren't\", \"should've\", 'before', 'yourselves', 'being', \"doesn't\", 'once', 'how', \"needn't\", 'for', 'why', 'what', 'this', 'these', 'him'}\n"
     ]
    }
   ],
   "source": [
    "# NLTK의 불용어\n",
    "stop_words = set(stopwords.words('english'))\n",
    "print('불용어 개수 :', len(stop_words))\n",
    "print(stop_words)"
   ]
  },
  {
   "cell_type": "code",
   "execution_count": 111,
   "metadata": {},
   "outputs": [],
   "source": [
    "def clean_str(text, remove_stopwords = True):\n",
    "    pattern = '([a-zA-Z0-9_.+-]+@[a-zA-Z0-9-]+\\.[a-zA-Z0-9-.]+)' # E-mail제거\n",
    "    text = re.sub(pattern=pattern, repl='', string=text)\n",
    "    pattern = '(http|ftp|https)://(?:[-\\w.]|(?:%[\\da-fA-F]{2}))+' # URL제거\n",
    "    text = re.sub(pattern=pattern, repl='', string=text)\n",
    "    pattern = '<[^>]*>'         # HTML 태그 제거\n",
    "    text = re.sub(pattern=pattern, repl='', string=text)\n",
    "    pattern = '[^\\w\\s\\n]'         # 특수기호제거 (% 기호는 제거하지 않음)\n",
    "    text = re.sub(pattern=pattern, repl='', string=text)\n",
    "    text = re.sub('[-=+,#/\\?:^$.@*\\\"※~&ㆍ!』\\\\‘|\\(\\)\\[\\]\\<\\>`\\'…》]','', string=text)\n",
    "    text = re.sub('\\n', '.', string=text)\n",
    "    pattern = '([ㄱ-ㅎㅏ-ㅣ]+)'  # 한글 자음, 모음 제거\n",
    "    text = re.sub(pattern=pattern, repl='', string=text)\n",
    "    \n",
    "    # 불용어 제거 (Text)\n",
    "    if remove_stopwords:\n",
    "        tokens = ' '.join(word for word in text.split() if not word in stop_words if len(word) > 1)\n",
    "    # 불용어 미제거 (Summary)\n",
    "    else:\n",
    "        tokens = ' '.join(word for word in text.split() if len(word) > 1)\n",
    "    return tokens"
   ]
  },
  {
   "cell_type": "code",
   "execution_count": 112,
   "metadata": {},
   "outputs": [
    {
     "name": "stdout",
     "output_type": "stream",
     "text": [
      "Before Extraction :  협동조합 회장단, 총리에 농수산물 선물가액 상향 건의\n",
      "After Extraction :  협동조합 회장단 총리에 농수산물 선물가액 상향 건의\n"
     ]
    }
   ],
   "source": [
    "print(\"Before Extraction : \",df1['YNewsML.NewsContent.Title'][123])\n",
    "print(\"After Extraction : \", clean_str(df1['YNewsML.NewsContent.Title'][123]))"
   ]
  },
  {
   "cell_type": "code",
   "execution_count": 113,
   "metadata": {},
   "outputs": [
    {
     "name": "stdout",
     "output_type": "stream",
     "text": [
      "Before Extraction :  협동조합 회장단, 총리에 농수산물 선물가액 상향 건의\n",
      "\n",
      "<YNAOBJECT id=\"PYH20210105170100013\" type=\"02\" category=\"image\">\n",
      "\t<RefDetailAttribute>0</RefDetailAttribute>\n",
      "\t<Title>정세균 총리, 농협ㆍ수협ㆍ산림조합ㆍ중소기업중앙회 회장단 면담</Title>\n",
      "\t<Caption>(서울=연합뉴스) 정세균 국무총리(가운데)가 5일 정부서울청사에서 농협ㆍ수협ㆍ산림조합ㆍ중소기업중앙회 회장단과 면담을 마치고 기념촬영을 하고 있다.\n",
      "    왼쪽부터 임준택 수협중앙회장, 김기문 중소기업중앙회장, 정 총리, 이성희 농협중앙회장, 최창호 산림조합중앙회장. 2021.1.5 \n",
      "    [농협 제공. 재판매 및 DB 금지] photo@yna.co.kr</Caption>\n",
      "\t<Description>정세균 총리, 농협ㆍ수협ㆍ산림조합ㆍ중소기업중앙회 회장단 면담\n",
      "    (서울=연합뉴스) 정세균 국무총리(가운데)가 5일 정부서울청사에서 농협ㆍ수협ㆍ산림조합ㆍ중소기업중앙회 회장단과 면담을 마치고 기념촬영을 하고 있다.\n",
      "    왼쪽부터 임준택 수협중앙회장, 김기문 중소기업중앙회장, 정 총리, 이성희 농협중앙회장, 최창호 산림조합중앙회장. 2021.1.5 \n",
      "    [농협 제공. 재판매 및 DB 금지]\n",
      "    photo@yna.co.kr\n",
      "(끝)</Description>\n",
      "\t<FileName>PYH2021010517010001300_P2.jpg</FileName>\n",
      "\t<Source></Source>\n",
      "\t<MainViewYn>Y</MainViewYn>\n",
      "\t<LinkUrl></LinkUrl>\n",
      "</YNAOBJECT>\n",
      "    \n",
      "    (서울=연합뉴스) 고은지 기자 = 농협중앙회를 비롯한 협동조합 회장단이 국무총리를 만나 농수산물 선물가액을 올려달라고 건의했다.\n",
      "    농협중앙회 이성희 회장은 5일 정부서울청사에서 정세균 국무총리를 예방해 설 연휴를 앞두고 한시적으로 농수산물 선물가액을 상향해 신종 코로나바이러스 감염증(코로나19) 확산으로 어려움을 겪는 농업인의 고충을 덜어달라는 의견을 전달했다.\n",
      "    이날 방문에는 이 회장과 뜻을 같이하는 수협중앙회 임준택 회장, 산림조합중앙회 최창호 회장, 중소기업중앙회 김기문 회장이 함께 참석했다.\n",
      "    앞서 이 회장은 지난달 15일 수협중앙회·산림조합중앙회 회장과 공동명의로 국무총리실과 국민권익위원회에 농수산물 선물가액 상향 건의문을 전달한 바 있다.\n",
      "    농협중앙회 측은 \"부정청탁금지법은 직무 관련 공직자 등에 대한 금품 제공을 제한하는 법이나 일반인 사이에서도 이를 준용하는 경우가 많아 일시적인 규제 완화도 농수산물 소비 증진에 미치는 긍정적인 효과가 매우 크다\"며 \"선물 세트 기획과 상품화에 필요한 시간을 고려해 정부가 빠른 결정을 내려주길 바란다\"고 말했다.\n",
      "\n",
      "<YNAOBJECT id=\"AKR20210105147700530_3801\" type=\"01\" category=\"image\">\n",
      "\t<RefDetailAttribute>0</RefDetailAttribute>\n",
      "\t<Title>정세균 총리, 농협ㆍ수협ㆍ산림조합ㆍ중소기업중앙회 회장단 면담</Title>\n",
      "\t<Caption>(서울=연합뉴스) 농협중앙회 이성희 회장(오른쪽 첫번째)은 5일 정부서울청사에서 정세균 국무총리(왼쪽 첫번째)를 예방하고 농수산물 선물가액 상향을 위한 의견을 전달했다. 2021.1.5 \n",
      "[농협중앙회 제공. 재판매 및 DB 금지]</Caption>\n",
      "\t<Description>(서울=연합뉴스) 농협중앙회 이성희 회장(오른쪽 첫번째)은 5일 정부서울청사에서 정세균 국무총리(왼쪽 첫번째)를 예방하고 농수산물 선물가액 상향을 위한 의견을 전달했다. 2021.1.5 \n",
      "[농협중앙회 제공. 재판매 및 DB 금지]</Description>\n",
      "\t<FileName>AKR20210105147700530_01_i.jpg</FileName>\n",
      "\t<Source></Source>\n",
      "\t<MainViewYn>N</MainViewYn>\n",
      "\t<LinkUrl></LinkUrl>\n",
      "</YNAOBJECT>\n",
      "    eun@yna.co.kr\n",
      "(끝)\n",
      "\n",
      "\n",
      "After Extraction :  협동조합 회장단 총리에 농수산물 선물가액 상향 건의. .. 0. 정세균 총리 농협수협산림조합중소기업중앙회 회장단 면담. 서울연합뉴스 정세균 국무총리가운데가 5일 정부서울청사에서 농협수협산림조합중소기업중앙회 회장단과 면담을 마치고 기념촬영을 하고 있다 왼쪽부터 임준택 수협중앙회장 김기문 중소기업중앙회장 총리 이성희 농협중앙회장 최창호 산림조합중앙회장 202115 농협 제공 재판매 DB 금지 정세균 총리 농협수협산림조합중소기업중앙회 회장단 면담 서울연합뉴스 정세균 국무총리가운데가 5일 정부서울청사에서 농협수협산림조합중소기업중앙회 회장단과 면담을 마치고 기념촬영을 하고 있다 왼쪽부터 임준택 수협중앙회장 김기문 중소기업중앙회장 총리 이성희 농협중앙회장 최창호 산림조합중앙회장 202115 농협 제공 재판매 DB 금지 .끝. PYH2021010517010001300_P2jpg. Y. 서울연합뉴스 고은지 기자 농협중앙회를 비롯한 협동조합 회장단이 국무총리를 만나 농수산물 선물가액을 올려달라고 건의했다 농협중앙회 이성희 회장은 5일 정부서울청사에서 정세균 국무총리를 예방해 연휴를 앞두고 한시적으로 농수산물 선물가액을 상향해 신종 코로나바이러스 감염증코로나19 확산으로 어려움을 겪는 농업인의 고충을 덜어달라는 의견을 전달했다 이날 방문에는 회장과 뜻을 같이하는 수협중앙회 임준택 회장 산림조합중앙회 최창호 회장 중소기업중앙회 김기문 회장이 함께 참석했다 앞서 회장은 지난달 15일 수협중앙회산림조합중앙회 회장과 공동명의로 국무총리실과 국민권익위원회에 농수산물 선물가액 상향 건의문을 전달한 있다 농협중앙회 측은 부정청탁금지법은 직무 관련 공직자 등에 대한 금품 제공을 제한하는 법이나 일반인 사이에서도 이를 준용하는 경우가 많아 일시적인 규제 완화도 농수산물 소비 증진에 미치는 긍정적인 효과가 매우 크다며 선물 세트 기획과 상품화에 필요한 시간을 고려해 정부가 빠른 결정을 내려주길 바란다고 말했다 .. 0. 정세균 총리 농협수협산림조합중소기업중앙회 회장단 면담. 서울연합뉴스 농협중앙회 이성희 회장오른쪽 첫번째은 5일 정부서울청사에서 정세균 국무총리왼쪽 첫번째를 예방하고 농수산물 선물가액 상향을 위한 의견을 전달했다 202115 .농협중앙회 제공 재판매 DB 금지. 서울연합뉴스 농협중앙회 이성희 회장오른쪽 첫번째은 5일 정부서울청사에서 정세균 국무총리왼쪽 첫번째를 예방하고 농수산물 선물가액 상향을 위한 의견을 전달했다 202115 .농협중앙회 제공 재판매 DB 금지. AKR20210105147700530_01_ijpg. N. .끝..\n"
     ]
    }
   ],
   "source": [
    "print(\"Before Extraction : \",df1['YNewsML.NewsContent.Body'][123])\n",
    "print(\"After Extraction : \", clean_str(df1['YNewsML.NewsContent.Body'][123]))"
   ]
  },
  {
   "cell_type": "code",
   "execution_count": 114,
   "metadata": {},
   "outputs": [],
   "source": [
    "# 본문 열 전처리\n",
    "clean_title = []\n",
    "for i in df1['YNewsML.NewsContent.Title']:\n",
    "    clean_title.append(clean_str(i))"
   ]
  },
  {
   "cell_type": "code",
   "execution_count": 115,
   "metadata": {},
   "outputs": [],
   "source": [
    "# 본문 열 전처리\n",
    "clean_body = []\n",
    "for i in df1['YNewsML.NewsContent.Body']:\n",
    "    clean_body.append(clean_str(i))"
   ]
  },
  {
   "cell_type": "code",
   "execution_count": 116,
   "metadata": {},
   "outputs": [
    {
     "name": "stderr",
     "output_type": "stream",
     "text": [
      "C:\\Users\\DMC CONET\\AppData\\Local\\Temp\\ipykernel_11844\\4169018395.py:2: SettingWithCopyWarning: \n",
      "A value is trying to be set on a copy of a slice from a DataFrame.\n",
      "Try using .loc[row_indexer,col_indexer] = value instead\n",
      "\n",
      "See the caveats in the documentation: https://pandas.pydata.org/pandas-docs/stable/user_guide/indexing.html#returning-a-view-versus-a-copy\n",
      "  df1['YNewsML.NewsContent.Title'] = clean_title\n",
      "C:\\Users\\DMC CONET\\AppData\\Local\\Temp\\ipykernel_11844\\4169018395.py:3: SettingWithCopyWarning: \n",
      "A value is trying to be set on a copy of a slice from a DataFrame.\n",
      "Try using .loc[row_indexer,col_indexer] = value instead\n",
      "\n",
      "See the caveats in the documentation: https://pandas.pydata.org/pandas-docs/stable/user_guide/indexing.html#returning-a-view-versus-a-copy\n",
      "  df1['YNewsML.NewsContent.Body'] = clean_body\n"
     ]
    }
   ],
   "source": [
    "# 전처리 결과 데이터프레임에 저장\n",
    "df1['YNewsML.NewsContent.Title'] = clean_title\n",
    "df1['YNewsML.NewsContent.Body'] = clean_body"
   ]
  },
  {
   "cell_type": "code",
   "execution_count": 117,
   "metadata": {},
   "outputs": [
    {
     "name": "stdout",
     "output_type": "stream",
     "text": [
      "YNewsML.NewsContent.Title    4\n",
      "YNewsML.NewsContent.Body     0\n",
      "dtype: int64\n"
     ]
    },
    {
     "name": "stderr",
     "output_type": "stream",
     "text": [
      "C:\\Users\\DMC CONET\\AppData\\Local\\Temp\\ipykernel_11844\\2251371200.py:2: SettingWithCopyWarning: \n",
      "A value is trying to be set on a copy of a slice from a DataFrame\n",
      "\n",
      "See the caveats in the documentation: https://pandas.pydata.org/pandas-docs/stable/user_guide/indexing.html#returning-a-view-versus-a-copy\n",
      "  df1.replace('', np.nan, inplace=True)\n"
     ]
    }
   ],
   "source": [
    "# 길이가 공백인 샘플은 NULL 값으로 변환\n",
    "df1.replace('', np.nan, inplace=True)\n",
    "print(df1.isnull().sum())"
   ]
  },
  {
   "cell_type": "code",
   "execution_count": 118,
   "metadata": {},
   "outputs": [
    {
     "name": "stdout",
     "output_type": "stream",
     "text": [
      "전체 샘플수 : 84455\n"
     ]
    },
    {
     "name": "stderr",
     "output_type": "stream",
     "text": [
      "C:\\Users\\DMC CONET\\AppData\\Local\\Temp\\ipykernel_11844\\2707720969.py:2: SettingWithCopyWarning: \n",
      "A value is trying to be set on a copy of a slice from a DataFrame\n",
      "\n",
      "See the caveats in the documentation: https://pandas.pydata.org/pandas-docs/stable/user_guide/indexing.html#returning-a-view-versus-a-copy\n",
      "  df1.dropna(axis = 0, inplace = True)\n"
     ]
    }
   ],
   "source": [
    "# 제목 컬럼에서 null값인 데이터 제거해주고 샘플 수 확인\n",
    "df1.dropna(axis = 0, inplace = True)\n",
    "print('전체 샘플수 :',(len(df1)))"
   ]
  },
  {
   "cell_type": "code",
   "execution_count": 119,
   "metadata": {},
   "outputs": [
    {
     "name": "stdout",
     "output_type": "stream",
     "text": [
      "제목의 최소 길이 : 1\n",
      "제목의 최대 길이 : 13\n",
      "제목의 평균 길이 : 5.807909537623586\n",
      "본문의 최소 길이 : 4\n",
      "본문의 최대 길이 : 2378\n",
      "본문의 평균 길이 : 152.23331951927062\n"
     ]
    },
    {
     "data": {
      "image/png": "[encoded data removed]",
      "text/plain": [
       "<Figure size 640x480 with 2 Axes>"
      ]
     },
     "metadata": {},
     "output_type": "display_data"
    },
    {
     "data": {
      "image/png": "[encoded data removed]",
      "text/plain": [
       "<Figure size 640x480 with 1 Axes>"
      ]
     },
     "metadata": {},
     "output_type": "display_data"
    },
    {
     "data": {
      "image/png": "[encoded data removed]",
      "text/plain": [
       "<Figure size 640x480 with 1 Axes>"
      ]
     },
     "metadata": {},
     "output_type": "display_data"
    }
   ],
   "source": [
    "# 길이 분포 출력\n",
    "title_len = [len(s.split()) for s in df1['YNewsML.NewsContent.Title']]\n",
    "body_len = [len(s.split()) for s in df1['YNewsML.NewsContent.Body']]\n",
    "\n",
    "print('제목의 최소 길이 : {}'.format(np.min(title_len)))\n",
    "print('제목의 최대 길이 : {}'.format(np.max(title_len)))\n",
    "print('제목의 평균 길이 : {}'.format(np.mean(title_len)))\n",
    "print('본문의 최소 길이 : {}'.format(np.min(body_len)))\n",
    "print('본문의 최대 길이 : {}'.format(np.max(body_len)))\n",
    "print('본문의 평균 길이 : {}'.format(np.mean(body_len)))\n",
    "\n",
    "plt.subplot(1,2,1)\n",
    "plt.boxplot(title_len)\n",
    "plt.title('Title')\n",
    "plt.tight_layout()\n",
    "plt.subplot(1,2,2)\n",
    "plt.boxplot(body_len)\n",
    "plt.title('Body')\n",
    "plt.show()\n",
    "\n",
    "\n",
    "plt.title('Title')\n",
    "plt.hist(title_len, bins=40)\n",
    "plt.xlabel('length of samples')\n",
    "plt.ylabel('number of samples')\n",
    "plt.show()\n",
    "\n",
    "plt.title('Body')\n",
    "plt.hist(body_len, bins=40)\n",
    "plt.xlabel('length of samples')\n",
    "plt.ylabel('number of samples')\n",
    "plt.show()"
   ]
  },
  {
   "cell_type": "code",
   "execution_count": 120,
   "metadata": {},
   "outputs": [],
   "source": [
    "title_max_len = 10\n",
    "body_max_len = 500"
   ]
  },
  {
   "cell_type": "code",
   "execution_count": 121,
   "metadata": {},
   "outputs": [],
   "source": [
    "def below_threshold_len(max_len, nested_list):\n",
    "  cnt = 0\n",
    "  for s in nested_list:\n",
    "    if(len(s.split()) <= max_len):\n",
    "        cnt = cnt + 1\n",
    "  print('전체 샘플 중 길이가 %s 이하인 샘플의 비율: %s'%(max_len, (cnt / len(nested_list))))"
   ]
  },
  {
   "cell_type": "code",
   "execution_count": 122,
   "metadata": {},
   "outputs": [
    {
     "name": "stdout",
     "output_type": "stream",
     "text": [
      "전체 샘플 중 길이가 10 이하인 샘플의 비율: 0.9995382156177847\n"
     ]
    }
   ],
   "source": [
    "below_threshold_len(title_max_len, df1['YNewsML.NewsContent.Title'])"
   ]
  },
  {
   "cell_type": "code",
   "execution_count": 123,
   "metadata": {},
   "outputs": [
    {
     "name": "stdout",
     "output_type": "stream",
     "text": [
      "전체 샘플 중 길이가 500 이하인 샘플의 비율: 0.9607246462613226\n"
     ]
    }
   ],
   "source": [
    "below_threshold_len(body_max_len, df1['YNewsML.NewsContent.Body'])"
   ]
  },
  {
   "cell_type": "code",
   "execution_count": 124,
   "metadata": {},
   "outputs": [
    {
     "name": "stdout",
     "output_type": "stream",
     "text": [
      "전체 샘플수 : 81104\n"
     ]
    }
   ],
   "source": [
    "df1 = df1[df1['YNewsML.NewsContent.Title'].apply(lambda x: len(x.split()) <= title_max_len)]\n",
    "df1 = df1[df1['YNewsML.NewsContent.Body'].apply(lambda x: len(x.split()) <= body_max_len)]\n",
    "print('전체 샘플수 :',(len(df1)))"
   ]
  },
  {
   "cell_type": "code",
   "execution_count": 125,
   "metadata": {},
   "outputs": [
    {
     "data": {
      "text/html": [
       "<div>\n",
       "<style scoped>\n",
       "    .dataframe tbody tr th:only-of-type {\n",
       "        vertical-align: middle;\n",
       "    }\n",
       "\n",
       "    .dataframe tbody tr th {\n",
       "        vertical-align: top;\n",
       "    }\n",
       "\n",
       "    .dataframe thead th {\n",
       "        text-align: right;\n",
       "    }\n",
       "</style>\n",
       "<table border=\"1\" class=\"dataframe\">\n",
       "  <thead>\n",
       "    <tr style=\"text-align: right;\">\n",
       "      <th></th>\n",
       "      <th>YNewsML.NewsContent.Title</th>\n",
       "      <th>YNewsML.NewsContent.Body</th>\n",
       "    </tr>\n",
       "  </thead>\n",
       "  <tbody>\n",
       "    <tr>\n",
       "      <th>0</th>\n",
       "      <td>인니 대표 스타트업 고젝 토코피디아와 합병 논의</td>\n",
       "      <td>인니 대표 스타트업 고젝 토코피디아와 합병 논의. 서울연합뉴스 김계환 기자 인도네시...</td>\n",
       "    </tr>\n",
       "    <tr>\n",
       "      <th>1</th>\n",
       "      <td>중앙아프리카공화국 대선 결과 투아데레 대통령 재선</td>\n",
       "      <td>중앙아프리카공화국 대선 결과 투아데레 대통령 재선.폭력 사태 치러진 선거서 과반 득...</td>\n",
       "    </tr>\n",
       "    <tr>\n",
       "      <th>2</th>\n",
       "      <td>당국 동부구치소 사망자 늑장통보 논란에 화장 전에 통보했다</td>\n",
       "      <td>당국 동부구치소 사망자 늑장통보 논란에 화장 전에 통보했다. .. 0. 동부구치소 ...</td>\n",
       "    </tr>\n",
       "    <tr>\n",
       "      <th>3</th>\n",
       "      <td>삼성전자 사흘째 최고가 경신시총 500조 시대</td>\n",
       "      <td>삼성전자 사흘째 최고가 경신시총 500조 시대. .. 0. 삼성전자 주가 PG. 권...</td>\n",
       "    </tr>\n",
       "    <tr>\n",
       "      <th>4</th>\n",
       "      <td>지아이그룹세브란스병원 혁신 신약 개발 공동연구 협약</td>\n",
       "      <td>지아이그룹세브란스병원 혁신 신약 개발 공동연구 협약. 서울연합뉴스 김잔디 기자 신약...</td>\n",
       "    </tr>\n",
       "  </tbody>\n",
       "</table>\n",
       "</div>"
      ],
      "text/plain": [
       "          YNewsML.NewsContent.Title  \\\n",
       "0        인니 대표 스타트업 고젝 토코피디아와 합병 논의   \n",
       "1       중앙아프리카공화국 대선 결과 투아데레 대통령 재선   \n",
       "2  당국 동부구치소 사망자 늑장통보 논란에 화장 전에 통보했다   \n",
       "3         삼성전자 사흘째 최고가 경신시총 500조 시대   \n",
       "4      지아이그룹세브란스병원 혁신 신약 개발 공동연구 협약   \n",
       "\n",
       "                            YNewsML.NewsContent.Body  \n",
       "0  인니 대표 스타트업 고젝 토코피디아와 합병 논의. 서울연합뉴스 김계환 기자 인도네시...  \n",
       "1  중앙아프리카공화국 대선 결과 투아데레 대통령 재선.폭력 사태 치러진 선거서 과반 득...  \n",
       "2  당국 동부구치소 사망자 늑장통보 논란에 화장 전에 통보했다. .. 0. 동부구치소 ...  \n",
       "3  삼성전자 사흘째 최고가 경신시총 500조 시대. .. 0. 삼성전자 주가 PG. 권...  \n",
       "4  지아이그룹세브란스병원 혁신 신약 개발 공동연구 협약. 서울연합뉴스 김잔디 기자 신약...  "
      ]
     },
     "execution_count": 125,
     "metadata": {},
     "output_type": "execute_result"
    }
   ],
   "source": [
    "df1.head()"
   ]
  },
  {
   "attachments": {},
   "cell_type": "markdown",
   "metadata": {},
   "source": [
    "seq2se2 트레이닝을 위하 디코더의 입력과 레이블에 시작 토큰(sostoken)과 종료 토큰(eostoken)을 추가"
   ]
  },
  {
   "cell_type": "code",
   "execution_count": 126,
   "metadata": {},
   "outputs": [
    {
     "data": {
      "text/html": [
       "<div>\n",
       "<style scoped>\n",
       "    .dataframe tbody tr th:only-of-type {\n",
       "        vertical-align: middle;\n",
       "    }\n",
       "\n",
       "    .dataframe tbody tr th {\n",
       "        vertical-align: top;\n",
       "    }\n",
       "\n",
       "    .dataframe thead th {\n",
       "        text-align: right;\n",
       "    }\n",
       "</style>\n",
       "<table border=\"1\" class=\"dataframe\">\n",
       "  <thead>\n",
       "    <tr style=\"text-align: right;\">\n",
       "      <th></th>\n",
       "      <th>YNewsML.NewsContent.Title</th>\n",
       "      <th>YNewsML.NewsContent.Body</th>\n",
       "      <th>decoder_input</th>\n",
       "      <th>decoder_target</th>\n",
       "    </tr>\n",
       "  </thead>\n",
       "  <tbody>\n",
       "    <tr>\n",
       "      <th>0</th>\n",
       "      <td>인니 대표 스타트업 고젝 토코피디아와 합병 논의</td>\n",
       "      <td>인니 대표 스타트업 고젝 토코피디아와 합병 논의. 서울연합뉴스 김계환 기자 인도네시...</td>\n",
       "      <td>sostoken 인니 대표 스타트업 고젝 토코피디아와 합병 논의</td>\n",
       "      <td>인니 대표 스타트업 고젝 토코피디아와 합병 논의 eostoken</td>\n",
       "    </tr>\n",
       "    <tr>\n",
       "      <th>1</th>\n",
       "      <td>중앙아프리카공화국 대선 결과 투아데레 대통령 재선</td>\n",
       "      <td>중앙아프리카공화국 대선 결과 투아데레 대통령 재선.폭력 사태 치러진 선거서 과반 득...</td>\n",
       "      <td>sostoken 중앙아프리카공화국 대선 결과 투아데레 대통령 재선</td>\n",
       "      <td>중앙아프리카공화국 대선 결과 투아데레 대통령 재선 eostoken</td>\n",
       "    </tr>\n",
       "    <tr>\n",
       "      <th>2</th>\n",
       "      <td>당국 동부구치소 사망자 늑장통보 논란에 화장 전에 통보했다</td>\n",
       "      <td>당국 동부구치소 사망자 늑장통보 논란에 화장 전에 통보했다. .. 0. 동부구치소 ...</td>\n",
       "      <td>sostoken 당국 동부구치소 사망자 늑장통보 논란에 화장 전에 통보했다</td>\n",
       "      <td>당국 동부구치소 사망자 늑장통보 논란에 화장 전에 통보했다 eostoken</td>\n",
       "    </tr>\n",
       "    <tr>\n",
       "      <th>3</th>\n",
       "      <td>삼성전자 사흘째 최고가 경신시총 500조 시대</td>\n",
       "      <td>삼성전자 사흘째 최고가 경신시총 500조 시대. .. 0. 삼성전자 주가 PG. 권...</td>\n",
       "      <td>sostoken 삼성전자 사흘째 최고가 경신시총 500조 시대</td>\n",
       "      <td>삼성전자 사흘째 최고가 경신시총 500조 시대 eostoken</td>\n",
       "    </tr>\n",
       "    <tr>\n",
       "      <th>4</th>\n",
       "      <td>지아이그룹세브란스병원 혁신 신약 개발 공동연구 협약</td>\n",
       "      <td>지아이그룹세브란스병원 혁신 신약 개발 공동연구 협약. 서울연합뉴스 김잔디 기자 신약...</td>\n",
       "      <td>sostoken 지아이그룹세브란스병원 혁신 신약 개발 공동연구 협약</td>\n",
       "      <td>지아이그룹세브란스병원 혁신 신약 개발 공동연구 협약 eostoken</td>\n",
       "    </tr>\n",
       "  </tbody>\n",
       "</table>\n",
       "</div>"
      ],
      "text/plain": [
       "          YNewsML.NewsContent.Title  \\\n",
       "0        인니 대표 스타트업 고젝 토코피디아와 합병 논의   \n",
       "1       중앙아프리카공화국 대선 결과 투아데레 대통령 재선   \n",
       "2  당국 동부구치소 사망자 늑장통보 논란에 화장 전에 통보했다   \n",
       "3         삼성전자 사흘째 최고가 경신시총 500조 시대   \n",
       "4      지아이그룹세브란스병원 혁신 신약 개발 공동연구 협약   \n",
       "\n",
       "                            YNewsML.NewsContent.Body  \\\n",
       "0  인니 대표 스타트업 고젝 토코피디아와 합병 논의. 서울연합뉴스 김계환 기자 인도네시...   \n",
       "1  중앙아프리카공화국 대선 결과 투아데레 대통령 재선.폭력 사태 치러진 선거서 과반 득...   \n",
       "2  당국 동부구치소 사망자 늑장통보 논란에 화장 전에 통보했다. .. 0. 동부구치소 ...   \n",
       "3  삼성전자 사흘째 최고가 경신시총 500조 시대. .. 0. 삼성전자 주가 PG. 권...   \n",
       "4  지아이그룹세브란스병원 혁신 신약 개발 공동연구 협약. 서울연합뉴스 김잔디 기자 신약...   \n",
       "\n",
       "                               decoder_input  \\\n",
       "0        sostoken 인니 대표 스타트업 고젝 토코피디아와 합병 논의   \n",
       "1       sostoken 중앙아프리카공화국 대선 결과 투아데레 대통령 재선   \n",
       "2  sostoken 당국 동부구치소 사망자 늑장통보 논란에 화장 전에 통보했다   \n",
       "3         sostoken 삼성전자 사흘째 최고가 경신시총 500조 시대   \n",
       "4      sostoken 지아이그룹세브란스병원 혁신 신약 개발 공동연구 협약   \n",
       "\n",
       "                              decoder_target  \n",
       "0        인니 대표 스타트업 고젝 토코피디아와 합병 논의 eostoken  \n",
       "1       중앙아프리카공화국 대선 결과 투아데레 대통령 재선 eostoken  \n",
       "2  당국 동부구치소 사망자 늑장통보 논란에 화장 전에 통보했다 eostoken  \n",
       "3         삼성전자 사흘째 최고가 경신시총 500조 시대 eostoken  \n",
       "4      지아이그룹세브란스병원 혁신 신약 개발 공동연구 협약 eostoken  "
      ]
     },
     "execution_count": 126,
     "metadata": {},
     "output_type": "execute_result"
    }
   ],
   "source": [
    "# 제목 데이터에는 시작 토큰과 종료 토큰을 추가한다.\n",
    "df1['decoder_input'] = df1['YNewsML.NewsContent.Title'].apply(lambda x : 'sostoken '+ x)\n",
    "df1['decoder_target'] = df1['YNewsML.NewsContent.Title'].apply(lambda x : x + ' eostoken')\n",
    "df1.head()"
   ]
  },
  {
   "cell_type": "code",
   "execution_count": 127,
   "metadata": {},
   "outputs": [],
   "source": [
    "encoder_input = np.array(df1['YNewsML.NewsContent.Body'])\n",
    "decoder_input = np.array(df1['decoder_input'])\n",
    "decoder_target = np.array(df1['decoder_target'])"
   ]
  },
  {
   "cell_type": "code",
   "execution_count": 128,
   "metadata": {},
   "outputs": [
    {
     "name": "stdout",
     "output_type": "stream",
     "text": [
      "[21083 44405 40051 ... 42613 43567 68268]\n"
     ]
    }
   ],
   "source": [
    "indices = np.arange(encoder_input.shape[0])\n",
    "np.random.shuffle(indices)\n",
    "print(indices)"
   ]
  },
  {
   "cell_type": "code",
   "execution_count": 129,
   "metadata": {},
   "outputs": [],
   "source": [
    "encoder_input = encoder_input[indices]\n",
    "decoder_input = decoder_input[indices]\n",
    "decoder_target = decoder_target[indices]"
   ]
  },
  {
   "cell_type": "code",
   "execution_count": 130,
   "metadata": {},
   "outputs": [
    {
     "name": "stdout",
     "output_type": "stream",
     "text": [
      "테스트 데이터의 수 : 16220\n"
     ]
    }
   ],
   "source": [
    "# 훈련과 테스트 데이터 비율을 8:2로 구분\n",
    "n_of_val = int(len(encoder_input)*0.2)\n",
    "print('테스트 데이터의 수 :',n_of_val)"
   ]
  },
  {
   "cell_type": "code",
   "execution_count": 131,
   "metadata": {},
   "outputs": [],
   "source": [
    "encoder_input_train = encoder_input[:-n_of_val]\n",
    "decoder_input_train = decoder_input[:-n_of_val]\n",
    "decoder_target_train = decoder_target[:-n_of_val]\n",
    "\n",
    "encoder_input_test = encoder_input[-n_of_val:]\n",
    "decoder_input_test = decoder_input[-n_of_val:]\n",
    "decoder_target_test = decoder_target[-n_of_val:]"
   ]
  },
  {
   "cell_type": "code",
   "execution_count": 132,
   "metadata": {},
   "outputs": [
    {
     "name": "stdout",
     "output_type": "stream",
     "text": [
      "훈련 데이터의 개수 : 64884\n",
      "훈련 레이블의 개수 : 64884\n",
      "테스트 데이터의 개수 : 16220\n",
      "테스트 레이블의 개수 : 16220\n"
     ]
    }
   ],
   "source": [
    "print('훈련 데이터의 개수 :', len(encoder_input_train))\n",
    "print('훈련 레이블의 개수 :',len(decoder_input_train))\n",
    "print('테스트 데이터의 개수 :',len(encoder_input_test))\n",
    "print('테스트 레이블의 개수 :',len(decoder_input_test))"
   ]
  },
  {
   "cell_type": "code",
   "execution_count": 133,
   "metadata": {},
   "outputs": [],
   "source": [
    "# 텍스트를 숫자로 처리할 수 있도록 정수인코딩 진행\n",
    "src_tokenizer = Tokenizer()\n",
    "src_tokenizer.fit_on_texts(encoder_input_train)"
   ]
  },
  {
   "cell_type": "code",
   "execution_count": 134,
   "metadata": {},
   "outputs": [
    {
     "name": "stdout",
     "output_type": "stream",
     "text": [
      "단어 집합(vocabulary)의 크기 : 843962\n",
      "등장 빈도가 6번 이하인 희귀 단어의 수: 737481\n",
      "단어 집합에서 희귀 단어를 제외시킬 경우의 단어 집합의 크기 106481\n",
      "단어 집합에서 희귀 단어의 비율: 87.38319971752283\n",
      "전체 등장 빈도에서 희귀 단어 등장 빈도 비율: 14.190040066697007\n"
     ]
    }
   ],
   "source": [
    "threshold = 7\n",
    "total_cnt = len(src_tokenizer.word_index) # 단어의 수\n",
    "rare_cnt = 0 # 등장 빈도수가 threshold보다 작은 단어의 개수를 카운트\n",
    "total_freq = 0 # 훈련 데이터의 전체 단어 빈도수 총 합\n",
    "rare_freq = 0 # 등장 빈도수가 threshold보다 작은 단어의 등장 빈도수의 총 합\n",
    "\n",
    "# 단어와 빈도수의 쌍(pair)을 key와 value로 받는다.\n",
    "for key, value in src_tokenizer.word_counts.items():\n",
    "    total_freq = total_freq + value\n",
    "\n",
    "    # 단어의 등장 빈도수가 threshold보다 작으면\n",
    "    if(value < threshold):\n",
    "        rare_cnt = rare_cnt + 1\n",
    "        rare_freq = rare_freq + value\n",
    "\n",
    "print('단어 집합(vocabulary)의 크기 :',total_cnt)\n",
    "print('등장 빈도가 %s번 이하인 희귀 단어의 수: %s'%(threshold - 1, rare_cnt))\n",
    "print('단어 집합에서 희귀 단어를 제외시킬 경우의 단어 집합의 크기 %s'%(total_cnt - rare_cnt))\n",
    "print(\"단어 집합에서 희귀 단어의 비율:\", (rare_cnt / total_cnt)*100)\n",
    "print(\"전체 등장 빈도에서 희귀 단어 등장 빈도 비율:\", (rare_freq / total_freq)*100)"
   ]
  },
  {
   "cell_type": "code",
   "execution_count": 135,
   "metadata": {},
   "outputs": [],
   "source": [
    "src_vocab = 100000\n",
    "src_tokenizer = Tokenizer(num_words = src_vocab) \n",
    "src_tokenizer.fit_on_texts(encoder_input_train)\n",
    "\n",
    "# 텍스트 시퀀스를 정수 시퀀스로 변환\n",
    "encoder_input_train = src_tokenizer.texts_to_sequences(encoder_input_train) \n",
    "encoder_input_test = src_tokenizer.texts_to_sequences(encoder_input_test)"
   ]
  },
  {
   "cell_type": "code",
   "execution_count": 136,
   "metadata": {},
   "outputs": [
    {
     "name": "stdout",
     "output_type": "stream",
     "text": [
      "[[59260, 16666, 3, 48110, 11, 3524, 114, 19, 11, 59260, 3410, 765, 2041, 40, 2, 1674, 3298, 6, 10, 9, 7, 1], [48, 5515, 12449, 913, 18279, 4681, 9791, 12873, 20974, 5712, 1107, 3281, 9268, 5, 3313, 48, 472, 10159, 1300, 2299, 15296, 9190, 613, 17707, 72488, 3313, 1300, 2299, 3313, 48, 15528, 272, 11405, 16914, 20, 9190, 46031, 16667, 540, 9711, 2, 4844, 17, 6200, 15296, 72489, 16668, 4513, 8794, 707, 78633, 15747, 682, 83, 3181, 1, 16, 8, 1982, 8490, 99, 48, 10084, 72, 691, 36330, 15297, 19483, 670, 6813, 472, 11640, 12730, 14688, 88, 7483, 634, 195, 5987, 17708, 287, 9537, 10159, 3258, 24208, 38, 13, 247, 526, 38999, 30, 48, 4681, 70, 3313, 10159, 4558, 531, 329, 3182, 38, 20974, 72490, 1107, 44110, 2262, 1956, 2207, 42299, 149, 313, 6768, 48, 8964, 17, 440, 72, 28, 29, 4172, 4579, 614, 67382, 53052, 1782, 670, 48, 377, 17709, 78634, 275, 48111, 377, 1397, 544, 136, 40620, 14689, 19483, 42, 12, 8964, 3313, 48, 33056, 8614, 36331, 4634, 2397, 259, 2981, 34107, 682, 3000, 414, 14, 7702, 377, 1397, 14494, 682, 83, 18, 8964, 14, 7702, 377, 1397, 2981, 44111, 4737, 15529, 10943, 83, 3181, 239, 50413, 4779, 5376, 1229, 611, 6907, 423, 12583, 377, 16174, 8290, 4049, 423, 20974, 5712, 649, 3016, 274, 25404, 88, 609, 71, 774, 25, 501, 4681, 4539, 15958, 211, 20974, 5712, 1107, 44110, 2262, 1956, 2207, 19161, 5202, 930, 181, 23689, 1626, 6908, 2, 1], [1678, 1882, 574, 905, 29514, 44112, 3, 296, 4, 1882, 574, 9028, 29514, 50414, 178, 19, 11, 122, 101, 20, 95, 13179, 833, 1718, 40, 2, 1421, 1]]\n"
     ]
    }
   ],
   "source": [
    "print(encoder_input_train[:3])"
   ]
  },
  {
   "cell_type": "code",
   "execution_count": 137,
   "metadata": {},
   "outputs": [],
   "source": [
    "tar_tokenizer = Tokenizer()\n",
    "tar_tokenizer.fit_on_texts(decoder_input_train)"
   ]
  },
  {
   "cell_type": "code",
   "execution_count": 138,
   "metadata": {},
   "outputs": [
    {
     "name": "stdout",
     "output_type": "stream",
     "text": [
      "단어 집합(vocabulary)의 크기 : 97792\n",
      "등장 빈도가 5번 이하인 희귀 단어의 수: 88857\n",
      "단어 집합에서 희귀 단어를 제외시킬 경우의 단어 집합의 크기 8935\n",
      "단어 집합에서 희귀 단어의 비율: 90.86326079842932\n",
      "전체 등장 빈도에서 희귀 단어 등장 빈도 비율: 29.2817679558011\n"
     ]
    }
   ],
   "source": [
    "threshold = 6\n",
    "total_cnt = len(tar_tokenizer.word_index) # 단어의 수\n",
    "rare_cnt = 0 # 등장 빈도수가 threshold보다 작은 단어의 개수를 카운트\n",
    "total_freq = 0 # 훈련 데이터의 전체 단어 빈도수 총 합\n",
    "rare_freq = 0 # 등장 빈도수가 threshold보다 작은 단어의 등장 빈도수의 총 합\n",
    "\n",
    "# 단어와 빈도수의 쌍(pair)을 key와 value로 받는다.\n",
    "for key, value in tar_tokenizer.word_counts.items():\n",
    "    total_freq = total_freq + value\n",
    "\n",
    "    # 단어의 등장 빈도수가 threshold보다 작으면\n",
    "    if(value < threshold):\n",
    "        rare_cnt = rare_cnt + 1\n",
    "        rare_freq = rare_freq + value\n",
    "\n",
    "print('단어 집합(vocabulary)의 크기 :',total_cnt)\n",
    "print('등장 빈도가 %s번 이하인 희귀 단어의 수: %s'%(threshold - 1, rare_cnt))\n",
    "print('단어 집합에서 희귀 단어를 제외시킬 경우의 단어 집합의 크기 %s'%(total_cnt - rare_cnt))\n",
    "print(\"단어 집합에서 희귀 단어의 비율:\", (rare_cnt / total_cnt)*100)\n",
    "print(\"전체 등장 빈도에서 희귀 단어 등장 빈도 비율:\", (rare_freq / total_freq)*100)"
   ]
  },
  {
   "cell_type": "code",
   "execution_count": 139,
   "metadata": {},
   "outputs": [],
   "source": [
    "tar_vocab = 8500\n",
    "tar_tokenizer = Tokenizer(num_words = tar_vocab) \n",
    "tar_tokenizer.fit_on_texts(decoder_input_train)\n",
    "tar_tokenizer.fit_on_texts(decoder_target_train)"
   ]
  },
  {
   "cell_type": "code",
   "execution_count": 140,
   "metadata": {},
   "outputs": [],
   "source": [
    "# 텍스트 시퀀스를 정수 시퀀스로 변환\n",
    "decoder_input_train = tar_tokenizer.texts_to_sequences(decoder_input_train) \n",
    "decoder_target_train = tar_tokenizer.texts_to_sequences(decoder_target_train)\n",
    "decoder_input_test = tar_tokenizer.texts_to_sequences(decoder_input_test)\n",
    "decoder_target_test = tar_tokenizer.texts_to_sequences(decoder_target_test)"
   ]
  },
  {
   "cell_type": "code",
   "execution_count": 141,
   "metadata": {},
   "outputs": [
    {
     "name": "stdout",
     "output_type": "stream",
     "text": [
      "[[1, 2349], [1, 14, 2105, 3760, 423], [1, 56, 396, 274, 301, 6650, 3761], [1, 2918, 3, 7629, 732], [1, 5851, 6651, 7630, 692, 890]]\n"
     ]
    }
   ],
   "source": [
    "print(decoder_input_train[:5])"
   ]
  },
  {
   "cell_type": "code",
   "execution_count": 142,
   "metadata": {},
   "outputs": [
    {
     "name": "stdout",
     "output_type": "stream",
     "text": [
      "[[2349, 2], [14, 2105, 3760, 423, 2], [56, 396, 274, 301, 6650, 3761, 2], [2918, 3, 7629, 732, 2], [5851, 6651, 7630, 692, 890, 2]]\n"
     ]
    }
   ],
   "source": [
    "print(decoder_target_train[:5])"
   ]
  },
  {
   "cell_type": "code",
   "execution_count": 143,
   "metadata": {},
   "outputs": [],
   "source": [
    "drop_train = [index for index, sentence in enumerate(decoder_input_train) if len(sentence) == 1]\n",
    "drop_test = [index for index, sentence in enumerate(decoder_input_test) if len(sentence) == 1]"
   ]
  },
  {
   "cell_type": "code",
   "execution_count": 144,
   "metadata": {},
   "outputs": [
    {
     "name": "stdout",
     "output_type": "stream",
     "text": [
      "삭제할 훈련 데이터의 개수 : 1371\n",
      "삭제할 테스트 데이터의 개수 : 398\n"
     ]
    }
   ],
   "source": [
    "print('삭제할 훈련 데이터의 개수 :',len(drop_train))\n",
    "print('삭제할 테스트 데이터의 개수 :',len(drop_test))"
   ]
  },
  {
   "cell_type": "code",
   "execution_count": 145,
   "metadata": {},
   "outputs": [
    {
     "name": "stdout",
     "output_type": "stream",
     "text": [
      "훈련 데이터의 개수 : 63513\n",
      "훈련 레이블의 개수 : 63513\n",
      "테스트 데이터의 개수 : 15822\n",
      "테스트 레이블의 개수 : 15822\n"
     ]
    },
    {
     "name": "stderr",
     "output_type": "stream",
     "text": [
      "C:\\Users\\DMC CONET\\AppData\\Roaming\\Python\\Python39\\site-packages\\numpy\\lib\\function_base.py:5071: VisibleDeprecationWarning: Creating an ndarray from ragged nested sequences (which is a list-or-tuple of lists-or-tuples-or ndarrays with different lengths or shapes) is deprecated. If you meant to do this, you must specify 'dtype=object' when creating the ndarray.\n",
      "  arr = asarray(arr)\n"
     ]
    }
   ],
   "source": [
    "encoder_input_train = np.delete(encoder_input_train, drop_train, axis=0)\n",
    "decoder_input_train = np.delete(decoder_input_train, drop_train, axis=0)\n",
    "decoder_target_train = np.delete(decoder_target_train, drop_train, axis=0)\n",
    "\n",
    "encoder_input_test = np.delete(encoder_input_test, drop_test, axis=0)\n",
    "decoder_input_test = np.delete(decoder_input_test, drop_test, axis=0)\n",
    "decoder_target_test = np.delete(decoder_target_test, drop_test, axis=0)\n",
    "\n",
    "print('훈련 데이터의 개수 :', len(encoder_input_train))\n",
    "print('훈련 레이블의 개수 :',len(decoder_input_train))\n",
    "print('테스트 데이터의 개수 :',len(encoder_input_test))\n",
    "print('테스트 레이블의 개수 :',len(decoder_input_test))"
   ]
  },
  {
   "cell_type": "code",
   "execution_count": 146,
   "metadata": {},
   "outputs": [],
   "source": [
    "encoder_input_train = pad_sequences(encoder_input_train, maxlen = title_max_len, padding='post')\n",
    "encoder_input_test = pad_sequences(encoder_input_test, maxlen = title_max_len, padding='post')\n",
    "decoder_input_train = pad_sequences(decoder_input_train, maxlen = body_max_len, padding='post')\n",
    "decoder_target_train = pad_sequences(decoder_target_train, maxlen = body_max_len, padding='post')\n",
    "decoder_input_test = pad_sequences(decoder_input_test, maxlen = body_max_len, padding='post')\n",
    "decoder_target_test = pad_sequences(decoder_target_test, maxlen = body_max_len, padding='post')"
   ]
  },
  {
   "cell_type": "code",
   "execution_count": 147,
   "metadata": {},
   "outputs": [],
   "source": [
    "from tensorflow.keras.layers import Input, LSTM, Embedding, Dense, Concatenate\n",
    "from tensorflow.keras.models import Model\n",
    "from tensorflow.keras.callbacks import EarlyStopping, ModelCheckpoint"
   ]
  },
  {
   "cell_type": "code",
   "execution_count": 148,
   "metadata": {},
   "outputs": [],
   "source": [
    "embedding_dim = 128\n",
    "hidden_size = 256\n",
    "\n",
    "# 인코더\n",
    "encoder_inputs = Input(shape=(title_max_len,))\n",
    "\n",
    "# 인코더의 임베딩 층\n",
    "enc_emb = Embedding(src_vocab, embedding_dim)(encoder_inputs)\n",
    "\n",
    "# 인코더의 LSTM 1\n",
    "encoder_lstm1 = LSTM(hidden_size, return_sequences=True, return_state=True ,dropout = 0.4, recurrent_dropout = 0.4)\n",
    "encoder_output1, state_h1, state_c1 = encoder_lstm1(enc_emb)\n",
    "\n",
    "# 인코더의 LSTM 2\n",
    "encoder_lstm2 = LSTM(hidden_size, return_sequences=True, return_state=True, dropout=0.4, recurrent_dropout=0.4)\n",
    "encoder_output2, state_h2, state_c2 = encoder_lstm2(encoder_output1)\n",
    "\n",
    "# 인코더의 LSTM 3\n",
    "encoder_lstm3 = LSTM(hidden_size, return_state=True, return_sequences=True, dropout=0.4, recurrent_dropout=0.4)\n",
    "encoder_outputs, state_h, state_c= encoder_lstm3(encoder_output2)"
   ]
  },
  {
   "cell_type": "code",
   "execution_count": 149,
   "metadata": {},
   "outputs": [],
   "source": [
    "# 디코더\n",
    "decoder_inputs = Input(shape=(None,))\n",
    "\n",
    "# 디코더의 임베딩 층\n",
    "dec_emb_layer = Embedding(tar_vocab, embedding_dim)\n",
    "dec_emb = dec_emb_layer(decoder_inputs)\n",
    "\n",
    "# 디코더의 LSTM\n",
    "decoder_lstm = LSTM(hidden_size, return_sequences = True, return_state = True, dropout = 0.4, recurrent_dropout=0.2)\n",
    "decoder_outputs, _, _ = decoder_lstm(dec_emb, initial_state = [state_h, state_c])"
   ]
  },
  {
   "cell_type": "code",
   "execution_count": 150,
   "metadata": {},
   "outputs": [
    {
     "name": "stdout",
     "output_type": "stream",
     "text": [
      "Model: \"model_2\"\n",
      "__________________________________________________________________________________________________\n",
      " Layer (type)                   Output Shape         Param #     Connected to                     \n",
      "==================================================================================================\n",
      " input_3 (InputLayer)           [(None, 10)]         0           []                               \n",
      "                                                                                                  \n",
      " embedding_2 (Embedding)        (None, 10, 128)      12800000    ['input_3[0][0]']                \n",
      "                                                                                                  \n",
      " lstm_4 (LSTM)                  [(None, 10, 256),    394240      ['embedding_2[0][0]']            \n",
      "                                 (None, 256),                                                     \n",
      "                                 (None, 256)]                                                     \n",
      "                                                                                                  \n",
      " input_4 (InputLayer)           [(None, None)]       0           []                               \n",
      "                                                                                                  \n",
      " lstm_5 (LSTM)                  [(None, 10, 256),    525312      ['lstm_4[0][0]']                 \n",
      "                                 (None, 256),                                                     \n",
      "                                 (None, 256)]                                                     \n",
      "                                                                                                  \n",
      " embedding_3 (Embedding)        (None, None, 128)    1088000     ['input_4[0][0]']                \n",
      "                                                                                                  \n",
      " lstm_6 (LSTM)                  [(None, 10, 256),    525312      ['lstm_5[0][0]']                 \n",
      "                                 (None, 256),                                                     \n",
      "                                 (None, 256)]                                                     \n",
      "                                                                                                  \n",
      " lstm_7 (LSTM)                  [(None, None, 256),  394240      ['embedding_3[0][0]',            \n",
      "                                 (None, 256),                     'lstm_6[0][1]',                 \n",
      "                                 (None, 256)]                     'lstm_6[0][2]']                 \n",
      "                                                                                                  \n",
      " dense_2 (Dense)                (None, None, 8500)   2184500     ['lstm_7[0][0]']                 \n",
      "                                                                                                  \n",
      "==================================================================================================\n",
      "Total params: 17,911,604\n",
      "Trainable params: 17,911,604\n",
      "Non-trainable params: 0\n",
      "__________________________________________________________________________________________________\n"
     ]
    }
   ],
   "source": [
    "# 디코더의 출력층\n",
    "decoder_softmax_layer = Dense(tar_vocab, activation = 'softmax')\n",
    "decoder_softmax_outputs = decoder_softmax_layer(decoder_outputs) \n",
    "\n",
    "# 모델 정의\n",
    "model = Model([encoder_inputs, decoder_inputs], decoder_softmax_outputs)\n",
    "model.summary()"
   ]
  },
  {
   "cell_type": "code",
   "execution_count": 151,
   "metadata": {},
   "outputs": [],
   "source": [
    "#urllib.request.urlretrieve(\"https://github.com/ukairia777/tensorflow-nlp-tutorial/blob/main/20.%20Text%20Summarization%20with%20Attention/attention.py\", filename=\"attention.py\")\n",
    "from attention import AttentionLayer"
   ]
  },
  {
   "cell_type": "code",
   "execution_count": 152,
   "metadata": {},
   "outputs": [
    {
     "name": "stdout",
     "output_type": "stream",
     "text": [
      "Model: \"model_3\"\n",
      "__________________________________________________________________________________________________\n",
      " Layer (type)                   Output Shape         Param #     Connected to                     \n",
      "==================================================================================================\n",
      " input_3 (InputLayer)           [(None, 10)]         0           []                               \n",
      "                                                                                                  \n",
      " embedding_2 (Embedding)        (None, 10, 128)      12800000    ['input_3[0][0]']                \n",
      "                                                                                                  \n",
      " lstm_4 (LSTM)                  [(None, 10, 256),    394240      ['embedding_2[0][0]']            \n",
      "                                 (None, 256),                                                     \n",
      "                                 (None, 256)]                                                     \n",
      "                                                                                                  \n",
      " input_4 (InputLayer)           [(None, None)]       0           []                               \n",
      "                                                                                                  \n",
      " lstm_5 (LSTM)                  [(None, 10, 256),    525312      ['lstm_4[0][0]']                 \n",
      "                                 (None, 256),                                                     \n",
      "                                 (None, 256)]                                                     \n",
      "                                                                                                  \n",
      " embedding_3 (Embedding)        (None, None, 128)    1088000     ['input_4[0][0]']                \n",
      "                                                                                                  \n",
      " lstm_6 (LSTM)                  [(None, 10, 256),    525312      ['lstm_5[0][0]']                 \n",
      "                                 (None, 256),                                                     \n",
      "                                 (None, 256)]                                                     \n",
      "                                                                                                  \n",
      " lstm_7 (LSTM)                  [(None, None, 256),  394240      ['embedding_3[0][0]',            \n",
      "                                 (None, 256),                     'lstm_6[0][1]',                 \n",
      "                                 (None, 256)]                     'lstm_6[0][2]']                 \n",
      "                                                                                                  \n",
      " attention_layer (AttentionLaye  ((None, None, 256),  131328     ['lstm_6[0][0]',                 \n",
      " r)                              (None, None, 10))                'lstm_7[0][0]']                 \n",
      "                                                                                                  \n",
      " concat_layer (Concatenate)     (None, None, 512)    0           ['lstm_7[0][0]',                 \n",
      "                                                                  'attention_layer[0][0]']        \n",
      "                                                                                                  \n",
      " dense_3 (Dense)                (None, None, 8500)   4360500     ['concat_layer[0][0]']           \n",
      "                                                                                                  \n",
      "==================================================================================================\n",
      "Total params: 20,218,932\n",
      "Trainable params: 20,218,932\n",
      "Non-trainable params: 0\n",
      "__________________________________________________________________________________________________\n"
     ]
    }
   ],
   "source": [
    "# 어텐션 층(어텐션 함수)\n",
    "attn_layer = AttentionLayer(name='attention_layer')\n",
    "attn_out, attn_states = attn_layer([encoder_outputs, decoder_outputs])\n",
    "\n",
    "# 어텐션의 결과와 디코더의 hidden state들을 연결\n",
    "decoder_concat_input = Concatenate(axis = -1, name='concat_layer')([decoder_outputs, attn_out])\n",
    "\n",
    "# 디코더의 출력층\n",
    "decoder_softmax_layer = Dense(tar_vocab, activation='softmax')\n",
    "decoder_softmax_outputs = decoder_softmax_layer(decoder_concat_input)\n",
    "\n",
    "# 모델 정의\n",
    "model = Model([encoder_inputs, decoder_inputs], decoder_softmax_outputs)\n",
    "model.summary()"
   ]
  },
  {
   "cell_type": "code",
   "execution_count": 153,
   "metadata": {},
   "outputs": [],
   "source": [
    "model.compile(optimizer='rmsprop', loss='sparse_categorical_crossentropy')"
   ]
  },
  {
   "cell_type": "code",
   "execution_count": 154,
   "metadata": {},
   "outputs": [
    {
     "name": "stdout",
     "output_type": "stream",
     "text": [
      "Epoch 1/50\n",
      " 97/249 [==========>...................] - ETA: 3:28:23 - loss: 0.6762"
     ]
    }
   ],
   "source": [
    "es = EarlyStopping(monitor='val_loss', mode='min', verbose=1, patience = 2)\n",
    "history = model.fit(x = [encoder_input_train, decoder_input_train], y = decoder_target_train, \\\n",
    "          validation_data = ([encoder_input_test, decoder_input_test], decoder_target_test),\n",
    "          batch_size = 256, callbacks=[es], epochs = 50)"
   ]
  },
  {
   "cell_type": "code",
   "execution_count": null,
   "metadata": {},
   "outputs": [],
   "source": [
    "plt.plot(history.history['loss'], label='train')\n",
    "plt.plot(history.history['val_loss'], label='test')\n",
    "plt.legend()\n",
    "plt.show()"
   ]
  },
  {
   "cell_type": "code",
   "execution_count": null,
   "metadata": {},
   "outputs": [],
   "source": [
    "src_index_to_word = src_tokenizer.index_word # 원문 단어 집합에서 정수 -> 단어를 얻음\n",
    "tar_word_to_index = tar_tokenizer.word_index # 요약 단어 집합에서 단어 -> 정수를 얻음\n",
    "tar_index_to_word = tar_tokenizer.index_word # 요약 단어 집합에서 정수 -> 단어를 얻음"
   ]
  },
  {
   "cell_type": "code",
   "execution_count": null,
   "metadata": {},
   "outputs": [],
   "source": [
    "# 인코더 설계\n",
    "encoder_model = Model(inputs=encoder_inputs, outputs=[encoder_outputs, state_h, state_c])"
   ]
  },
  {
   "cell_type": "code",
   "execution_count": null,
   "metadata": {},
   "outputs": [],
   "source": [
    "# 이전 시점의 상태들을 저장하는 텐서\n",
    "decoder_state_input_h = Input(shape=(hidden_size,))\n",
    "decoder_state_input_c = Input(shape=(hidden_size,))\n",
    "\n",
    "dec_emb2 = dec_emb_layer(decoder_inputs)\n",
    "# 문장의 다음 단어를 예측하기 위해서 초기 상태(initial_state)를 이전 시점의 상태로 사용. 이는 뒤의 함수 decode_sequence()에 구현\n",
    "# 훈련 과정에서와 달리 LSTM의 리턴하는 은닉 상태와 셀 상태인 state_h와 state_c를 버리지 않음.\n",
    "decoder_outputs2, state_h2, state_c2 = decoder_lstm(dec_emb2, initial_state=[decoder_state_input_h, decoder_state_input_c])"
   ]
  },
  {
   "cell_type": "code",
   "execution_count": null,
   "metadata": {},
   "outputs": [],
   "source": [
    "# 어텐션 함수\n",
    "decoder_hidden_state_input = Input(shape=(title_max_len, hidden_size))\n",
    "attn_out_inf, attn_states_inf = attn_layer([decoder_hidden_state_input, decoder_outputs2])\n",
    "decoder_inf_concat = Concatenate(axis=-1, name='concat')([decoder_outputs2, attn_out_inf])\n",
    "\n",
    "# 디코더의 출력층\n",
    "decoder_outputs2 = decoder_softmax_layer(decoder_inf_concat) \n",
    "\n",
    "# 최종 디코더 모델\n",
    "decoder_model = Model(\n",
    "    [decoder_inputs] + [decoder_hidden_state_input,decoder_state_input_h, decoder_state_input_c],\n",
    "    [decoder_outputs2] + [state_h2, state_c2])"
   ]
  },
  {
   "cell_type": "code",
   "execution_count": null,
   "metadata": {},
   "outputs": [],
   "source": [
    "def decode_sequence(input_seq):\n",
    "    # 입력으로부터 인코더의 상태를 얻음\n",
    "    e_out, e_h, e_c = encoder_model.predict(input_seq)\n",
    "\n",
    "     # <SOS>에 해당하는 토큰 생성\n",
    "    target_seq = np.zeros((1,1))\n",
    "    target_seq[0, 0] = tar_word_to_index['sostoken']\n",
    "\n",
    "    stop_condition = False\n",
    "    decoded_sentence = ''\n",
    "    while not stop_condition: # stop_condition이 True가 될 때까지 루프 반복\n",
    "\n",
    "        output_tokens, h, c = decoder_model.predict([target_seq] + [e_out, e_h, e_c])\n",
    "        sampled_token_index = np.argmax(output_tokens[0, -1, :])\n",
    "        sampled_token = tar_index_to_word[sampled_token_index]\n",
    "\n",
    "        if(sampled_token!='eostoken'):\n",
    "            decoded_sentence += ' '+sampled_token\n",
    "\n",
    "        #  <eos>에 도달하거나 최대 길이를 넘으면 중단.\n",
    "        if (sampled_token == 'eostoken'  or len(decoded_sentence.split()) >= (body_max_len-1)):\n",
    "            stop_condition = True\n",
    "\n",
    "        # 길이가 1인 타겟 시퀀스를 업데이트\n",
    "        target_seq = np.zeros((1,1))\n",
    "        target_seq[0, 0] = sampled_token_index\n",
    "\n",
    "        # 상태를 업데이트 합니다.\n",
    "        e_h, e_c = h, c\n",
    "\n",
    "    return decoded_sentence"
   ]
  },
  {
   "cell_type": "code",
   "execution_count": null,
   "metadata": {},
   "outputs": [],
   "source": [
    "# 원문의 정수 시퀀스를 텍스트 시퀀스로 변환\n",
    "def seq2text(input_seq):\n",
    "    sentence=''\n",
    "    for i in input_seq:\n",
    "        if(i!=0):\n",
    "            sentence = sentence + src_index_to_word[i]+' '\n",
    "    return sentence\n",
    "\n",
    "# 요약문의 정수 시퀀스를 텍스트 시퀀스로 변환\n",
    "def seq2summary(input_seq):\n",
    "    sentence=''\n",
    "    for i in input_seq:\n",
    "        if((i!=0 and i!=tar_word_to_index['sostoken']) and i!=tar_word_to_index['eostoken']):\n",
    "            sentence = sentence + tar_index_to_word[i] + ' '\n",
    "    return sentence"
   ]
  },
  {
   "cell_type": "code",
   "execution_count": null,
   "metadata": {},
   "outputs": [],
   "source": [
    "for i in range(500, 1000):\n",
    "    print(\"원문 : \",seq2text(encoder_input_test[i]))\n",
    "    print(\"실제 요약문 :\",seq2summary(decoder_input_test[i]))\n",
    "    print(\"예측 요약문 :\",decode_sequence(encoder_input_test[i].reshape(1, title_max_len)))\n",
    "    print(\"\\n\")"
   ]
  },
  {
   "cell_type": "code",
   "execution_count": null,
   "metadata": {},
   "outputs": [],
   "source": []
  },
  {
   "cell_type": "code",
   "execution_count": null,
   "metadata": {},
   "outputs": [],
   "source": []
  },
  {
   "cell_type": "code",
   "execution_count": null,
   "metadata": {},
   "outputs": [],
   "source": []
  },
  {
   "cell_type": "code",
   "execution_count": null,
   "metadata": {},
   "outputs": [],
   "source": []
  },
  {
   "cell_type": "code",
   "execution_count": null,
   "metadata": {},
   "outputs": [],
   "source": []
  },
  {
   "cell_type": "code",
   "execution_count": null,
   "metadata": {},
   "outputs": [],
   "source": []
  },
  {
   "cell_type": "code",
   "execution_count": null,
   "metadata": {},
   "outputs": [],
   "source": []
  },
  {
   "cell_type": "code",
   "execution_count": null,
   "metadata": {},
   "outputs": [
    {
     "name": "stderr",
     "output_type": "stream",
     "text": [
      "C:\\Users\\DMC CONET\\AppData\\Local\\Temp\\ipykernel_16608\\1247225215.py:2: SettingWithCopyWarning: \n",
      "A value is trying to be set on a copy of a slice from a DataFrame\n",
      "\n",
      "See the caveats in the documentation: https://pandas.pydata.org/pandas-docs/stable/user_guide/indexing.html#returning-a-view-versus-a-copy\n",
      "  df['count'][i] = df['YNewsML.NewsContent.Body'][i].count('</YNAOBJECT>')\n"
     ]
    }
   ],
   "source": [
    "for i in range(len(df)):\n",
    "    df['count'][i] = df['YNewsML.NewsContent.Body'][i].count('</YNAOBJECT>')"
   ]
  },
  {
   "cell_type": "code",
   "execution_count": null,
   "metadata": {},
   "outputs": [
    {
     "data": {
      "text/plain": [
       "0     63466\n",
       "1     31292\n",
       "2      9963\n",
       "3      3520\n",
       "4      1176\n",
       "5       338\n",
       "6       140\n",
       "7        43\n",
       "8        24\n",
       "10        7\n",
       "9         5\n",
       "15        4\n",
       "11        4\n",
       "25        3\n",
       "14        3\n",
       "19        2\n",
       "27        1\n",
       "13        1\n",
       "12        1\n",
       "21        1\n",
       "35        1\n",
       "20        1\n",
       "16        1\n",
       "23        1\n",
       "28        1\n",
       "30        1\n",
       "Name: count, dtype: int64"
      ]
     },
     "execution_count": 18,
     "metadata": {},
     "output_type": "execute_result"
    }
   ],
   "source": [
    "df['count'].value_counts()"
   ]
  },
  {
   "cell_type": "code",
   "execution_count": null,
   "metadata": {},
   "outputs": [
    {
     "data": {
      "text/plain": [
       "2"
      ]
     },
     "execution_count": 16,
     "metadata": {},
     "output_type": "execute_result"
    }
   ],
   "source": [
    "df['YNewsML.NewsContent.Body'][1].count('</YNAOBJECT>')"
   ]
  },
  {
   "cell_type": "code",
   "execution_count": null,
   "metadata": {},
   "outputs": [
    {
     "data": {
      "text/plain": [
       "'http://yna.kr/AKR20210105124700009?did=2508m'"
      ]
     },
     "execution_count": 19,
     "metadata": {},
     "output_type": "execute_result"
    }
   ],
   "source": [
    "df['YNewsML.Metadata.Href'][1]"
   ]
  }
 ],
 "metadata": {
  "kernelspec": {
   "display_name": "Python 3",
   "language": "python",
   "name": "python3"
  },
  "language_info": {
   "codemirror_mode": {
    "name": "ipython",
    "version": 3
   },
   "file_extension": ".py",
   "mimetype": "text/x-python",
   "name": "python",
   "nbconvert_exporter": "python",
   "pygments_lexer": "ipython3",
   "version": "3.9.5"
  },
  "orig_nbformat": 4,
  "vscode": {
   "interpreter": {
    "hash": "7c900b78eeb171c21ddcb3a089a503deb6b74e1d42a7e047216b3e06e37eb059"
   }
  }
 },
 "nbformat": 4,
 "nbformat_minor": 2
}
