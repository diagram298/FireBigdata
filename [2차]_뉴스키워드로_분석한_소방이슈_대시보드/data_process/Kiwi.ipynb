{
 "cells": [
  {
   "cell_type": "markdown",
   "id": "95444bad",
   "metadata": {},
   "source": [
    "# Kiwi"
   ]
  },
  {
   "cell_type": "code",
   "execution_count": 3,
   "id": "d23fe349",
   "metadata": {},
   "outputs": [],
   "source": [
    "from kiwipiepy import Kiwi\n",
    "import pandas as pd\n",
    "kiwi = Kiwi()\n",
    "kiwi.load_user_dictionary('new_dict.txt')\n",
    "kiwi.prepare()"
   ]
  },
  {
   "cell_type": "code",
   "execution_count": 4,
   "id": "aeb63ec5",
   "metadata": {},
   "outputs": [
    {
     "name": "stdout",
     "output_type": "stream",
     "text": [
      "테스트\tNNG\n",
      "이\tVCP\n",
      "ᆸ니다\tEF\n",
      ".\tSF\n"
     ]
    }
   ],
   "source": [
    "result = kiwi.tokenize('테스트입니다.')\n",
    "for token in result:\n",
    "    print(f\"{token.form}\\t{token.tag}\")"
   ]
  },
  {
   "cell_type": "code",
   "execution_count": 5,
   "id": "14573fa3",
   "metadata": {},
   "outputs": [],
   "source": [
    "df = pd.read_csv('df_all_small1.csv',encoding='utf-8-sig')"
   ]
  },
  {
   "cell_type": "code",
   "execution_count": 6,
   "id": "e774f375",
   "metadata": {},
   "outputs": [],
   "source": [
    "morph_analysis = lambda x: kiwi.tokenize(x) if type(x) is str else None"
   ]
  },
  {
   "cell_type": "code",
   "execution_count": 7,
   "id": "c71caa2d",
   "metadata": {},
   "outputs": [],
   "source": [
    "import numpy as np"
   ]
  },
  {
   "cell_type": "code",
   "execution_count": 50,
   "id": "71250a17",
   "metadata": {
    "collapsed": true
   },
   "outputs": [
    {
     "data": {
      "text/plain": [
       "[Token(form='인니', tag='NNP', start=0, len=2),\n",
       " Token(form='대표', tag='NNG', start=3, len=2),\n",
       " Token(form='스타트업', tag='NNG', start=6, len=4),\n",
       " Token(form='고젝', tag='NNP', start=11, len=2),\n",
       " Token(form=',', tag='SP', start=13, len=1),\n",
       " Token(form='토코피디아와', tag='NNP', start=15, len=6),\n",
       " Token(form='합병', tag='NNG', start=22, len=2),\n",
       " Token(form='논의', tag='NNG', start=25, len=2),\n",
       " Token(form='인도네시아', tag='NNP', start=28, len=5),\n",
       " Token(form='최대', tag='NNG', start=34, len=2),\n",
       " Token(form='스타트업', tag='NNG', start=37, len=4),\n",
       " Token(form='으로', tag='JKB', start=41, len=2),\n",
       " Token(form='평가', tag='NNG', start=44, len=2),\n",
       " Token(form='받', tag='XSV', start=46, len=1),\n",
       " Token(form='는', tag='ETM', start=47, len=1),\n",
       " Token(form='고젝', tag='NNP', start=49, len=2),\n",
       " Token(form='과', tag='JC', start=51, len=1),\n",
       " Token(form='토코피디아', tag='NNP', start=53, len=5),\n",
       " Token(form='가', tag='JKS', start=58, len=1),\n",
       " Token(form='합병', tag='NNG', start=60, len=2),\n",
       " Token(form='협상', tag='NNG', start=63, len=2),\n",
       " Token(form='을', tag='JKO', start=65, len=1),\n",
       " Token(form='벌이', tag='VV', start=67, len=2),\n",
       " Token(form='고', tag='EC', start=69, len=1),\n",
       " Token(form='있', tag='VX', start=71, len=1),\n",
       " Token(form='다고', tag='EC', start=72, len=2),\n",
       " Token(form='블룸버그', tag='NNP', start=75, len=4),\n",
       " Token(form='통신', tag='NNG', start=79, len=2),\n",
       " Token(form='이', tag='JKS', start=81, len=1),\n",
       " Token(form='5', tag='SN', start=83, len=1),\n",
       " Token(form='일', tag='NNB', start=84, len=1),\n",
       " Token(form='소식통', tag='NNG', start=86, len=3),\n",
       " Token(form='을', tag='JKO', start=89, len=1),\n",
       " Token(form='인용', tag='NNG', start=91, len=2),\n",
       " Token(form='하', tag='XSV', start=93, len=1),\n",
       " Token(form='어', tag='EC', start=93, len=1),\n",
       " Token(form='보도', tag='NNG', start=95, len=2),\n",
       " Token(form='하', tag='XSV', start=97, len=1),\n",
       " Token(form='었', tag='EP', start=97, len=1),\n",
       " Token(form='다', tag='EF', start=98, len=1)]"
      ]
     },
     "execution_count": 50,
     "metadata": {},
     "output_type": "execute_result"
    }
   ],
   "source": [
    "morph_analysis(str(df['clean'][0]).split('.')[0])"
   ]
  },
  {
   "cell_type": "code",
   "execution_count": 52,
   "id": "8b8348e6",
   "metadata": {},
   "outputs": [
    {
     "data": {
      "text/plain": [
       "'인니 대표 스타트업 고젝, 토코피디아와 합병 논의 인도네시아 최대 스타트업으로 평가받는 고젝과 토코피디아가 합병 협상을 벌이고 있다고 블룸버그통신이 5일 소식통을 인용해 보도했다. 이에 따르면 고젝은 토코피디아와 심도 있는 합병 협상을 벌이고 있으며 양측 모두 빠른 협상 타결을 바라는 것으로 전해졌다. 블룸버그는 양사가 상호 실사를 위한 구체적인 조건에 합의했으며 합병비율에 대한 논의도 하고 있다면서 빠르면 수개월 안에 협상이 마무리될 수 있는 것으로 보인다고 전했다. 고젝은 차량공유와 호출, 결제서비스에 토코피디아의 온라인 쇼핑과 배송사업을 결합하면 기업 가치가 180억달러가 넘을 것으로 기대하고 있으며 향후 미국 증시에서 기업공개(IPO)에 나설 계획이다. 고젝은 경쟁사인 싱가포르 그랩과의 합병 협상 난항을 계기로 2018년부터 검토해온 토코피디아와의 합병 협상에 적극적으로 나서고 있는 것으로 알려졌다. 인도네시아의 첫 데카콘(Decacorn) 기업인 고젝은 2010년 차량 공유, 호출 서비스부터 시작해 온라인 결제와 함께 식품이나 서비스 주문도 가능한 원스톱 앱으로 성장했으며 베트남·필리핀·태국·싱가포르 등으로 사업을 확장했다. 데카콘 기업은 기업가치 100억 달러(10조8천억 원) 이상의 비상장 벤처기업을 뜻한다. 고젝의 기업가치는 105억달러 수준으로 거론된다. 인도네시아의 알리바바로 불리는 토코피디아는 2009년 설립된 인도네시아 전자상거래 1위 업체다. 토코피디아의 기업가치는 75억달러 정도로 평가된다고 소식통은 전했다.'"
      ]
     },
     "execution_count": 52,
     "metadata": {},
     "output_type": "execute_result"
    }
   ],
   "source": [
    "str(df['clean'][0])"
   ]
  },
  {
   "cell_type": "code",
   "execution_count": null,
   "id": "375434b7",
   "metadata": {
    "scrolled": true
   },
   "outputs": [
    {
     "name": "stderr",
     "output_type": "stream",
     "text": [
      "C:\\Users\\DMC CONET\\AppData\\Local\\Temp\\ipykernel_9696\\545489771.py:5: SettingWithCopyWarning: \n",
      "A value is trying to be set on a copy of a slice from a DataFrame\n",
      "\n",
      "See the caveats in the documentation: https://pandas.pydata.org/pandas-docs/stable/user_guide/indexing.html#returning-a-view-versus-a-copy\n",
      "  df['clean_morpheme'][j] = a\n"
     ]
    }
   ],
   "source": [
    "for j in range(len(df['clean'])):\n",
    "    a = []\n",
    "    for i in range(len(str(df['clean'][j]).split('.'))-1):\n",
    "        a.append(morph_analysis(str(df['clean'][j]).split('.')[i]))\n",
    "    df['clean_morpheme'][j] = a"
   ]
  },
  {
   "cell_type": "code",
   "execution_count": 61,
   "id": "0579522b",
   "metadata": {},
   "outputs": [],
   "source": [
    "from collections import Counter\n",
    "'''주요 품사, 용언 품사 정의'''\n",
    "주요품사 = ['NNG', 'NNP', 'VV', 'VA', 'XR', 'SL']\n",
    "용언품사 = ['VV', 'VA']\n",
    "'''Counter를 활용해 가장 많이 나온 n개의 품사 결과를 돌려주는 pos_count() 함수'''\n",
    "def pos_count(df, col, output_filename, n=100):\n",
    "    카운터 = Counter()\n",
    "    \n",
    "    for index, row in df.iterrows(): \n",
    "        if row[col]:\n",
    "            필터링결과 = [(token.form, token.tag) for token in row[col] if token.tag in 주요품사]\n",
    "            카운터.update(필터링결과)\n",
    "            \n",
    "    with open(output_filename, \"w\", encoding='utf-8-sig') as output_file:\n",
    "        print(\"형태소,품사,개수\", file=output_file)\n",
    "        for (형태소, 품사), 개수 in 카운터.most_common(n):\n",
    "            if 품사 in 용언품사:\n",
    "                형태소 += \"다\"\n",
    "            print(f\"{형태소},{품사},{개수}\", file=output_file)"
   ]
  },
  {
   "cell_type": "code",
   "execution_count": null,
   "id": "4ee3c126",
   "metadata": {},
   "outputs": [],
   "source": [
    "df['clean_morpheme']"
   ]
  },
  {
   "cell_type": "code",
   "execution_count": 62,
   "id": "4f41a217",
   "metadata": {},
   "outputs": [
    {
     "ename": "AttributeError",
     "evalue": "'list' object has no attribute 'tag'",
     "output_type": "error",
     "traceback": [
      "\u001b[1;31m---------------------------------------------------------------------------\u001b[0m",
      "\u001b[1;31mAttributeError\u001b[0m                            Traceback (most recent call last)",
      "Input \u001b[1;32mIn [62]\u001b[0m, in \u001b[0;36m<cell line: 1>\u001b[1;34m()\u001b[0m\n\u001b[1;32m----> 1\u001b[0m \u001b[43mpos_count\u001b[49m\u001b[43m(\u001b[49m\u001b[43mdf\u001b[49m\u001b[43m,\u001b[49m\u001b[43m \u001b[49m\u001b[38;5;124;43m'\u001b[39;49m\u001b[38;5;124;43mclean_morpheme\u001b[39;49m\u001b[38;5;124;43m'\u001b[39;49m\u001b[43m,\u001b[49m\u001b[43m \u001b[49m\u001b[38;5;124;43m'\u001b[39;49m\u001b[38;5;124;43m./주요어휘빈도.csv\u001b[39;49m\u001b[38;5;124;43m'\u001b[39;49m\u001b[43m)\u001b[49m\n",
      "Input \u001b[1;32mIn [61]\u001b[0m, in \u001b[0;36mpos_count\u001b[1;34m(df, col, output_filename, n)\u001b[0m\n\u001b[0;32m      9\u001b[0m \u001b[38;5;28;01mfor\u001b[39;00m index, row \u001b[38;5;129;01min\u001b[39;00m df\u001b[38;5;241m.\u001b[39miterrows(): \n\u001b[0;32m     10\u001b[0m     \u001b[38;5;28;01mif\u001b[39;00m row[col]:\n\u001b[1;32m---> 11\u001b[0m         필터링결과 \u001b[38;5;241m=\u001b[39m [(token\u001b[38;5;241m.\u001b[39mform, token\u001b[38;5;241m.\u001b[39mtag) \u001b[38;5;28;01mfor\u001b[39;00m token \u001b[38;5;129;01min\u001b[39;00m row[col] \u001b[38;5;28;01mif\u001b[39;00m token\u001b[38;5;241m.\u001b[39mtag \u001b[38;5;129;01min\u001b[39;00m 주요품사]\n\u001b[0;32m     12\u001b[0m         카운터\u001b[38;5;241m.\u001b[39mupdate(필터링결과)\n\u001b[0;32m     14\u001b[0m \u001b[38;5;28;01mwith\u001b[39;00m \u001b[38;5;28mopen\u001b[39m(output_filename, \u001b[38;5;124m\"\u001b[39m\u001b[38;5;124mw\u001b[39m\u001b[38;5;124m\"\u001b[39m, encoding\u001b[38;5;241m=\u001b[39m\u001b[38;5;124m'\u001b[39m\u001b[38;5;124mutf-8-sig\u001b[39m\u001b[38;5;124m'\u001b[39m) \u001b[38;5;28;01mas\u001b[39;00m output_file:\n",
      "Input \u001b[1;32mIn [61]\u001b[0m, in \u001b[0;36m<listcomp>\u001b[1;34m(.0)\u001b[0m\n\u001b[0;32m      9\u001b[0m \u001b[38;5;28;01mfor\u001b[39;00m index, row \u001b[38;5;129;01min\u001b[39;00m df\u001b[38;5;241m.\u001b[39miterrows(): \n\u001b[0;32m     10\u001b[0m     \u001b[38;5;28;01mif\u001b[39;00m row[col]:\n\u001b[1;32m---> 11\u001b[0m         필터링결과 \u001b[38;5;241m=\u001b[39m [(token\u001b[38;5;241m.\u001b[39mform, token\u001b[38;5;241m.\u001b[39mtag) \u001b[38;5;28;01mfor\u001b[39;00m token \u001b[38;5;129;01min\u001b[39;00m row[col] \u001b[38;5;28;01mif\u001b[39;00m \u001b[43mtoken\u001b[49m\u001b[38;5;241;43m.\u001b[39;49m\u001b[43mtag\u001b[49m \u001b[38;5;129;01min\u001b[39;00m 주요품사]\n\u001b[0;32m     12\u001b[0m         카운터\u001b[38;5;241m.\u001b[39mupdate(필터링결과)\n\u001b[0;32m     14\u001b[0m \u001b[38;5;28;01mwith\u001b[39;00m \u001b[38;5;28mopen\u001b[39m(output_filename, \u001b[38;5;124m\"\u001b[39m\u001b[38;5;124mw\u001b[39m\u001b[38;5;124m\"\u001b[39m, encoding\u001b[38;5;241m=\u001b[39m\u001b[38;5;124m'\u001b[39m\u001b[38;5;124mutf-8-sig\u001b[39m\u001b[38;5;124m'\u001b[39m) \u001b[38;5;28;01mas\u001b[39;00m output_file:\n",
      "\u001b[1;31mAttributeError\u001b[0m: 'list' object has no attribute 'tag'"
     ]
    }
   ],
   "source": [
    "pos_count(df, 'clean_morpheme', './주요어휘빈도.csv')"
   ]
  },
  {
   "cell_type": "code",
   "execution_count": null,
   "id": "607a7c83",
   "metadata": {},
   "outputs": [],
   "source": []
  }
 ],
 "metadata": {
  "kernelspec": {
   "display_name": "Python 3 (ipykernel)",
   "language": "python",
   "name": "python3"
  },
  "language_info": {
   "codemirror_mode": {
    "name": "ipython",
    "version": 3
   },
   "file_extension": ".py",
   "mimetype": "text/x-python",
   "name": "python",
   "nbconvert_exporter": "python",
   "pygments_lexer": "ipython3",
   "version": "3.9.12"
  }
 },
 "nbformat": 4,
 "nbformat_minor": 5
}
