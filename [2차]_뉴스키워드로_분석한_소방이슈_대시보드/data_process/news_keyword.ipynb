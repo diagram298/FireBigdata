{
 "cells": [
  {
   "cell_type": "code",
   "execution_count": 1,
   "metadata": {},
   "outputs": [],
   "source": [
    "import pandas as pd"
   ]
  },
  {
   "cell_type": "code",
   "execution_count": 2,
   "metadata": {},
   "outputs": [],
   "source": [
    "key = pd.read_csv('keyword_df.csv')"
   ]
  },
  {
   "cell_type": "code",
   "execution_count": 6,
   "metadata": {},
   "outputs": [
    {
     "data": {
      "text/plain": [
       "['조아제약 프로야구대상',\n",
       " '국가보훈처장이 서울',\n",
       " '러시아 안보기관인',\n",
       " '편지가 폭발했다는',\n",
       " '환경장관회의에서 발언하고',\n",
       " '대표이사',\n",
       " '조선중앙tv는 항공절기념행사가',\n",
       " '미국서 농구경기',\n",
       " '사장 인재육성위원회',\n",
       " '기획재정부장관을 만나']"
      ]
     },
     "execution_count": 6,
     "metadata": {},
     "output_type": "execute_result"
    }
   ],
   "source": [
    "list = key.keyword.tolist()\n",
    "list"
   ]
  },
  {
   "cell_type": "code",
   "execution_count": 8,
   "metadata": {},
   "outputs": [],
   "source": [
    "list_key = []\n",
    "for i in list:\n",
    "    list_key.append(i.split(' '))"
   ]
  },
  {
   "cell_type": "code",
   "execution_count": 11,
   "metadata": {},
   "outputs": [
    {
     "data": {
      "text/plain": [
       "[['조아제약', '프로야구대상'],\n",
       " ['국가보훈처장이', '서울'],\n",
       " ['러시아', '안보기관인'],\n",
       " ['편지가', '폭발했다는'],\n",
       " ['환경장관회의에서', '발언하고'],\n",
       " ['대표이사'],\n",
       " ['조선중앙tv는', '항공절기념행사가'],\n",
       " ['미국서', '농구경기'],\n",
       " ['사장', '인재육성위원회'],\n",
       " ['기획재정부장관을', '만나']]"
      ]
     },
     "execution_count": 11,
     "metadata": {},
     "output_type": "execute_result"
    }
   ],
   "source": [
    "list_key"
   ]
  }
 ],
 "metadata": {
  "kernelspec": {
   "display_name": "base",
   "language": "python",
   "name": "python3"
  },
  "language_info": {
   "codemirror_mode": {
    "name": "ipython",
    "version": 3
   },
   "file_extension": ".py",
   "mimetype": "text/x-python",
   "name": "python",
   "nbconvert_exporter": "python",
   "pygments_lexer": "ipython3",
   "version": "3.9.13"
  },
  "orig_nbformat": 4,
  "vscode": {
   "interpreter": {
    "hash": "a077222d77dfe082b8f1dd562ad70e458ac2ab76993a0b248ab0476e32e9e8dd"
   }
  }
 },
 "nbformat": 4,
 "nbformat_minor": 2
}
