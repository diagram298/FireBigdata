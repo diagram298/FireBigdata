{
 "cells": [
  {
   "cell_type": "markdown",
   "metadata": {
    "id": "6N96cu9DhrI9"
   },
   "source": [
    "# 키워드 입력 후 크롤링"
   ]
  },
  {
   "cell_type": "code",
   "execution_count": 16,
   "metadata": {
    "id": "HD1TwdzHIUG-"
   },
   "outputs": [],
   "source": [
    "from bs4 import BeautifulSoup\n",
    "import requests\n",
    "import re\n",
    "import sys\n",
    "import pprint\n",
    "import csv\n",
    "import json\n",
    "import pandas as pd\n",
    "\n",
    "result=[]\n",
    "\n",
    "headers = {\n",
    "    'authority': 'apis.naver.com',\n",
    "    'accept': '*/*',\n",
    "    'accept-language': 'ko-KR,ko;q=0.9,en-US;q=0.8,en;q=0.7',\n",
    "    # Requests sorts cookies= alphabetically\n",
    "    # 'cookie': 'ab.storage.userId.7af503ae-0c84-478f-98b0-ecfff5d67750=%7B%22g%22%3A%22browser-1625985144309-6%22%2C%22c%22%3A1626101500089%2C%22l%22%3A1626101500089%7D; ab.storage.deviceId.7af503ae-0c84-478f-98b0-ecfff5d67750=%7B%22g%22%3A%224cbe130c-6edd-d4aa-a78d-290b003c3592%22%2C%22c%22%3A1626101500094%2C%22l%22%3A1626101500094%7D; ASID=7992e0220000017aaa36664e0000004e; _ga=GA1.2.612969395.1626832328; ab.storage.sessionId.7af503ae-0c84-478f-98b0-ecfff5d67750=%7B%22g%22%3A%2228148006-e01d-7623-b7d1-b4fff0f59b4e%22%2C%22e%22%3A1627919390179%2C%22c%22%3A1627908091281%2C%22l%22%3A1627917590179%7D; MM_NEW=1; NFS=2; NNB=RDIIILNX6JCWE; nx_ssl=2; nid_inf=1665554565; NID_AUT=tP3V5ox533EjyAgkJ1JaqWEnPOhXs2hr3teD39pK972fuXqDWQZXoIOMzICJpa1A; NID_JKL=d393brIzilbjw+7TVvG0OW6Eo22+WIhQAfihItUdgbY=; _naver_usersession_=SPdJTrlTMrn8Udkyn58eo6HL; NID_SES=AAABwJaKJ5FjUAETXL8SAX2HKMUSTt3l8pPu49OSzbGzgKEEMN/ckpP4DbQVHQwTV1hVPWtbpP7Nomg0CbD8TtCpyOYbeq8+OpHb5eWbDsXXCeLHO4epgthLtbQHiBE8spXqEtx/h0D6MzxsIlN4pa8gz51jV+oWzQQNnpQCeaKKLaxcpMfhGXnZv4BK1Rg+TAgUFE9RtExcKjteTL2hB9tKT41C7antdQdhLfVXWUbsJ/q5b62iDZnnZUAANXHnWp/9RI2YyKSn70SVu4Bag+fxA/23OqjCHSbK5RMiNOQKV+Bs7uugaAsMKkH6lGBBIbNDkTXGZ4n1+KbqFwe1kV9oCaPJ+siwXESEqvY0jaLVNAqUATQZjnIMFIYwARw41FTuduxW1IOF7MdP7R3EqOvnqNir2lXW1UfRlHlOtMC4w/tXk8xqJR/HVlZrnltKkMZB5zfyDNvnt02jbOKJcORjmOeVvL+xoCdSXwZclfJzRkC31l43+9jSu4X8RPUfuJILRMHf2e1A0NU7Mwds7h+S//5AD0yUJlPtFFzLvriuD1SMTRXiSwN4pNWBi6UIsPzScRpyLMc8hUE8Bi8jJtGk4e0=; NDARK=N; page_uid=hrKUflprvN8ssNc4Muwssssss3R-382317; BMR=',\n",
    "    'referer': 'https://n.news.naver.com/article/028/0002595736',\n",
    "    'sec-ch-ua': '\"Whale\";v=\"3\", \" Not;A Brand\";v=\"99\", \"Chromium\";v=\"102\"',\n",
    "    'sec-ch-ua-mobile': '?0',\n",
    "    'sec-ch-ua-platform': '\"Windows\"',\n",
    "    'sec-fetch-dest': 'script',\n",
    "    'sec-fetch-mode': 'no-cors',\n",
    "    'sec-fetch-site': 'same-site',\n",
    "    'user-agent': 'Mozilla/5.0 (Windows NT 10.0; Win64; x64) AppleWebKit/537.36 (KHTML, like Gecko) Chrome/102.0.5005.108 Whale/3.15.136.18 Safari/537.36',\n",
    "}\n",
    "\n",
    "def news_url(query):\n",
    "    page =1 \n",
    "    url_list=[]\n",
    "    while page <= 1001 :\n",
    "\n",
    "        url = \"https://m.search.naver.com/search.naver?where=m_news&sm=mtb_pge&query=\"+query+\"&sort=0&photo=0&field=0&pd=3&ds=2022.12.29&de=2022.12.29&cluster_rank=37&mynews=0&office_type=0&office_section_code=0&news_office_checked=&nso=so:r,p:from20221229to20221229&start=\"+str(page)\n",
    "        response = requests.get(url,headers=headers)\n",
    "        html = response.text\n",
    "\n",
    "        #뷰티풀소프의 인자값 지정\n",
    "        soup = BeautifulSoup(html, \"lxml\")\n",
    "        # print(soup.select_one('a.news_tit > div'))\n",
    "        #<a>태그에서 제목과 링크주소 추출\n",
    "        atags = soup.select('.news_tit')\n",
    "        # title = soup.select_one('a.news_tit > div')\n",
    "        # print(title)\n",
    "        for i in atags:\n",
    "            if \"https://n.news.naver.com/\" in i['href'] :\n",
    "                url_list.append(i)   #링크주소\n",
    "                # print(i)\n",
    "        if len(atags) < 15 : #한페이지에 15개나오는데, 그보다 작으면 없다고 판단\n",
    "            break\n",
    "        page = page + 15\n",
    "    return url_list\n",
    "    # 위에서 크롤링한 네이버 뉴스 url을 입력합니다.\n",
    "def comment(url_list):\n",
    "    result = pd.DataFrame()\n",
    "    total_comment = [] #모든 댓글을 담는 리스트\n",
    "    for url_ex in url_list:\n",
    "        url = url_ex['href']\n",
    "        title = url_ex.select_one(' div')\n",
    "        title = re.sub('<.+?>', '', str(title), 0, re.I|re.S)\n",
    "        # print(title)\n",
    "        url = url.split('?')[0]\n",
    "        oid_1 = url.split('/')[-1]\n",
    "        oid_2 = url.split('/')[-2]\n",
    "        i = 1\n",
    "        # df = pd.DataFrame(columns=['댓글'])\n",
    "        while True:\n",
    "            params = {\n",
    "                'ticket': 'news',\n",
    "                'templateId': 'default_society',\n",
    "                'pool': 'cbox5',\n",
    "                'lang': 'ko',\n",
    "                'country': 'KR',\n",
    "                'objectId': f'news{oid_2},{oid_1}',\n",
    "                'pageSize': '100',\n",
    "                'indexSize': '10',\n",
    "                'page': str(i),\n",
    "                'currentPage': '0',\n",
    "                'moreParam.direction': 'next',\n",
    "                'moreParam.prev': '10000o90000op06guicil48ars',\n",
    "                'moreParam.next': '1000050000305guog893h1re',\n",
    "                'followSize': '100',\n",
    "                'includeAllStatus': 'true',\n",
    "            }\n",
    "\n",
    "            response = requests.get('https://apis.naver.com/commentBox/cbox/web_naver_list_jsonp.json', params=params, headers=headers)\n",
    "            response.encoding = \"UTF-8-sig\"\n",
    "            res = response.text.replace(\"_callback(\",\"\")[:-2]\n",
    "            temp=json.loads(res) \n",
    "            # print(temp)\n",
    "            date = temp['date']\n",
    "            # print(date)\n",
    "            try : \n",
    "                comment = list(pd.DataFrame(temp['result']['commentList'])['contents'])\n",
    "                # print(comment)\n",
    "                for j in range(len(comment)):\n",
    "                    values = pd.DataFrame.from_dict({\"title\":title,\"comment\":comment[j],\"date\":date},orient='index')\n",
    "                    result =  pd.concat([result,values]) \n",
    "                if len(comment)<97: \n",
    "                    break \n",
    "                else: \n",
    "                    i+=1\n",
    "            except :\n",
    "                break    \n",
    "\n",
    "               \n",
    "\n",
    "    # print(total_comment)\n",
    "    return result"
   ]
  },
  {
   "cell_type": "code",
   "execution_count": 15,
   "metadata": {
    "colab": {
     "base_uri": "https://localhost:8080/"
    },
    "id": "wZWV5wyTIWpm",
    "outputId": "b55e8554-b9d1-432f-d120-13dbd8acb0f8"
   },
   "outputs": [],
   "source": [
    "# # 실행함수\n",
    "def main():\n",
    "    query = input(\"검색어 입력 : \")  \n",
    "    # query='미국'\n",
    "    url_list = news_url(query)  \n",
    "    allCommetns = comment(url_list)\n",
    "\n",
    "# query='미국'\n",
    "query = input(\"검색어 입력 : \")  \n",
    "url_list = news_url(query)"
   ]
  },
  {
   "cell_type": "code",
   "execution_count": 17,
   "metadata": {},
   "outputs": [],
   "source": [
    "allCommetns = comment(url_list)"
   ]
  },
  {
   "cell_type": "code",
   "execution_count": 18,
   "metadata": {
    "colab": {
     "base_uri": "https://localhost:8080/"
    },
    "id": "sbUPki48FYpB",
    "outputId": "d73e197b-33a1-4ec7-c6ec-ab725513ee8d"
   },
   "outputs": [
    {
     "data": {
      "text/plain": [
       "57423"
      ]
     },
     "execution_count": 18,
     "metadata": {},
     "output_type": "execute_result"
    }
   ],
   "source": [
    "len(allCommetns)"
   ]
  },
  {
   "cell_type": "code",
   "execution_count": 20,
   "metadata": {
    "colab": {
     "base_uri": "https://localhost:8080/",
     "height": 224
    },
    "id": "skcg4asIV1UO",
    "outputId": "14425cbb-ccf4-4101-e4f8-08db73bba520"
   },
   "outputs": [
    {
     "data": {
      "text/plain": [
       "19141"
      ]
     },
     "execution_count": 20,
     "metadata": {},
     "output_type": "execute_result"
    }
   ],
   "source": [
    "df = allCommetns.reset_index()\n",
    "title = df[df['index'] == 'title'].reset_index().drop(['index','level_0'],axis=1).rename(columns={0:'title'})\n",
    "comment = df[df['index'] == 'comment'].reset_index().drop(['index','level_0'],axis=1).rename(columns={0:'comment'})\n",
    "date = df[df['index'] == 'date'].reset_index().drop(['index','level_0'],axis=1).rename(columns={0:'date'})\n",
    "allCommetns = pd.concat([title,comment,date],axis=1)\n",
    "len(allCommetns)"
   ]
  },
  {
   "cell_type": "code",
   "execution_count": 28,
   "metadata": {},
   "outputs": [
    {
     "data": {
      "text/html": [
       "<div>\n",
       "<style scoped>\n",
       "    .dataframe tbody tr th:only-of-type {\n",
       "        vertical-align: middle;\n",
       "    }\n",
       "\n",
       "    .dataframe tbody tr th {\n",
       "        vertical-align: top;\n",
       "    }\n",
       "\n",
       "    .dataframe thead th {\n",
       "        text-align: right;\n",
       "    }\n",
       "</style>\n",
       "<table border=\"1\" class=\"dataframe\">\n",
       "  <thead>\n",
       "    <tr style=\"text-align: right;\">\n",
       "      <th></th>\n",
       "      <th>title</th>\n",
       "      <th>comment</th>\n",
       "      <th>date</th>\n",
       "    </tr>\n",
       "  </thead>\n",
       "  <tbody>\n",
       "    <tr>\n",
       "      <th>0</th>\n",
       "      <td>제2경인고속도로 방음터널 화재 완진…\"5명 사망\"</td>\n",
       "      <td>고인의 명복을 빕니다... 소방대원분들 수고많으십니다</td>\n",
       "      <td>2023-01-11T00:20:05+0000</td>\n",
       "    </tr>\n",
       "    <tr>\n",
       "      <th>1</th>\n",
       "      <td>제2경인고속도로 방음터널 화재 완진…\"5명 사망\"</td>\n",
       "      <td></td>\n",
       "      <td>2023-01-11T00:20:05+0000</td>\n",
       "    </tr>\n",
       "    <tr>\n",
       "      <th>2</th>\n",
       "      <td>제2경인고속도로 방음터널 화재 완진…\"5명 사망\"</td>\n",
       "      <td>민주당아! 국정조사 준비해야지\\n유가족 선동해서 또 정권탈취 시도해야지</td>\n",
       "      <td>2023-01-11T00:20:05+0000</td>\n",
       "    </tr>\n",
       "    <tr>\n",
       "      <th>3</th>\n",
       "      <td>제2경인고속도로 방음터널 화재 완진…\"5명 사망\"</td>\n",
       "      <td>하필 터널에서 사고가 나서 피해가 크군요. 고인의 명복을 빕니다.\\n어떻해ㅜㅜ</td>\n",
       "      <td>2023-01-11T00:20:05+0000</td>\n",
       "    </tr>\n",
       "    <tr>\n",
       "      <th>4</th>\n",
       "      <td>제2경인고속도로 방음터널 화재 완진…\"5명 사망\"</td>\n",
       "      <td>매번 현장탓 하니 누가 현장에  뛰어들려고 할까?... 각자도생!!</td>\n",
       "      <td>2023-01-11T00:20:05+0000</td>\n",
       "    </tr>\n",
       "    <tr>\n",
       "      <th>...</th>\n",
       "      <td>...</td>\n",
       "      <td>...</td>\n",
       "      <td>...</td>\n",
       "    </tr>\n",
       "    <tr>\n",
       "      <th>19136</th>\n",
       "      <td>[7NEWS] 中 비밀경찰서로 지목된 식당, “정상 영업장” 해명</td>\n",
       "      <td>꺼져라</td>\n",
       "      <td>2023-01-11T00:21:43+0000</td>\n",
       "    </tr>\n",
       "    <tr>\n",
       "      <th>19137</th>\n",
       "      <td>[7NEWS] 中 비밀경찰서로 지목된 식당, “정상 영업장” 해명</td>\n",
       "      <td>중긕 공산당원    시진핑 식당   다들켰다  귀신의  집   무사 느가가냐  짜장...</td>\n",
       "      <td>2023-01-11T00:21:43+0000</td>\n",
       "    </tr>\n",
       "    <tr>\n",
       "      <th>19138</th>\n",
       "      <td>[7NEWS] 中 비밀경찰서로 지목된 식당, “정상 영업장” 해명</td>\n",
       "      <td>진실이 밝혀진다?  이재명이 하는 소리가 뉘앙스가 똑 같구나.</td>\n",
       "      <td>2023-01-11T00:21:43+0000</td>\n",
       "    </tr>\n",
       "    <tr>\n",
       "      <th>19139</th>\n",
       "      <td>[7NEWS] 中 비밀경찰서로 지목된 식당, “정상 영업장” 해명</td>\n",
       "      <td></td>\n",
       "      <td>2023-01-11T00:21:43+0000</td>\n",
       "    </tr>\n",
       "    <tr>\n",
       "      <th>19140</th>\n",
       "      <td>[7NEWS] 中 비밀경찰서로 지목된 식당, “정상 영업장” 해명</td>\n",
       "      <td></td>\n",
       "      <td>2023-01-11T00:21:43+0000</td>\n",
       "    </tr>\n",
       "  </tbody>\n",
       "</table>\n",
       "<p>19141 rows × 3 columns</p>\n",
       "</div>"
      ],
      "text/plain": [
       "                                      title  \\\n",
       "0               제2경인고속도로 방음터널 화재 완진…\"5명 사망\"   \n",
       "1               제2경인고속도로 방음터널 화재 완진…\"5명 사망\"   \n",
       "2               제2경인고속도로 방음터널 화재 완진…\"5명 사망\"   \n",
       "3               제2경인고속도로 방음터널 화재 완진…\"5명 사망\"   \n",
       "4               제2경인고속도로 방음터널 화재 완진…\"5명 사망\"   \n",
       "...                                     ...   \n",
       "19136  [7NEWS] 中 비밀경찰서로 지목된 식당, “정상 영업장” 해명   \n",
       "19137  [7NEWS] 中 비밀경찰서로 지목된 식당, “정상 영업장” 해명   \n",
       "19138  [7NEWS] 中 비밀경찰서로 지목된 식당, “정상 영업장” 해명   \n",
       "19139  [7NEWS] 中 비밀경찰서로 지목된 식당, “정상 영업장” 해명   \n",
       "19140  [7NEWS] 中 비밀경찰서로 지목된 식당, “정상 영업장” 해명   \n",
       "\n",
       "                                                 comment  \\\n",
       "0                          고인의 명복을 빕니다... 소방대원분들 수고많으십니다   \n",
       "1                                                          \n",
       "2                민주당아! 국정조사 준비해야지\\n유가족 선동해서 또 정권탈취 시도해야지   \n",
       "3            하필 터널에서 사고가 나서 피해가 크군요. 고인의 명복을 빕니다.\\n어떻해ㅜㅜ   \n",
       "4                  매번 현장탓 하니 누가 현장에  뛰어들려고 할까?... 각자도생!!   \n",
       "...                                                  ...   \n",
       "19136                                                꺼져라   \n",
       "19137  중긕 공산당원    시진핑 식당   다들켰다  귀신의  집   무사 느가가냐  짜장...   \n",
       "19138                 진실이 밝혀진다?  이재명이 하는 소리가 뉘앙스가 똑 같구나.   \n",
       "19139                                                      \n",
       "19140                                                      \n",
       "\n",
       "                           date  \n",
       "0      2023-01-11T00:20:05+0000  \n",
       "1      2023-01-11T00:20:05+0000  \n",
       "2      2023-01-11T00:20:05+0000  \n",
       "3      2023-01-11T00:20:05+0000  \n",
       "4      2023-01-11T00:20:05+0000  \n",
       "...                         ...  \n",
       "19136  2023-01-11T00:21:43+0000  \n",
       "19137  2023-01-11T00:21:43+0000  \n",
       "19138  2023-01-11T00:21:43+0000  \n",
       "19139  2023-01-11T00:21:43+0000  \n",
       "19140  2023-01-11T00:21:43+0000  \n",
       "\n",
       "[19141 rows x 3 columns]"
      ]
     },
     "execution_count": 28,
     "metadata": {},
     "output_type": "execute_result"
    }
   ],
   "source": [
    "allCommetns"
   ]
  },
  {
   "cell_type": "code",
   "execution_count": 29,
   "metadata": {
    "id": "WESgi_bXaT20"
   },
   "outputs": [],
   "source": [
    "df_all = pd.DataFrame()"
   ]
  },
  {
   "cell_type": "code",
   "execution_count": 30,
   "metadata": {
    "id": "qjZw7jImXkr-"
   },
   "outputs": [],
   "source": [
    "df_all = pd.concat([df_all,allCommetns])"
   ]
  },
  {
   "cell_type": "code",
   "execution_count": 31,
   "metadata": {
    "id": "VyER_gTOSOC7"
   },
   "outputs": [],
   "source": [
    "df_all = df_all.drop_duplicates()"
   ]
  },
  {
   "cell_type": "code",
   "execution_count": 32,
   "metadata": {
    "colab": {
     "base_uri": "https://localhost:8080/"
    },
    "id": "QrCRn4szZtWS",
    "outputId": "0f4ffc2a-8901-46a9-981f-fe6f9a2ce760"
   },
   "outputs": [
    {
     "data": {
      "text/plain": [
       "14928"
      ]
     },
     "execution_count": 32,
     "metadata": {},
     "output_type": "execute_result"
    }
   ],
   "source": [
    "len(df_all)"
   ]
  },
  {
   "cell_type": "code",
   "execution_count": 34,
   "metadata": {
    "id": "0yAi3CqTW9jX"
   },
   "outputs": [],
   "source": [
    "df_all.to_csv('comment_all_K.csv',encoding='utf-8-sig',index=False)"
   ]
  },
  {
   "cell_type": "code",
   "execution_count": null,
   "metadata": {
    "id": "8uUdg3MPZr3z"
   },
   "outputs": [],
   "source": []
  }
 ],
 "metadata": {
  "colab": {
   "provenance": [],
   "toc_visible": true
  },
  "kernelspec": {
   "display_name": "Python 3",
   "language": "python",
   "name": "python3"
  },
  "language_info": {
   "codemirror_mode": {
    "name": "ipython",
    "version": 3
   },
   "file_extension": ".py",
   "mimetype": "text/x-python",
   "name": "python",
   "nbconvert_exporter": "python",
   "pygments_lexer": "ipython3",
   "version": "3.9.0"
  },
  "vscode": {
   "interpreter": {
    "hash": "1c8940dca79bc3c13ec6d26587f8e6028be92103652eba1a84294a4bc61f6292"
   }
  }
 },
 "nbformat": 4,
 "nbformat_minor": 1
}
