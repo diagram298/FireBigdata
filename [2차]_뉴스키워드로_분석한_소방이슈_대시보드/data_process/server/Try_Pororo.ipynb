{
 "cells": [
  {
   "cell_type": "code",
   "execution_count": 1,
   "id": "9f429523",
   "metadata": {},
   "outputs": [],
   "source": [
    "# conda activate Pororo"
   ]
  },
  {
   "cell_type": "code",
   "execution_count": 21,
   "id": "31ea9c69",
   "metadata": {
    "ExecuteTime": {
     "end_time": "2023-02-22T06:15:39.976766Z",
     "start_time": "2023-02-22T06:15:38.860578Z"
    }
   },
   "outputs": [],
   "source": [
    "from pororo import Pororo"
   ]
  },
  {
   "cell_type": "code",
   "execution_count": 2,
   "id": "c9a09fe0",
   "metadata": {
    "ExecuteTime": {
     "end_time": "2023-02-22T00:29:14.747270Z",
     "start_time": "2023-02-22T00:29:08.459119Z"
    }
   },
   "outputs": [],
   "source": [
    "mrc = Pororo(task=\"mrc\", lang=\"ko\")"
   ]
  },
  {
   "cell_type": "code",
   "execution_count": 22,
   "id": "22826254",
   "metadata": {
    "ExecuteTime": {
     "end_time": "2023-02-22T06:15:43.400990Z",
     "start_time": "2023-02-22T06:15:43.399108Z"
    }
   },
   "outputs": [],
   "source": [
    "import pandas as pd"
   ]
  },
  {
   "cell_type": "code",
   "execution_count": 194,
   "id": "f14c530d",
   "metadata": {
    "ExecuteTime": {
     "end_time": "2023-02-22T04:17:12.316602Z",
     "start_time": "2023-02-22T04:17:12.036351Z"
    }
   },
   "outputs": [],
   "source": [
    "df = pd.read_csv('Keword_cluster.csv',encoding='utf-8-sig',low_memory=False)"
   ]
  },
  {
   "cell_type": "code",
   "execution_count": 195,
   "id": "9442ced1",
   "metadata": {
    "ExecuteTime": {
     "end_time": "2023-02-22T04:17:12.320461Z",
     "start_time": "2023-02-22T04:17:12.317850Z"
    }
   },
   "outputs": [
    {
     "data": {
      "text/plain": [
       "Index(['_id', 'YNewsML.NewsContent.Title', 'YNewsML.NewsContent.Body',\n",
       "       'NamedEntity', 'Keyword', 'send_timestamp', 'Summarization',\n",
       "       'YNewsML.Metadata.Class.ClassCode', 'key+jaccard'],\n",
       "      dtype='object')"
      ]
     },
     "execution_count": 195,
     "metadata": {},
     "output_type": "execute_result"
    }
   ],
   "source": [
    "df.columns"
   ]
  },
  {
   "cell_type": "code",
   "execution_count": 196,
   "id": "0c680cca",
   "metadata": {
    "ExecuteTime": {
     "end_time": "2023-02-22T04:17:12.583186Z",
     "start_time": "2023-02-22T04:17:12.561515Z"
    }
   },
   "outputs": [],
   "source": [
    "df1 = df[['_id', 'YNewsML.NewsContent.Title', 'YNewsML.NewsContent.Body',\n",
    "       'NamedEntity', 'Keyword', 'send_timestamp', 'Summarization',\n",
    "       'YNewsML.Metadata.Class.ClassCode', 'key+jaccard']].dropna().rename(columns={'YNewsML.NewsContent.Body':'clean'})"
   ]
  },
  {
   "cell_type": "code",
   "execution_count": 197,
   "id": "b5a0c604",
   "metadata": {
    "ExecuteTime": {
     "end_time": "2023-02-22T04:17:12.857575Z",
     "start_time": "2023-02-22T04:17:12.854791Z"
    }
   },
   "outputs": [
    {
     "data": {
      "text/plain": [
       "10594"
      ]
     },
     "execution_count": 197,
     "metadata": {},
     "output_type": "execute_result"
    }
   ],
   "source": [
    "len(df1)"
   ]
  },
  {
   "cell_type": "code",
   "execution_count": 321,
   "id": "7eebb8ae",
   "metadata": {
    "ExecuteTime": {
     "end_time": "2023-02-22T05:49:12.810680Z",
     "start_time": "2023-02-22T05:49:12.806959Z"
    }
   },
   "outputs": [],
   "source": [
    "code = []\n",
    "for i in df1['YNewsML.Metadata.Class.ClassCode']:\n",
    "    if '0606005' in i:\n",
    "        code.append(i)"
   ]
  },
  {
   "cell_type": "code",
   "execution_count": 323,
   "id": "bd47eacc",
   "metadata": {
    "ExecuteTime": {
     "end_time": "2023-02-22T05:49:39.944678Z",
     "start_time": "2023-02-22T05:49:39.940098Z"
    }
   },
   "outputs": [],
   "source": [
    "cond2 = df1['YNewsML.Metadata.Class.ClassCode'].isin(code)\n",
    "\n",
    "b = df1.loc[cond2].reset_index().drop('index',axis=1)"
   ]
  },
  {
   "cell_type": "code",
   "execution_count": 324,
   "id": "6ef5f62b",
   "metadata": {
    "ExecuteTime": {
     "end_time": "2023-02-22T05:49:41.001107Z",
     "start_time": "2023-02-22T05:49:40.998413Z"
    }
   },
   "outputs": [
    {
     "data": {
      "text/plain": [
       "890"
      ]
     },
     "execution_count": 324,
     "metadata": {},
     "output_type": "execute_result"
    }
   ],
   "source": [
    "len(b)"
   ]
  },
  {
   "cell_type": "code",
   "execution_count": 286,
   "id": "8d4030b0",
   "metadata": {
    "ExecuteTime": {
     "end_time": "2023-02-22T05:34:57.402078Z",
     "start_time": "2023-02-22T05:34:57.398247Z"
    }
   },
   "outputs": [],
   "source": [
    "cond1 = df1['key+jaccard'] == '화재'\n",
    "\n",
    "a = df1.loc[cond1].reset_index().drop('index',axis=1)"
   ]
  },
  {
   "cell_type": "code",
   "execution_count": 287,
   "id": "51f73152",
   "metadata": {
    "ExecuteTime": {
     "end_time": "2023-02-22T05:34:58.392992Z",
     "start_time": "2023-02-22T05:34:58.390524Z"
    }
   },
   "outputs": [
    {
     "data": {
      "text/plain": [
       "352"
      ]
     },
     "execution_count": 287,
     "metadata": {},
     "output_type": "execute_result"
    }
   ],
   "source": [
    "len(a)"
   ]
  },
  {
   "cell_type": "markdown",
   "id": "fa91efa9",
   "metadata": {},
   "source": [
    "## B1"
   ]
  },
  {
   "cell_type": "code",
   "execution_count": 325,
   "id": "6a546a38",
   "metadata": {
    "ExecuteTime": {
     "end_time": "2023-02-22T05:50:05.094658Z",
     "start_time": "2023-02-22T05:49:56.766195Z"
    },
    "scrolled": true
   },
   "outputs": [
    {
     "data": {
      "text/html": [
       "<div>\n",
       "<style scoped>\n",
       "    .dataframe tbody tr th:only-of-type {\n",
       "        vertical-align: middle;\n",
       "    }\n",
       "\n",
       "    .dataframe tbody tr th {\n",
       "        vertical-align: top;\n",
       "    }\n",
       "\n",
       "    .dataframe thead th {\n",
       "        text-align: right;\n",
       "    }\n",
       "</style>\n",
       "<table border=\"1\" class=\"dataframe\">\n",
       "  <thead>\n",
       "    <tr style=\"text-align: right;\">\n",
       "      <th></th>\n",
       "      <th>clean</th>\n",
       "      <th>reason</th>\n",
       "      <th>tagger</th>\n",
       "    </tr>\n",
       "  </thead>\n",
       "  <tbody>\n",
       "    <tr>\n",
       "      <th>0</th>\n",
       "      <td>캄보디아 카지노 호텔 화재 사망자 최소 27명으로수색 종료 강종훈 특파원 = 지난 ...</td>\n",
       "      <td>대형 화재</td>\n",
       "      <td>(37, 39)</td>\n",
       "    </tr>\n",
       "    <tr>\n",
       "      <th>1</th>\n",
       "      <td>과천 방음터널 화재 사망자 5명 신원 확인모녀도 참변 DNA 감정 결과 여성 3명 ...</td>\n",
       "      <td>펑' 하는 소리</td>\n",
       "      <td>(348, 352)</td>\n",
       "    </tr>\n",
       "    <tr>\n",
       "      <th>2</th>\n",
       "      <td>금요일 오후 수도권 강원 영서에 비나 눈 계승현 기자 = 다음 주 금요일 오후에는 ...</td>\n",
       "      <td>산불</td>\n",
       "      <td>(112, 113)</td>\n",
       "    </tr>\n",
       "    <tr>\n",
       "      <th>3</th>\n",
       "      <td>불탄 광교 방음터널 2년여 만에 재설치불연성 '강화유리'로 수원시 내년 1월 착공해...</td>\n",
       "      <td>a</td>\n",
       "      <td>(511, 512)</td>\n",
       "    </tr>\n",
       "    <tr>\n",
       "      <th>4</th>\n",
       "      <td>대전 세종 충남 국도 내 방음터널 8곳세종시 긴급 안전 점검 이주형 강수환 기자 =...</td>\n",
       "      <td>소음</td>\n",
       "      <td>(278, 279)</td>\n",
       "    </tr>\n",
       "    <tr>\n",
       "      <th>...</th>\n",
       "      <td>...</td>\n",
       "      <td>...</td>\n",
       "      <td>...</td>\n",
       "    </tr>\n",
       "    <tr>\n",
       "      <th>646</th>\n",
       "      <td>대구 변호사 사무실 밀집 빌딩 화재7명 사망 46명 부상 수십명 긴급 대피폭발음 신...</td>\n",
       "      <td>방화</td>\n",
       "      <td>(193, 194)</td>\n",
       "    </tr>\n",
       "    <tr>\n",
       "      <th>647</th>\n",
       "      <td>에어컨 등 냉방기 화재로 5년간 12명 사망단독 콘센트 사용 선풍기는 시간설정으로 ...</td>\n",
       "      <td>전기적 요인</td>\n",
       "      <td>(179, 182)</td>\n",
       "    </tr>\n",
       "    <tr>\n",
       "      <th>648</th>\n",
       "      <td>전동 스쿠터 충전 중 화재배터리 폭발 추정 박성제 기자 = 8일 오후 10시 54분...</td>\n",
       "      <td>과충전</td>\n",
       "      <td>(66, 69)</td>\n",
       "    </tr>\n",
       "    <tr>\n",
       "      <th>649</th>\n",
       "      <td>포항공대 생명과학관 불 대응 1단계 발령2명 연기 흡입 손대성 기자 = 8일 낮 1...</td>\n",
       "      <td>화재원인</td>\n",
       "      <td>(155, 157)</td>\n",
       "    </tr>\n",
       "    <tr>\n",
       "      <th>650</th>\n",
       "      <td>울진 삼척 등 산불 재난지역 송이 피해 임가에 2천만원씩 지원 경북 강원지역 700...</td>\n",
       "      <td>산불</td>\n",
       "      <td>(58, 59)</td>\n",
       "    </tr>\n",
       "  </tbody>\n",
       "</table>\n",
       "<p>651 rows × 3 columns</p>\n",
       "</div>"
      ],
      "text/plain": [
       "                                                 clean    reason      tagger\n",
       "0    캄보디아 카지노 호텔 화재 사망자 최소 27명으로수색 종료 강종훈 특파원 = 지난 ...     대형 화재    (37, 39)\n",
       "1    과천 방음터널 화재 사망자 5명 신원 확인모녀도 참변 DNA 감정 결과 여성 3명 ...  펑' 하는 소리  (348, 352)\n",
       "2    금요일 오후 수도권 강원 영서에 비나 눈 계승현 기자 = 다음 주 금요일 오후에는 ...        산불  (112, 113)\n",
       "3    불탄 광교 방음터널 2년여 만에 재설치불연성 '강화유리'로 수원시 내년 1월 착공해...         a  (511, 512)\n",
       "4    대전 세종 충남 국도 내 방음터널 8곳세종시 긴급 안전 점검 이주형 강수환 기자 =...        소음  (278, 279)\n",
       "..                                                 ...       ...         ...\n",
       "646  대구 변호사 사무실 밀집 빌딩 화재7명 사망 46명 부상 수십명 긴급 대피폭발음 신...        방화  (193, 194)\n",
       "647  에어컨 등 냉방기 화재로 5년간 12명 사망단독 콘센트 사용 선풍기는 시간설정으로 ...    전기적 요인  (179, 182)\n",
       "648  전동 스쿠터 충전 중 화재배터리 폭발 추정 박성제 기자 = 8일 오후 10시 54분...       과충전    (66, 69)\n",
       "649  포항공대 생명과학관 불 대응 1단계 발령2명 연기 흡입 손대성 기자 = 8일 낮 1...      화재원인  (155, 157)\n",
       "650  울진 삼척 등 산불 재난지역 송이 피해 임가에 2천만원씩 지원 경북 강원지역 700...        산불    (58, 59)\n",
       "\n",
       "[651 rows x 3 columns]"
      ]
     },
     "execution_count": 325,
     "metadata": {},
     "output_type": "execute_result"
    }
   ],
   "source": [
    "answer = []\n",
    "for i in b.clean:\n",
    "    c = mrc(\"경찰과 소방당국이 파악한 화재의 원인은?\",str(i))\n",
    "    \n",
    "    answer.append(c)\n",
    "\n",
    "result11 = pd.concat([pd.DataFrame(b.clean).rename(columns = {0:'body'}),pd.DataFrame(answer).rename(columns={0:'reason',1:'tagger'})], axis=1)\n",
    "\n",
    "result11 = result11[result11['reason'] !=''].reset_index().drop('index',axis=1)\n",
    "\n",
    "result11"
   ]
  },
  {
   "cell_type": "code",
   "execution_count": 193,
   "id": "32c6428f",
   "metadata": {
    "ExecuteTime": {
     "end_time": "2023-02-22T04:01:17.183665Z",
     "start_time": "2023-02-22T04:01:17.176959Z"
    }
   },
   "outputs": [],
   "source": [
    "result11.to_csv(\"best1_j.csv\",encoding='utf-8-sig',index=False)"
   ]
  },
  {
   "cell_type": "markdown",
   "id": "86bd5e2b",
   "metadata": {},
   "source": [
    "## B2"
   ]
  },
  {
   "cell_type": "code",
   "execution_count": 206,
   "id": "218f4f7a",
   "metadata": {
    "ExecuteTime": {
     "end_time": "2023-02-22T04:38:42.165960Z",
     "start_time": "2023-02-22T04:38:33.683201Z"
    },
    "collapsed": true
   },
   "outputs": [
    {
     "data": {
      "text/html": [
       "<div>\n",
       "<style scoped>\n",
       "    .dataframe tbody tr th:only-of-type {\n",
       "        vertical-align: middle;\n",
       "    }\n",
       "\n",
       "    .dataframe tbody tr th {\n",
       "        vertical-align: top;\n",
       "    }\n",
       "\n",
       "    .dataframe thead th {\n",
       "        text-align: right;\n",
       "    }\n",
       "</style>\n",
       "<table border=\"1\" class=\"dataframe\">\n",
       "  <thead>\n",
       "    <tr style=\"text-align: right;\">\n",
       "      <th></th>\n",
       "      <th>clean</th>\n",
       "      <th>reason</th>\n",
       "      <th>tagger</th>\n",
       "    </tr>\n",
       "  </thead>\n",
       "  <tbody>\n",
       "    <tr>\n",
       "      <th>0</th>\n",
       "      <td>캄보디아 카지노 호텔 화재 사망자 최소 27명으로수색 종료 강종훈 특파원 = 지난 ...</td>\n",
       "      <td>태국인</td>\n",
       "      <td>(116, 118)</td>\n",
       "    </tr>\n",
       "    <tr>\n",
       "      <th>1</th>\n",
       "      <td>과천 방음터널 화재 사망자 5명 신원 확인모녀도 참변 DNA 감정 결과 여성 3명 ...</td>\n",
       "      <td>펑' 하는 소리</td>\n",
       "      <td>(350, 354)</td>\n",
       "    </tr>\n",
       "    <tr>\n",
       "      <th>2</th>\n",
       "      <td>불탄 광교 방음터널 2년여 만에 재설치불연성 '강화유리'로 수원시 내년 1월 착공해...</td>\n",
       "      <td>or</td>\n",
       "      <td>(511, 512)</td>\n",
       "    </tr>\n",
       "    <tr>\n",
       "      <th>3</th>\n",
       "      <td>논현동 빌라 지하서 불6명 부상 김윤철 기자 = 31일 오전 6시18분께 서울 강남...</td>\n",
       "      <td>화재 원인</td>\n",
       "      <td>(101, 104)</td>\n",
       "    </tr>\n",
       "    <tr>\n",
       "      <th>4</th>\n",
       "      <td>대전 세종 충남 국도 내 방음터널 8곳세종시 긴급 안전 점검 이주형 강수환 기자 =...</td>\n",
       "      <td>제2경인고속도로</td>\n",
       "      <td>(43, 48)</td>\n",
       "    </tr>\n",
       "    <tr>\n",
       "      <th>...</th>\n",
       "      <td>...</td>\n",
       "      <td>...</td>\n",
       "      <td>...</td>\n",
       "    </tr>\n",
       "    <tr>\n",
       "      <th>703</th>\n",
       "      <td>대구 변호사 사무실 밀집 빌딩 화재7명 사망 46명 부상 수십명 긴급 대피폭발음 신...</td>\n",
       "      <td>의뢰인이 불만을 제기한 정황이 있었다는 점 등으로 미뤄 방화</td>\n",
       "      <td>(186, 196)</td>\n",
       "    </tr>\n",
       "    <tr>\n",
       "      <th>704</th>\n",
       "      <td>에어컨 등 냉방기 화재로 5년간 12명 사망단독 콘센트 사용 선풍기는 시간설정으로 ...</td>\n",
       "      <td>전기적 요인</td>\n",
       "      <td>(181, 184)</td>\n",
       "    </tr>\n",
       "    <tr>\n",
       "      <th>705</th>\n",
       "      <td>전동 스쿠터 충전 중 화재배터리 폭발 추정 박성제 기자 = 8일 오후 10시 54분...</td>\n",
       "      <td>과충전</td>\n",
       "      <td>(68, 71)</td>\n",
       "    </tr>\n",
       "    <tr>\n",
       "      <th>706</th>\n",
       "      <td>포항공대 생명과학관 불 대응 1단계 발령2명 연기 흡입 손대성 기자 = 8일 낮 1...</td>\n",
       "      <td>화재원인</td>\n",
       "      <td>(157, 159)</td>\n",
       "    </tr>\n",
       "    <tr>\n",
       "      <th>707</th>\n",
       "      <td>울진 삼척 등 산불 재난지역 송이 피해 임가에 2천만원씩 지원 경북 강원지역 700...</td>\n",
       "      <td>산불</td>\n",
       "      <td>(60, 61)</td>\n",
       "    </tr>\n",
       "  </tbody>\n",
       "</table>\n",
       "<p>708 rows × 3 columns</p>\n",
       "</div>"
      ],
      "text/plain": [
       "                                                 clean  \\\n",
       "0    캄보디아 카지노 호텔 화재 사망자 최소 27명으로수색 종료 강종훈 특파원 = 지난 ...   \n",
       "1    과천 방음터널 화재 사망자 5명 신원 확인모녀도 참변 DNA 감정 결과 여성 3명 ...   \n",
       "2    불탄 광교 방음터널 2년여 만에 재설치불연성 '강화유리'로 수원시 내년 1월 착공해...   \n",
       "3    논현동 빌라 지하서 불6명 부상 김윤철 기자 = 31일 오전 6시18분께 서울 강남...   \n",
       "4    대전 세종 충남 국도 내 방음터널 8곳세종시 긴급 안전 점검 이주형 강수환 기자 =...   \n",
       "..                                                 ...   \n",
       "703  대구 변호사 사무실 밀집 빌딩 화재7명 사망 46명 부상 수십명 긴급 대피폭발음 신...   \n",
       "704  에어컨 등 냉방기 화재로 5년간 12명 사망단독 콘센트 사용 선풍기는 시간설정으로 ...   \n",
       "705  전동 스쿠터 충전 중 화재배터리 폭발 추정 박성제 기자 = 8일 오후 10시 54분...   \n",
       "706  포항공대 생명과학관 불 대응 1단계 발령2명 연기 흡입 손대성 기자 = 8일 낮 1...   \n",
       "707  울진 삼척 등 산불 재난지역 송이 피해 임가에 2천만원씩 지원 경북 강원지역 700...   \n",
       "\n",
       "                                reason      tagger  \n",
       "0                                  태국인  (116, 118)  \n",
       "1                             펑' 하는 소리  (350, 354)  \n",
       "2                                   or  (511, 512)  \n",
       "3                                화재 원인  (101, 104)  \n",
       "4                             제2경인고속도로    (43, 48)  \n",
       "..                                 ...         ...  \n",
       "703  의뢰인이 불만을 제기한 정황이 있었다는 점 등으로 미뤄 방화  (186, 196)  \n",
       "704                             전기적 요인  (181, 184)  \n",
       "705                                과충전    (68, 71)  \n",
       "706                               화재원인  (157, 159)  \n",
       "707                                 산불    (60, 61)  \n",
       "\n",
       "[708 rows x 3 columns]"
      ]
     },
     "execution_count": 206,
     "metadata": {},
     "output_type": "execute_result"
    }
   ],
   "source": [
    "answer = []\n",
    "for i in a.clean:\n",
    "    c = mrc(\"경찰과 소방당국이 파악한 사고에서 화재가 발생한 이유는?\",str(i))\n",
    "    \n",
    "    answer.append(c)\n",
    "\n",
    "result12 = pd.concat([pd.DataFrame(a.clean).rename(columns = {0:'body'}),pd.DataFrame(answer).rename(columns={0:'reason',1:'tagger'})], axis=1)\n",
    "\n",
    "result12 = result12[result12['reason'] !=''].reset_index().drop('index',axis=1)\n",
    "\n",
    "result12"
   ]
  },
  {
   "cell_type": "code",
   "execution_count": 212,
   "id": "94d04fab",
   "metadata": {
    "ExecuteTime": {
     "end_time": "2023-02-22T04:40:42.757395Z",
     "start_time": "2023-02-22T04:40:34.374428Z"
    },
    "collapsed": true
   },
   "outputs": [
    {
     "data": {
      "text/html": [
       "<div>\n",
       "<style scoped>\n",
       "    .dataframe tbody tr th:only-of-type {\n",
       "        vertical-align: middle;\n",
       "    }\n",
       "\n",
       "    .dataframe tbody tr th {\n",
       "        vertical-align: top;\n",
       "    }\n",
       "\n",
       "    .dataframe thead th {\n",
       "        text-align: right;\n",
       "    }\n",
       "</style>\n",
       "<table border=\"1\" class=\"dataframe\">\n",
       "  <thead>\n",
       "    <tr style=\"text-align: right;\">\n",
       "      <th></th>\n",
       "      <th>clean</th>\n",
       "      <th>reason</th>\n",
       "      <th>tagger</th>\n",
       "    </tr>\n",
       "  </thead>\n",
       "  <tbody>\n",
       "    <tr>\n",
       "      <th>0</th>\n",
       "      <td>불탄 광교 방음터널 2년여 만에 재설치불연성 '강화유리'로 수원시 내년 1월 착공해...</td>\n",
       "      <td>b</td>\n",
       "      <td>(511, 512)</td>\n",
       "    </tr>\n",
       "    <tr>\n",
       "      <th>1</th>\n",
       "      <td>경찰 과천 제2경인고속도 방음터널 화재 사고 본격 수사 '최초 발화' 트럭 기사 우...</td>\n",
       "      <td>시신</td>\n",
       "      <td>(511, 512)</td>\n",
       "    </tr>\n",
       "    <tr>\n",
       "      <th>2</th>\n",
       "      <td>소방기본법에도 없는 '방음터널' 방재기준안전 사각지대 지적 안전성 낮은 값싼 재료 ...</td>\n",
       "      <td>방</td>\n",
       "      <td>(511, 512)</td>\n",
       "    </tr>\n",
       "    <tr>\n",
       "      <th>3</th>\n",
       "      <td>방음터널 안양방향 진입 차단시설 작동 안했다성남방향만 작동 첫 불난 반대쪽 안양방향...</td>\n",
       "      <td>화재</td>\n",
       "      <td>(511, 512)</td>\n",
       "    </tr>\n",
       "    <tr>\n",
       "      <th>4</th>\n",
       "      <td>화재로 5명 숨진 제2경인고속도로 최근 점검서 '이상 없음' 서울국토관리청 지난 7...</td>\n",
       "      <td>방음터널 화재</td>\n",
       "      <td>(54, 58)</td>\n",
       "    </tr>\n",
       "    <tr>\n",
       "      <th>...</th>\n",
       "      <td>...</td>\n",
       "      <td>...</td>\n",
       "      <td>...</td>\n",
       "    </tr>\n",
       "    <tr>\n",
       "      <th>283</th>\n",
       "      <td>또 터진 법조인 상대 테러결과 마음에 안 들면 일단 불신 재판 결과 사건 처리에 불...</td>\n",
       "      <td>보안</td>\n",
       "      <td>(511, 512)</td>\n",
       "    </tr>\n",
       "    <tr>\n",
       "      <th>284</th>\n",
       "      <td>2022년 6월 9일 목요일 대구 범어동 대구지방법원 인근 지하 2층 지상 5층짜리...</td>\n",
       "      <td>방화</td>\n",
       "      <td>(39, 41)</td>\n",
       "    </tr>\n",
       "    <tr>\n",
       "      <th>285</th>\n",
       "      <td>대형산불 방화범 '징역 12년' 과실범은 '무죄'엇갈린 이유는 올해 3월 '토치 방...</td>\n",
       "      <td>중형</td>\n",
       "      <td>(511, 512)</td>\n",
       "    </tr>\n",
       "    <tr>\n",
       "      <th>286</th>\n",
       "      <td>전동 스쿠터 충전 중 화재배터리 폭발 추정 박성제 기자 = 8일 오후 10시 54분...</td>\n",
       "      <td>과충전</td>\n",
       "      <td>(67, 70)</td>\n",
       "    </tr>\n",
       "    <tr>\n",
       "      <th>287</th>\n",
       "      <td>포항공대 생명과학관 불 대응 1단계 발령2명 연기 흡입 손대성 기자 = 8일 낮 1...</td>\n",
       "      <td>화재원인</td>\n",
       "      <td>(156, 158)</td>\n",
       "    </tr>\n",
       "  </tbody>\n",
       "</table>\n",
       "<p>288 rows × 3 columns</p>\n",
       "</div>"
      ],
      "text/plain": [
       "                                                 clean   reason      tagger\n",
       "0    불탄 광교 방음터널 2년여 만에 재설치불연성 '강화유리'로 수원시 내년 1월 착공해...        b  (511, 512)\n",
       "1    경찰 과천 제2경인고속도 방음터널 화재 사고 본격 수사 '최초 발화' 트럭 기사 우...       시신  (511, 512)\n",
       "2    소방기본법에도 없는 '방음터널' 방재기준안전 사각지대 지적 안전성 낮은 값싼 재료 ...        방  (511, 512)\n",
       "3    방음터널 안양방향 진입 차단시설 작동 안했다성남방향만 작동 첫 불난 반대쪽 안양방향...       화재  (511, 512)\n",
       "4    화재로 5명 숨진 제2경인고속도로 최근 점검서 '이상 없음' 서울국토관리청 지난 7...  방음터널 화재    (54, 58)\n",
       "..                                                 ...      ...         ...\n",
       "283  또 터진 법조인 상대 테러결과 마음에 안 들면 일단 불신 재판 결과 사건 처리에 불...       보안  (511, 512)\n",
       "284  2022년 6월 9일 목요일 대구 범어동 대구지방법원 인근 지하 2층 지상 5층짜리...       방화    (39, 41)\n",
       "285  대형산불 방화범 '징역 12년' 과실범은 '무죄'엇갈린 이유는 올해 3월 '토치 방...       중형  (511, 512)\n",
       "286  전동 스쿠터 충전 중 화재배터리 폭발 추정 박성제 기자 = 8일 오후 10시 54분...      과충전    (67, 70)\n",
       "287  포항공대 생명과학관 불 대응 1단계 발령2명 연기 흡입 손대성 기자 = 8일 낮 1...     화재원인  (156, 158)\n",
       "\n",
       "[288 rows x 3 columns]"
      ]
     },
     "execution_count": 212,
     "metadata": {},
     "output_type": "execute_result"
    }
   ],
   "source": [
    "answer = []\n",
    "for i in a.clean:\n",
    "    c = mrc(\"경찰과 소방당국이 파악한 화재가 시작된 원인을 알려줘\",str(i))\n",
    "    \n",
    "    answer.append(c)\n",
    "\n",
    "result13 = pd.concat([pd.DataFrame(a.clean).rename(columns = {0:'body'}),pd.DataFrame(answer).rename(columns={0:'reason',1:'tagger'})], axis=1)\n",
    "\n",
    "result13 = result13[result13['reason'] !=''].reset_index().drop('index',axis=1)\n",
    "\n",
    "result13"
   ]
  },
  {
   "cell_type": "code",
   "execution_count": 214,
   "id": "3a687a9c",
   "metadata": {
    "ExecuteTime": {
     "end_time": "2023-02-22T04:41:11.003620Z",
     "start_time": "2023-02-22T04:41:02.609992Z"
    },
    "collapsed": true
   },
   "outputs": [
    {
     "data": {
      "text/html": [
       "<div>\n",
       "<style scoped>\n",
       "    .dataframe tbody tr th:only-of-type {\n",
       "        vertical-align: middle;\n",
       "    }\n",
       "\n",
       "    .dataframe tbody tr th {\n",
       "        vertical-align: top;\n",
       "    }\n",
       "\n",
       "    .dataframe thead th {\n",
       "        text-align: right;\n",
       "    }\n",
       "</style>\n",
       "<table border=\"1\" class=\"dataframe\">\n",
       "  <thead>\n",
       "    <tr style=\"text-align: right;\">\n",
       "      <th></th>\n",
       "      <th>clean</th>\n",
       "      <th>reason</th>\n",
       "      <th>tagger</th>\n",
       "    </tr>\n",
       "  </thead>\n",
       "  <tbody>\n",
       "    <tr>\n",
       "      <th>0</th>\n",
       "      <td>불탄 광교 방음터널 2년여 만에 재설치불연성 '강화유리'로 수원시 내년 1월 착공해...</td>\n",
       "      <td>b</td>\n",
       "      <td>(511, 512)</td>\n",
       "    </tr>\n",
       "    <tr>\n",
       "      <th>1</th>\n",
       "      <td>경찰 과천 제2경인고속도 방음터널 화재 사고 본격 수사 '최초 발화' 트럭 기사 우...</td>\n",
       "      <td>시신</td>\n",
       "      <td>(511, 512)</td>\n",
       "    </tr>\n",
       "    <tr>\n",
       "      <th>2</th>\n",
       "      <td>방음터널 안전 점검하는 최민호 세종시장 최민호 세종시장이 30일 한솔동 외곽순환도로...</td>\n",
       "      <td>원인</td>\n",
       "      <td>(8, 9)</td>\n",
       "    </tr>\n",
       "    <tr>\n",
       "      <th>3</th>\n",
       "      <td>소방기본법에도 없는 '방음터널' 방재기준안전 사각지대 지적 안전성 낮은 값싼 재료 ...</td>\n",
       "      <td>방</td>\n",
       "      <td>(511, 512)</td>\n",
       "    </tr>\n",
       "    <tr>\n",
       "      <th>4</th>\n",
       "      <td>방음터널 안양방향 진입 차단시설 작동 안했다성남방향만 작동 첫 불난 반대쪽 안양방향...</td>\n",
       "      <td>화재</td>\n",
       "      <td>(511, 512)</td>\n",
       "    </tr>\n",
       "    <tr>\n",
       "      <th>...</th>\n",
       "      <td>...</td>\n",
       "      <td>...</td>\n",
       "      <td>...</td>\n",
       "    </tr>\n",
       "    <tr>\n",
       "      <th>315</th>\n",
       "      <td>또 터진 법조인 상대 테러결과 마음에 안 들면 일단 불신 재판 결과 사건 처리에 불...</td>\n",
       "      <td>보안</td>\n",
       "      <td>(511, 512)</td>\n",
       "    </tr>\n",
       "    <tr>\n",
       "      <th>316</th>\n",
       "      <td>2022년 6월 9일 목요일 대구 범어동 대구지방법원 인근 지하 2층 지상 5층짜리...</td>\n",
       "      <td>방화</td>\n",
       "      <td>(39, 41)</td>\n",
       "    </tr>\n",
       "    <tr>\n",
       "      <th>317</th>\n",
       "      <td>대형산불 방화범 '징역 12년' 과실범은 '무죄'엇갈린 이유는 올해 3월 '토치 방...</td>\n",
       "      <td>중형</td>\n",
       "      <td>(511, 512)</td>\n",
       "    </tr>\n",
       "    <tr>\n",
       "      <th>318</th>\n",
       "      <td>전동 스쿠터 충전 중 화재배터리 폭발 추정 박성제 기자 = 8일 오후 10시 54분...</td>\n",
       "      <td>과충전</td>\n",
       "      <td>(67, 70)</td>\n",
       "    </tr>\n",
       "    <tr>\n",
       "      <th>319</th>\n",
       "      <td>포항공대 생명과학관 불 대응 1단계 발령2명 연기 흡입 손대성 기자 = 8일 낮 1...</td>\n",
       "      <td>화재원인</td>\n",
       "      <td>(156, 158)</td>\n",
       "    </tr>\n",
       "  </tbody>\n",
       "</table>\n",
       "<p>320 rows × 3 columns</p>\n",
       "</div>"
      ],
      "text/plain": [
       "                                                 clean reason      tagger\n",
       "0    불탄 광교 방음터널 2년여 만에 재설치불연성 '강화유리'로 수원시 내년 1월 착공해...      b  (511, 512)\n",
       "1    경찰 과천 제2경인고속도 방음터널 화재 사고 본격 수사 '최초 발화' 트럭 기사 우...     시신  (511, 512)\n",
       "2    방음터널 안전 점검하는 최민호 세종시장 최민호 세종시장이 30일 한솔동 외곽순환도로...     원인      (8, 9)\n",
       "3    소방기본법에도 없는 '방음터널' 방재기준안전 사각지대 지적 안전성 낮은 값싼 재료 ...      방  (511, 512)\n",
       "4    방음터널 안양방향 진입 차단시설 작동 안했다성남방향만 작동 첫 불난 반대쪽 안양방향...     화재  (511, 512)\n",
       "..                                                 ...    ...         ...\n",
       "315  또 터진 법조인 상대 테러결과 마음에 안 들면 일단 불신 재판 결과 사건 처리에 불...     보안  (511, 512)\n",
       "316  2022년 6월 9일 목요일 대구 범어동 대구지방법원 인근 지하 2층 지상 5층짜리...     방화    (39, 41)\n",
       "317  대형산불 방화범 '징역 12년' 과실범은 '무죄'엇갈린 이유는 올해 3월 '토치 방...     중형  (511, 512)\n",
       "318  전동 스쿠터 충전 중 화재배터리 폭발 추정 박성제 기자 = 8일 오후 10시 54분...    과충전    (67, 70)\n",
       "319  포항공대 생명과학관 불 대응 1단계 발령2명 연기 흡입 손대성 기자 = 8일 낮 1...   화재원인  (156, 158)\n",
       "\n",
       "[320 rows x 3 columns]"
      ]
     },
     "execution_count": 214,
     "metadata": {},
     "output_type": "execute_result"
    }
   ],
   "source": [
    "answer = []\n",
    "for i in a.clean:\n",
    "    c = mrc(\"경찰과 소방당국이 파악한 화재가 발생한 원인을 알려줘\",str(i))\n",
    "    \n",
    "    answer.append(c)\n",
    "\n",
    "result14 = pd.concat([pd.DataFrame(a.clean).rename(columns = {0:'body'}),pd.DataFrame(answer).rename(columns={0:'reason',1:'tagger'})], axis=1)\n",
    "\n",
    "result14 = result14[result14['reason'] !=''].reset_index().drop('index',axis=1)\n",
    "\n",
    "result14"
   ]
  },
  {
   "cell_type": "code",
   "execution_count": 297,
   "id": "78ef0554",
   "metadata": {
    "ExecuteTime": {
     "end_time": "2023-02-22T05:42:26.222784Z",
     "start_time": "2023-02-22T05:42:26.219349Z"
    }
   },
   "outputs": [],
   "source": [
    "reason = pd.read_csv('reason.csv',encoding='utf-8-sig')"
   ]
  },
  {
   "cell_type": "code",
   "execution_count": 298,
   "id": "29e0313e",
   "metadata": {
    "ExecuteTime": {
     "end_time": "2023-02-22T05:42:26.540989Z",
     "start_time": "2023-02-22T05:42:26.535455Z"
    }
   },
   "outputs": [
    {
     "data": {
      "text/html": [
       "<div>\n",
       "<style scoped>\n",
       "    .dataframe tbody tr th:only-of-type {\n",
       "        vertical-align: middle;\n",
       "    }\n",
       "\n",
       "    .dataframe tbody tr th {\n",
       "        vertical-align: top;\n",
       "    }\n",
       "\n",
       "    .dataframe thead th {\n",
       "        text-align: right;\n",
       "    }\n",
       "</style>\n",
       "<table border=\"1\" class=\"dataframe\">\n",
       "  <thead>\n",
       "    <tr style=\"text-align: right;\">\n",
       "      <th></th>\n",
       "      <th>reason_middle</th>\n",
       "      <th>reason_word</th>\n",
       "    </tr>\n",
       "  </thead>\n",
       "  <tbody>\n",
       "    <tr>\n",
       "      <th>0</th>\n",
       "      <td>가스누출(폭발)</td>\n",
       "      <td>'짧고 강한 연소', '가스폭발', '산소탱크 폭발', '폐석유 탱크 누출', '...</td>\n",
       "    </tr>\n",
       "    <tr>\n",
       "      <th>1</th>\n",
       "      <td>교통사고</td>\n",
       "      <td>'차량 충돌', '3중 추돌 사고',</td>\n",
       "    </tr>\n",
       "    <tr>\n",
       "      <th>2</th>\n",
       "      <td>기계적 요인</td>\n",
       "      <td>'화목 난로의 연통이 과열', '랜턴 배터리가 과열', '연통이 과열', '택배 ...</td>\n",
       "    </tr>\n",
       "    <tr>\n",
       "      <th>3</th>\n",
       "      <td>미상</td>\n",
       "      <td>'화재 원인', '정확한 화재 원인', '고양이', '화재 원인과 재산 피해', ...</td>\n",
       "    </tr>\n",
       "    <tr>\n",
       "      <th>4</th>\n",
       "      <td>방화</td>\n",
       "      <td>'방화', '방화나 실화', 'PKK의 방화',</td>\n",
       "    </tr>\n",
       "    <tr>\n",
       "      <th>5</th>\n",
       "      <td>방화의심</td>\n",
       "      <td>'방화 추정', 'A씨가 불을 냈을 가능성',</td>\n",
       "    </tr>\n",
       "    <tr>\n",
       "      <th>6</th>\n",
       "      <td>부주의</td>\n",
       "      <td>'화목난로', '담뱃갑과 담배꽁초', '부주의', '성묘객 실화', '담배꽁초 등...</td>\n",
       "    </tr>\n",
       "    <tr>\n",
       "      <th>7</th>\n",
       "      <td>자연적인 요인</td>\n",
       "      <td>'벼락', '폭염과 강풍', '강풍', '실내 열 축적', '지진', '강한 바람...</td>\n",
       "    </tr>\n",
       "    <tr>\n",
       "      <th>8</th>\n",
       "      <td>전기적요인</td>\n",
       "      <td>'변전실', '변압기', '전기장판', '전기적 요인', '정전기', '창고 전선...</td>\n",
       "    </tr>\n",
       "    <tr>\n",
       "      <th>9</th>\n",
       "      <td>제품결함</td>\n",
       "      <td>'배터리 셀 제조 불량', '배터리셀 불량', '배터리셀 제조불량 내부합선', '...</td>\n",
       "    </tr>\n",
       "    <tr>\n",
       "      <th>10</th>\n",
       "      <td>화학적 요인</td>\n",
       "      <td>'배터리 문제', '배터리 결함', '화학물질 유출', '배터리', '시너 냄새'...</td>\n",
       "    </tr>\n",
       "  </tbody>\n",
       "</table>\n",
       "</div>"
      ],
      "text/plain": [
       "   reason_middle                                        reason_word\n",
       "0       가스누출(폭발)   '짧고 강한 연소', '가스폭발', '산소탱크 폭발', '폐석유 탱크 누출', '...\n",
       "1           교통사고                               '차량 충돌', '3중 추돌 사고',\n",
       "2         기계적 요인   '화목 난로의 연통이 과열', '랜턴 배터리가 과열', '연통이 과열', '택배 ...\n",
       "3             미상   '화재 원인', '정확한 화재 원인', '고양이', '화재 원인과 재산 피해', ...\n",
       "4             방화                         '방화', '방화나 실화', 'PKK의 방화',\n",
       "5           방화의심                          '방화 추정', 'A씨가 불을 냈을 가능성',\n",
       "6            부주의   '화목난로', '담뱃갑과 담배꽁초', '부주의', '성묘객 실화', '담배꽁초 등...\n",
       "7        자연적인 요인   '벼락', '폭염과 강풍', '강풍', '실내 열 축적', '지진', '강한 바람...\n",
       "8          전기적요인   '변전실', '변압기', '전기장판', '전기적 요인', '정전기', '창고 전선...\n",
       "9           제품결함   '배터리 셀 제조 불량', '배터리셀 불량', '배터리셀 제조불량 내부합선', '...\n",
       "10        화학적 요인   '배터리 문제', '배터리 결함', '화학물질 유출', '배터리', '시너 냄새'..."
      ]
     },
     "execution_count": 298,
     "metadata": {},
     "output_type": "execute_result"
    }
   ],
   "source": [
    "reason"
   ]
  },
  {
   "cell_type": "code",
   "execution_count": 299,
   "id": "402f4c5b",
   "metadata": {
    "ExecuteTime": {
     "end_time": "2023-02-22T05:42:27.133448Z",
     "start_time": "2023-02-22T05:42:27.131690Z"
    }
   },
   "outputs": [],
   "source": [
    "import numpy as np"
   ]
  },
  {
   "cell_type": "code",
   "execution_count": 326,
   "id": "a25acf15",
   "metadata": {
    "ExecuteTime": {
     "end_time": "2023-02-22T05:50:14.270167Z",
     "start_time": "2023-02-22T05:50:14.267667Z"
    }
   },
   "outputs": [],
   "source": [
    "result11['reason_word'] = np.nan"
   ]
  },
  {
   "cell_type": "code",
   "execution_count": 327,
   "id": "ae705599",
   "metadata": {
    "ExecuteTime": {
     "end_time": "2023-02-22T05:50:14.697393Z",
     "start_time": "2023-02-22T05:50:14.609373Z"
    }
   },
   "outputs": [
    {
     "name": "stderr",
     "output_type": "stream",
     "text": [
      "/home/intern2/anaconda3/envs/Pororo/lib/python3.7/site-packages/ipykernel_launcher.py:4: SettingWithCopyWarning: \n",
      "A value is trying to be set on a copy of a slice from a DataFrame\n",
      "\n",
      "See the caveats in the documentation: https://pandas.pydata.org/pandas-docs/stable/user_guide/indexing.html#returning-a-view-versus-a-copy\n",
      "  after removing the cwd from sys.path.\n",
      "/home/intern2/anaconda3/envs/Pororo/lib/python3.7/site-packages/pandas/core/indexing.py:1732: SettingWithCopyWarning: \n",
      "A value is trying to be set on a copy of a slice from a DataFrame\n",
      "\n",
      "See the caveats in the documentation: https://pandas.pydata.org/pandas-docs/stable/user_guide/indexing.html#returning-a-view-versus-a-copy\n",
      "  self._setitem_single_block(indexer, value, name)\n"
     ]
    }
   ],
   "source": [
    "for i in range(len(result11)):\n",
    "        for j in range(len(reason)):\n",
    "            if result11['reason'][i] in reason['reason_word'][j]:\n",
    "                    result11['reason_word'][i] = reason['reason_middle'][j]"
   ]
  },
  {
   "cell_type": "code",
   "execution_count": 328,
   "id": "27cea5b6",
   "metadata": {
    "ExecuteTime": {
     "end_time": "2023-02-22T05:50:15.039270Z",
     "start_time": "2023-02-22T05:50:15.034746Z"
    }
   },
   "outputs": [
    {
     "data": {
      "text/plain": [
       "미상          511\n",
       "전기적요인        53\n",
       "화학적 요인       33\n",
       "부주의          17\n",
       "방화의심         15\n",
       "기계적 요인       10\n",
       "자연적인 요인       6\n",
       "가스누출(폭발)      3\n",
       "교통사고          2\n",
       "제품결함          1\n",
       "Name: reason_word, dtype: int64"
      ]
     },
     "execution_count": 328,
     "metadata": {},
     "output_type": "execute_result"
    }
   ],
   "source": [
    "result11.fillna('미상').reason_word.value_counts()"
   ]
  },
  {
   "cell_type": "code",
   "execution_count": 329,
   "id": "e8dd7055",
   "metadata": {
    "ExecuteTime": {
     "end_time": "2023-02-22T05:55:48.686438Z",
     "start_time": "2023-02-22T05:55:48.677143Z"
    }
   },
   "outputs": [
    {
     "data": {
      "text/html": [
       "<div>\n",
       "<style scoped>\n",
       "    .dataframe tbody tr th:only-of-type {\n",
       "        vertical-align: middle;\n",
       "    }\n",
       "\n",
       "    .dataframe tbody tr th {\n",
       "        vertical-align: top;\n",
       "    }\n",
       "\n",
       "    .dataframe thead th {\n",
       "        text-align: right;\n",
       "    }\n",
       "</style>\n",
       "<table border=\"1\" class=\"dataframe\">\n",
       "  <thead>\n",
       "    <tr style=\"text-align: right;\">\n",
       "      <th></th>\n",
       "      <th>clean</th>\n",
       "      <th>reason</th>\n",
       "      <th>tagger</th>\n",
       "      <th>reason_word</th>\n",
       "    </tr>\n",
       "  </thead>\n",
       "  <tbody>\n",
       "    <tr>\n",
       "      <th>0</th>\n",
       "      <td>캄보디아 카지노 호텔 화재 사망자 최소 27명으로수색 종료 강종훈 특파원 = 지난 ...</td>\n",
       "      <td>대형 화재</td>\n",
       "      <td>(37, 39)</td>\n",
       "      <td>미상</td>\n",
       "    </tr>\n",
       "    <tr>\n",
       "      <th>1</th>\n",
       "      <td>과천 방음터널 화재 사망자 5명 신원 확인모녀도 참변 DNA 감정 결과 여성 3명 ...</td>\n",
       "      <td>펑' 하는 소리</td>\n",
       "      <td>(348, 352)</td>\n",
       "      <td>NaN</td>\n",
       "    </tr>\n",
       "    <tr>\n",
       "      <th>2</th>\n",
       "      <td>금요일 오후 수도권 강원 영서에 비나 눈 계승현 기자 = 다음 주 금요일 오후에는 ...</td>\n",
       "      <td>산불</td>\n",
       "      <td>(112, 113)</td>\n",
       "      <td>미상</td>\n",
       "    </tr>\n",
       "    <tr>\n",
       "      <th>3</th>\n",
       "      <td>불탄 광교 방음터널 2년여 만에 재설치불연성 '강화유리'로 수원시 내년 1월 착공해...</td>\n",
       "      <td>a</td>\n",
       "      <td>(511, 512)</td>\n",
       "      <td>전기적요인</td>\n",
       "    </tr>\n",
       "    <tr>\n",
       "      <th>4</th>\n",
       "      <td>대전 세종 충남 국도 내 방음터널 8곳세종시 긴급 안전 점검 이주형 강수환 기자 =...</td>\n",
       "      <td>소음</td>\n",
       "      <td>(278, 279)</td>\n",
       "      <td>NaN</td>\n",
       "    </tr>\n",
       "    <tr>\n",
       "      <th>...</th>\n",
       "      <td>...</td>\n",
       "      <td>...</td>\n",
       "      <td>...</td>\n",
       "      <td>...</td>\n",
       "    </tr>\n",
       "    <tr>\n",
       "      <th>646</th>\n",
       "      <td>대구 변호사 사무실 밀집 빌딩 화재7명 사망 46명 부상 수십명 긴급 대피폭발음 신...</td>\n",
       "      <td>방화</td>\n",
       "      <td>(193, 194)</td>\n",
       "      <td>방화의심</td>\n",
       "    </tr>\n",
       "    <tr>\n",
       "      <th>647</th>\n",
       "      <td>에어컨 등 냉방기 화재로 5년간 12명 사망단독 콘센트 사용 선풍기는 시간설정으로 ...</td>\n",
       "      <td>전기적 요인</td>\n",
       "      <td>(179, 182)</td>\n",
       "      <td>전기적요인</td>\n",
       "    </tr>\n",
       "    <tr>\n",
       "      <th>648</th>\n",
       "      <td>전동 스쿠터 충전 중 화재배터리 폭발 추정 박성제 기자 = 8일 오후 10시 54분...</td>\n",
       "      <td>과충전</td>\n",
       "      <td>(66, 69)</td>\n",
       "      <td>NaN</td>\n",
       "    </tr>\n",
       "    <tr>\n",
       "      <th>649</th>\n",
       "      <td>포항공대 생명과학관 불 대응 1단계 발령2명 연기 흡입 손대성 기자 = 8일 낮 1...</td>\n",
       "      <td>화재원인</td>\n",
       "      <td>(155, 157)</td>\n",
       "      <td>NaN</td>\n",
       "    </tr>\n",
       "    <tr>\n",
       "      <th>650</th>\n",
       "      <td>울진 삼척 등 산불 재난지역 송이 피해 임가에 2천만원씩 지원 경북 강원지역 700...</td>\n",
       "      <td>산불</td>\n",
       "      <td>(58, 59)</td>\n",
       "      <td>미상</td>\n",
       "    </tr>\n",
       "  </tbody>\n",
       "</table>\n",
       "<p>651 rows × 4 columns</p>\n",
       "</div>"
      ],
      "text/plain": [
       "                                                 clean    reason      tagger  \\\n",
       "0    캄보디아 카지노 호텔 화재 사망자 최소 27명으로수색 종료 강종훈 특파원 = 지난 ...     대형 화재    (37, 39)   \n",
       "1    과천 방음터널 화재 사망자 5명 신원 확인모녀도 참변 DNA 감정 결과 여성 3명 ...  펑' 하는 소리  (348, 352)   \n",
       "2    금요일 오후 수도권 강원 영서에 비나 눈 계승현 기자 = 다음 주 금요일 오후에는 ...        산불  (112, 113)   \n",
       "3    불탄 광교 방음터널 2년여 만에 재설치불연성 '강화유리'로 수원시 내년 1월 착공해...         a  (511, 512)   \n",
       "4    대전 세종 충남 국도 내 방음터널 8곳세종시 긴급 안전 점검 이주형 강수환 기자 =...        소음  (278, 279)   \n",
       "..                                                 ...       ...         ...   \n",
       "646  대구 변호사 사무실 밀집 빌딩 화재7명 사망 46명 부상 수십명 긴급 대피폭발음 신...        방화  (193, 194)   \n",
       "647  에어컨 등 냉방기 화재로 5년간 12명 사망단독 콘센트 사용 선풍기는 시간설정으로 ...    전기적 요인  (179, 182)   \n",
       "648  전동 스쿠터 충전 중 화재배터리 폭발 추정 박성제 기자 = 8일 오후 10시 54분...       과충전    (66, 69)   \n",
       "649  포항공대 생명과학관 불 대응 1단계 발령2명 연기 흡입 손대성 기자 = 8일 낮 1...      화재원인  (155, 157)   \n",
       "650  울진 삼척 등 산불 재난지역 송이 피해 임가에 2천만원씩 지원 경북 강원지역 700...        산불    (58, 59)   \n",
       "\n",
       "    reason_word  \n",
       "0            미상  \n",
       "1           NaN  \n",
       "2            미상  \n",
       "3         전기적요인  \n",
       "4           NaN  \n",
       "..          ...  \n",
       "646        방화의심  \n",
       "647       전기적요인  \n",
       "648         NaN  \n",
       "649         NaN  \n",
       "650          미상  \n",
       "\n",
       "[651 rows x 4 columns]"
      ]
     },
     "execution_count": 329,
     "metadata": {},
     "output_type": "execute_result"
    }
   ],
   "source": [
    "result11"
   ]
  },
  {
   "cell_type": "code",
   "execution_count": 330,
   "id": "c89d5768",
   "metadata": {
    "ExecuteTime": {
     "end_time": "2023-02-22T06:00:55.644153Z",
     "start_time": "2023-02-22T06:00:55.641578Z"
    }
   },
   "outputs": [
    {
     "data": {
      "text/plain": [
       "Index(['_id', 'YNewsML.NewsContent.Title', 'YNewsML.NewsContent.Body',\n",
       "       'NamedEntity', 'Keyword', 'send_timestamp', 'Summarization',\n",
       "       'YNewsML.Metadata.Class.ClassCode', 'key+jaccard'],\n",
       "      dtype='object')"
      ]
     },
     "execution_count": 330,
     "metadata": {},
     "output_type": "execute_result"
    }
   ],
   "source": [
    "df.columns"
   ]
  },
  {
   "cell_type": "code",
   "execution_count": 332,
   "id": "6123cbf1",
   "metadata": {
    "ExecuteTime": {
     "end_time": "2023-02-22T06:02:30.822931Z",
     "start_time": "2023-02-22T06:02:30.820541Z"
    }
   },
   "outputs": [],
   "source": [
    "df['reason'] = np.nan"
   ]
  },
  {
   "cell_type": "code",
   "execution_count": 333,
   "id": "82508ef8",
   "metadata": {
    "ExecuteTime": {
     "end_time": "2023-02-22T06:03:31.922406Z",
     "start_time": "2023-02-22T06:02:31.967050Z"
    }
   },
   "outputs": [
    {
     "name": "stderr",
     "output_type": "stream",
     "text": [
      "/home/intern2/anaconda3/envs/Pororo/lib/python3.7/site-packages/ipykernel_launcher.py:4: SettingWithCopyWarning: \n",
      "A value is trying to be set on a copy of a slice from a DataFrame\n",
      "\n",
      "See the caveats in the documentation: https://pandas.pydata.org/pandas-docs/stable/user_guide/indexing.html#returning-a-view-versus-a-copy\n",
      "  after removing the cwd from sys.path.\n",
      "/home/intern2/anaconda3/envs/Pororo/lib/python3.7/site-packages/pandas/core/indexing.py:1732: SettingWithCopyWarning: \n",
      "A value is trying to be set on a copy of a slice from a DataFrame\n",
      "\n",
      "See the caveats in the documentation: https://pandas.pydata.org/pandas-docs/stable/user_guide/indexing.html#returning-a-view-versus-a-copy\n",
      "  self._setitem_single_block(indexer, value, name)\n"
     ]
    }
   ],
   "source": [
    "for i in range(len(result11)):\n",
    "        for j in range(len(df)):\n",
    "            if result11.clean[i] == df['YNewsML.NewsContent.Body'][j]:\n",
    "                    df['reason'][j] = result11.reason_word[i]"
   ]
  },
  {
   "cell_type": "code",
   "execution_count": 335,
   "id": "4e9403b5",
   "metadata": {
    "ExecuteTime": {
     "end_time": "2023-02-22T06:04:02.131793Z",
     "start_time": "2023-02-22T06:04:02.122690Z"
    },
    "collapsed": true
   },
   "outputs": [
    {
     "data": {
      "text/html": [
       "<div>\n",
       "<style scoped>\n",
       "    .dataframe tbody tr th:only-of-type {\n",
       "        vertical-align: middle;\n",
       "    }\n",
       "\n",
       "    .dataframe tbody tr th {\n",
       "        vertical-align: top;\n",
       "    }\n",
       "\n",
       "    .dataframe thead th {\n",
       "        text-align: right;\n",
       "    }\n",
       "</style>\n",
       "<table border=\"1\" class=\"dataframe\">\n",
       "  <thead>\n",
       "    <tr style=\"text-align: right;\">\n",
       "      <th></th>\n",
       "      <th>_id</th>\n",
       "      <th>YNewsML.NewsContent.Title</th>\n",
       "      <th>YNewsML.NewsContent.Body</th>\n",
       "      <th>NamedEntity</th>\n",
       "      <th>Keyword</th>\n",
       "      <th>send_timestamp</th>\n",
       "      <th>Summarization</th>\n",
       "      <th>YNewsML.Metadata.Class.ClassCode</th>\n",
       "      <th>key+jaccard</th>\n",
       "      <th>reason</th>\n",
       "    </tr>\n",
       "  </thead>\n",
       "  <tbody>\n",
       "    <tr>\n",
       "      <th>0</th>\n",
       "      <td>AKR20221231041400061</td>\n",
       "      <td>신분당선 판교∼정자역 사이서 전동차 멈춰…1시간가량 불편</td>\n",
       "      <td>신분당선 판교∼정자역 사이서 전동차 멈춰1시간가량 불편 이영주 기자 = 31일 오후...</td>\n",
       "      <td>[{'code': 'AF', 'word': '신분당선'}, {'code': 'LC'...</td>\n",
       "      <td>['정자역', '신분당선', '선로', '고장', '구원열차', '탑승', '꺼졌'...</td>\n",
       "      <td>2022-12-31T23:20:59</td>\n",
       "      <td>['31일 오후 9시 40분께 경기도 성남시 신분당선 판교역과 정자역 사이 선로에서...</td>\n",
       "      <td>[{'code': '0410005', 'name': '철도운수'}, {'code':...</td>\n",
       "      <td>none</td>\n",
       "      <td>NaN</td>\n",
       "    </tr>\n",
       "    <tr>\n",
       "      <th>1</th>\n",
       "      <td>AKR20221231035000099</td>\n",
       "      <td>남아공 가스트럭 폭발사고 사망자 34명으로 늘어</td>\n",
       "      <td>남아공 가스트럭 폭발사고 사망자 34명으로 늘어 김성진 특파원 = 남아프리카공화국에...</td>\n",
       "      <td>[{'code': 'LC', 'word': '남아공'}, {'code': 'AF',...</td>\n",
       "      <td>['남아공', '사망자', '폭발', '환자']</td>\n",
       "      <td>2022-12-31T18:08:13</td>\n",
       "      <td>['남아프리카공화국에서 지난 크리스마스이브에 발생한 가스 트럭 폭발 사고와 관련, ...</td>\n",
       "      <td>[{'code': 1101001, 'name': '국제일반'}, {'code': '...</td>\n",
       "      <td>none</td>\n",
       "      <td>NaN</td>\n",
       "    </tr>\n",
       "    <tr>\n",
       "      <th>2</th>\n",
       "      <td>AKR20221231025151003</td>\n",
       "      <td>선로에 떨어진 부직포 때문에…SRT, 운행 차질에 차량 고장까지(종합)</td>\n",
       "      <td>선로에 떨어진 부직포 때문에SRT 운행 차질에 차량 고장까지 전날 선로 전기공급 차...</td>\n",
       "      <td>[{'code': 'AF', 'word': 'SRT'}, {'code': 'AF',...</td>\n",
       "      <td>['열차', '지연', 'GS건설', '고장', '전기공급', '차단', '통복터널']</td>\n",
       "      <td>2022-12-31T16:16:20</td>\n",
       "      <td>['선로 전기공급 차단 문제로 수서고속철도(SRT) 열차 운행이 이틀째 차질을 빚고...</td>\n",
       "      <td>[{'code': '0201001', 'name': '경제일반'}, {'code':...</td>\n",
       "      <td>none</td>\n",
       "      <td>NaN</td>\n",
       "    </tr>\n",
       "    <tr>\n",
       "      <th>3</th>\n",
       "      <td>AKR20221231025100003</td>\n",
       "      <td>선로 전기공급 끊기고 SRT 고장…이틀째 대거 운행지연·취소</td>\n",
       "      <td>선로 전기공급 끊기고 SRT 고장이틀째 대거 운행지연 취소 첫날 KTX SRT 최대...</td>\n",
       "      <td>[{'code': 'AF', 'word': 'SRT'}, {'code': 'DT',...</td>\n",
       "      <td>['열차', '지연', 'SR', '전기공급', '끊기', '통복터널']</td>\n",
       "      <td>2022-12-31T12:57:34</td>\n",
       "      <td>['선로 전기공급 차단 문제로 수서고속철도(SRT) 열차 운행이 이틀째 차질을 빚고...</td>\n",
       "      <td>[{'code': '0201001', 'name': '경제일반'}, {'code':...</td>\n",
       "      <td>none</td>\n",
       "      <td>NaN</td>\n",
       "    </tr>\n",
       "    <tr>\n",
       "      <th>4</th>\n",
       "      <td>AKR20221231022000076</td>\n",
       "      <td>캄보디아 카지노 호텔 화재 사망자 최소 27명으로…수색 종료</td>\n",
       "      <td>캄보디아 카지노 호텔 화재 사망자 최소 27명으로수색 종료 강종훈 특파원 = 지난 ...</td>\n",
       "      <td>[{'code': 'LC', 'word': '캄보디아'}, {'code': 'QT'...</td>\n",
       "      <td>['화재', '27명', '태국인', '카지노', '뛰어내리', '훈센']</td>\n",
       "      <td>2022-12-31T11:51:25</td>\n",
       "      <td>['지난 28일 발생한 캄보디아 북서부 카지노 호텔 대형 화재로 인한 사망자가 최소...</td>\n",
       "      <td>[{'code': 1101001, 'name': '국제일반'}, {'code': '...</td>\n",
       "      <td>화재</td>\n",
       "      <td>미상</td>\n",
       "    </tr>\n",
       "    <tr>\n",
       "      <th>...</th>\n",
       "      <td>...</td>\n",
       "      <td>...</td>\n",
       "      <td>...</td>\n",
       "      <td>...</td>\n",
       "      <td>...</td>\n",
       "      <td>...</td>\n",
       "      <td>...</td>\n",
       "      <td>...</td>\n",
       "      <td>...</td>\n",
       "      <td>...</td>\n",
       "    </tr>\n",
       "    <tr>\n",
       "      <th>11052</th>\n",
       "      <td>AKR20220608057300003</td>\n",
       "      <td>한국소비자원, 편의점 업계와 여름철 먹거리 안전 관리 캠페인</td>\n",
       "      <td>한국소비자원 편의점 업계와 여름철 먹거리 안전 관리 캠페인 이신영 기자 = 한국소비...</td>\n",
       "      <td>[{'code': 'OG', 'word': '한국소비자원'}, {'code': 'D...</td>\n",
       "      <td>['냉동식품', 'gs', '가이드', '위생관리', '한국소비자원', '정례협의체']</td>\n",
       "      <td>2022-06-08T10:33:09</td>\n",
       "      <td>['한국소비자원은 여름철을 맞아 편의점 사업자 정례협의체와 함께 먹거리 안전을 위한...</td>\n",
       "      <td>[{'code': '0201010', 'name': '소비자'}, {'code': ...</td>\n",
       "      <td>none</td>\n",
       "      <td>NaN</td>\n",
       "    </tr>\n",
       "    <tr>\n",
       "      <th>11053</th>\n",
       "      <td>AKR20220607103300530</td>\n",
       "      <td>소방청-가스안전공사, 신에너지 사고 대응 업무협약</td>\n",
       "      <td>소방청 가스안전공사 신에너지 사고 대응 업무협약 계승현 기자 = 소방청은 8일 한국...</td>\n",
       "      <td>[{'code': 'OG', 'word': '소방청가스안전공사'}, {'code':...</td>\n",
       "      <td>['한국가스안전공사', '사고수습', '수소경제', '기술교육', '소방청', '대...</td>\n",
       "      <td>2022-06-08T10:00:07</td>\n",
       "      <td>['소방청은 8일 한국가스안전공사와 수소 등 신에너지 관련 사고에 대응하기 위해 업...</td>\n",
       "      <td>[{'code': '0606008', 'name': '안전관리'}, {'code':...</td>\n",
       "      <td>none</td>\n",
       "      <td>NaN</td>\n",
       "    </tr>\n",
       "    <tr>\n",
       "      <th>11054</th>\n",
       "      <td>PYH20220608015200017</td>\n",
       "      <td>LGU+, 서울지하철 8호선에 '스마트 역사' 구축</td>\n",
       "      <td>LGU+ 서울지하철 8호선에 '스마트 역사' 구축 LG유플러스가 서울 지하철 8호선...</td>\n",
       "      <td>[{'code': 'OG', 'word': 'LGU+'}, {'code': 'AF'...</td>\n",
       "      <td>['lgu', '구축', '8호선', 'cctv', '스마트스테이션', '고도', ...</td>\n",
       "      <td>2022-06-08T09:20:49</td>\n",
       "      <td>[\"LGU+, 서울지하철 8호선에 '스마트 역사' 구축 LG유플러스가 서울 지하철 ...</td>\n",
       "      <td>[{'code': '0901010', 'name': '모바일'}, {'code': ...</td>\n",
       "      <td>none</td>\n",
       "      <td>NaN</td>\n",
       "    </tr>\n",
       "    <tr>\n",
       "      <th>11055</th>\n",
       "      <td>AKR20220607168000017</td>\n",
       "      <td>LGU+, 서울지하철 8호선에 '스마트 역사' 구축 완료</td>\n",
       "      <td>LGU+ 서울지하철 8호선에 '스마트 역사' 구축 완료 역사 내 사고에 신속 대응해...</td>\n",
       "      <td>[{'code': 'OG', 'word': 'LGU+'}, {'code': 'AF'...</td>\n",
       "      <td>['lg유플러스하이트', '서울교통공사', '역무원', '8호선', '스마트스테이션...</td>\n",
       "      <td>2022-06-08T09:00:02</td>\n",
       "      <td>[\"LG유플러스는 서울 지하철 8호선 18개 역사에 '스마트스테이션'을 구축하는 사...</td>\n",
       "      <td>[{'code': '0901010', 'name': '모바일'}, {'code': ...</td>\n",
       "      <td>none</td>\n",
       "      <td>NaN</td>\n",
       "    </tr>\n",
       "    <tr>\n",
       "      <th>11056</th>\n",
       "      <td>AKR20220608017300530</td>\n",
       "      <td>제조업 운반·하역 작업서 부상 가장 많이 발생…전체 19.3%</td>\n",
       "      <td>제조업 운반 하역 작업서 부상 가장 많이 발생전체 19.3% 김승욱 기자 = 3일 ...</td>\n",
       "      <td>[{'code': 'DT', 'word': '3일 이상'}, {'code': 'QT...</td>\n",
       "      <td>['산업재해', '작업', '지방고용노동관서', '휴업', '3년간']</td>\n",
       "      <td>2022-06-08T09:00:00</td>\n",
       "      <td>['3일 이상의 휴업이 필요한 부상 사고의 20% 가까이가 제조업 운반·하역 작업에...</td>\n",
       "      <td>[{'code': '0501001', 'name': '사회일반'}, {'code':...</td>\n",
       "      <td>none</td>\n",
       "      <td>NaN</td>\n",
       "    </tr>\n",
       "  </tbody>\n",
       "</table>\n",
       "<p>11057 rows × 10 columns</p>\n",
       "</div>"
      ],
      "text/plain": [
       "                        _id                YNewsML.NewsContent.Title  \\\n",
       "0      AKR20221231041400061          신분당선 판교∼정자역 사이서 전동차 멈춰…1시간가량 불편   \n",
       "1      AKR20221231035000099               남아공 가스트럭 폭발사고 사망자 34명으로 늘어   \n",
       "2      AKR20221231025151003  선로에 떨어진 부직포 때문에…SRT, 운행 차질에 차량 고장까지(종합)   \n",
       "3      AKR20221231025100003        선로 전기공급 끊기고 SRT 고장…이틀째 대거 운행지연·취소   \n",
       "4      AKR20221231022000076        캄보디아 카지노 호텔 화재 사망자 최소 27명으로…수색 종료   \n",
       "...                     ...                                      ...   \n",
       "11052  AKR20220608057300003        한국소비자원, 편의점 업계와 여름철 먹거리 안전 관리 캠페인   \n",
       "11053  AKR20220607103300530              소방청-가스안전공사, 신에너지 사고 대응 업무협약   \n",
       "11054  PYH20220608015200017             LGU+, 서울지하철 8호선에 '스마트 역사' 구축   \n",
       "11055  AKR20220607168000017          LGU+, 서울지하철 8호선에 '스마트 역사' 구축 완료   \n",
       "11056  AKR20220608017300530       제조업 운반·하역 작업서 부상 가장 많이 발생…전체 19.3%   \n",
       "\n",
       "                                YNewsML.NewsContent.Body  \\\n",
       "0      신분당선 판교∼정자역 사이서 전동차 멈춰1시간가량 불편 이영주 기자 = 31일 오후...   \n",
       "1      남아공 가스트럭 폭발사고 사망자 34명으로 늘어 김성진 특파원 = 남아프리카공화국에...   \n",
       "2      선로에 떨어진 부직포 때문에SRT 운행 차질에 차량 고장까지 전날 선로 전기공급 차...   \n",
       "3      선로 전기공급 끊기고 SRT 고장이틀째 대거 운행지연 취소 첫날 KTX SRT 최대...   \n",
       "4      캄보디아 카지노 호텔 화재 사망자 최소 27명으로수색 종료 강종훈 특파원 = 지난 ...   \n",
       "...                                                  ...   \n",
       "11052  한국소비자원 편의점 업계와 여름철 먹거리 안전 관리 캠페인 이신영 기자 = 한국소비...   \n",
       "11053  소방청 가스안전공사 신에너지 사고 대응 업무협약 계승현 기자 = 소방청은 8일 한국...   \n",
       "11054  LGU+ 서울지하철 8호선에 '스마트 역사' 구축 LG유플러스가 서울 지하철 8호선...   \n",
       "11055  LGU+ 서울지하철 8호선에 '스마트 역사' 구축 완료 역사 내 사고에 신속 대응해...   \n",
       "11056  제조업 운반 하역 작업서 부상 가장 많이 발생전체 19.3% 김승욱 기자 = 3일 ...   \n",
       "\n",
       "                                             NamedEntity  \\\n",
       "0      [{'code': 'AF', 'word': '신분당선'}, {'code': 'LC'...   \n",
       "1      [{'code': 'LC', 'word': '남아공'}, {'code': 'AF',...   \n",
       "2      [{'code': 'AF', 'word': 'SRT'}, {'code': 'AF',...   \n",
       "3      [{'code': 'AF', 'word': 'SRT'}, {'code': 'DT',...   \n",
       "4      [{'code': 'LC', 'word': '캄보디아'}, {'code': 'QT'...   \n",
       "...                                                  ...   \n",
       "11052  [{'code': 'OG', 'word': '한국소비자원'}, {'code': 'D...   \n",
       "11053  [{'code': 'OG', 'word': '소방청가스안전공사'}, {'code':...   \n",
       "11054  [{'code': 'OG', 'word': 'LGU+'}, {'code': 'AF'...   \n",
       "11055  [{'code': 'OG', 'word': 'LGU+'}, {'code': 'AF'...   \n",
       "11056  [{'code': 'DT', 'word': '3일 이상'}, {'code': 'QT...   \n",
       "\n",
       "                                                 Keyword       send_timestamp  \\\n",
       "0      ['정자역', '신분당선', '선로', '고장', '구원열차', '탑승', '꺼졌'...  2022-12-31T23:20:59   \n",
       "1                             ['남아공', '사망자', '폭발', '환자']  2022-12-31T18:08:13   \n",
       "2       ['열차', '지연', 'GS건설', '고장', '전기공급', '차단', '통복터널']  2022-12-31T16:16:20   \n",
       "3               ['열차', '지연', 'SR', '전기공급', '끊기', '통복터널']  2022-12-31T12:57:34   \n",
       "4              ['화재', '27명', '태국인', '카지노', '뛰어내리', '훈센']  2022-12-31T11:51:25   \n",
       "...                                                  ...                  ...   \n",
       "11052   ['냉동식품', 'gs', '가이드', '위생관리', '한국소비자원', '정례협의체']  2022-06-08T10:33:09   \n",
       "11053  ['한국가스안전공사', '사고수습', '수소경제', '기술교육', '소방청', '대...  2022-06-08T10:00:07   \n",
       "11054  ['lgu', '구축', '8호선', 'cctv', '스마트스테이션', '고도', ...  2022-06-08T09:20:49   \n",
       "11055  ['lg유플러스하이트', '서울교통공사', '역무원', '8호선', '스마트스테이션...  2022-06-08T09:00:02   \n",
       "11056            ['산업재해', '작업', '지방고용노동관서', '휴업', '3년간']  2022-06-08T09:00:00   \n",
       "\n",
       "                                           Summarization  \\\n",
       "0      ['31일 오후 9시 40분께 경기도 성남시 신분당선 판교역과 정자역 사이 선로에서...   \n",
       "1      ['남아프리카공화국에서 지난 크리스마스이브에 발생한 가스 트럭 폭발 사고와 관련, ...   \n",
       "2      ['선로 전기공급 차단 문제로 수서고속철도(SRT) 열차 운행이 이틀째 차질을 빚고...   \n",
       "3      ['선로 전기공급 차단 문제로 수서고속철도(SRT) 열차 운행이 이틀째 차질을 빚고...   \n",
       "4      ['지난 28일 발생한 캄보디아 북서부 카지노 호텔 대형 화재로 인한 사망자가 최소...   \n",
       "...                                                  ...   \n",
       "11052  ['한국소비자원은 여름철을 맞아 편의점 사업자 정례협의체와 함께 먹거리 안전을 위한...   \n",
       "11053  ['소방청은 8일 한국가스안전공사와 수소 등 신에너지 관련 사고에 대응하기 위해 업...   \n",
       "11054  [\"LGU+, 서울지하철 8호선에 '스마트 역사' 구축 LG유플러스가 서울 지하철 ...   \n",
       "11055  [\"LG유플러스는 서울 지하철 8호선 18개 역사에 '스마트스테이션'을 구축하는 사...   \n",
       "11056  ['3일 이상의 휴업이 필요한 부상 사고의 20% 가까이가 제조업 운반·하역 작업에...   \n",
       "\n",
       "                        YNewsML.Metadata.Class.ClassCode key+jaccard reason  \n",
       "0      [{'code': '0410005', 'name': '철도운수'}, {'code':...        none    NaN  \n",
       "1      [{'code': 1101001, 'name': '국제일반'}, {'code': '...        none    NaN  \n",
       "2      [{'code': '0201001', 'name': '경제일반'}, {'code':...        none    NaN  \n",
       "3      [{'code': '0201001', 'name': '경제일반'}, {'code':...        none    NaN  \n",
       "4      [{'code': 1101001, 'name': '국제일반'}, {'code': '...          화재     미상  \n",
       "...                                                  ...         ...    ...  \n",
       "11052  [{'code': '0201010', 'name': '소비자'}, {'code': ...        none    NaN  \n",
       "11053  [{'code': '0606008', 'name': '안전관리'}, {'code':...        none    NaN  \n",
       "11054  [{'code': '0901010', 'name': '모바일'}, {'code': ...        none    NaN  \n",
       "11055  [{'code': '0901010', 'name': '모바일'}, {'code': ...        none    NaN  \n",
       "11056  [{'code': '0501001', 'name': '사회일반'}, {'code':...        none    NaN  \n",
       "\n",
       "[11057 rows x 10 columns]"
      ]
     },
     "execution_count": 335,
     "metadata": {},
     "output_type": "execute_result"
    }
   ],
   "source": [
    "df.to_csv('Final_fire_news_2.csv')"
   ]
  },
  {
   "cell_type": "code",
   "execution_count": 2,
   "id": "68c42737",
   "metadata": {
    "ExecuteTime": {
     "end_time": "2023-02-22T06:08:21.375320Z",
     "start_time": "2023-02-22T06:08:21.049128Z"
    }
   },
   "outputs": [],
   "source": [
    "df = pd.read_csv('Final_fire_news_2.csv',encoding='utf-8-sig')"
   ]
  },
  {
   "cell_type": "code",
   "execution_count": 3,
   "id": "fbd3ca71",
   "metadata": {
    "ExecuteTime": {
     "end_time": "2023-02-22T06:08:45.986964Z",
     "start_time": "2023-02-22T06:08:44.977759Z"
    }
   },
   "outputs": [],
   "source": [
    "df2 = pd.read_csv('/home/intern2/fire_dev/Final_fire_news_2.csv',encoding='utf-8-sig')"
   ]
  },
  {
   "cell_type": "code",
   "execution_count": 15,
   "id": "5476be65",
   "metadata": {
    "ExecuteTime": {
     "end_time": "2023-02-22T06:10:15.319382Z",
     "start_time": "2023-02-22T06:10:15.316566Z"
    }
   },
   "outputs": [
    {
     "data": {
      "text/plain": [
       "Index(['_id', 'YNewsML.NewsContent.Title', 'YNewsML.NewsContent.Body',\n",
       "       'NamedEntity', 'Keyword', 'send_timestamp', 'Summarization',\n",
       "       'YNewsML.Metadata.Class.ClassCode', 'key+jaccard', 'reason'],\n",
       "      dtype='object')"
      ]
     },
     "execution_count": 15,
     "metadata": {},
     "output_type": "execute_result"
    }
   ],
   "source": [
    "df.columns"
   ]
  },
  {
   "cell_type": "code",
   "execution_count": 17,
   "id": "ef9f4de7",
   "metadata": {
    "ExecuteTime": {
     "end_time": "2023-02-22T06:10:25.702570Z",
     "start_time": "2023-02-22T06:10:25.696251Z"
    }
   },
   "outputs": [
    {
     "data": {
      "text/html": [
       "<div>\n",
       "<style scoped>\n",
       "    .dataframe tbody tr th:only-of-type {\n",
       "        vertical-align: middle;\n",
       "    }\n",
       "\n",
       "    .dataframe tbody tr th {\n",
       "        vertical-align: top;\n",
       "    }\n",
       "\n",
       "    .dataframe thead th {\n",
       "        text-align: right;\n",
       "    }\n",
       "</style>\n",
       "<table border=\"1\" class=\"dataframe\">\n",
       "  <thead>\n",
       "    <tr style=\"text-align: right;\">\n",
       "      <th></th>\n",
       "      <th>key+jaccard</th>\n",
       "      <th>reason</th>\n",
       "    </tr>\n",
       "  </thead>\n",
       "  <tbody>\n",
       "    <tr>\n",
       "      <th>0</th>\n",
       "      <td>none</td>\n",
       "      <td>NaN</td>\n",
       "    </tr>\n",
       "    <tr>\n",
       "      <th>1</th>\n",
       "      <td>none</td>\n",
       "      <td>NaN</td>\n",
       "    </tr>\n",
       "    <tr>\n",
       "      <th>2</th>\n",
       "      <td>none</td>\n",
       "      <td>NaN</td>\n",
       "    </tr>\n",
       "    <tr>\n",
       "      <th>3</th>\n",
       "      <td>none</td>\n",
       "      <td>NaN</td>\n",
       "    </tr>\n",
       "    <tr>\n",
       "      <th>4</th>\n",
       "      <td>화재</td>\n",
       "      <td>미상</td>\n",
       "    </tr>\n",
       "    <tr>\n",
       "      <th>...</th>\n",
       "      <td>...</td>\n",
       "      <td>...</td>\n",
       "    </tr>\n",
       "    <tr>\n",
       "      <th>11052</th>\n",
       "      <td>none</td>\n",
       "      <td>NaN</td>\n",
       "    </tr>\n",
       "    <tr>\n",
       "      <th>11053</th>\n",
       "      <td>none</td>\n",
       "      <td>NaN</td>\n",
       "    </tr>\n",
       "    <tr>\n",
       "      <th>11054</th>\n",
       "      <td>none</td>\n",
       "      <td>NaN</td>\n",
       "    </tr>\n",
       "    <tr>\n",
       "      <th>11055</th>\n",
       "      <td>none</td>\n",
       "      <td>NaN</td>\n",
       "    </tr>\n",
       "    <tr>\n",
       "      <th>11056</th>\n",
       "      <td>none</td>\n",
       "      <td>NaN</td>\n",
       "    </tr>\n",
       "  </tbody>\n",
       "</table>\n",
       "<p>11057 rows × 2 columns</p>\n",
       "</div>"
      ],
      "text/plain": [
       "      key+jaccard reason\n",
       "0            none    NaN\n",
       "1            none    NaN\n",
       "2            none    NaN\n",
       "3            none    NaN\n",
       "4              화재     미상\n",
       "...           ...    ...\n",
       "11052        none    NaN\n",
       "11053        none    NaN\n",
       "11054        none    NaN\n",
       "11055        none    NaN\n",
       "11056        none    NaN\n",
       "\n",
       "[11057 rows x 2 columns]"
      ]
     },
     "execution_count": 17,
     "metadata": {},
     "output_type": "execute_result"
    }
   ],
   "source": []
  },
  {
   "cell_type": "code",
   "execution_count": 18,
   "id": "8564b562",
   "metadata": {
    "ExecuteTime": {
     "end_time": "2023-02-22T06:10:49.821950Z",
     "start_time": "2023-02-22T06:10:49.811636Z"
    }
   },
   "outputs": [],
   "source": [
    "df2 = pd.concat([df2,df[['key+jaccard', 'reason']]],axis=1)"
   ]
  },
  {
   "cell_type": "code",
   "execution_count": 20,
   "id": "ca7e4d6f",
   "metadata": {
    "ExecuteTime": {
     "end_time": "2023-02-22T06:11:26.148088Z",
     "start_time": "2023-02-22T06:11:24.702356Z"
    }
   },
   "outputs": [],
   "source": [
    "df2.to_csv('/home/intern2/fire_dev/Final_fire_news_3.csv',encoding='utf-8-sig',index=False)"
   ]
  },
  {
   "cell_type": "code",
   "execution_count": null,
   "id": "73d50691",
   "metadata": {},
   "outputs": [],
   "source": []
  },
  {
   "cell_type": "code",
   "execution_count": 23,
   "id": "e28781f6",
   "metadata": {
    "ExecuteTime": {
     "end_time": "2023-02-22T06:16:19.097447Z",
     "start_time": "2023-02-22T06:15:50.323201Z"
    }
   },
   "outputs": [
    {
     "name": "stderr",
     "output_type": "stream",
     "text": [
      "\n"
     ]
    },
    {
     "data": {
      "application/vnd.jupyter.widget-view+json": {
       "model_id": "af355b6f0664442ba09aa3003435a678",
       "version_major": 2,
       "version_minor": 0
      },
      "text/plain": [
       "Downloading:   0%|          | 0.00/1.35k [00:00<?, ?B/s]"
      ]
     },
     "metadata": {},
     "output_type": "display_data"
    },
    {
     "data": {
      "application/vnd.jupyter.widget-view+json": {
       "model_id": "d716bf94010e40daa6a401409968af4e",
       "version_major": 2,
       "version_minor": 0
      },
      "text/plain": [
       "Downloading:   0%|          | 0.00/109 [00:00<?, ?B/s]"
      ]
     },
     "metadata": {},
     "output_type": "display_data"
    },
    {
     "data": {
      "application/vnd.jupyter.widget-view+json": {
       "model_id": "8f0db27d6b1744eaa4174604b8d964b2",
       "version_major": 2,
       "version_minor": 0
      },
      "text/plain": [
       "Downloading:   0%|          | 0.00/337 [00:00<?, ?B/s]"
      ]
     },
     "metadata": {},
     "output_type": "display_data"
    },
    {
     "data": {
      "application/vnd.jupyter.widget-view+json": {
       "model_id": "1e908bed477a45a1bf253d85ad2df111",
       "version_major": 2,
       "version_minor": 0
      },
      "text/plain": [
       "Downloading:   0%|          | 0.00/1.00M [00:00<?, ?B/s]"
      ]
     },
     "metadata": {},
     "output_type": "display_data"
    }
   ],
   "source": [
    "summ = Pororo(task=\"summarization\", model=\"abstractive\", lang=\"ko\")"
   ]
  },
  {
   "cell_type": "code",
   "execution_count": 32,
   "id": "3e28b0ca",
   "metadata": {
    "ExecuteTime": {
     "end_time": "2023-02-22T06:27:07.398525Z",
     "start_time": "2023-02-22T06:27:07.394373Z"
    }
   },
   "outputs": [],
   "source": [
    "cond1 = df['_id'] == 'AKR20221114000200530'\n",
    "cond2 = df['_id'] == 'AKR20221029047954004'"
   ]
  },
  {
   "cell_type": "code",
   "execution_count": 37,
   "id": "6a1fd8e4",
   "metadata": {
    "ExecuteTime": {
     "end_time": "2023-02-22T06:28:18.242058Z",
     "start_time": "2023-02-22T06:28:17.464376Z"
    }
   },
   "outputs": [
    {
     "data": {
      "text/plain": [
       "'중앙재난안전대책본부는 29일 밤 서울 용산구 이태원동 일대에 핼러윈을 앞둔 주말 수만명 인파 목격자 앞에서 갑자기 다 넘어지면서 대형 압사 참사가 발생해 이날 벌어진 압사 사고로 59명이 숨지고 150명이 부상했다고 집계했고 서울경찰청은 수사본부를 구성해 이태원 일대 업소들이 안전조치 의무를 다했는지 등 구체적인 사고 경위를 수사할 방침이다.'"
      ]
     },
     "execution_count": 37,
     "metadata": {},
     "output_type": "execute_result"
    }
   ],
   "source": [
    "summ(df.loc[cond1|cond2]['YNewsML.NewsContent.Body'].sum())"
   ]
  },
  {
   "cell_type": "code",
   "execution_count": 38,
   "id": "3c6fdac9",
   "metadata": {
    "ExecuteTime": {
     "end_time": "2023-02-22T06:29:09.320343Z",
     "start_time": "2023-02-22T06:29:09.316553Z"
    }
   },
   "outputs": [
    {
     "data": {
      "text/plain": [
       "\"20대 내국인 여성 1명 추가 사망총 158명 계승현 기자 = 중앙재난안전대책본부는 13일 오후 11시 기준 이태원 압사 참사로 인한 사망자가 1명 늘어 총 158명이 됐다고 밝혔다. 추가 사망자는 20대 내국인 여성이다. 내국인 사망자 130명은 발인이 완료됐으며 2명은 장례 중이다. 외국인 사망자 26명 중 24명은 본국에 송환됐고 2명은 송환 대기 중이다. 부상자 196명 중 입원한 사람은 10명이며 나머지 186명은 귀가했다. 정부는 이태원 참사와 유사한 사고의 재발을 막기 위해 이번 주에 '범정부 재난안전관리체계 개편 태스크포스' 킥오프 회의를 개최하고 내달 말까지 종합대책을 수립할 예정이다. 아울러 14일부터 25일까지는 재난으로 인한 국민 피해를 최소화하기 위해 재난대응체계를 점검하는 '2022년 안전한국훈련'을 실시한다. key@이태원서 '핼러윈 인파'에 깔려 대형 압사 참사59명 사망 부상자도 150명 발생이태원에 핼러윈 앞둔 주말 수만명 인파 목격자 앞에서 갑자기 다 넘어져 깔려 오보람 설하은 기자 = 29일 밤 서울 용산구 이태원동 일대에 핼러윈을 앞두고 인파가 최소 수만 명이 한꺼번에 몰리면서 대형 압사 참사가 났다. 소방당국은 이날 벌어진 압사 사고로 59명이 숨지고 150명이 부상했다고 집계했다. 이들은 순천향대병원과 국립중앙의료원 이대목동병원 강북삼성병원 서울성모병원 중앙대병원 서울대병원 여의도성모병원 등에 나뉘어 이송된 상태다. 소방당국은 이날 오후 10시 20분께부터 이태원에서 호흡곤란 환자가 발생했다는 신고를 접수했다. 이태원 일대에서는 핼러윈을 앞둔 주말인 이날 밤 곳곳에서 파티가 벌어졌다. 사고는 이태원동 중심에 있는 해밀톤 호텔 인근 내리막길로 된 좁은 골목에 인파가 몰리면서 발생한 것으로 추정된다. 현장에 있었던 20대 목격자는 연합뉴스에 앞에서 갑자기 다 넘어지면서 뒤에 있는 사람들이 깔렸다고 말했다. 서울경찰청은 수사본부를 구성해 이태원 일대 업소들이 안전조치 의무를 다했는지 등 구체적인 사고 경위를 수사할 방침이다. 소방당국은 이날 오후 10시38분 대응 1단계를 발령한 데 이어 오후 11시50분 대응 3단계로 격상하고 구급차 142대를 비롯해 구조 인력과 장비를 대거 투입했다. 현장에서는 서울소방재난본부장이 구조를 지휘하고 행정안전부 장관도 현장에 도착해 상황을 파악하고 있다. dada@\""
      ]
     },
     "execution_count": 38,
     "metadata": {},
     "output_type": "execute_result"
    }
   ],
   "source": [
    "df.loc[cond1|cond2]['YNewsML.NewsContent.Body'].sum()"
   ]
  },
  {
   "cell_type": "code",
   "execution_count": 31,
   "id": "d5e96982",
   "metadata": {
    "ExecuteTime": {
     "end_time": "2023-02-22T06:22:57.425162Z",
     "start_time": "2023-02-22T06:22:57.412294Z"
    }
   },
   "outputs": [
    {
     "data": {
      "text/html": [
       "<div>\n",
       "<style scoped>\n",
       "    .dataframe tbody tr th:only-of-type {\n",
       "        vertical-align: middle;\n",
       "    }\n",
       "\n",
       "    .dataframe tbody tr th {\n",
       "        vertical-align: top;\n",
       "    }\n",
       "\n",
       "    .dataframe thead th {\n",
       "        text-align: right;\n",
       "    }\n",
       "</style>\n",
       "<table border=\"1\" class=\"dataframe\">\n",
       "  <thead>\n",
       "    <tr style=\"text-align: right;\">\n",
       "      <th></th>\n",
       "      <th>_id</th>\n",
       "      <th>YNewsML.NewsContent.Title</th>\n",
       "      <th>YNewsML.NewsContent.Body</th>\n",
       "      <th>NamedEntity</th>\n",
       "      <th>Keyword</th>\n",
       "      <th>send_timestamp</th>\n",
       "      <th>Summarization</th>\n",
       "      <th>YNewsML.Metadata.Class.ClassCode</th>\n",
       "      <th>key+jaccard</th>\n",
       "      <th>reason</th>\n",
       "    </tr>\n",
       "  </thead>\n",
       "  <tbody>\n",
       "    <tr>\n",
       "      <th>181</th>\n",
       "      <td>AKR20221227129951004</td>\n",
       "      <td>서울시·용산구, 이태원 참사 관련 실무진 교체(종합)</td>\n",
       "      <td>서울시 용산구 이태원 참사 관련 실무진 교체 신년 정기인사구청장 구속된 용산구 직무...</td>\n",
       "      <td>[{'code': 'OG', 'word': '서울시'}, {'code': 'LC',...</td>\n",
       "      <td>['용산구', '인사', '안전총괄과장', '부구청장']</td>\n",
       "      <td>2022-12-27T19:24:54</td>\n",
       "      <td>['서울 용산구(구청장 박희영)가 신년 정기 인사에서 이태원 참사 당시 관련 실무를...</td>\n",
       "      <td>[{'code': '0107001', 'name': '지방행정'}, {'code':...</td>\n",
       "      <td>이태원압사참사</td>\n",
       "      <td>NaN</td>\n",
       "    </tr>\n",
       "    <tr>\n",
       "      <th>182</th>\n",
       "      <td>AKR20221227111351530</td>\n",
       "      <td>이상민, '중대본 촌각 다투는 일 아냐' 발언 \"적절치 않았다\"(종합)</td>\n",
       "      <td>이상민 '중대본 촌각 다투는 일 아냐' 발언 적절치 않았다 서울시가 개인정보 보호 ...</td>\n",
       "      <td>[{'code': 'PS', 'word': '이상민'}, {'code': 'OG',...</td>\n",
       "      <td>['중앙재난안전대책본부', '응급조치', '장관', '이상민', '현장조사']</td>\n",
       "      <td>2022-12-27T17:49:59</td>\n",
       "      <td>['지난 23일 이태원 사고 중앙재난안전대책본부(중대본) 가동이 늦었다는 지적에 \"...</td>\n",
       "      <td>[{'code': '0501018', 'name': '재난일반'}, {'code':...</td>\n",
       "      <td>이태원압사참사</td>\n",
       "      <td>NaN</td>\n",
       "    </tr>\n",
       "    <tr>\n",
       "      <th>602</th>\n",
       "      <td>AKR20221220142452001</td>\n",
       "      <td>與, '이태원 참사' 국조특위 복귀…유가족 만난 뒤 전격 결정(종합2보)</td>\n",
       "      <td>與 '이태원 참사' 국조특위 복귀유가족 만난 뒤 전격 결정 주호영 특위 위원 사의 ...</td>\n",
       "      <td>[{'code': 'EV', 'word': '이태원 참사'}, {'code': 'O...</td>\n",
       "      <td>['국정조사', '참여', '원내대표실', '간담회', '유가족']</td>\n",
       "      <td>2022-12-20T20:45:56</td>\n",
       "      <td>['국민의힘 소속 특위 위원들은 이날 오후 국회에서 기자회견을 열어 \"야당의 일방적...</td>\n",
       "      <td>[{'code': '0501018', 'name': '재난일반'}, {'code':...</td>\n",
       "      <td>이태원압사참사</td>\n",
       "      <td>NaN</td>\n",
       "    </tr>\n",
       "    <tr>\n",
       "      <th>607</th>\n",
       "      <td>AKR20221220142451001</td>\n",
       "      <td>與, '이태원 참사' 국조특위 복귀…유가족 만난 뒤 전격 결정(종합)</td>\n",
       "      <td>與 '이태원 참사' 국조특위 복귀유가족 만난 뒤 전격 결정 주호영 특위 위원들 사퇴...</td>\n",
       "      <td>[{'code': 'EV', 'word': '이태원 참사'}, {'code': 'O...</td>\n",
       "      <td>['국정조사', '동행']</td>\n",
       "      <td>2022-12-20T18:10:00</td>\n",
       "      <td>['국민의힘 소속 특위 위원들은 이날 오후 국회에서 기자회견을 열어 \"야당의 일방적...</td>\n",
       "      <td>[{'code': '0501018', 'name': '재난일반'}, {'code':...</td>\n",
       "      <td>이태원압사참사</td>\n",
       "      <td>NaN</td>\n",
       "    </tr>\n",
       "    <tr>\n",
       "      <th>1267</th>\n",
       "      <td>AKR20221202043851530</td>\n",
       "      <td>[이태원 참사] 중대본 운영 33일만에 종료…원스톱센터·지원단 체제(종합)</td>\n",
       "      <td>중대본 운영 33일만에 종료원스톱센터 지원단 체제 김윤구 기자 = 정부가 10월 2...</td>\n",
       "      <td>[{'code': 'OG', 'word': '중대본'}, {'code': 'DT',...</td>\n",
       "      <td>['중앙재난안전대책본부', '원스톱지원센터', '추모공간', '종료', '처리', ...</td>\n",
       "      <td>2022-12-02T11:06:29</td>\n",
       "      <td>['이상민 중대본 제2차장(행정안전부 장관)은 이날 정부서울청사에서 열린 중대본 회...</td>\n",
       "      <td>[{'code': '0501018', 'name': '재난일반'}, {'code':...</td>\n",
       "      <td>이태원압사참사</td>\n",
       "      <td>NaN</td>\n",
       "    </tr>\n",
       "    <tr>\n",
       "      <th>...</th>\n",
       "      <td>...</td>\n",
       "      <td>...</td>\n",
       "      <td>...</td>\n",
       "      <td>...</td>\n",
       "      <td>...</td>\n",
       "      <td>...</td>\n",
       "      <td>...</td>\n",
       "      <td>...</td>\n",
       "      <td>...</td>\n",
       "      <td>...</td>\n",
       "    </tr>\n",
       "    <tr>\n",
       "      <th>4182</th>\n",
       "      <td>AKR20221030012453004</td>\n",
       "      <td>[이태원 참사] 실종신고 3천건 넘어…서울광장에 합동분향소(종합3보)</td>\n",
       "      <td>실종신고 3천건 넘어서울광장에 합동분향소 서울시 내일부터 분향소 운영화장시설 가동횟...</td>\n",
       "      <td>[{'code': 'QT', 'word': '3천건'}, {'code': 'LC',...</td>\n",
       "      <td>['서울시', '이태원관광특구협의회', '애도기간']</td>\n",
       "      <td>2022-10-30T14:34:51</td>\n",
       "      <td>['서울시는 29일 밤 용산구 이태원에서 발생한 압사 참사와 관련해 30일 오후 2...</td>\n",
       "      <td>[{'code': '0107001', 'name': '지방행정'}, {'code':...</td>\n",
       "      <td>이태원압사참사</td>\n",
       "      <td>NaN</td>\n",
       "    </tr>\n",
       "    <tr>\n",
       "      <th>4203</th>\n",
       "      <td>AKR20221030012452004</td>\n",
       "      <td>[이태원 참사] 실종 신고 2642건…서울광장에 합동분향소(종합2보)</td>\n",
       "      <td>실종 신고 2642건서울광장에 합동분향소 서울시 내일부터 분향소 운영화장시설 가동횟...</td>\n",
       "      <td>[{'code': 'QT', 'word': '2642건'}, {'code': 'LC...</td>\n",
       "      <td>['서울시', '애도기간', '이태원관광특구협의회']</td>\n",
       "      <td>2022-10-30T13:36:46</td>\n",
       "      <td>['서울시는 29일 밤 용산구 이태원에서 발생한 압사 참사와 관련해 30일 낮 12...</td>\n",
       "      <td>[{'code': '0107001', 'name': '지방행정'}, {'code':...</td>\n",
       "      <td>이태원압사참사</td>\n",
       "      <td>NaN</td>\n",
       "    </tr>\n",
       "    <tr>\n",
       "      <th>4254</th>\n",
       "      <td>AKR20221030028100061</td>\n",
       "      <td>[이태원 참사] 김동연 \"조속한 수습과 재발 방지에 최선\"(종합)</td>\n",
       "      <td>김동연 조속한 수습과 재발 방지에 최선 소방재난본부 긴급대책회의 중대본과 협력해 경...</td>\n",
       "      <td>[{'code': 'PS', 'word': '김동연'}, {'code': 'CV',...</td>\n",
       "      <td>['경기도소방재난본부', '수습', '지원', '0312306653']</td>\n",
       "      <td>2022-10-30T10:59:11</td>\n",
       "      <td>['김동연 경기도지사는 30일 \\'이태원 핼러윈 압사 참사\\'와 관련 \"사고의 조속...</td>\n",
       "      <td>[{'code': '0501001', 'name': '사회일반'}, {'code':...</td>\n",
       "      <td>이태원압사참사</td>\n",
       "      <td>NaN</td>\n",
       "    </tr>\n",
       "    <tr>\n",
       "      <th>4273</th>\n",
       "      <td>AKR20221030020251504</td>\n",
       "      <td>[이태원 참사] 박진, 긴급 대책회의…외국인 사상자 관련 보고받아(종합)</td>\n",
       "      <td>박진 긴급 대책회의외국인 사상자 관련 보고받아 외국인 통역 등 지원 외교부 직원 급...</td>\n",
       "      <td>[{'code': 'PS', 'word': '박진'}, {'code': 'CV', ...</td>\n",
       "      <td>['중앙재난안전대책본부', '사상자', '재외공관', '해외안전지킴센터', '압사'...</td>\n",
       "      <td>2022-10-30T10:23:05</td>\n",
       "      <td>['박 장관은 이날 외교부 종합상황실에서 열린 회의에서 이태원 사고 사상자 가운데 ...</td>\n",
       "      <td>[{'code': '0108001', 'name': '외교일반'}, {'code':...</td>\n",
       "      <td>이태원압사참사</td>\n",
       "      <td>NaN</td>\n",
       "    </tr>\n",
       "    <tr>\n",
       "      <th>4316</th>\n",
       "      <td>AKR20221030005651530</td>\n",
       "      <td>복지부 \"이태원 참사에 서울-경기 15개 재난의료지원팀 출동\"(종합)</td>\n",
       "      <td>복지부 이태원 참사에 서울 경기 15개 재난의료지원팀 출동 부상자 순천향서울병원 국...</td>\n",
       "      <td>[{'code': 'OG', 'word': '복지부'}, {'code': 'EV',...</td>\n",
       "      <td>['현장응급의료소', '이대서울병원', '보건복지부', '압사', '중증', '인명...</td>\n",
       "      <td>2022-10-30T04:25:21</td>\n",
       "      <td>['보건복지부가 29일 밤 발생한 이태원 압사 참사와 관련해 15개 재난의료지원팀이...</td>\n",
       "      <td>[{'code': '0507009', 'name': '응급의료'}, {'code':...</td>\n",
       "      <td>이태원압사참사</td>\n",
       "      <td>NaN</td>\n",
       "    </tr>\n",
       "  </tbody>\n",
       "</table>\n",
       "<p>109 rows × 10 columns</p>\n",
       "</div>"
      ],
      "text/plain": [
       "                       _id                  YNewsML.NewsContent.Title  \\\n",
       "181   AKR20221227129951004              서울시·용산구, 이태원 참사 관련 실무진 교체(종합)   \n",
       "182   AKR20221227111351530    이상민, '중대본 촌각 다투는 일 아냐' 발언 \"적절치 않았다\"(종합)   \n",
       "602   AKR20221220142452001   與, '이태원 참사' 국조특위 복귀…유가족 만난 뒤 전격 결정(종합2보)   \n",
       "607   AKR20221220142451001     與, '이태원 참사' 국조특위 복귀…유가족 만난 뒤 전격 결정(종합)   \n",
       "1267  AKR20221202043851530  [이태원 참사] 중대본 운영 33일만에 종료…원스톱센터·지원단 체제(종합)   \n",
       "...                    ...                                        ...   \n",
       "4182  AKR20221030012453004     [이태원 참사] 실종신고 3천건 넘어…서울광장에 합동분향소(종합3보)   \n",
       "4203  AKR20221030012452004     [이태원 참사] 실종 신고 2642건…서울광장에 합동분향소(종합2보)   \n",
       "4254  AKR20221030028100061       [이태원 참사] 김동연 \"조속한 수습과 재발 방지에 최선\"(종합)   \n",
       "4273  AKR20221030020251504   [이태원 참사] 박진, 긴급 대책회의…외국인 사상자 관련 보고받아(종합)   \n",
       "4316  AKR20221030005651530     복지부 \"이태원 참사에 서울-경기 15개 재난의료지원팀 출동\"(종합)   \n",
       "\n",
       "                               YNewsML.NewsContent.Body  \\\n",
       "181   서울시 용산구 이태원 참사 관련 실무진 교체 신년 정기인사구청장 구속된 용산구 직무...   \n",
       "182   이상민 '중대본 촌각 다투는 일 아냐' 발언 적절치 않았다 서울시가 개인정보 보호 ...   \n",
       "602   與 '이태원 참사' 국조특위 복귀유가족 만난 뒤 전격 결정 주호영 특위 위원 사의 ...   \n",
       "607   與 '이태원 참사' 국조특위 복귀유가족 만난 뒤 전격 결정 주호영 특위 위원들 사퇴...   \n",
       "1267  중대본 운영 33일만에 종료원스톱센터 지원단 체제 김윤구 기자 = 정부가 10월 2...   \n",
       "...                                                 ...   \n",
       "4182  실종신고 3천건 넘어서울광장에 합동분향소 서울시 내일부터 분향소 운영화장시설 가동횟...   \n",
       "4203  실종 신고 2642건서울광장에 합동분향소 서울시 내일부터 분향소 운영화장시설 가동횟...   \n",
       "4254  김동연 조속한 수습과 재발 방지에 최선 소방재난본부 긴급대책회의 중대본과 협력해 경...   \n",
       "4273  박진 긴급 대책회의외국인 사상자 관련 보고받아 외국인 통역 등 지원 외교부 직원 급...   \n",
       "4316  복지부 이태원 참사에 서울 경기 15개 재난의료지원팀 출동 부상자 순천향서울병원 국...   \n",
       "\n",
       "                                            NamedEntity  \\\n",
       "181   [{'code': 'OG', 'word': '서울시'}, {'code': 'LC',...   \n",
       "182   [{'code': 'PS', 'word': '이상민'}, {'code': 'OG',...   \n",
       "602   [{'code': 'EV', 'word': '이태원 참사'}, {'code': 'O...   \n",
       "607   [{'code': 'EV', 'word': '이태원 참사'}, {'code': 'O...   \n",
       "1267  [{'code': 'OG', 'word': '중대본'}, {'code': 'DT',...   \n",
       "...                                                 ...   \n",
       "4182  [{'code': 'QT', 'word': '3천건'}, {'code': 'LC',...   \n",
       "4203  [{'code': 'QT', 'word': '2642건'}, {'code': 'LC...   \n",
       "4254  [{'code': 'PS', 'word': '김동연'}, {'code': 'CV',...   \n",
       "4273  [{'code': 'PS', 'word': '박진'}, {'code': 'CV', ...   \n",
       "4316  [{'code': 'OG', 'word': '복지부'}, {'code': 'EV',...   \n",
       "\n",
       "                                                Keyword       send_timestamp  \\\n",
       "181                     ['용산구', '인사', '안전총괄과장', '부구청장']  2022-12-27T19:24:54   \n",
       "182         ['중앙재난안전대책본부', '응급조치', '장관', '이상민', '현장조사']  2022-12-27T17:49:59   \n",
       "602               ['국정조사', '참여', '원내대표실', '간담회', '유가족']  2022-12-20T20:45:56   \n",
       "607                                      ['국정조사', '동행']  2022-12-20T18:10:00   \n",
       "1267  ['중앙재난안전대책본부', '원스톱지원센터', '추모공간', '종료', '처리', ...  2022-12-02T11:06:29   \n",
       "...                                                 ...                  ...   \n",
       "4182                      ['서울시', '이태원관광특구협의회', '애도기간']  2022-10-30T14:34:51   \n",
       "4203                      ['서울시', '애도기간', '이태원관광특구협의회']  2022-10-30T13:36:46   \n",
       "4254            ['경기도소방재난본부', '수습', '지원', '0312306653']  2022-10-30T10:59:11   \n",
       "4273  ['중앙재난안전대책본부', '사상자', '재외공관', '해외안전지킴센터', '압사'...  2022-10-30T10:23:05   \n",
       "4316  ['현장응급의료소', '이대서울병원', '보건복지부', '압사', '중증', '인명...  2022-10-30T04:25:21   \n",
       "\n",
       "                                          Summarization  \\\n",
       "181   ['서울 용산구(구청장 박희영)가 신년 정기 인사에서 이태원 참사 당시 관련 실무를...   \n",
       "182   ['지난 23일 이태원 사고 중앙재난안전대책본부(중대본) 가동이 늦었다는 지적에 \"...   \n",
       "602   ['국민의힘 소속 특위 위원들은 이날 오후 국회에서 기자회견을 열어 \"야당의 일방적...   \n",
       "607   ['국민의힘 소속 특위 위원들은 이날 오후 국회에서 기자회견을 열어 \"야당의 일방적...   \n",
       "1267  ['이상민 중대본 제2차장(행정안전부 장관)은 이날 정부서울청사에서 열린 중대본 회...   \n",
       "...                                                 ...   \n",
       "4182  ['서울시는 29일 밤 용산구 이태원에서 발생한 압사 참사와 관련해 30일 오후 2...   \n",
       "4203  ['서울시는 29일 밤 용산구 이태원에서 발생한 압사 참사와 관련해 30일 낮 12...   \n",
       "4254  ['김동연 경기도지사는 30일 \\'이태원 핼러윈 압사 참사\\'와 관련 \"사고의 조속...   \n",
       "4273  ['박 장관은 이날 외교부 종합상황실에서 열린 회의에서 이태원 사고 사상자 가운데 ...   \n",
       "4316  ['보건복지부가 29일 밤 발생한 이태원 압사 참사와 관련해 15개 재난의료지원팀이...   \n",
       "\n",
       "                       YNewsML.Metadata.Class.ClassCode key+jaccard reason  \n",
       "181   [{'code': '0107001', 'name': '지방행정'}, {'code':...     이태원압사참사    NaN  \n",
       "182   [{'code': '0501018', 'name': '재난일반'}, {'code':...     이태원압사참사    NaN  \n",
       "602   [{'code': '0501018', 'name': '재난일반'}, {'code':...     이태원압사참사    NaN  \n",
       "607   [{'code': '0501018', 'name': '재난일반'}, {'code':...     이태원압사참사    NaN  \n",
       "1267  [{'code': '0501018', 'name': '재난일반'}, {'code':...     이태원압사참사    NaN  \n",
       "...                                                 ...         ...    ...  \n",
       "4182  [{'code': '0107001', 'name': '지방행정'}, {'code':...     이태원압사참사    NaN  \n",
       "4203  [{'code': '0107001', 'name': '지방행정'}, {'code':...     이태원압사참사    NaN  \n",
       "4254  [{'code': '0501001', 'name': '사회일반'}, {'code':...     이태원압사참사    NaN  \n",
       "4273  [{'code': '0108001', 'name': '외교일반'}, {'code':...     이태원압사참사    NaN  \n",
       "4316  [{'code': '0507009', 'name': '응급의료'}, {'code':...     이태원압사참사    NaN  \n",
       "\n",
       "[109 rows x 10 columns]"
      ]
     },
     "execution_count": 31,
     "metadata": {},
     "output_type": "execute_result"
    }
   ],
   "source": [
    "cond1 = df['key+jaccard'] == '이태원압사참사'\n",
    "cond2 = df['YNewsML.NewsContent.Title'].str.contains('종합')\n",
    "\n",
    "df.loc[cond1&cond2]"
   ]
  },
  {
   "cell_type": "code",
   "execution_count": null,
   "id": "7baf0346",
   "metadata": {},
   "outputs": [],
   "source": []
  }
 ],
 "metadata": {
  "kernelspec": {
   "display_name": "Pororo",
   "language": "python",
   "name": "pororo"
  },
  "language_info": {
   "codemirror_mode": {
    "name": "ipython",
    "version": 3
   },
   "file_extension": ".py",
   "mimetype": "text/x-python",
   "name": "python",
   "nbconvert_exporter": "python",
   "pygments_lexer": "ipython3",
   "version": "3.7.12"
  },
  "toc": {
   "base_numbering": 1,
   "nav_menu": {},
   "number_sections": true,
   "sideBar": true,
   "skip_h1_title": false,
   "title_cell": "Table of Contents",
   "title_sidebar": "Contents",
   "toc_cell": false,
   "toc_position": {
    "height": "calc(100% - 180px)",
    "left": "10px",
    "top": "150px",
    "width": "170.225px"
   },
   "toc_section_display": true,
   "toc_window_display": true
  }
 },
 "nbformat": 4,
 "nbformat_minor": 5
}
