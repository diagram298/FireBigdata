{
 "cells": [
  {
   "cell_type": "code",
   "execution_count": 10,
   "id": "a0a02989",
   "metadata": {
    "ExecuteTime": {
     "end_time": "2023-02-22T00:36:40.878719Z",
     "start_time": "2023-02-22T00:36:40.876628Z"
    }
   },
   "outputs": [],
   "source": [
    "import pandas as pd"
   ]
  },
  {
   "cell_type": "code",
   "execution_count": 56,
   "id": "2e93a185",
   "metadata": {
    "ExecuteTime": {
     "end_time": "2023-02-22T05:42:09.070299Z",
     "start_time": "2023-02-22T05:42:09.036547Z"
    }
   },
   "outputs": [],
   "source": [
    "df = pd.read_excel('MRC_분류 (1).xlsx', sheet_name='Sheet2',header=None)"
   ]
  },
  {
   "cell_type": "code",
   "execution_count": 57,
   "id": "d751ec59",
   "metadata": {
    "ExecuteTime": {
     "end_time": "2023-02-22T05:42:09.671718Z",
     "start_time": "2023-02-22T05:42:09.668336Z"
    }
   },
   "outputs": [],
   "source": [
    "df = df.rename(columns={0:'reason_word',1:'reason_middle'}).drop(2,axis=1)"
   ]
  },
  {
   "cell_type": "code",
   "execution_count": 59,
   "id": "cda269d8",
   "metadata": {
    "ExecuteTime": {
     "end_time": "2023-02-22T05:42:13.126178Z",
     "start_time": "2023-02-22T05:42:13.121451Z"
    },
    "scrolled": true
   },
   "outputs": [],
   "source": [
    "df1 = df[['reason_word','reason_middle']].groupby('reason_middle').sum().reset_index()"
   ]
  },
  {
   "cell_type": "code",
   "execution_count": 60,
   "id": "2a9c54a7",
   "metadata": {
    "ExecuteTime": {
     "end_time": "2023-02-22T05:42:13.570211Z",
     "start_time": "2023-02-22T05:42:13.564538Z"
    }
   },
   "outputs": [
    {
     "data": {
      "text/html": [
       "<div>\n",
       "<style scoped>\n",
       "    .dataframe tbody tr th:only-of-type {\n",
       "        vertical-align: middle;\n",
       "    }\n",
       "\n",
       "    .dataframe tbody tr th {\n",
       "        vertical-align: top;\n",
       "    }\n",
       "\n",
       "    .dataframe thead th {\n",
       "        text-align: right;\n",
       "    }\n",
       "</style>\n",
       "<table border=\"1\" class=\"dataframe\">\n",
       "  <thead>\n",
       "    <tr style=\"text-align: right;\">\n",
       "      <th></th>\n",
       "      <th>reason_middle</th>\n",
       "      <th>reason_word</th>\n",
       "    </tr>\n",
       "  </thead>\n",
       "  <tbody>\n",
       "    <tr>\n",
       "      <th>0</th>\n",
       "      <td>가스누출(폭발)</td>\n",
       "      <td>'짧고 강한 연소', '가스폭발', '산소탱크 폭발', '폐석유 탱크 누출', '...</td>\n",
       "    </tr>\n",
       "    <tr>\n",
       "      <th>1</th>\n",
       "      <td>교통사고</td>\n",
       "      <td>'차량 충돌', '3중 추돌 사고',</td>\n",
       "    </tr>\n",
       "    <tr>\n",
       "      <th>2</th>\n",
       "      <td>기계적 요인</td>\n",
       "      <td>'화목 난로의 연통이 과열', '랜턴 배터리가 과열', '연통이 과열', '택배 ...</td>\n",
       "    </tr>\n",
       "    <tr>\n",
       "      <th>3</th>\n",
       "      <td>미상</td>\n",
       "      <td>'화재 원인', '정확한 화재 원인', '고양이', '화재 원인과 재산 피해', ...</td>\n",
       "    </tr>\n",
       "    <tr>\n",
       "      <th>4</th>\n",
       "      <td>방화</td>\n",
       "      <td>'방화', '방화나 실화', 'PKK의 방화',</td>\n",
       "    </tr>\n",
       "    <tr>\n",
       "      <th>5</th>\n",
       "      <td>방화의심</td>\n",
       "      <td>'방화 추정', 'A씨가 불을 냈을 가능성',</td>\n",
       "    </tr>\n",
       "    <tr>\n",
       "      <th>6</th>\n",
       "      <td>부주의</td>\n",
       "      <td>'화목난로', '담뱃갑과 담배꽁초', '부주의', '성묘객 실화', '담배꽁초 등...</td>\n",
       "    </tr>\n",
       "    <tr>\n",
       "      <th>7</th>\n",
       "      <td>자연적인 요인</td>\n",
       "      <td>'벼락', '폭염과 강풍', '강풍', '실내 열 축적', '지진', '강한 바람...</td>\n",
       "    </tr>\n",
       "    <tr>\n",
       "      <th>8</th>\n",
       "      <td>전기적요인</td>\n",
       "      <td>'변전실', '변압기', '전기장판', '전기적 요인', '정전기', '창고 전선...</td>\n",
       "    </tr>\n",
       "    <tr>\n",
       "      <th>9</th>\n",
       "      <td>제품결함</td>\n",
       "      <td>'배터리 셀 제조 불량', '배터리셀 불량', '배터리셀 제조불량 내부합선', '...</td>\n",
       "    </tr>\n",
       "    <tr>\n",
       "      <th>10</th>\n",
       "      <td>화학적 요인</td>\n",
       "      <td>'배터리 문제', '배터리 결함', '화학물질 유출', '배터리', '시너 냄새'...</td>\n",
       "    </tr>\n",
       "  </tbody>\n",
       "</table>\n",
       "</div>"
      ],
      "text/plain": [
       "   reason_middle                                        reason_word\n",
       "0       가스누출(폭발)   '짧고 강한 연소', '가스폭발', '산소탱크 폭발', '폐석유 탱크 누출', '...\n",
       "1           교통사고                               '차량 충돌', '3중 추돌 사고',\n",
       "2         기계적 요인   '화목 난로의 연통이 과열', '랜턴 배터리가 과열', '연통이 과열', '택배 ...\n",
       "3             미상   '화재 원인', '정확한 화재 원인', '고양이', '화재 원인과 재산 피해', ...\n",
       "4             방화                         '방화', '방화나 실화', 'PKK의 방화',\n",
       "5           방화의심                          '방화 추정', 'A씨가 불을 냈을 가능성',\n",
       "6            부주의   '화목난로', '담뱃갑과 담배꽁초', '부주의', '성묘객 실화', '담배꽁초 등...\n",
       "7        자연적인 요인   '벼락', '폭염과 강풍', '강풍', '실내 열 축적', '지진', '강한 바람...\n",
       "8          전기적요인   '변전실', '변압기', '전기장판', '전기적 요인', '정전기', '창고 전선...\n",
       "9           제품결함   '배터리 셀 제조 불량', '배터리셀 불량', '배터리셀 제조불량 내부합선', '...\n",
       "10        화학적 요인   '배터리 문제', '배터리 결함', '화학물질 유출', '배터리', '시너 냄새'..."
      ]
     },
     "execution_count": 60,
     "metadata": {},
     "output_type": "execute_result"
    }
   ],
   "source": [
    "df1"
   ]
  },
  {
   "cell_type": "code",
   "execution_count": 61,
   "id": "71a10e0e",
   "metadata": {
    "ExecuteTime": {
     "end_time": "2023-02-22T05:42:14.078971Z",
     "start_time": "2023-02-22T05:42:14.075647Z"
    }
   },
   "outputs": [],
   "source": [
    "df1.to_csv('reason.csv',encoding='utf-8-sig',index=False)"
   ]
  },
  {
   "cell_type": "code",
   "execution_count": 62,
   "id": "61d42e06",
   "metadata": {
    "ExecuteTime": {
     "end_time": "2023-02-22T05:42:14.550844Z",
     "start_time": "2023-02-22T05:42:14.546160Z"
    }
   },
   "outputs": [],
   "source": [
    "df2 = pd.DataFrame(df[['reason_middle']].value_counts()).reset_index().rename(columns = {0:'counts'})"
   ]
  },
  {
   "cell_type": "code",
   "execution_count": 63,
   "id": "374174cc",
   "metadata": {
    "ExecuteTime": {
     "end_time": "2023-02-22T05:42:15.598353Z",
     "start_time": "2023-02-22T05:42:15.593297Z"
    }
   },
   "outputs": [
    {
     "data": {
      "text/html": [
       "<div>\n",
       "<style scoped>\n",
       "    .dataframe tbody tr th:only-of-type {\n",
       "        vertical-align: middle;\n",
       "    }\n",
       "\n",
       "    .dataframe tbody tr th {\n",
       "        vertical-align: top;\n",
       "    }\n",
       "\n",
       "    .dataframe thead th {\n",
       "        text-align: right;\n",
       "    }\n",
       "</style>\n",
       "<table border=\"1\" class=\"dataframe\">\n",
       "  <thead>\n",
       "    <tr style=\"text-align: right;\">\n",
       "      <th></th>\n",
       "      <th>reason_middle</th>\n",
       "      <th>counts</th>\n",
       "    </tr>\n",
       "  </thead>\n",
       "  <tbody>\n",
       "    <tr>\n",
       "      <th>0</th>\n",
       "      <td>미상</td>\n",
       "      <td>140</td>\n",
       "    </tr>\n",
       "    <tr>\n",
       "      <th>1</th>\n",
       "      <td>부주의</td>\n",
       "      <td>54</td>\n",
       "    </tr>\n",
       "    <tr>\n",
       "      <th>2</th>\n",
       "      <td>전기적요인</td>\n",
       "      <td>46</td>\n",
       "    </tr>\n",
       "    <tr>\n",
       "      <th>3</th>\n",
       "      <td>기계적 요인</td>\n",
       "      <td>25</td>\n",
       "    </tr>\n",
       "    <tr>\n",
       "      <th>4</th>\n",
       "      <td>화학적 요인</td>\n",
       "      <td>18</td>\n",
       "    </tr>\n",
       "    <tr>\n",
       "      <th>5</th>\n",
       "      <td>가스누출(폭발)</td>\n",
       "      <td>15</td>\n",
       "    </tr>\n",
       "    <tr>\n",
       "      <th>6</th>\n",
       "      <td>자연적인 요인</td>\n",
       "      <td>7</td>\n",
       "    </tr>\n",
       "    <tr>\n",
       "      <th>7</th>\n",
       "      <td>제품결함</td>\n",
       "      <td>6</td>\n",
       "    </tr>\n",
       "    <tr>\n",
       "      <th>8</th>\n",
       "      <td>방화</td>\n",
       "      <td>3</td>\n",
       "    </tr>\n",
       "    <tr>\n",
       "      <th>9</th>\n",
       "      <td>교통사고</td>\n",
       "      <td>2</td>\n",
       "    </tr>\n",
       "    <tr>\n",
       "      <th>10</th>\n",
       "      <td>방화의심</td>\n",
       "      <td>2</td>\n",
       "    </tr>\n",
       "  </tbody>\n",
       "</table>\n",
       "</div>"
      ],
      "text/plain": [
       "   reason_middle  counts\n",
       "0             미상     140\n",
       "1            부주의      54\n",
       "2          전기적요인      46\n",
       "3         기계적 요인      25\n",
       "4         화학적 요인      18\n",
       "5       가스누출(폭발)      15\n",
       "6        자연적인 요인       7\n",
       "7           제품결함       6\n",
       "8             방화       3\n",
       "9           교통사고       2\n",
       "10          방화의심       2"
      ]
     },
     "execution_count": 63,
     "metadata": {},
     "output_type": "execute_result"
    }
   ],
   "source": [
    "df2"
   ]
  },
  {
   "cell_type": "code",
   "execution_count": null,
   "id": "70195bd9",
   "metadata": {},
   "outputs": [],
   "source": []
  },
  {
   "cell_type": "code",
   "execution_count": null,
   "id": "ded37ef0",
   "metadata": {},
   "outputs": [],
   "source": []
  },
  {
   "cell_type": "code",
   "execution_count": null,
   "id": "1ce51d0c",
   "metadata": {},
   "outputs": [],
   "source": []
  }
 ],
 "metadata": {
  "kernelspec": {
   "display_name": "Python 3",
   "language": "python",
   "name": "python3"
  },
  "language_info": {
   "codemirror_mode": {
    "name": "ipython",
    "version": 3
   },
   "file_extension": ".py",
   "mimetype": "text/x-python",
   "name": "python",
   "nbconvert_exporter": "python",
   "pygments_lexer": "ipython3",
   "version": "3.9.0"
  },
  "toc": {
   "base_numbering": 1,
   "nav_menu": {},
   "number_sections": true,
   "sideBar": true,
   "skip_h1_title": false,
   "title_cell": "Table of Contents",
   "title_sidebar": "Contents",
   "toc_cell": false,
   "toc_position": {
    "height": "calc(100% - 180px)",
    "left": "10px",
    "top": "150px",
    "width": "237.225px"
   },
   "toc_section_display": true,
   "toc_window_display": true
  }
 },
 "nbformat": 4,
 "nbformat_minor": 5
}
