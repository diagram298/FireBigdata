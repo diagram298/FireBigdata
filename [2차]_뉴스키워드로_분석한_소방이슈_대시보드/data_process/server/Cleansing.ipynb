{
 "cells": [
  {
   "cell_type": "code",
   "execution_count": 1,
   "id": "038f7b7e",
   "metadata": {},
   "outputs": [],
   "source": [
    "import pandas as pd\n",
    "import numpy as np\n",
    "import re\n",
    "from tqdm import tqdm\n",
    "from kiwipiepy import Kiwi\n",
    "\n",
    "tqdm.pandas()"
   ]
  },
  {
   "cell_type": "code",
   "execution_count": 2,
   "id": "01938d04",
   "metadata": {},
   "outputs": [],
   "source": [
    "df = pd.read_csv('df_all_small1.csv',encoding='utf-8-sig')"
   ]
  },
  {
   "cell_type": "code",
   "execution_count": 3,
   "id": "6b7d1433",
   "metadata": {},
   "outputs": [],
   "source": [
    "def cleansing(body, mode=None):\n",
    "    if type(body) == np.ndarray:\n",
    "        body = np.round(body.tolist(), 5)\n",
    "        body = body.tolist()\n",
    "        return body\n",
    "    else:\n",
    "        body = re.sub('<YNAOBJECT.*?/YNAOBJECT>', '', body, 0, re.I|re.S) # YNAOBJECT 태그 제거\n",
    "        body = re.sub('<table.*?/table>', '', body, 0, re.I|re.S) # table 태그 제거\n",
    "        \n",
    "        if mode == 'meta':\n",
    "            try:\n",
    "                body = body[re.search(\"\\(.*?연합뉴스\\).*?=\", body).span()[0]:]\n",
    "            except AttributeError:\n",
    "                pass\n",
    "            return body\n",
    "        \n",
    "        if mode == 'sum':\n",
    "            try:\n",
    "                body = body[re.search(\"\\(.*?연합뉴스\\).*?=\", body).span()[1]:]\n",
    "            except AttributeError:\n",
    "                pass\n",
    "            \n",
    "        \n",
    "        body = re.sub(r'\\([^)]*\\)', '', body, 0, re.I|re.S) # 괄호안 내용 제거\n",
    "        body = re.sub(r'\\[.*\\]|\\s-\\s.*', '', body, 0, re.I|re.S) # 괄호안 내용 제거\n",
    "        body = re.sub(r'\\<.*\\>|\\s-\\s.*', '', body, 0, re.I|re.S) # 괄호안 내용 제거\n",
    "        body = re.sub('·', ' ', body, 0, re.I|re.S) # 변환\n",
    "        body = re.sub('-', ' ', body, 0, re.I|re.S) # 변환\n",
    "        body = re.sub('\\(.*?연합뉴스\\).*?=', '', body, 0, re.I|re.S) # 기자명 및 기자소속 제거\n",
    "        body = re.sub('\\(서울.*?연합뉴스\\)', '', body, 0, re.I|re.S) # 기자소속 제거\n",
    "        body = re.sub('yna.co.kr', '', body, 0, re.I|re.S) # 연합 url 제거\n",
    "        body = re.sub('([a-zA-Z0-9\\_.+-]+@[a-zA-Z0-9-]+\\.[a-zA-Z0-9-.]+)', '', body, 0, re.I|re.S) # E-mail 제거\n",
    "        body = re.sub('(http|ftp|https)://(?:[-\\w.]|(?:%[\\da-fA-F]{2}))+', '', body, 0, re.I|re.S) # URL 제거\n",
    "#         body = re.sub('([0-9\\_.+-]+억[0-9-]+천[0-9-]+만원)', '', body, 0, re.I|re.S) # 억천만 제거\n",
    "#         body = re.sub('([0-9\\_.+-]+천[0-9-]+억원)', '', body, 0, re.I|re.S) # 억천만 제거\n",
    "#         body = re.sub('([0-9\\_.+-]+억[0-9-]+천[0-9-]+달러)', '', body, 0, re.I|re.S) # 억천만 제거\n",
    "#         body = re.sub('([0-9\\_.+-]+억[0-9-]+천만달러)', '', body, 0, re.I|re.S) # 억천만 제거\n",
    "#         body = re.sub('([0-9\\_.+-]+천[0-9-]+만원)', '', body, 0, re.I|re.S) # 천만 제거\n",
    "#         body = re.sub('([0-9\\_.+-]+천[0-9-]+달러)', '', body, 0, re.I|re.S) # 천만 제거\n",
    "#         body = re.sub('([0-9\\_.+-]+만원)', '', body, 0, re.I|re.S) # 만 제거\n",
    "#         body = re.sub('([0-9\\_.+-]+만[0-9-]천[0-9-]+원)', '', body, 0, re.I|re.S) # 만 제거\n",
    "        body = re.sub('전문보기.*?\\n', '', body, 0, re.I|re.S) # 전문보기 제거\n",
    "        body = re.sub('&lt;.*?&gt;&gt;', '', body, 0, re.I|re.S) # 기타 안내문 제거\n",
    "        body = re.sub('&lt;.*?&gt;', '', body, 0, re.I|re.S) # '&gt;'가 1개인 안내문 제거\n",
    "        body = re.sub('&apos;', \"'\", body, 0, re.I|re.S) # &apos; ' 변환\n",
    "        body = re.sub('&amp;', \"&\", body, 0, re.I|re.S) # &amp;; ' 변환        \n",
    "        body = re.sub('-.*?_.*?\\(끝\\)', '', body, 0, re.I|re.S) # 9001887 속성에만 존재하는 불용어 제거\n",
    "        body = re.sub('[#@*※|》■▲▼◀▶◇☎]-<>=+·↑', '', body, 0, re.I|re.S) # 특수문자 제거\n",
    "        body = re.sub('…', '', body, 0, re.I|re.S) # … 제거\n",
    "        body = re.sub('\\(끝\\)', '', body, 0, re.I|re.S) # 끝 태그 제거\n",
    "        body = re.sub('[\"\"]', '', body, 0, re.I|re.S) # \"\" 제거\n",
    "        body = re.sub(r'[^ A-Za-z가-힣+]',' ' , body, 0, re.I|re.S) # 한글, 알파벳을 제외한 나머지 제거\n",
    "\n",
    "\n",
    "        paragraphs = body.split('\\r\\n') # 단락 분리\n",
    "        if ' 기자' in paragraphs[-1]: del paragraphs[-1] # 끝 단락 기자명 제거\n",
    "        body = []\n",
    "        for paragraph in paragraphs:\n",
    "            paragraph = re.sub('\\[.+?\\]', '', paragraph, 0, re.I|re.S)\n",
    "            paragraph = ' '.join(paragraph.split()) # 문자열 중간 다중 공백 제거\n",
    "            if len(paragraph) > 0:\n",
    "                body.append(paragraph)\n",
    "        \n",
    "        if mode == 'quot':\n",
    "            return body\n",
    "        else:\n",
    "            return ' '.join(body)"
   ]
  },
  {
   "cell_type": "code",
   "execution_count": 4,
   "id": "40b95d35",
   "metadata": {},
   "outputs": [
    {
     "data": {
      "text/plain": [
       "Index(['YNewsML.NewsContent.Title', 'YNewsML.NewsContent.Body', 'NamedEntity'], dtype='object')"
      ]
     },
     "execution_count": 4,
     "metadata": {},
     "output_type": "execute_result"
    }
   ],
   "source": [
    "df.columns"
   ]
  },
  {
   "cell_type": "code",
   "execution_count": 5,
   "id": "5a6d4028",
   "metadata": {},
   "outputs": [
    {
     "ename": "KeyError",
     "evalue": "\"['clean', 'YNewsML.Header.SendDate'] not in index\"",
     "output_type": "error",
     "traceback": [
      "\u001b[0;31m---------------------------------------------------------------------------\u001b[0m",
      "\u001b[0;31mKeyError\u001b[0m                                  Traceback (most recent call last)",
      "Cell \u001b[0;32mIn[5], line 1\u001b[0m\n\u001b[0;32m----> 1\u001b[0m df \u001b[39m=\u001b[39m df[[\u001b[39m'\u001b[39;49m\u001b[39mYNewsML.NewsContent.Title\u001b[39;49m\u001b[39m'\u001b[39;49m,\u001b[39m'\u001b[39;49m\u001b[39mclean\u001b[39;49m\u001b[39m'\u001b[39;49m,\u001b[39m'\u001b[39;49m\u001b[39mYNewsML.Header.SendDate\u001b[39;49m\u001b[39m'\u001b[39;49m]]\n",
      "File \u001b[0;32m~/anaconda3/envs/intern/lib/python3.9/site-packages/pandas/core/frame.py:3811\u001b[0m, in \u001b[0;36mDataFrame.__getitem__\u001b[0;34m(self, key)\u001b[0m\n\u001b[1;32m   3809\u001b[0m     \u001b[39mif\u001b[39;00m is_iterator(key):\n\u001b[1;32m   3810\u001b[0m         key \u001b[39m=\u001b[39m \u001b[39mlist\u001b[39m(key)\n\u001b[0;32m-> 3811\u001b[0m     indexer \u001b[39m=\u001b[39m \u001b[39mself\u001b[39;49m\u001b[39m.\u001b[39;49mcolumns\u001b[39m.\u001b[39;49m_get_indexer_strict(key, \u001b[39m\"\u001b[39;49m\u001b[39mcolumns\u001b[39;49m\u001b[39m\"\u001b[39;49m)[\u001b[39m1\u001b[39m]\n\u001b[1;32m   3813\u001b[0m \u001b[39m# take() does not accept boolean indexers\u001b[39;00m\n\u001b[1;32m   3814\u001b[0m \u001b[39mif\u001b[39;00m \u001b[39mgetattr\u001b[39m(indexer, \u001b[39m\"\u001b[39m\u001b[39mdtype\u001b[39m\u001b[39m\"\u001b[39m, \u001b[39mNone\u001b[39;00m) \u001b[39m==\u001b[39m \u001b[39mbool\u001b[39m:\n",
      "File \u001b[0;32m~/anaconda3/envs/intern/lib/python3.9/site-packages/pandas/core/indexes/base.py:6113\u001b[0m, in \u001b[0;36mIndex._get_indexer_strict\u001b[0;34m(self, key, axis_name)\u001b[0m\n\u001b[1;32m   6110\u001b[0m \u001b[39melse\u001b[39;00m:\n\u001b[1;32m   6111\u001b[0m     keyarr, indexer, new_indexer \u001b[39m=\u001b[39m \u001b[39mself\u001b[39m\u001b[39m.\u001b[39m_reindex_non_unique(keyarr)\n\u001b[0;32m-> 6113\u001b[0m \u001b[39mself\u001b[39;49m\u001b[39m.\u001b[39;49m_raise_if_missing(keyarr, indexer, axis_name)\n\u001b[1;32m   6115\u001b[0m keyarr \u001b[39m=\u001b[39m \u001b[39mself\u001b[39m\u001b[39m.\u001b[39mtake(indexer)\n\u001b[1;32m   6116\u001b[0m \u001b[39mif\u001b[39;00m \u001b[39misinstance\u001b[39m(key, Index):\n\u001b[1;32m   6117\u001b[0m     \u001b[39m# GH 42790 - Preserve name from an Index\u001b[39;00m\n",
      "File \u001b[0;32m~/anaconda3/envs/intern/lib/python3.9/site-packages/pandas/core/indexes/base.py:6176\u001b[0m, in \u001b[0;36mIndex._raise_if_missing\u001b[0;34m(self, key, indexer, axis_name)\u001b[0m\n\u001b[1;32m   6173\u001b[0m     \u001b[39mraise\u001b[39;00m \u001b[39mKeyError\u001b[39;00m(\u001b[39mf\u001b[39m\u001b[39m\"\u001b[39m\u001b[39mNone of [\u001b[39m\u001b[39m{\u001b[39;00mkey\u001b[39m}\u001b[39;00m\u001b[39m] are in the [\u001b[39m\u001b[39m{\u001b[39;00maxis_name\u001b[39m}\u001b[39;00m\u001b[39m]\u001b[39m\u001b[39m\"\u001b[39m)\n\u001b[1;32m   6175\u001b[0m not_found \u001b[39m=\u001b[39m \u001b[39mlist\u001b[39m(ensure_index(key)[missing_mask\u001b[39m.\u001b[39mnonzero()[\u001b[39m0\u001b[39m]]\u001b[39m.\u001b[39munique())\n\u001b[0;32m-> 6176\u001b[0m \u001b[39mraise\u001b[39;00m \u001b[39mKeyError\u001b[39;00m(\u001b[39mf\u001b[39m\u001b[39m\"\u001b[39m\u001b[39m{\u001b[39;00mnot_found\u001b[39m}\u001b[39;00m\u001b[39m not in index\u001b[39m\u001b[39m\"\u001b[39m)\n",
      "\u001b[0;31mKeyError\u001b[0m: \"['clean', 'YNewsML.Header.SendDate'] not in index\""
     ]
    }
   ],
   "source": [
    "df = df[['YNewsML.NewsContent.Title','clean','YNewsML.Header.SendDate']]"
   ]
  },
  {
   "cell_type": "code",
   "execution_count": 6,
   "id": "38ae5a12",
   "metadata": {},
   "outputs": [],
   "source": [
    "df1 = df.drop_duplicates()"
   ]
  },
  {
   "cell_type": "code",
   "execution_count": 8,
   "id": "c4b37e5c",
   "metadata": {},
   "outputs": [],
   "source": [
    "df2 = df1.dropna(subset=['NamedEntity']).reset_index().drop(columns='index',axis=1)"
   ]
  },
  {
   "cell_type": "code",
   "execution_count": 9,
   "id": "9d06d575",
   "metadata": {},
   "outputs": [
    {
     "ename": "AttributeError",
     "evalue": "'DataFrame' object has no attribute 'clean'",
     "output_type": "error",
     "traceback": [
      "\u001b[0;31m---------------------------------------------------------------------------\u001b[0m",
      "\u001b[0;31mAttributeError\u001b[0m                            Traceback (most recent call last)",
      "Cell \u001b[0;32mIn[9], line 1\u001b[0m\n\u001b[0;32m----> 1\u001b[0m clean \u001b[39m=\u001b[39m df2\u001b[39m.\u001b[39;49mclean\n",
      "File \u001b[0;32m~/anaconda3/envs/intern/lib/python3.9/site-packages/pandas/core/generic.py:5902\u001b[0m, in \u001b[0;36mNDFrame.__getattr__\u001b[0;34m(self, name)\u001b[0m\n\u001b[1;32m   5895\u001b[0m \u001b[39mif\u001b[39;00m (\n\u001b[1;32m   5896\u001b[0m     name \u001b[39mnot\u001b[39;00m \u001b[39min\u001b[39;00m \u001b[39mself\u001b[39m\u001b[39m.\u001b[39m_internal_names_set\n\u001b[1;32m   5897\u001b[0m     \u001b[39mand\u001b[39;00m name \u001b[39mnot\u001b[39;00m \u001b[39min\u001b[39;00m \u001b[39mself\u001b[39m\u001b[39m.\u001b[39m_metadata\n\u001b[1;32m   5898\u001b[0m     \u001b[39mand\u001b[39;00m name \u001b[39mnot\u001b[39;00m \u001b[39min\u001b[39;00m \u001b[39mself\u001b[39m\u001b[39m.\u001b[39m_accessors\n\u001b[1;32m   5899\u001b[0m     \u001b[39mand\u001b[39;00m \u001b[39mself\u001b[39m\u001b[39m.\u001b[39m_info_axis\u001b[39m.\u001b[39m_can_hold_identifiers_and_holds_name(name)\n\u001b[1;32m   5900\u001b[0m ):\n\u001b[1;32m   5901\u001b[0m     \u001b[39mreturn\u001b[39;00m \u001b[39mself\u001b[39m[name]\n\u001b[0;32m-> 5902\u001b[0m \u001b[39mreturn\u001b[39;00m \u001b[39mobject\u001b[39;49m\u001b[39m.\u001b[39;49m\u001b[39m__getattribute__\u001b[39;49m(\u001b[39mself\u001b[39;49m, name)\n",
      "\u001b[0;31mAttributeError\u001b[0m: 'DataFrame' object has no attribute 'clean'"
     ]
    }
   ],
   "source": [
    "clean = df2.clean"
   ]
  },
  {
   "cell_type": "code",
   "execution_count": 9,
   "id": "969a16a6",
   "metadata": {},
   "outputs": [],
   "source": [
    "a = []\n",
    "for i in range(len(clean)):\n",
    "        if len(str(clean[i])) <= 15:\n",
    "                a.append([i,clean[i]])"
   ]
  },
  {
   "cell_type": "code",
   "execution_count": 10,
   "id": "b47cfefc",
   "metadata": {},
   "outputs": [],
   "source": [
    "b = pd.DataFrame(a)"
   ]
  },
  {
   "cell_type": "code",
   "execution_count": 11,
   "id": "5290ad07",
   "metadata": {},
   "outputs": [],
   "source": [
    "b1 = b[0].tolist()"
   ]
  },
  {
   "cell_type": "code",
   "execution_count": 12,
   "id": "57bae2fd",
   "metadata": {},
   "outputs": [],
   "source": [
    "df3 = df2.drop(index = b1)"
   ]
  },
  {
   "cell_type": "code",
   "execution_count": 13,
   "id": "8663e57d",
   "metadata": {},
   "outputs": [],
   "source": [
    "df3 = df3.reset_index().drop(columns='index',axis=1)"
   ]
  },
  {
   "cell_type": "code",
   "execution_count": 14,
   "id": "c62cb512",
   "metadata": {},
   "outputs": [
    {
     "data": {
      "text/plain": [
       "0                 인니 대표 스타트업 고젝, 토코피디아와 합병 논의\n",
       "1                 중앙아프리카공화국 대선 결과 투아데레 대통령 재선\n",
       "2         당국, 동부구치소 사망자 늑장통보 논란에 \"화장 전에 통보했다\"\n",
       "3                  삼성전자 사흘째 최고가 경신…시총 500조 시대\n",
       "4              지아이그룹-세브란스병원, 혁신 신약 개발 공동연구 협약\n",
       "                         ...                 \n",
       "690977         [酒먹방] 다섯 차례 빚어 천천히 숙성한 '느림의 술'\n",
       "690978      [imazine] 쉼이 있는 여행 ③ 전등사 한옥 템플스테이\n",
       "690979            [일지] 아프간 전쟁 발발부터 미군 철수 발표까지\n",
       "690980           러 극동 연해주서 돼지열병 확산세…올해 59건 발생\n",
       "690981                                  ㅇㅇㅇㅇㅇ\n",
       "Name: YNewsML.NewsContent.Title, Length: 690982, dtype: object"
      ]
     },
     "execution_count": 14,
     "metadata": {},
     "output_type": "execute_result"
    }
   ],
   "source": [
    "df3['YNewsML.NewsContent.Title']"
   ]
  },
  {
   "cell_type": "code",
   "execution_count": 15,
   "id": "2b1be983",
   "metadata": {},
   "outputs": [
    {
     "data": {
      "text/html": [
       "<div>\n",
       "<style scoped>\n",
       "    .dataframe tbody tr th:only-of-type {\n",
       "        vertical-align: middle;\n",
       "    }\n",
       "\n",
       "    .dataframe tbody tr th {\n",
       "        vertical-align: top;\n",
       "    }\n",
       "\n",
       "    .dataframe thead th {\n",
       "        text-align: right;\n",
       "    }\n",
       "</style>\n",
       "<table border=\"1\" class=\"dataframe\">\n",
       "  <thead>\n",
       "    <tr style=\"text-align: right;\">\n",
       "      <th></th>\n",
       "      <th>YNewsML.NewsContent.Title</th>\n",
       "      <th>clean</th>\n",
       "      <th>YNewsML.Header.SendDate</th>\n",
       "    </tr>\n",
       "  </thead>\n",
       "  <tbody>\n",
       "    <tr>\n",
       "      <th>0</th>\n",
       "      <td>인니 대표 스타트업 고젝, 토코피디아와 합병 논의</td>\n",
       "      <td>인니 대표 스타트업 고젝, 토코피디아와 합병 논의 인도네시아 최대 스타트업으로 평가...</td>\n",
       "      <td>20210105.0</td>\n",
       "    </tr>\n",
       "    <tr>\n",
       "      <th>1</th>\n",
       "      <td>중앙아프리카공화국 대선 결과 투아데레 대통령 재선</td>\n",
       "      <td>중앙아프리카공화국 대선 결과 투아데레 대통령 재선 폭력 사태 속 치러진 선거서 과반...</td>\n",
       "      <td>20210105.0</td>\n",
       "    </tr>\n",
       "    <tr>\n",
       "      <th>2</th>\n",
       "      <td>당국, 동부구치소 사망자 늑장통보 논란에 \"화장 전에 통보했다\"</td>\n",
       "      <td>당국, 동부구치소 사망자 늑장통보 논란에 \"화장 전에 통보했다\" 서울동부구치소에서 ...</td>\n",
       "      <td>20210105.0</td>\n",
       "    </tr>\n",
       "    <tr>\n",
       "      <th>3</th>\n",
       "      <td>삼성전자 사흘째 최고가 경신…시총 500조 시대</td>\n",
       "      <td>삼성전자 사흘째 최고가 경신…시총 500조 시대 삼성전자가 5일 사흘째 최고가를 경...</td>\n",
       "      <td>20210105.0</td>\n",
       "    </tr>\n",
       "    <tr>\n",
       "      <th>4</th>\n",
       "      <td>지아이그룹-세브란스병원, 혁신 신약 개발 공동연구 협약</td>\n",
       "      <td>지아이그룹세브란스병원, 혁신 신약 개발 공동연구 협약 신약 개발기업 지아이이노베이션...</td>\n",
       "      <td>20210105.0</td>\n",
       "    </tr>\n",
       "    <tr>\n",
       "      <th>...</th>\n",
       "      <td>...</td>\n",
       "      <td>...</td>\n",
       "      <td>...</td>\n",
       "    </tr>\n",
       "    <tr>\n",
       "      <th>690977</th>\n",
       "      <td>[酒먹방] 다섯 차례 빚어 천천히 숙성한 '느림의 술'</td>\n",
       "      <td>다섯 차례 빚어 천천히 숙성한 '느림의 술' 평택 좋은술의 오양주 '천비향' 전통주...</td>\n",
       "      <td>20201023.0</td>\n",
       "    </tr>\n",
       "    <tr>\n",
       "      <th>690978</th>\n",
       "      <td>[imazine] 쉼이 있는 여행 ③ 전등사 한옥 템플스테이</td>\n",
       "      <td>쉼이 있는 여행 ③ 전등사 한옥 템플스테이 환란 벗어나 피안 '강 저쪽 둔덕'이라는...</td>\n",
       "      <td>20201022.0</td>\n",
       "    </tr>\n",
       "    <tr>\n",
       "      <th>690979</th>\n",
       "      <td>[일지] 아프간 전쟁 발발부터 미군 철수 발표까지</td>\n",
       "      <td>아프간 전쟁 발발부터 미군 철수 발표까지 조 바이든 미국 대통령이 14일(현지시간)...</td>\n",
       "      <td>20210415.0</td>\n",
       "    </tr>\n",
       "    <tr>\n",
       "      <th>690980</th>\n",
       "      <td>러 극동 연해주서 돼지열병 확산세…올해 59건 발생</td>\n",
       "      <td>러 극동 연해주서 돼지열병 확산세…올해 59건 발생 당국 \"야생 멧돼지 활동 증가가...</td>\n",
       "      <td>20201117.0</td>\n",
       "    </tr>\n",
       "    <tr>\n",
       "      <th>690981</th>\n",
       "      <td>ㅇㅇㅇㅇㅇ</td>\n",
       "      <td>&lt;p&gt;ㅇㅇㅇㅇㅇㅇㅇㅇㅇㅇ&lt;/p&gt;</td>\n",
       "      <td>20220809.0</td>\n",
       "    </tr>\n",
       "  </tbody>\n",
       "</table>\n",
       "<p>690982 rows × 3 columns</p>\n",
       "</div>"
      ],
      "text/plain": [
       "                  YNewsML.NewsContent.Title  \\\n",
       "0               인니 대표 스타트업 고젝, 토코피디아와 합병 논의   \n",
       "1               중앙아프리카공화국 대선 결과 투아데레 대통령 재선   \n",
       "2       당국, 동부구치소 사망자 늑장통보 논란에 \"화장 전에 통보했다\"   \n",
       "3                삼성전자 사흘째 최고가 경신…시총 500조 시대   \n",
       "4            지아이그룹-세브란스병원, 혁신 신약 개발 공동연구 협약   \n",
       "...                                     ...   \n",
       "690977       [酒먹방] 다섯 차례 빚어 천천히 숙성한 '느림의 술'   \n",
       "690978    [imazine] 쉼이 있는 여행 ③ 전등사 한옥 템플스테이   \n",
       "690979          [일지] 아프간 전쟁 발발부터 미군 철수 발표까지   \n",
       "690980         러 극동 연해주서 돼지열병 확산세…올해 59건 발생   \n",
       "690981                                ㅇㅇㅇㅇㅇ   \n",
       "\n",
       "                                                    clean  \\\n",
       "0       인니 대표 스타트업 고젝, 토코피디아와 합병 논의 인도네시아 최대 스타트업으로 평가...   \n",
       "1       중앙아프리카공화국 대선 결과 투아데레 대통령 재선 폭력 사태 속 치러진 선거서 과반...   \n",
       "2       당국, 동부구치소 사망자 늑장통보 논란에 \"화장 전에 통보했다\" 서울동부구치소에서 ...   \n",
       "3       삼성전자 사흘째 최고가 경신…시총 500조 시대 삼성전자가 5일 사흘째 최고가를 경...   \n",
       "4       지아이그룹세브란스병원, 혁신 신약 개발 공동연구 협약 신약 개발기업 지아이이노베이션...   \n",
       "...                                                   ...   \n",
       "690977  다섯 차례 빚어 천천히 숙성한 '느림의 술' 평택 좋은술의 오양주 '천비향' 전통주...   \n",
       "690978  쉼이 있는 여행 ③ 전등사 한옥 템플스테이 환란 벗어나 피안 '강 저쪽 둔덕'이라는...   \n",
       "690979  아프간 전쟁 발발부터 미군 철수 발표까지 조 바이든 미국 대통령이 14일(현지시간)...   \n",
       "690980  러 극동 연해주서 돼지열병 확산세…올해 59건 발생 당국 \"야생 멧돼지 활동 증가가...   \n",
       "690981                                  <p>ㅇㅇㅇㅇㅇㅇㅇㅇㅇㅇ</p>   \n",
       "\n",
       "        YNewsML.Header.SendDate  \n",
       "0                    20210105.0  \n",
       "1                    20210105.0  \n",
       "2                    20210105.0  \n",
       "3                    20210105.0  \n",
       "4                    20210105.0  \n",
       "...                         ...  \n",
       "690977               20201023.0  \n",
       "690978               20201022.0  \n",
       "690979               20210415.0  \n",
       "690980               20201117.0  \n",
       "690981               20220809.0  \n",
       "\n",
       "[690982 rows x 3 columns]"
      ]
     },
     "execution_count": 15,
     "metadata": {},
     "output_type": "execute_result"
    }
   ],
   "source": [
    "df3"
   ]
  },
  {
   "cell_type": "code",
   "execution_count": 23,
   "id": "8fb52c01",
   "metadata": {},
   "outputs": [
    {
     "name": "stderr",
     "output_type": "stream",
     "text": [
      "100%|██████████| 690982/690982 [06:35<00:00, 1746.84it/s]\n"
     ]
    }
   ],
   "source": [
    "result2 = df3['YNewsML.NewsContent.Title'].progress_apply(cleansing)"
   ]
  },
  {
   "cell_type": "code",
   "execution_count": 24,
   "id": "e5d6fb6d",
   "metadata": {},
   "outputs": [
    {
     "name": "stderr",
     "output_type": "stream",
     "text": [
      "100%|██████████| 690982/690982 [3:31:38<00:00, 54.42it/s]   \n"
     ]
    }
   ],
   "source": [
    "result = df3.clean.progress_apply(cleansing)"
   ]
  },
  {
   "cell_type": "code",
   "execution_count": 25,
   "id": "e11997a0",
   "metadata": {},
   "outputs": [],
   "source": [
    "result = pd.DataFrame(result)"
   ]
  },
  {
   "cell_type": "code",
   "execution_count": 26,
   "id": "51d8cfca",
   "metadata": {},
   "outputs": [],
   "source": [
    "result2 = pd.DataFrame(result2)"
   ]
  },
  {
   "cell_type": "code",
   "execution_count": 27,
   "id": "f31f4f36",
   "metadata": {},
   "outputs": [],
   "source": [
    "result3 = pd.concat([result,result2,df3['YNewsML.Header.SendDate']], axis=1)"
   ]
  },
  {
   "cell_type": "code",
   "execution_count": 28,
   "id": "e116e455",
   "metadata": {},
   "outputs": [
    {
     "data": {
      "text/html": [
       "<div>\n",
       "<style scoped>\n",
       "    .dataframe tbody tr th:only-of-type {\n",
       "        vertical-align: middle;\n",
       "    }\n",
       "\n",
       "    .dataframe tbody tr th {\n",
       "        vertical-align: top;\n",
       "    }\n",
       "\n",
       "    .dataframe thead th {\n",
       "        text-align: right;\n",
       "    }\n",
       "</style>\n",
       "<table border=\"1\" class=\"dataframe\">\n",
       "  <thead>\n",
       "    <tr style=\"text-align: right;\">\n",
       "      <th></th>\n",
       "      <th>clean</th>\n",
       "      <th>YNewsML.NewsContent.Title</th>\n",
       "      <th>YNewsML.Header.SendDate</th>\n",
       "    </tr>\n",
       "  </thead>\n",
       "  <tbody>\n",
       "    <tr>\n",
       "      <th>0</th>\n",
       "      <td>인니대표스타트업고젝토코피디아와합병논의인도네시아최대스타트업으로평가받는고젝과토코피디아가...</td>\n",
       "      <td>인니대표스타트업고젝토코피디아와합병논의</td>\n",
       "      <td>20210105.0</td>\n",
       "    </tr>\n",
       "    <tr>\n",
       "      <th>1</th>\n",
       "      <td>중앙아프리카 공화국 대선 결과 투 아 데 레 대통령 재선 폭력 사태 속 치러진 선거...</td>\n",
       "      <td>중앙아프리카 공화국 대선 결과 투 아 데 레 대통령 재선</td>\n",
       "      <td>20210105.0</td>\n",
       "    </tr>\n",
       "    <tr>\n",
       "      <th>2</th>\n",
       "      <td>당국 동부 구치소 사망자 늑장 통보 논란에 화장 전에 통보했다 서울 동부 구치소에서...</td>\n",
       "      <td>당국 동부 구치소 사망자 늑장 통보 논란에 화장 전에 통보했다</td>\n",
       "      <td>20210105.0</td>\n",
       "    </tr>\n",
       "    <tr>\n",
       "      <th>3</th>\n",
       "      <td>삼성전자 사흘째 최고가 경신 시 총 조 시대 삼성전자가 일 사흘째 최고가를 경신했다...</td>\n",
       "      <td>삼성전자 사흘째 최고가 경신 시 총 조 시대</td>\n",
       "      <td>20210105.0</td>\n",
       "    </tr>\n",
       "    <tr>\n",
       "      <th>4</th>\n",
       "      <td>지아이그룹 세브란스병원 혁신 신약 개발 공동 연구 협약 신약 개발 기업지 아이 이노...</td>\n",
       "      <td>지아이그룹 세브란스병원 혁신 신약 개발 공동 연구 협약</td>\n",
       "      <td>20210105.0</td>\n",
       "    </tr>\n",
       "    <tr>\n",
       "      <th>...</th>\n",
       "      <td>...</td>\n",
       "      <td>...</td>\n",
       "      <td>...</td>\n",
       "    </tr>\n",
       "    <tr>\n",
       "      <th>690977</th>\n",
       "      <td>다섯 차례 빚어 천천히 숙성한 느림의 술 평택 좋은 술의 오 양주 천 비 향 전통주...</td>\n",
       "      <td>다섯 차례 빚어 천천히 숙성한 느림의 술</td>\n",
       "      <td>20201023.0</td>\n",
       "    </tr>\n",
       "    <tr>\n",
       "      <th>690978</th>\n",
       "      <td>쉼이 있는 여행 전등사 한옥 템플스테이 환란 벗어나 피안 강 저 쪽 둔덕이라는 뜻을...</td>\n",
       "      <td>쉼이 있는 여행 전등사 한옥 템플스테이</td>\n",
       "      <td>20201022.0</td>\n",
       "    </tr>\n",
       "    <tr>\n",
       "      <th>690979</th>\n",
       "      <td>아프간 전쟁 발발부터 미군 철수 발표까지 조 바이든 미국 대통령이 일 아프가니스탄 ...</td>\n",
       "      <td>아프간 전쟁 발발부터 미군 철수 발표까지</td>\n",
       "      <td>20210415.0</td>\n",
       "    </tr>\n",
       "    <tr>\n",
       "      <th>690980</th>\n",
       "      <td>러 극동 연해주서 돼지 열병 확산 세 올해 건 발생 당국 야생 멧돼지 활동 증가가 ...</td>\n",
       "      <td>러 극동 연해주서 돼지 열병 확산 세 올해 건 발생</td>\n",
       "      <td>20201117.0</td>\n",
       "    </tr>\n",
       "    <tr>\n",
       "      <th>690981</th>\n",
       "      <td></td>\n",
       "      <td></td>\n",
       "      <td>20220809.0</td>\n",
       "    </tr>\n",
       "  </tbody>\n",
       "</table>\n",
       "<p>690982 rows × 3 columns</p>\n",
       "</div>"
      ],
      "text/plain": [
       "                                                    clean  \\\n",
       "0       인니대표스타트업고젝토코피디아와합병논의인도네시아최대스타트업으로평가받는고젝과토코피디아가...   \n",
       "1       중앙아프리카 공화국 대선 결과 투 아 데 레 대통령 재선 폭력 사태 속 치러진 선거...   \n",
       "2       당국 동부 구치소 사망자 늑장 통보 논란에 화장 전에 통보했다 서울 동부 구치소에서...   \n",
       "3       삼성전자 사흘째 최고가 경신 시 총 조 시대 삼성전자가 일 사흘째 최고가를 경신했다...   \n",
       "4       지아이그룹 세브란스병원 혁신 신약 개발 공동 연구 협약 신약 개발 기업지 아이 이노...   \n",
       "...                                                   ...   \n",
       "690977  다섯 차례 빚어 천천히 숙성한 느림의 술 평택 좋은 술의 오 양주 천 비 향 전통주...   \n",
       "690978  쉼이 있는 여행 전등사 한옥 템플스테이 환란 벗어나 피안 강 저 쪽 둔덕이라는 뜻을...   \n",
       "690979  아프간 전쟁 발발부터 미군 철수 발표까지 조 바이든 미국 대통령이 일 아프가니스탄 ...   \n",
       "690980  러 극동 연해주서 돼지 열병 확산 세 올해 건 발생 당국 야생 멧돼지 활동 증가가 ...   \n",
       "690981                                                      \n",
       "\n",
       "                 YNewsML.NewsContent.Title  YNewsML.Header.SendDate  \n",
       "0                     인니대표스타트업고젝토코피디아와합병논의               20210105.0  \n",
       "1          중앙아프리카 공화국 대선 결과 투 아 데 레 대통령 재선               20210105.0  \n",
       "2       당국 동부 구치소 사망자 늑장 통보 논란에 화장 전에 통보했다               20210105.0  \n",
       "3                 삼성전자 사흘째 최고가 경신 시 총 조 시대               20210105.0  \n",
       "4           지아이그룹 세브란스병원 혁신 신약 개발 공동 연구 협약               20210105.0  \n",
       "...                                    ...                      ...  \n",
       "690977              다섯 차례 빚어 천천히 숙성한 느림의 술               20201023.0  \n",
       "690978               쉼이 있는 여행 전등사 한옥 템플스테이               20201022.0  \n",
       "690979              아프간 전쟁 발발부터 미군 철수 발표까지               20210415.0  \n",
       "690980        러 극동 연해주서 돼지 열병 확산 세 올해 건 발생               20201117.0  \n",
       "690981                                                   20220809.0  \n",
       "\n",
       "[690982 rows x 3 columns]"
      ]
     },
     "execution_count": 28,
     "metadata": {},
     "output_type": "execute_result"
    }
   ],
   "source": [
    "result3"
   ]
  },
  {
   "cell_type": "code",
   "execution_count": 29,
   "id": "0e9d7f48",
   "metadata": {},
   "outputs": [],
   "source": [
    "result4 = result3.clean + '. ' +result3['YNewsML.NewsContent.Title']"
   ]
  },
  {
   "cell_type": "code",
   "execution_count": 30,
   "id": "cbeab7e7",
   "metadata": {},
   "outputs": [],
   "source": [
    "result5 = pd.concat([result3,result4],axis=1)"
   ]
  },
  {
   "cell_type": "code",
   "execution_count": 31,
   "id": "0d48df14",
   "metadata": {},
   "outputs": [],
   "source": [
    "result5 = result5.rename(columns={'YNewsML.NewsContent.Title':'title',0:'TB','YNewsML.Header.SendDate':'Date'})"
   ]
  },
  {
   "cell_type": "code",
   "execution_count": 32,
   "id": "8c862c40",
   "metadata": {},
   "outputs": [],
   "source": [
    "result5['Date'] = pd.to_datetime(result5['Date'].astype(int).astype(str))"
   ]
  },
  {
   "cell_type": "code",
   "execution_count": 33,
   "id": "d7a1c54e",
   "metadata": {},
   "outputs": [
    {
     "data": {
      "text/plain": [
       "clean    0\n",
       "title    0\n",
       "Date     0\n",
       "TB       0\n",
       "dtype: int64"
      ]
     },
     "execution_count": 33,
     "metadata": {},
     "output_type": "execute_result"
    }
   ],
   "source": [
    "result5.isnull().sum()"
   ]
  },
  {
   "cell_type": "code",
   "execution_count": 34,
   "id": "5796dd3d",
   "metadata": {},
   "outputs": [],
   "source": [
    "result5.to_csv('cleansing_space.csv',encoding='utf-8-sig',index=False)"
   ]
  },
  {
   "cell_type": "code",
   "execution_count": 35,
   "id": "81a13eaa",
   "metadata": {},
   "outputs": [],
   "source": [
    "df1 = df1.reset_index().drop(columns='index',axis=1)"
   ]
  },
  {
   "cell_type": "code",
   "execution_count": 36,
   "id": "e645c7cd",
   "metadata": {},
   "outputs": [
    {
     "data": {
      "text/html": [
       "<div>\n",
       "<style scoped>\n",
       "    .dataframe tbody tr th:only-of-type {\n",
       "        vertical-align: middle;\n",
       "    }\n",
       "\n",
       "    .dataframe tbody tr th {\n",
       "        vertical-align: top;\n",
       "    }\n",
       "\n",
       "    .dataframe thead th {\n",
       "        text-align: right;\n",
       "    }\n",
       "</style>\n",
       "<table border=\"1\" class=\"dataframe\">\n",
       "  <thead>\n",
       "    <tr style=\"text-align: right;\">\n",
       "      <th></th>\n",
       "      <th>YNewsML.NewsContent.Title</th>\n",
       "      <th>clean</th>\n",
       "      <th>YNewsML.Header.SendDate</th>\n",
       "    </tr>\n",
       "  </thead>\n",
       "  <tbody>\n",
       "    <tr>\n",
       "      <th>0</th>\n",
       "      <td>인니 대표 스타트업 고젝, 토코피디아와 합병 논의</td>\n",
       "      <td>인니 대표 스타트업 고젝, 토코피디아와 합병 논의 인도네시아 최대 스타트업으로 평가...</td>\n",
       "      <td>20210105.0</td>\n",
       "    </tr>\n",
       "    <tr>\n",
       "      <th>1</th>\n",
       "      <td>중앙아프리카공화국 대선 결과 투아데레 대통령 재선</td>\n",
       "      <td>중앙아프리카공화국 대선 결과 투아데레 대통령 재선 폭력 사태 속 치러진 선거서 과반...</td>\n",
       "      <td>20210105.0</td>\n",
       "    </tr>\n",
       "    <tr>\n",
       "      <th>2</th>\n",
       "      <td>당국, 동부구치소 사망자 늑장통보 논란에 \"화장 전에 통보했다\"</td>\n",
       "      <td>당국, 동부구치소 사망자 늑장통보 논란에 \"화장 전에 통보했다\" 서울동부구치소에서 ...</td>\n",
       "      <td>20210105.0</td>\n",
       "    </tr>\n",
       "    <tr>\n",
       "      <th>3</th>\n",
       "      <td>삼성전자 사흘째 최고가 경신…시총 500조 시대</td>\n",
       "      <td>삼성전자 사흘째 최고가 경신…시총 500조 시대 삼성전자가 5일 사흘째 최고가를 경...</td>\n",
       "      <td>20210105.0</td>\n",
       "    </tr>\n",
       "    <tr>\n",
       "      <th>4</th>\n",
       "      <td>지아이그룹-세브란스병원, 혁신 신약 개발 공동연구 협약</td>\n",
       "      <td>지아이그룹세브란스병원, 혁신 신약 개발 공동연구 협약 신약 개발기업 지아이이노베이션...</td>\n",
       "      <td>20210105.0</td>\n",
       "    </tr>\n",
       "    <tr>\n",
       "      <th>...</th>\n",
       "      <td>...</td>\n",
       "      <td>...</td>\n",
       "      <td>...</td>\n",
       "    </tr>\n",
       "    <tr>\n",
       "      <th>691660</th>\n",
       "      <td>미배포 기사</td>\n",
       "      <td>&lt;p&gt;허리아파&lt;/p&gt;</td>\n",
       "      <td>20220811.0</td>\n",
       "    </tr>\n",
       "    <tr>\n",
       "      <th>691661</th>\n",
       "      <td>dd</td>\n",
       "      <td>&lt;p&gt;d&lt;/p&gt;</td>\n",
       "      <td>20220914.0</td>\n",
       "    </tr>\n",
       "    <tr>\n",
       "      <th>691662</th>\n",
       "      <td>ㅅㄷ</td>\n",
       "      <td>&lt;p&gt;ㅅㄷ&lt;/p&gt;</td>\n",
       "      <td>20220921.0</td>\n",
       "    </tr>\n",
       "    <tr>\n",
       "      <th>691663</th>\n",
       "      <td>test</td>\n",
       "      <td>&lt;p&gt;test&lt;/p&gt;</td>\n",
       "      <td>20220921.0</td>\n",
       "    </tr>\n",
       "    <tr>\n",
       "      <th>691664</th>\n",
       "      <td>test2022</td>\n",
       "      <td>&lt;p&gt;test2022&lt;/p&gt;</td>\n",
       "      <td>20220921.0</td>\n",
       "    </tr>\n",
       "  </tbody>\n",
       "</table>\n",
       "<p>691665 rows × 3 columns</p>\n",
       "</div>"
      ],
      "text/plain": [
       "                  YNewsML.NewsContent.Title  \\\n",
       "0               인니 대표 스타트업 고젝, 토코피디아와 합병 논의   \n",
       "1               중앙아프리카공화국 대선 결과 투아데레 대통령 재선   \n",
       "2       당국, 동부구치소 사망자 늑장통보 논란에 \"화장 전에 통보했다\"   \n",
       "3                삼성전자 사흘째 최고가 경신…시총 500조 시대   \n",
       "4            지아이그룹-세브란스병원, 혁신 신약 개발 공동연구 협약   \n",
       "...                                     ...   \n",
       "691660                               미배포 기사   \n",
       "691661                                   dd   \n",
       "691662                                   ㅅㄷ   \n",
       "691663                                 test   \n",
       "691664                             test2022   \n",
       "\n",
       "                                                    clean  \\\n",
       "0       인니 대표 스타트업 고젝, 토코피디아와 합병 논의 인도네시아 최대 스타트업으로 평가...   \n",
       "1       중앙아프리카공화국 대선 결과 투아데레 대통령 재선 폭력 사태 속 치러진 선거서 과반...   \n",
       "2       당국, 동부구치소 사망자 늑장통보 논란에 \"화장 전에 통보했다\" 서울동부구치소에서 ...   \n",
       "3       삼성전자 사흘째 최고가 경신…시총 500조 시대 삼성전자가 5일 사흘째 최고가를 경...   \n",
       "4       지아이그룹세브란스병원, 혁신 신약 개발 공동연구 협약 신약 개발기업 지아이이노베이션...   \n",
       "...                                                   ...   \n",
       "691660                                        <p>허리아파</p>   \n",
       "691661                                           <p>d</p>   \n",
       "691662                                          <p>ㅅㄷ</p>   \n",
       "691663                                        <p>test</p>   \n",
       "691664                                    <p>test2022</p>   \n",
       "\n",
       "        YNewsML.Header.SendDate  \n",
       "0                    20210105.0  \n",
       "1                    20210105.0  \n",
       "2                    20210105.0  \n",
       "3                    20210105.0  \n",
       "4                    20210105.0  \n",
       "...                         ...  \n",
       "691660               20220811.0  \n",
       "691661               20220914.0  \n",
       "691662               20220921.0  \n",
       "691663               20220921.0  \n",
       "691664               20220921.0  \n",
       "\n",
       "[691665 rows x 3 columns]"
      ]
     },
     "execution_count": 36,
     "metadata": {},
     "output_type": "execute_result"
    }
   ],
   "source": [
    "df1"
   ]
  },
  {
   "cell_type": "markdown",
   "id": "f6d93bf4",
   "metadata": {},
   "source": [
    "## 1차분석"
   ]
  },
  {
   "cell_type": "code",
   "execution_count": 3,
   "id": "3cf7e8f3",
   "metadata": {},
   "outputs": [
    {
     "name": "stderr",
     "output_type": "stream",
     "text": [
      "/tmp/ipykernel_26760/3281381191.py:1: DtypeWarning: Columns (42,45,46,47,48,49) have mixed types. Specify dtype option on import or set low_memory=False.\n",
      "  df = pd.read_csv(\"fire_news.csv\",encoding='utf-8-sig')\n"
     ]
    }
   ],
   "source": [
    "df = pd.read_csv(\"fire_news.csv\",encoding='utf-8-sig')"
   ]
  },
  {
   "cell_type": "code",
   "execution_count": 5,
   "id": "8c4b50de",
   "metadata": {},
   "outputs": [
    {
     "data": {
      "text/plain": [
       "Index(['_index', '_type', '_id', '_score', 'YNewsML.Header.SendTime',\n",
       "       'YNewsML.Header.Action', 'YNewsML.Header.ServiceType',\n",
       "       'YNewsML.Header.ContentID', 'YNewsML.Header.SendDate',\n",
       "       'YNewsML.Metadata.Category.code', 'YNewsML.Metadata.Category.name',\n",
       "       'YNewsML.Metadata.Credit', 'YNewsML.Metadata.DeliCode',\n",
       "       'YNewsML.Metadata.Attribute.AttributeCode.code',\n",
       "       'YNewsML.Metadata.Attribute.AttributeCode.name',\n",
       "       'YNewsML.Metadata.Region.RegionCode.code',\n",
       "       'YNewsML.Metadata.Region.RegionCode.name', 'YNewsML.Metadata.Href',\n",
       "       'YNewsML.Metadata.Desk.code', 'YNewsML.Metadata.Desk.content',\n",
       "       'YNewsML.Metadata.Class.ClassCode', 'YNewsML.Metadata.Urgency',\n",
       "       'YNewsML.Metadata.Source', 'YNewsML.Metadata.Writer.uid',\n",
       "       'YNewsML.Metadata.Writer.content', 'YNewsML.NewsContent.LangType',\n",
       "       'YNewsML.NewsContent.Title', 'YNewsML.NewsContent.Body',\n",
       "       'YNewsML.NewsContent.SubTitle', 'send_timestamp',\n",
       "       'YNewsML.Metadata.Class.ClassCode.code',\n",
       "       'YNewsML.Metadata.Class.ClassCode.name', 'YNewsML.NewsContent.Comment',\n",
       "       'YNewsML.Metadata.Category', 'YNewsML.Metadata.Region.RegionCode',\n",
       "       'YNewsML.Metadata.Attribute.AttributeCode',\n",
       "       'YNewsML.Metadata.PublishNo', 'YNewsML.NewsContent.TaggedBody',\n",
       "       'YNewsML.NewsContent.MultiMedia.DataFile.mimetype',\n",
       "       'YNewsML.NewsContent.MultiMedia.DataFile.type',\n",
       "       'YNewsML.NewsContent.MultiMedia.DataFile.content',\n",
       "       'YNewsML.NewsContent.MultiMedia.DataFile.desc',\n",
       "       'YNewsML.Metadata.Issue.IssueCode.code',\n",
       "       'YNewsML.Metadata.Issue.IssueCode.name', 'YNewsML.RefContent',\n",
       "       'knn_vector', 'NamedEntity', 'Keyword', 'Summarization', 'Quotation',\n",
       "       'YNewsML.RefContent.Title', 'YNewsML.RefContent.Href',\n",
       "       'YNewsML.RefContent.ContentID', 'YNewsML.RefContent.type',\n",
       "       'YNewsML.Metadata.Embargo'],\n",
       "      dtype='object')"
      ]
     },
     "execution_count": 5,
     "metadata": {},
     "output_type": "execute_result"
    }
   ],
   "source": [
    "df.columns"
   ]
  },
  {
   "cell_type": "code",
   "execution_count": 8,
   "id": "32a2b7c4",
   "metadata": {},
   "outputs": [],
   "source": [
    "df1 = df[['YNewsML.NewsContent.Title','YNewsML.NewsContent.Body','NamedEntity']]"
   ]
  },
  {
   "cell_type": "code",
   "execution_count": 10,
   "id": "32e7a2c7",
   "metadata": {},
   "outputs": [],
   "source": [
    "a = []\n",
    "\n",
    "for i in df1['YNewsML.NewsContent.Title']:\n",
    "    if '이태원' in i:\n",
    "        a.append(i)"
   ]
  },
  {
   "cell_type": "code",
   "execution_count": 15,
   "id": "36ac1cfd",
   "metadata": {},
   "outputs": [],
   "source": [
    "cond1 = df1['YNewsML.NewsContent.Title'].isin(a)"
   ]
  },
  {
   "cell_type": "code",
   "execution_count": 20,
   "id": "25782a98",
   "metadata": {},
   "outputs": [],
   "source": [
    "df1_NER = df1.loc[cond1]['NamedEntity'].dropna()"
   ]
  },
  {
   "cell_type": "code",
   "execution_count": 33,
   "id": "47d643e1",
   "metadata": {},
   "outputs": [],
   "source": [
    "df1_NER = pd.DataFrame(df1_NER).reset_index().drop(\"index\",axis=1)"
   ]
  },
  {
   "cell_type": "code",
   "execution_count": 41,
   "id": "11f1b2dc",
   "metadata": {},
   "outputs": [
    {
     "data": {
      "text/plain": [
       "\"[{'code': 'OG', 'word': '경찰'}, {'code': 'LC', 'word': '한강공원'}, {'code': 'LC', 'word': '이태원'}, {'code': 'AF', 'word': '자전거'}, {'code': 'OG', 'word': '서울경찰청'}, {'code': 'DT', 'word': '22일부터 다음 달 21일까지'}, {'code': 'DT', 'word': '21일'}, {'code': 'LC', 'word': '홍대'}, {'code': 'LC', 'word': '압구정'}, {'code': 'AF', 'word': '공유자전거'}, {'code': 'QT', 'word': '두 바퀴'}, {'code': 'DT', 'word': '올해'}, {'code': 'LC', 'word': '서울'}, {'code': 'QT', 'word': '14명'}, {'code': 'DT', 'word': '전날'}, {'code': 'DT', 'word': '지난해'}, {'code': 'QT', 'word': '2명'}, {'code': 'DT', 'word': '여름'}, {'code': 'DT', 'word': '3년간'}, {'code': 'DT', 'word': '2019∼2021년'}, {'code': 'DT', 'word': '7월 22일∼8월 21일'}, {'code': 'QT', 'word': '176건'}, {'code': 'DT', 'word': '30일간'}, {'code': 'DT', 'word': '6월 21일∼7월 21일'}, {'code': 'QT', 'word': '169건'}, {'code': 'QT', 'word': '4.2%'}, {'code': 'QT', 'word': '한 번'}]\""
      ]
     },
     "execution_count": 41,
     "metadata": {},
     "output_type": "execute_result"
    }
   ],
   "source": [
    "df1_NER['NamedEntity'][0]"
   ]
  },
  {
   "cell_type": "code",
   "execution_count": null,
   "id": "7aabb0cc",
   "metadata": {},
   "outputs": [],
   "source": []
  }
 ],
 "metadata": {
  "kernelspec": {
   "display_name": "Python 3",
   "language": "python",
   "name": "python3"
  },
  "language_info": {
   "codemirror_mode": {
    "name": "ipython",
    "version": 3
   },
   "file_extension": ".py",
   "mimetype": "text/x-python",
   "name": "python",
   "nbconvert_exporter": "python",
   "pygments_lexer": "ipython3",
   "version": "3.9.0"
  },
  "vscode": {
   "interpreter": {
    "hash": "1c8940dca79bc3c13ec6d26587f8e6028be92103652eba1a84294a4bc61f6292"
   }
  }
 },
 "nbformat": 4,
 "nbformat_minor": 5
}
