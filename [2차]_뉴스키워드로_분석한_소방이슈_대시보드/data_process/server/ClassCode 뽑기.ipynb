{
 "cells": [
  {
   "cell_type": "code",
   "execution_count": 37,
   "id": "48b4d20f",
   "metadata": {
    "ExecuteTime": {
     "end_time": "2023-02-16T07:54:29.290042Z",
     "start_time": "2023-02-16T07:54:29.287197Z"
    }
   },
   "outputs": [],
   "source": [
    "from pandasticsearch import Select\n",
    "from elasticsearch import Elasticsearch\n",
    "import pandas as pd\n",
    "from tqdm.notebook import tqdm\n",
    "import numpy as np\n",
    "import re\n",
    "from tqdm import tqdm\n",
    "tqdm.pandas()\n",
    "import ast\n",
    "import datetime"
   ]
  },
  {
   "cell_type": "code",
   "execution_count": 96,
   "id": "076cf0ee",
   "metadata": {
    "ExecuteTime": {
     "end_time": "2023-02-16T08:24:39.119759Z",
     "start_time": "2023-02-16T08:24:16.843693Z"
    }
   },
   "outputs": [
    {
     "data": {
      "text/plain": [
       "경제일반    92\n",
       "경제정책    55\n",
       "중소기업    53\n",
       "사회일반    52\n",
       "부동일반    43\n",
       "        ..\n",
       "경영권      1\n",
       "벤처기업     1\n",
       "보건       1\n",
       "의료기기     1\n",
       "유가       1\n",
       "Name: name, Length: 189, dtype: int64"
      ]
     },
     "execution_count": 96,
     "metadata": {},
     "output_type": "execute_result"
    }
   ],
   "source": [
    "# input data\n",
    "df = pd.read_csv('경제.csv')\n",
    "year  = 2022\n",
    "month = 12\n",
    "day   = 1\n",
    "\n",
    "# no touch\n",
    "df['send_timestamp'] = pd.to_datetime(df['send_timestamp'])\n",
    "df['year'] = df['send_timestamp'].dt.year\n",
    "df['month'] = df['send_timestamp'].dt.month\n",
    "df['day'] = df['send_timestamp'].dt.day\n",
    "\n",
    "dfdf = df[(df.year == year) & (df.month == month) & (df.day == day)]\n",
    "list = dfdf['YNewsML.Metadata.Class.ClassCode'].dropna().tolist()\n",
    "\n",
    "a = []\n",
    "for i in list:\n",
    "    b = eval(i)\n",
    "    for j in b:\n",
    "        a.append(j)\n",
    "\n",
    "name = []\n",
    "for i in a:\n",
    "    name.append(i['name'])\n",
    "    \n",
    "df2 = pd.DataFrame()\n",
    "df2['name'] = name\n",
    "df2.name.value_counts()"
   ]
  }
 ],
 "metadata": {
  "kernelspec": {
   "display_name": "Python 3",
   "language": "python",
   "name": "python3"
  },
  "language_info": {
   "codemirror_mode": {
    "name": "ipython",
    "version": 3
   },
   "file_extension": ".py",
   "mimetype": "text/x-python",
   "name": "python",
   "nbconvert_exporter": "python",
   "pygments_lexer": "ipython3",
   "version": "3.9.0"
  },
  "toc": {
   "base_numbering": 1,
   "nav_menu": {},
   "number_sections": true,
   "sideBar": true,
   "skip_h1_title": false,
   "title_cell": "Table of Contents",
   "title_sidebar": "Contents",
   "toc_cell": false,
   "toc_position": {
    "height": "calc(100% - 180px)",
    "left": "10px",
    "top": "150px",
    "width": "210.434px"
   },
   "toc_section_display": true,
   "toc_window_display": true
  }
 },
 "nbformat": 4,
 "nbformat_minor": 5
}
