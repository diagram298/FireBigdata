{
 "cells": [
  {
   "cell_type": "code",
   "execution_count": 1,
   "metadata": {},
   "outputs": [],
   "source": [
    "from kiwipiepy import Kiwi\n",
    "import pandas as pd\n",
    "import numpy as np\n",
    "from tqdm import tqdm\n",
    "import time\n",
    "from datetime import date\n",
    "import os\n",
    "\n",
    "tqdm.pandas()"
   ]
  },
  {
   "cell_type": "code",
   "execution_count": 2,
   "metadata": {},
   "outputs": [],
   "source": [
    "kiwi = Kiwi(model_type='sbg',num_workers=0)"
   ]
  },
  {
   "cell_type": "code",
   "execution_count": 4,
   "metadata": {},
   "outputs": [],
   "source": [
    "df = pd.read_csv('/home/intern2/fire_dev/NEWS_NLP/ES.csv',encoding='utf-8-sig')"
   ]
  },
  {
   "cell_type": "code",
   "execution_count": 3,
   "metadata": {
    "collapsed": true
   },
   "outputs": [
    {
     "ename": "KeyboardInterrupt",
     "evalue": "",
     "output_type": "error",
     "traceback": [
      "\u001b[0;31m---------------------------------------------------------------------------\u001b[0m",
      "\u001b[0;31mKeyboardInterrupt\u001b[0m                         Traceback (most recent call last)",
      "Cell \u001b[0;32mIn[3], line 1\u001b[0m\n\u001b[0;32m----> 1\u001b[0m df \u001b[39m=\u001b[39m pd\u001b[39m.\u001b[39;49mread_csv(\u001b[39m'\u001b[39;49m\u001b[39mcleansing.csv\u001b[39;49m\u001b[39m'\u001b[39;49m,encoding\u001b[39m=\u001b[39;49m\u001b[39m'\u001b[39;49m\u001b[39mutf-8-sig\u001b[39;49m\u001b[39m'\u001b[39;49m)\n",
      "File \u001b[0;32m~/anaconda3/envs/intern/lib/python3.9/site-packages/pandas/util/_decorators.py:211\u001b[0m, in \u001b[0;36mdeprecate_kwarg.<locals>._deprecate_kwarg.<locals>.wrapper\u001b[0;34m(*args, **kwargs)\u001b[0m\n\u001b[1;32m    209\u001b[0m     \u001b[39melse\u001b[39;00m:\n\u001b[1;32m    210\u001b[0m         kwargs[new_arg_name] \u001b[39m=\u001b[39m new_arg_value\n\u001b[0;32m--> 211\u001b[0m \u001b[39mreturn\u001b[39;00m func(\u001b[39m*\u001b[39;49margs, \u001b[39m*\u001b[39;49m\u001b[39m*\u001b[39;49mkwargs)\n",
      "File \u001b[0;32m~/anaconda3/envs/intern/lib/python3.9/site-packages/pandas/util/_decorators.py:331\u001b[0m, in \u001b[0;36mdeprecate_nonkeyword_arguments.<locals>.decorate.<locals>.wrapper\u001b[0;34m(*args, **kwargs)\u001b[0m\n\u001b[1;32m    325\u001b[0m \u001b[39mif\u001b[39;00m \u001b[39mlen\u001b[39m(args) \u001b[39m>\u001b[39m num_allow_args:\n\u001b[1;32m    326\u001b[0m     warnings\u001b[39m.\u001b[39mwarn(\n\u001b[1;32m    327\u001b[0m         msg\u001b[39m.\u001b[39mformat(arguments\u001b[39m=\u001b[39m_format_argument_list(allow_args)),\n\u001b[1;32m    328\u001b[0m         \u001b[39mFutureWarning\u001b[39;00m,\n\u001b[1;32m    329\u001b[0m         stacklevel\u001b[39m=\u001b[39mfind_stack_level(),\n\u001b[1;32m    330\u001b[0m     )\n\u001b[0;32m--> 331\u001b[0m \u001b[39mreturn\u001b[39;00m func(\u001b[39m*\u001b[39;49margs, \u001b[39m*\u001b[39;49m\u001b[39m*\u001b[39;49mkwargs)\n",
      "File \u001b[0;32m~/anaconda3/envs/intern/lib/python3.9/site-packages/pandas/io/parsers/readers.py:950\u001b[0m, in \u001b[0;36mread_csv\u001b[0;34m(filepath_or_buffer, sep, delimiter, header, names, index_col, usecols, squeeze, prefix, mangle_dupe_cols, dtype, engine, converters, true_values, false_values, skipinitialspace, skiprows, skipfooter, nrows, na_values, keep_default_na, na_filter, verbose, skip_blank_lines, parse_dates, infer_datetime_format, keep_date_col, date_parser, dayfirst, cache_dates, iterator, chunksize, compression, thousands, decimal, lineterminator, quotechar, quoting, doublequote, escapechar, comment, encoding, encoding_errors, dialect, error_bad_lines, warn_bad_lines, on_bad_lines, delim_whitespace, low_memory, memory_map, float_precision, storage_options)\u001b[0m\n\u001b[1;32m    935\u001b[0m kwds_defaults \u001b[39m=\u001b[39m _refine_defaults_read(\n\u001b[1;32m    936\u001b[0m     dialect,\n\u001b[1;32m    937\u001b[0m     delimiter,\n\u001b[0;32m   (...)\u001b[0m\n\u001b[1;32m    946\u001b[0m     defaults\u001b[39m=\u001b[39m{\u001b[39m\"\u001b[39m\u001b[39mdelimiter\u001b[39m\u001b[39m\"\u001b[39m: \u001b[39m\"\u001b[39m\u001b[39m,\u001b[39m\u001b[39m\"\u001b[39m},\n\u001b[1;32m    947\u001b[0m )\n\u001b[1;32m    948\u001b[0m kwds\u001b[39m.\u001b[39mupdate(kwds_defaults)\n\u001b[0;32m--> 950\u001b[0m \u001b[39mreturn\u001b[39;00m _read(filepath_or_buffer, kwds)\n",
      "File \u001b[0;32m~/anaconda3/envs/intern/lib/python3.9/site-packages/pandas/io/parsers/readers.py:611\u001b[0m, in \u001b[0;36m_read\u001b[0;34m(filepath_or_buffer, kwds)\u001b[0m\n\u001b[1;32m    608\u001b[0m     \u001b[39mreturn\u001b[39;00m parser\n\u001b[1;32m    610\u001b[0m \u001b[39mwith\u001b[39;00m parser:\n\u001b[0;32m--> 611\u001b[0m     \u001b[39mreturn\u001b[39;00m parser\u001b[39m.\u001b[39;49mread(nrows)\n",
      "File \u001b[0;32m~/anaconda3/envs/intern/lib/python3.9/site-packages/pandas/io/parsers/readers.py:1778\u001b[0m, in \u001b[0;36mTextFileReader.read\u001b[0;34m(self, nrows)\u001b[0m\n\u001b[1;32m   1771\u001b[0m nrows \u001b[39m=\u001b[39m validate_integer(\u001b[39m\"\u001b[39m\u001b[39mnrows\u001b[39m\u001b[39m\"\u001b[39m, nrows)\n\u001b[1;32m   1772\u001b[0m \u001b[39mtry\u001b[39;00m:\n\u001b[1;32m   1773\u001b[0m     \u001b[39m# error: \"ParserBase\" has no attribute \"read\"\u001b[39;00m\n\u001b[1;32m   1774\u001b[0m     (\n\u001b[1;32m   1775\u001b[0m         index,\n\u001b[1;32m   1776\u001b[0m         columns,\n\u001b[1;32m   1777\u001b[0m         col_dict,\n\u001b[0;32m-> 1778\u001b[0m     ) \u001b[39m=\u001b[39m \u001b[39mself\u001b[39;49m\u001b[39m.\u001b[39;49m_engine\u001b[39m.\u001b[39;49mread(  \u001b[39m# type: ignore[attr-defined]\u001b[39;49;00m\n\u001b[1;32m   1779\u001b[0m         nrows\n\u001b[1;32m   1780\u001b[0m     )\n\u001b[1;32m   1781\u001b[0m \u001b[39mexcept\u001b[39;00m \u001b[39mException\u001b[39;00m:\n\u001b[1;32m   1782\u001b[0m     \u001b[39mself\u001b[39m\u001b[39m.\u001b[39mclose()\n",
      "File \u001b[0;32m~/anaconda3/envs/intern/lib/python3.9/site-packages/pandas/io/parsers/c_parser_wrapper.py:230\u001b[0m, in \u001b[0;36mCParserWrapper.read\u001b[0;34m(self, nrows)\u001b[0m\n\u001b[1;32m    228\u001b[0m \u001b[39mtry\u001b[39;00m:\n\u001b[1;32m    229\u001b[0m     \u001b[39mif\u001b[39;00m \u001b[39mself\u001b[39m\u001b[39m.\u001b[39mlow_memory:\n\u001b[0;32m--> 230\u001b[0m         chunks \u001b[39m=\u001b[39m \u001b[39mself\u001b[39;49m\u001b[39m.\u001b[39;49m_reader\u001b[39m.\u001b[39;49mread_low_memory(nrows)\n\u001b[1;32m    231\u001b[0m         \u001b[39m# destructive to chunks\u001b[39;00m\n\u001b[1;32m    232\u001b[0m         data \u001b[39m=\u001b[39m _concatenate_chunks(chunks)\n",
      "File \u001b[0;32m~/anaconda3/envs/intern/lib/python3.9/site-packages/pandas/_libs/parsers.pyx:808\u001b[0m, in \u001b[0;36mpandas._libs.parsers.TextReader.read_low_memory\u001b[0;34m()\u001b[0m\n",
      "File \u001b[0;32m~/anaconda3/envs/intern/lib/python3.9/site-packages/pandas/_libs/parsers.pyx:890\u001b[0m, in \u001b[0;36mpandas._libs.parsers.TextReader._read_rows\u001b[0;34m()\u001b[0m\n",
      "File \u001b[0;32m~/anaconda3/envs/intern/lib/python3.9/site-packages/pandas/_libs/parsers.pyx:1049\u001b[0m, in \u001b[0;36mpandas._libs.parsers.TextReader._convert_column_data\u001b[0;34m()\u001b[0m\n",
      "File \u001b[0;32m~/anaconda3/envs/intern/lib/python3.9/site-packages/pandas/core/dtypes/common.py:1433\u001b[0m, in \u001b[0;36mis_extension_array_dtype\u001b[0;34m(arr_or_dtype)\u001b[0m\n\u001b[1;32m   1424\u001b[0m     \u001b[39m# Note: if other EA dtypes are ever held in HybridBlock, exclude those\u001b[39;00m\n\u001b[1;32m   1425\u001b[0m     \u001b[39m#  here too.\u001b[39;00m\n\u001b[1;32m   1426\u001b[0m     \u001b[39m# NB: need to check DatetimeTZDtype and not is_datetime64tz_dtype\u001b[39;00m\n\u001b[1;32m   1427\u001b[0m     \u001b[39m#  to exclude ArrowTimestampUSDtype\u001b[39;00m\n\u001b[1;32m   1428\u001b[0m     \u001b[39mreturn\u001b[39;00m \u001b[39misinstance\u001b[39m(dtype, ExtensionDtype) \u001b[39mand\u001b[39;00m \u001b[39mnot\u001b[39;00m \u001b[39misinstance\u001b[39m(\n\u001b[1;32m   1429\u001b[0m         dtype, (DatetimeTZDtype, PeriodDtype)\n\u001b[1;32m   1430\u001b[0m     )\n\u001b[0;32m-> 1433\u001b[0m \u001b[39mdef\u001b[39;00m \u001b[39mis_extension_array_dtype\u001b[39m(arr_or_dtype) \u001b[39m-\u001b[39m\u001b[39m>\u001b[39m \u001b[39mbool\u001b[39m:\n\u001b[1;32m   1434\u001b[0m     \u001b[39m\"\"\"\u001b[39;00m\n\u001b[1;32m   1435\u001b[0m \u001b[39m    Check if an object is a pandas extension array type.\u001b[39;00m\n\u001b[1;32m   1436\u001b[0m \n\u001b[0;32m   (...)\u001b[0m\n\u001b[1;32m   1476\u001b[0m \u001b[39m    False\u001b[39;00m\n\u001b[1;32m   1477\u001b[0m \u001b[39m    \"\"\"\u001b[39;00m\n\u001b[1;32m   1478\u001b[0m     dtype \u001b[39m=\u001b[39m \u001b[39mgetattr\u001b[39m(arr_or_dtype, \u001b[39m\"\u001b[39m\u001b[39mdtype\u001b[39m\u001b[39m\"\u001b[39m, arr_or_dtype)\n",
      "\u001b[0;31mKeyboardInterrupt\u001b[0m: "
     ]
    }
   ],
   "source": [
    "df = pd.read_csv('cleansing.csv',encoding='utf-8-sig')"
   ]
  },
  {
   "cell_type": "code",
   "execution_count": 5,
   "metadata": {},
   "outputs": [
    {
     "data": {
      "text/html": [
       "<div>\n",
       "<style scoped>\n",
       "    .dataframe tbody tr th:only-of-type {\n",
       "        vertical-align: middle;\n",
       "    }\n",
       "\n",
       "    .dataframe tbody tr th {\n",
       "        vertical-align: top;\n",
       "    }\n",
       "\n",
       "    .dataframe thead th {\n",
       "        text-align: right;\n",
       "    }\n",
       "</style>\n",
       "<table border=\"1\" class=\"dataframe\">\n",
       "  <thead>\n",
       "    <tr style=\"text-align: right;\">\n",
       "      <th></th>\n",
       "      <th>YNewsML.NewsContent.Title</th>\n",
       "      <th>YNewsML.NewsContent.Body</th>\n",
       "      <th>send_timestamp</th>\n",
       "    </tr>\n",
       "  </thead>\n",
       "  <tbody>\n",
       "    <tr>\n",
       "      <th>0</th>\n",
       "      <td>신분당선 판교∼정자역 사이서 전동차 멈춰…1시간가량 불편</td>\n",
       "      <td>신분당선 판교∼정자역 사이서 전동차 멈춰…1시간가량 불편\\n    \\r\\n    (...</td>\n",
       "      <td>2022-12-31T23:20:59</td>\n",
       "    </tr>\n",
       "    <tr>\n",
       "      <th>1</th>\n",
       "      <td>남아공 가스트럭 폭발사고 사망자 34명으로 늘어</td>\n",
       "      <td>남아공 가스트럭 폭발사고 사망자 34명으로 늘어\\n\\r\\n&lt;YNAOBJECT id=...</td>\n",
       "      <td>2022-12-31T18:08:13</td>\n",
       "    </tr>\n",
       "    <tr>\n",
       "      <th>2</th>\n",
       "      <td>선로에 떨어진 부직포 때문에…SRT, 운행 차질에 차량 고장까지(종합)</td>\n",
       "      <td>선로에 떨어진 부직포 때문에…SRT, 운행 차질에 차량 고장까지(종합)\\n전날 선로...</td>\n",
       "      <td>2022-12-31T16:16:20</td>\n",
       "    </tr>\n",
       "    <tr>\n",
       "      <th>3</th>\n",
       "      <td>선로 전기공급 끊기고 SRT 고장…이틀째 대거 운행지연·취소</td>\n",
       "      <td>선로 전기공급 끊기고 SRT 고장…이틀째 대거 운행지연·취소\\n첫날 KTX·SRT ...</td>\n",
       "      <td>2022-12-31T12:57:34</td>\n",
       "    </tr>\n",
       "    <tr>\n",
       "      <th>4</th>\n",
       "      <td>캄보디아 카지노 호텔 화재 사망자 최소 27명으로…수색 종료</td>\n",
       "      <td>캄보디아 카지노 호텔 화재 사망자 최소 27명으로…수색 종료\\n\\r\\n&lt;YNAOBJ...</td>\n",
       "      <td>2022-12-31T11:51:25</td>\n",
       "    </tr>\n",
       "    <tr>\n",
       "      <th>...</th>\n",
       "      <td>...</td>\n",
       "      <td>...</td>\n",
       "      <td>...</td>\n",
       "    </tr>\n",
       "    <tr>\n",
       "      <th>11052</th>\n",
       "      <td>한국소비자원, 편의점 업계와 여름철 먹거리 안전 관리 캠페인</td>\n",
       "      <td>한국소비자원, 편의점 업계와 여름철 먹거리 안전 관리 캠페인\\n\\r\\n&lt;YNAOBJ...</td>\n",
       "      <td>2022-06-08T10:33:09</td>\n",
       "    </tr>\n",
       "    <tr>\n",
       "      <th>11053</th>\n",
       "      <td>소방청-가스안전공사, 신에너지 사고 대응 업무협약</td>\n",
       "      <td>소방청-가스안전공사, 신에너지 사고 대응 업무협약\\n\\r\\n&lt;YNAOBJECT id...</td>\n",
       "      <td>2022-06-08T10:00:07</td>\n",
       "    </tr>\n",
       "    <tr>\n",
       "      <th>11054</th>\n",
       "      <td>LGU+, 서울지하철 8호선에 '스마트 역사' 구축</td>\n",
       "      <td>LGU+, 서울지하철 8호선에 '스마트 역사' 구축\\r\\n    (서울=연합뉴스) ...</td>\n",
       "      <td>2022-06-08T09:20:49</td>\n",
       "    </tr>\n",
       "    <tr>\n",
       "      <th>11055</th>\n",
       "      <td>LGU+, 서울지하철 8호선에 '스마트 역사' 구축 완료</td>\n",
       "      <td>LGU+, 서울지하철 8호선에 '스마트 역사' 구축 완료\\n역사 내 사고에 신속 대...</td>\n",
       "      <td>2022-06-08T09:00:02</td>\n",
       "    </tr>\n",
       "    <tr>\n",
       "      <th>11056</th>\n",
       "      <td>제조업 운반·하역 작업서 부상 가장 많이 발생…전체 19.3%</td>\n",
       "      <td>제조업 운반·하역 작업서 부상 가장 많이 발생…전체 19.3%\\n\\r\\n&lt;YNAOB...</td>\n",
       "      <td>2022-06-08T09:00:00</td>\n",
       "    </tr>\n",
       "  </tbody>\n",
       "</table>\n",
       "<p>11057 rows × 3 columns</p>\n",
       "</div>"
      ],
      "text/plain": [
       "                     YNewsML.NewsContent.Title  \\\n",
       "0              신분당선 판교∼정자역 사이서 전동차 멈춰…1시간가량 불편   \n",
       "1                   남아공 가스트럭 폭발사고 사망자 34명으로 늘어   \n",
       "2      선로에 떨어진 부직포 때문에…SRT, 운행 차질에 차량 고장까지(종합)   \n",
       "3            선로 전기공급 끊기고 SRT 고장…이틀째 대거 운행지연·취소   \n",
       "4            캄보디아 카지노 호텔 화재 사망자 최소 27명으로…수색 종료   \n",
       "...                                        ...   \n",
       "11052        한국소비자원, 편의점 업계와 여름철 먹거리 안전 관리 캠페인   \n",
       "11053              소방청-가스안전공사, 신에너지 사고 대응 업무협약   \n",
       "11054             LGU+, 서울지하철 8호선에 '스마트 역사' 구축   \n",
       "11055          LGU+, 서울지하철 8호선에 '스마트 역사' 구축 완료   \n",
       "11056       제조업 운반·하역 작업서 부상 가장 많이 발생…전체 19.3%   \n",
       "\n",
       "                                YNewsML.NewsContent.Body       send_timestamp  \n",
       "0      신분당선 판교∼정자역 사이서 전동차 멈춰…1시간가량 불편\\n    \\r\\n    (...  2022-12-31T23:20:59  \n",
       "1      남아공 가스트럭 폭발사고 사망자 34명으로 늘어\\n\\r\\n<YNAOBJECT id=...  2022-12-31T18:08:13  \n",
       "2      선로에 떨어진 부직포 때문에…SRT, 운행 차질에 차량 고장까지(종합)\\n전날 선로...  2022-12-31T16:16:20  \n",
       "3      선로 전기공급 끊기고 SRT 고장…이틀째 대거 운행지연·취소\\n첫날 KTX·SRT ...  2022-12-31T12:57:34  \n",
       "4      캄보디아 카지노 호텔 화재 사망자 최소 27명으로…수색 종료\\n\\r\\n<YNAOBJ...  2022-12-31T11:51:25  \n",
       "...                                                  ...                  ...  \n",
       "11052  한국소비자원, 편의점 업계와 여름철 먹거리 안전 관리 캠페인\\n\\r\\n<YNAOBJ...  2022-06-08T10:33:09  \n",
       "11053  소방청-가스안전공사, 신에너지 사고 대응 업무협약\\n\\r\\n<YNAOBJECT id...  2022-06-08T10:00:07  \n",
       "11054  LGU+, 서울지하철 8호선에 '스마트 역사' 구축\\r\\n    (서울=연합뉴스) ...  2022-06-08T09:20:49  \n",
       "11055  LGU+, 서울지하철 8호선에 '스마트 역사' 구축 완료\\n역사 내 사고에 신속 대...  2022-06-08T09:00:02  \n",
       "11056  제조업 운반·하역 작업서 부상 가장 많이 발생…전체 19.3%\\n\\r\\n<YNAOB...  2022-06-08T09:00:00  \n",
       "\n",
       "[11057 rows x 3 columns]"
      ]
     },
     "execution_count": 5,
     "metadata": {},
     "output_type": "execute_result"
    }
   ],
   "source": [
    "df"
   ]
  },
  {
   "cell_type": "code",
   "execution_count": 6,
   "metadata": {},
   "outputs": [],
   "source": [
    "df = df.dropna().reset_index().drop(columns='index',axis=1)"
   ]
  },
  {
   "cell_type": "code",
   "execution_count": 13,
   "metadata": {},
   "outputs": [],
   "source": [
    "import re"
   ]
  },
  {
   "cell_type": "code",
   "execution_count": 14,
   "metadata": {},
   "outputs": [],
   "source": [
    "def cleansing(body, mode=None):\n",
    "    if type(body) == np.ndarray:\n",
    "        body = np.round(body.tolist(), 5)\n",
    "        body = body.tolist()\n",
    "        return body\n",
    "    else:\n",
    "        body = re.sub('<YNAOBJECT.*?/YNAOBJECT>', '', body, 0, re.I|re.S) # YNAOBJECT 태그 제거\n",
    "        body = re.sub('<table.*?/table>', '', body, 0, re.I|re.S) # table 태그 제거\n",
    "        \n",
    "        if mode == 'meta':\n",
    "            try:\n",
    "                body = body[re.search(\"\\(.*?연합뉴스\\).*?=\", body).span()[0]:]\n",
    "            except AttributeError:\n",
    "                pass\n",
    "            return body\n",
    "        \n",
    "        if mode == 'sum':\n",
    "            try:\n",
    "                body = body[re.search(\"\\(.*?연합뉴스\\).*?=\", body).span()[1]:]\n",
    "            except AttributeError:\n",
    "                pass\n",
    "            \n",
    "        \n",
    "        body = re.sub(r'\\([^)]*\\)', '', body, 0, re.I|re.S) # 괄호안 내용 제거\n",
    "        body = re.sub(r'\\[.*\\]|\\s-\\s.*', '', body, 0, re.I|re.S) # 괄호안 내용 제거\n",
    "        body = re.sub(r'\\<.*\\>|\\s-\\s.*', '', body, 0, re.I|re.S) # 괄호안 내용 제거\n",
    "        body = re.sub('·', ' ', body, 0, re.I|re.S) # 변환\n",
    "        body = re.sub('-', ' ', body, 0, re.I|re.S) # 변환\n",
    "        body = re.sub('\\(.*?연합뉴스\\).*?=', '', body, 0, re.I|re.S) # 기자명 및 기자소속 제거\n",
    "        body = re.sub('\\(서울.*?연합뉴스\\)', '', body, 0, re.I|re.S) # 기자소속 제거\n",
    "        body = re.sub('yna.co.kr', '', body, 0, re.I|re.S) # 연합 url 제거\n",
    "        body = re.sub('([a-zA-Z0-9\\_.+-]+@[a-zA-Z0-9-]+\\.[a-zA-Z0-9-.]+)', '', body, 0, re.I|re.S) # E-mail 제거\n",
    "        body = re.sub('(http|ftp|https)://(?:[-\\w.]|(?:%[\\da-fA-F]{2}))+', '', body, 0, re.I|re.S) # URL 제거\n",
    "#         body = re.sub('([0-9\\_.+-]+억[0-9-]+천[0-9-]+만원)', '', body, 0, re.I|re.S) # 억천만 제거\n",
    "#         body = re.sub('([0-9\\_.+-]+천[0-9-]+억원)', '', body, 0, re.I|re.S) # 억천만 제거\n",
    "#         body = re.sub('([0-9\\_.+-]+억[0-9-]+천[0-9-]+달러)', '', body, 0, re.I|re.S) # 억천만 제거\n",
    "#         body = re.sub('([0-9\\_.+-]+억[0-9-]+천만달러)', '', body, 0, re.I|re.S) # 억천만 제거\n",
    "#         body = re.sub('([0-9\\_.+-]+천[0-9-]+만원)', '', body, 0, re.I|re.S) # 천만 제거\n",
    "#         body = re.sub('([0-9\\_.+-]+천[0-9-]+달러)', '', body, 0, re.I|re.S) # 천만 제거\n",
    "#         body = re.sub('([0-9\\_.+-]+만원)', '', body, 0, re.I|re.S) # 만 제거\n",
    "#         body = re.sub('([0-9\\_.+-]+만[0-9-]천[0-9-]+원)', '', body, 0, re.I|re.S) # 만 제거\n",
    "        body = re.sub('전문보기.*?\\n', '', body, 0, re.I|re.S) # 전문보기 제거\n",
    "        body = re.sub('&lt;.*?&gt;&gt;', '', body, 0, re.I|re.S) # 기타 안내문 제거\n",
    "        body = re.sub('&lt;.*?&gt;', '', body, 0, re.I|re.S) # '&gt;'가 1개인 안내문 제거\n",
    "        body = re.sub('&apos;', \"'\", body, 0, re.I|re.S) # &apos; ' 변환\n",
    "        body = re.sub('&amp;', \"&\", body, 0, re.I|re.S) # &amp;; ' 변환        \n",
    "        body = re.sub('-.*?_.*?\\(끝\\)', '', body, 0, re.I|re.S) # 9001887 속성에만 존재하는 불용어 제거\n",
    "        body = re.sub('[#@*※|》■▲▼◀▶◇☎]-<>=+·↑', '', body, 0, re.I|re.S) # 특수문자 제거\n",
    "        body = re.sub('…', '', body, 0, re.I|re.S) # … 제거\n",
    "        body = re.sub('\\(끝\\)', '', body, 0, re.I|re.S) # 끝 태그 제거\n",
    "        body = re.sub('[\"\"]', '', body, 0, re.I|re.S) # \"\" 제거\n",
    "        body = re.sub(r'[^ A-Za-z가-힣+]',' ' , body, 0, re.I|re.S) # 한글, 알파벳을 제외한 나머지 제거\n",
    "\n",
    "\n",
    "        paragraphs = body.split('\\r\\n') # 단락 분리\n",
    "        if ' 기자' in paragraphs[-1]: del paragraphs[-1] # 끝 단락 기자명 제거\n",
    "        body = []\n",
    "        for paragraph in paragraphs:\n",
    "            paragraph = re.sub('\\[.+?\\]', '', paragraph, 0, re.I|re.S)\n",
    "            paragraph = ' '.join(paragraph.split()) # 문자열 중간 다중 공백 제거\n",
    "            if len(paragraph) > 0:\n",
    "                body.append(paragraph)\n",
    "        \n",
    "        if mode == 'quot':\n",
    "            return body\n",
    "        else:\n",
    "            return ' '.join(body)"
   ]
  },
  {
   "cell_type": "code",
   "execution_count": 36,
   "metadata": {},
   "outputs": [],
   "source": [
    "clean = df['YNewsML.NewsContent.Title'].apply(cleansing)"
   ]
  },
  {
   "cell_type": "code",
   "execution_count": 37,
   "metadata": {},
   "outputs": [
    {
     "data": {
      "text/plain": [
       "0           신분당선 판교 정자역 사이서 전동차 멈춰 시간가량 불편\n",
       "1                 남아공 가스트럭 폭발사고 사망자 명으로 늘어\n",
       "2        선로에 떨어진 부직포 때문에SRT 운행 차질에 차량 고장까지\n",
       "3         선로 전기공급 끊기고 SRT 고장이틀째 대거 운행지연 취소\n",
       "4           캄보디아 카지노 호텔 화재 사망자 최소 명으로수색 종료\n",
       "                       ...                \n",
       "11052     한국소비자원 편의점 업계와 여름철 먹거리 안전 관리 캠페인\n",
       "11053           소방청 가스안전공사 신에너지 사고 대응 업무협약\n",
       "11054             LGU+ 서울지하철 호선에 스마트 역사 구축\n",
       "11055          LGU+ 서울지하철 호선에 스마트 역사 구축 완료\n",
       "11056          제조업 운반 하역 작업서 부상 가장 많이 발생전체\n",
       "Name: YNewsML.NewsContent.Title, Length: 11057, dtype: object"
      ]
     },
     "execution_count": 37,
     "metadata": {},
     "output_type": "execute_result"
    }
   ],
   "source": [
    "clean"
   ]
  },
  {
   "cell_type": "code",
   "execution_count": 38,
   "metadata": {},
   "outputs": [],
   "source": [
    "f = open(f'es_dict.txt','w',encoding='utf-8-sig')\n",
    "\n",
    "for i in clean:\n",
    "    f.write(str(i))\n",
    "f.close()"
   ]
  },
  {
   "cell_type": "code",
   "execution_count": 39,
   "metadata": {},
   "outputs": [],
   "source": [
    "inputs = list(open(f'es_dict.txt', encoding='utf-8-sig'))\n",
    "result = kiwi.extract_words(inputs, min_cnt=1, max_word_len=10, min_score=0.15)"
   ]
  },
  {
   "cell_type": "code",
   "execution_count": 41,
   "metadata": {},
   "outputs": [
    {
     "data": {
      "text/html": [
       "<div>\n",
       "<style scoped>\n",
       "    .dataframe tbody tr th:only-of-type {\n",
       "        vertical-align: middle;\n",
       "    }\n",
       "\n",
       "    .dataframe tbody tr th {\n",
       "        vertical-align: top;\n",
       "    }\n",
       "\n",
       "    .dataframe thead th {\n",
       "        text-align: right;\n",
       "    }\n",
       "</style>\n",
       "<table border=\"1\" class=\"dataframe\">\n",
       "  <thead>\n",
       "    <tr style=\"text-align: right;\">\n",
       "      <th></th>\n",
       "      <th>0</th>\n",
       "      <th>1</th>\n",
       "      <th>2</th>\n",
       "      <th>3</th>\n",
       "    </tr>\n",
       "  </thead>\n",
       "  <tbody>\n",
       "    <tr>\n",
       "      <th>0</th>\n",
       "      <td>서울소방재난본부장</td>\n",
       "      <td>0.871961</td>\n",
       "      <td>27</td>\n",
       "      <td>-1.754715</td>\n",
       "    </tr>\n",
       "    <tr>\n",
       "      <th>1</th>\n",
       "      <td>안전관리</td>\n",
       "      <td>0.864604</td>\n",
       "      <td>200</td>\n",
       "      <td>-2.905137</td>\n",
       "    </tr>\n",
       "    <tr>\n",
       "      <th>2</th>\n",
       "      <td>중대재해</td>\n",
       "      <td>0.784491</td>\n",
       "      <td>126</td>\n",
       "      <td>-0.984302</td>\n",
       "    </tr>\n",
       "    <tr>\n",
       "      <th>3</th>\n",
       "      <td>정례브리핑</td>\n",
       "      <td>0.727176</td>\n",
       "      <td>23</td>\n",
       "      <td>-0.355426</td>\n",
       "    </tr>\n",
       "    <tr>\n",
       "      <th>4</th>\n",
       "      <td>DL이앤씨</td>\n",
       "      <td>0.674691</td>\n",
       "      <td>5</td>\n",
       "      <td>-2.757214</td>\n",
       "    </tr>\n",
       "    <tr>\n",
       "      <th>5</th>\n",
       "      <td>용산소방서장</td>\n",
       "      <td>0.518236</td>\n",
       "      <td>26</td>\n",
       "      <td>-2.243024</td>\n",
       "    </tr>\n",
       "    <tr>\n",
       "      <th>6</th>\n",
       "      <td>HDC현</td>\n",
       "      <td>0.467727</td>\n",
       "      <td>10</td>\n",
       "      <td>-0.116693</td>\n",
       "    </tr>\n",
       "    <tr>\n",
       "      <th>7</th>\n",
       "      <td>기후변화</td>\n",
       "      <td>0.434579</td>\n",
       "      <td>22</td>\n",
       "      <td>-2.512540</td>\n",
       "    </tr>\n",
       "    <tr>\n",
       "      <th>8</th>\n",
       "      <td>안전보건</td>\n",
       "      <td>0.430151</td>\n",
       "      <td>49</td>\n",
       "      <td>-1.697576</td>\n",
       "    </tr>\n",
       "    <tr>\n",
       "      <th>9</th>\n",
       "      <td>경부고속</td>\n",
       "      <td>0.427345</td>\n",
       "      <td>17</td>\n",
       "      <td>-0.657891</td>\n",
       "    </tr>\n",
       "    <tr>\n",
       "      <th>10</th>\n",
       "      <td>SK지오센트릭</td>\n",
       "      <td>0.421018</td>\n",
       "      <td>10</td>\n",
       "      <td>-2.368029</td>\n",
       "    </tr>\n",
       "    <tr>\n",
       "      <th>11</th>\n",
       "      <td>여수산단</td>\n",
       "      <td>0.416996</td>\n",
       "      <td>19</td>\n",
       "      <td>-2.867632</td>\n",
       "    </tr>\n",
       "    <tr>\n",
       "      <th>12</th>\n",
       "      <td>튀르키예</td>\n",
       "      <td>0.406683</td>\n",
       "      <td>4</td>\n",
       "      <td>-2.059630</td>\n",
       "    </tr>\n",
       "    <tr>\n",
       "      <th>13</th>\n",
       "      <td>중부지방</td>\n",
       "      <td>0.364487</td>\n",
       "      <td>20</td>\n",
       "      <td>-2.197039</td>\n",
       "    </tr>\n",
       "    <tr>\n",
       "      <th>14</th>\n",
       "      <td>임시주거시설</td>\n",
       "      <td>0.350722</td>\n",
       "      <td>8</td>\n",
       "      <td>-2.066857</td>\n",
       "    </tr>\n",
       "    <tr>\n",
       "      <th>15</th>\n",
       "      <td>국무조정실장</td>\n",
       "      <td>0.334988</td>\n",
       "      <td>7</td>\n",
       "      <td>-2.129881</td>\n",
       "    </tr>\n",
       "    <tr>\n",
       "      <th>16</th>\n",
       "      <td>녹사평</td>\n",
       "      <td>0.308702</td>\n",
       "      <td>10</td>\n",
       "      <td>-2.809242</td>\n",
       "    </tr>\n",
       "    <tr>\n",
       "      <th>17</th>\n",
       "      <td>행정사무감사</td>\n",
       "      <td>0.308187</td>\n",
       "      <td>6</td>\n",
       "      <td>-1.951651</td>\n",
       "    </tr>\n",
       "    <tr>\n",
       "      <th>18</th>\n",
       "      <td>안전점검</td>\n",
       "      <td>0.281228</td>\n",
       "      <td>70</td>\n",
       "      <td>-1.728759</td>\n",
       "    </tr>\n",
       "    <tr>\n",
       "      <th>19</th>\n",
       "      <td>희망브리지</td>\n",
       "      <td>0.278741</td>\n",
       "      <td>7</td>\n",
       "      <td>-2.600843</td>\n",
       "    </tr>\n",
       "    <tr>\n",
       "      <th>20</th>\n",
       "      <td>SPC계열</td>\n",
       "      <td>0.271285</td>\n",
       "      <td>6</td>\n",
       "      <td>-2.193616</td>\n",
       "    </tr>\n",
       "    <tr>\n",
       "      <th>21</th>\n",
       "      <td>용산경찰서장</td>\n",
       "      <td>0.263011</td>\n",
       "      <td>13</td>\n",
       "      <td>-2.304723</td>\n",
       "    </tr>\n",
       "    <tr>\n",
       "      <th>22</th>\n",
       "      <td>시민들</td>\n",
       "      <td>0.259532</td>\n",
       "      <td>91</td>\n",
       "      <td>-1.805593</td>\n",
       "    </tr>\n",
       "    <tr>\n",
       "      <th>23</th>\n",
       "      <td>응급복구</td>\n",
       "      <td>0.254889</td>\n",
       "      <td>22</td>\n",
       "      <td>-1.986114</td>\n",
       "    </tr>\n",
       "    <tr>\n",
       "      <th>24</th>\n",
       "      <td>시민분향소</td>\n",
       "      <td>0.235466</td>\n",
       "      <td>26</td>\n",
       "      <td>-0.753715</td>\n",
       "    </tr>\n",
       "    <tr>\n",
       "      <th>25</th>\n",
       "      <td>산업안전보건</td>\n",
       "      <td>0.229814</td>\n",
       "      <td>10</td>\n",
       "      <td>-2.507107</td>\n",
       "    </tr>\n",
       "    <tr>\n",
       "      <th>26</th>\n",
       "      <td>국가보훈처</td>\n",
       "      <td>0.222152</td>\n",
       "      <td>6</td>\n",
       "      <td>-2.907588</td>\n",
       "    </tr>\n",
       "    <tr>\n",
       "      <th>27</th>\n",
       "      <td>기관보고</td>\n",
       "      <td>0.220823</td>\n",
       "      <td>19</td>\n",
       "      <td>-2.244397</td>\n",
       "    </tr>\n",
       "    <tr>\n",
       "      <th>28</th>\n",
       "      <td>아프리카돼지열병</td>\n",
       "      <td>0.220786</td>\n",
       "      <td>2</td>\n",
       "      <td>-2.552930</td>\n",
       "    </tr>\n",
       "    <tr>\n",
       "      <th>29</th>\n",
       "      <td>재난안전</td>\n",
       "      <td>0.220064</td>\n",
       "      <td>71</td>\n",
       "      <td>-0.730724</td>\n",
       "    </tr>\n",
       "    <tr>\n",
       "      <th>30</th>\n",
       "      <td>안전대책</td>\n",
       "      <td>0.203513</td>\n",
       "      <td>66</td>\n",
       "      <td>-2.419443</td>\n",
       "    </tr>\n",
       "    <tr>\n",
       "      <th>31</th>\n",
       "      <td>사고수습본부</td>\n",
       "      <td>0.202460</td>\n",
       "      <td>7</td>\n",
       "      <td>-2.861885</td>\n",
       "    </tr>\n",
       "    <tr>\n",
       "      <th>32</th>\n",
       "      <td>물폭탄</td>\n",
       "      <td>0.201462</td>\n",
       "      <td>28</td>\n",
       "      <td>-2.665619</td>\n",
       "    </tr>\n",
       "    <tr>\n",
       "      <th>33</th>\n",
       "      <td>전력수급</td>\n",
       "      <td>0.198806</td>\n",
       "      <td>14</td>\n",
       "      <td>-1.291693</td>\n",
       "    </tr>\n",
       "    <tr>\n",
       "      <th>34</th>\n",
       "      <td>보안검색</td>\n",
       "      <td>0.194455</td>\n",
       "      <td>3</td>\n",
       "      <td>-0.310676</td>\n",
       "    </tr>\n",
       "    <tr>\n",
       "      <th>35</th>\n",
       "      <td>용산경찰서</td>\n",
       "      <td>0.191969</td>\n",
       "      <td>18</td>\n",
       "      <td>-0.894215</td>\n",
       "    </tr>\n",
       "    <tr>\n",
       "      <th>36</th>\n",
       "      <td>열대저압부</td>\n",
       "      <td>0.182717</td>\n",
       "      <td>3</td>\n",
       "      <td>-2.269747</td>\n",
       "    </tr>\n",
       "    <tr>\n",
       "      <th>37</th>\n",
       "      <td>마약안전기획관</td>\n",
       "      <td>0.177152</td>\n",
       "      <td>2</td>\n",
       "      <td>-1.863383</td>\n",
       "    </tr>\n",
       "    <tr>\n",
       "      <th>38</th>\n",
       "      <td>대한민국재향군인회</td>\n",
       "      <td>0.175424</td>\n",
       "      <td>2</td>\n",
       "      <td>-2.679830</td>\n",
       "    </tr>\n",
       "    <tr>\n",
       "      <th>39</th>\n",
       "      <td>순천향대병원</td>\n",
       "      <td>0.173576</td>\n",
       "      <td>3</td>\n",
       "      <td>-2.341677</td>\n",
       "    </tr>\n",
       "    <tr>\n",
       "      <th>40</th>\n",
       "      <td>응급복구율</td>\n",
       "      <td>0.170518</td>\n",
       "      <td>3</td>\n",
       "      <td>-1.017173</td>\n",
       "    </tr>\n",
       "    <tr>\n",
       "      <th>41</th>\n",
       "      <td>해양경찰</td>\n",
       "      <td>0.170218</td>\n",
       "      <td>12</td>\n",
       "      <td>-0.393465</td>\n",
       "    </tr>\n",
       "    <tr>\n",
       "      <th>42</th>\n",
       "      <td>재발방지</td>\n",
       "      <td>0.164311</td>\n",
       "      <td>15</td>\n",
       "      <td>-1.357272</td>\n",
       "    </tr>\n",
       "    <tr>\n",
       "      <th>43</th>\n",
       "      <td>영장실질심사</td>\n",
       "      <td>0.162715</td>\n",
       "      <td>4</td>\n",
       "      <td>-2.859445</td>\n",
       "    </tr>\n",
       "    <tr>\n",
       "      <th>44</th>\n",
       "      <td>금융지원</td>\n",
       "      <td>0.158063</td>\n",
       "      <td>12</td>\n",
       "      <td>-1.571808</td>\n",
       "    </tr>\n",
       "    <tr>\n",
       "      <th>45</th>\n",
       "      <td>예비특보</td>\n",
       "      <td>0.156674</td>\n",
       "      <td>4</td>\n",
       "      <td>0.049954</td>\n",
       "    </tr>\n",
       "    <tr>\n",
       "      <th>46</th>\n",
       "      <td>국정조사특별위원회</td>\n",
       "      <td>0.151820</td>\n",
       "      <td>3</td>\n",
       "      <td>-1.099231</td>\n",
       "    </tr>\n",
       "  </tbody>\n",
       "</table>\n",
       "</div>"
      ],
      "text/plain": [
       "            0         1    2         3\n",
       "0   서울소방재난본부장  0.871961   27 -1.754715\n",
       "1        안전관리  0.864604  200 -2.905137\n",
       "2        중대재해  0.784491  126 -0.984302\n",
       "3       정례브리핑  0.727176   23 -0.355426\n",
       "4       DL이앤씨  0.674691    5 -2.757214\n",
       "5      용산소방서장  0.518236   26 -2.243024\n",
       "6        HDC현  0.467727   10 -0.116693\n",
       "7        기후변화  0.434579   22 -2.512540\n",
       "8        안전보건  0.430151   49 -1.697576\n",
       "9        경부고속  0.427345   17 -0.657891\n",
       "10    SK지오센트릭  0.421018   10 -2.368029\n",
       "11       여수산단  0.416996   19 -2.867632\n",
       "12       튀르키예  0.406683    4 -2.059630\n",
       "13       중부지방  0.364487   20 -2.197039\n",
       "14     임시주거시설  0.350722    8 -2.066857\n",
       "15     국무조정실장  0.334988    7 -2.129881\n",
       "16        녹사평  0.308702   10 -2.809242\n",
       "17     행정사무감사  0.308187    6 -1.951651\n",
       "18       안전점검  0.281228   70 -1.728759\n",
       "19      희망브리지  0.278741    7 -2.600843\n",
       "20      SPC계열  0.271285    6 -2.193616\n",
       "21     용산경찰서장  0.263011   13 -2.304723\n",
       "22        시민들  0.259532   91 -1.805593\n",
       "23       응급복구  0.254889   22 -1.986114\n",
       "24      시민분향소  0.235466   26 -0.753715\n",
       "25     산업안전보건  0.229814   10 -2.507107\n",
       "26      국가보훈처  0.222152    6 -2.907588\n",
       "27       기관보고  0.220823   19 -2.244397\n",
       "28   아프리카돼지열병  0.220786    2 -2.552930\n",
       "29       재난안전  0.220064   71 -0.730724\n",
       "30       안전대책  0.203513   66 -2.419443\n",
       "31     사고수습본부  0.202460    7 -2.861885\n",
       "32        물폭탄  0.201462   28 -2.665619\n",
       "33       전력수급  0.198806   14 -1.291693\n",
       "34       보안검색  0.194455    3 -0.310676\n",
       "35      용산경찰서  0.191969   18 -0.894215\n",
       "36      열대저압부  0.182717    3 -2.269747\n",
       "37    마약안전기획관  0.177152    2 -1.863383\n",
       "38  대한민국재향군인회  0.175424    2 -2.679830\n",
       "39     순천향대병원  0.173576    3 -2.341677\n",
       "40      응급복구율  0.170518    3 -1.017173\n",
       "41       해양경찰  0.170218   12 -0.393465\n",
       "42       재발방지  0.164311   15 -1.357272\n",
       "43     영장실질심사  0.162715    4 -2.859445\n",
       "44       금융지원  0.158063   12 -1.571808\n",
       "45       예비특보  0.156674    4  0.049954\n",
       "46  국정조사특별위원회  0.151820    3 -1.099231"
      ]
     },
     "execution_count": 41,
     "metadata": {},
     "output_type": "execute_result"
    }
   ],
   "source": [
    "pd.DataFrame(result).to_csv('new_word_es.csv',encoding='utf-')"
   ]
  },
  {
   "cell_type": "code",
   "execution_count": null,
   "metadata": {},
   "outputs": [],
   "source": [
    "def month(data):\n",
    "    data = pd.to_datetime(str(data))\n",
    "    return data.month"
   ]
  },
  {
   "cell_type": "code",
   "execution_count": null,
   "metadata": {},
   "outputs": [],
   "source": [
    "def year(data):\n",
    "    data = pd.to_datetime(str(data))\n",
    "    return data.year"
   ]
  },
  {
   "cell_type": "code",
   "execution_count": null,
   "metadata": {},
   "outputs": [],
   "source": [
    "def day(data):\n",
    "    data = pd.to_datetime(str(data))\n",
    "    return data.day"
   ]
  },
  {
   "cell_type": "code",
   "execution_count": null,
   "metadata": {},
   "outputs": [],
   "source": [
    "from datetime import datetime, timedelta\n",
    "def get_date(date):\n",
    "    return pd.to_datetime(date)"
   ]
  },
  {
   "cell_type": "code",
   "execution_count": null,
   "metadata": {},
   "outputs": [],
   "source": [
    "def get_week_no(date):\n",
    "    target = get_date(date)\n",
    "    firstday = target.replace(day=1)\n",
    "    if firstday.weekday() == 6:\n",
    "        origin = firstday\n",
    "    elif firstday.weekday() < 3:\n",
    "        origin = firstday - timedelta(days=firstday.weekday() + 1)\n",
    "    else:\n",
    "        origin = firstday + timedelta(days=6-firstday.weekday())\n",
    "    return (target - origin).days // 7 + 1"
   ]
  },
  {
   "cell_type": "code",
   "execution_count": null,
   "metadata": {
    "scrolled": true
   },
   "outputs": [],
   "source": [
    "df['month'] = df.Date.apply(month)"
   ]
  },
  {
   "cell_type": "code",
   "execution_count": null,
   "metadata": {},
   "outputs": [],
   "source": [
    "df['year'] = df.Date.apply(year)"
   ]
  },
  {
   "cell_type": "code",
   "execution_count": null,
   "metadata": {},
   "outputs": [],
   "source": [
    "df['day'] = df.Date.apply(day)"
   ]
  },
  {
   "cell_type": "code",
   "execution_count": null,
   "metadata": {},
   "outputs": [],
   "source": [
    "df['week'] = df.Date.apply(get_week_no)"
   ]
  },
  {
   "cell_type": "code",
   "execution_count": null,
   "metadata": {},
   "outputs": [],
   "source": [
    "df.to_csv('cleansing0.csv', encoding='utf-8-sig', index=False)"
   ]
  },
  {
   "cell_type": "code",
   "execution_count": 3,
   "metadata": {},
   "outputs": [],
   "source": [
    "df = pd.read_csv('cleansing0.csv', encoding='utf-8-sig')"
   ]
  },
  {
   "cell_type": "code",
   "execution_count": 13,
   "metadata": {},
   "outputs": [],
   "source": [
    "def kspace(data):\n",
    "    result = kiwi.space(data,reset_whitespace=True)\n",
    "    return result"
   ]
  },
  {
   "cell_type": "code",
   "execution_count": 14,
   "metadata": {},
   "outputs": [
    {
     "name": "stderr",
     "output_type": "stream",
     "text": [
      "100%|██████████| 300000/300000 [1:28:31<00:00, 56.48it/s]  \n",
      "/tmp/ipykernel_20758/183453959.py:1: SettingWithCopyWarning: \n",
      "A value is trying to be set on a copy of a slice from a DataFrame\n",
      "\n",
      "See the caveats in the documentation: https://pandas.pydata.org/pandas-docs/stable/user_guide/indexing.html#returning-a-view-versus-a-copy\n",
      "  df.TB[:300000] = df.TB[:300000].progress_apply(kspace)\n"
     ]
    }
   ],
   "source": [
    "df.TB[:300000] = df.TB[:300000].progress_apply(kspace)"
   ]
  },
  {
   "cell_type": "code",
   "execution_count": 15,
   "metadata": {},
   "outputs": [
    {
     "name": "stderr",
     "output_type": "stream",
     "text": [
      "100%|██████████| 333369/333369 [1:41:34<00:00, 54.70it/s]  \n",
      "/tmp/ipykernel_20758/1428459661.py:1: SettingWithCopyWarning: \n",
      "A value is trying to be set on a copy of a slice from a DataFrame\n",
      "\n",
      "See the caveats in the documentation: https://pandas.pydata.org/pandas-docs/stable/user_guide/indexing.html#returning-a-view-versus-a-copy\n",
      "  df.TB[300000:633369] = df.TB[300000:633369].progress_apply(kspace)\n"
     ]
    }
   ],
   "source": [
    "df.TB[300000:633369] = df.TB[300000:633369].progress_apply(kspace)"
   ]
  },
  {
   "cell_type": "code",
   "execution_count": null,
   "metadata": {},
   "outputs": [],
   "source": [
    "for k in range(2021,2023):\n",
    "    for j in range(1,13):\n",
    "        cond1 = df.year == k  \n",
    "        cond2 = df.month == j\n",
    "        f = open(f'new_dict{k}_{j}.txt','w',encoding='utf-8-sig')\n",
    "\n",
    "        for i in df.loc[cond1&cond2].TB:\n",
    "            f.write(str(i))\n",
    "        f.close()"
   ]
  },
  {
   "cell_type": "code",
   "execution_count": 20,
   "metadata": {},
   "outputs": [],
   "source": [
    "for k in range(2021,2023):\n",
    "    for i in range(1,13):\n",
    "        inputs = list(open(f'new_dict{k}_{i}.txt', encoding='utf-8-sig'))\n",
    "        globals()[f\"result{k}_{i}\"] = kiwi.extract_words(inputs, min_cnt=10, max_word_len=10, min_score=0.25)"
   ]
  },
  {
   "cell_type": "code",
   "execution_count": 21,
   "metadata": {},
   "outputs": [],
   "source": [
    "result1 = pd.DataFrame()"
   ]
  },
  {
   "cell_type": "code",
   "execution_count": 32,
   "metadata": {},
   "outputs": [],
   "source": [
    "for k in range(2021,2023):\n",
    "    for i in range(1,11):\n",
    "            result1 = pd.concat([result1,pd.DataFrame((globals()[f\"result{k}_{i}\"]))]).drop_duplicates(subset=0)\n",
    "            os.remove(f'new_dict{k}_{i}.txt')"
   ]
  },
  {
   "cell_type": "code",
   "execution_count": 33,
   "metadata": {
    "collapsed": true
   },
   "outputs": [
    {
     "data": {
      "text/html": [
       "<div>\n",
       "<style scoped>\n",
       "    .dataframe tbody tr th:only-of-type {\n",
       "        vertical-align: middle;\n",
       "    }\n",
       "\n",
       "    .dataframe tbody tr th {\n",
       "        vertical-align: top;\n",
       "    }\n",
       "\n",
       "    .dataframe thead th {\n",
       "        text-align: right;\n",
       "    }\n",
       "</style>\n",
       "<table border=\"1\" class=\"dataframe\">\n",
       "  <thead>\n",
       "    <tr style=\"text-align: right;\">\n",
       "      <th></th>\n",
       "      <th>0</th>\n",
       "      <th>1</th>\n",
       "      <th>2</th>\n",
       "      <th>3</th>\n",
       "    </tr>\n",
       "  </thead>\n",
       "  <tbody>\n",
       "    <tr>\n",
       "      <th>0</th>\n",
       "      <td>동부구치소</td>\n",
       "      <td>0.696736</td>\n",
       "      <td>892</td>\n",
       "      <td>-1.747690</td>\n",
       "    </tr>\n",
       "    <tr>\n",
       "      <th>1</th>\n",
       "      <td>아동보호전문기관</td>\n",
       "      <td>0.669614</td>\n",
       "      <td>75</td>\n",
       "      <td>-2.749990</td>\n",
       "    </tr>\n",
       "    <tr>\n",
       "      <th>2</th>\n",
       "      <td>탄도미사일</td>\n",
       "      <td>0.606798</td>\n",
       "      <td>125</td>\n",
       "      <td>-2.900636</td>\n",
       "    </tr>\n",
       "    <tr>\n",
       "      <th>3</th>\n",
       "      <td>거시경제금융회의</td>\n",
       "      <td>0.438067</td>\n",
       "      <td>30</td>\n",
       "      <td>-2.585476</td>\n",
       "    </tr>\n",
       "    <tr>\n",
       "      <th>4</th>\n",
       "      <td>선별검사소</td>\n",
       "      <td>0.422928</td>\n",
       "      <td>475</td>\n",
       "      <td>-0.424993</td>\n",
       "    </tr>\n",
       "    <tr>\n",
       "      <th>...</th>\n",
       "      <td>...</td>\n",
       "      <td>...</td>\n",
       "      <td>...</td>\n",
       "      <td>...</td>\n",
       "    </tr>\n",
       "    <tr>\n",
       "      <th>30</th>\n",
       "      <td>산창조경제혁신센터</td>\n",
       "      <td>0.288560</td>\n",
       "      <td>13</td>\n",
       "      <td>-1.408146</td>\n",
       "    </tr>\n",
       "    <tr>\n",
       "      <th>37</th>\n",
       "      <td>아시아문화전당</td>\n",
       "      <td>0.256280</td>\n",
       "      <td>26</td>\n",
       "      <td>-2.156924</td>\n",
       "    </tr>\n",
       "    <tr>\n",
       "      <th>38</th>\n",
       "      <td>립교향악단</td>\n",
       "      <td>0.255154</td>\n",
       "      <td>24</td>\n",
       "      <td>-2.510122</td>\n",
       "    </tr>\n",
       "    <tr>\n",
       "      <th>39</th>\n",
       "      <td>국가산업단지</td>\n",
       "      <td>0.251288</td>\n",
       "      <td>46</td>\n",
       "      <td>-1.827210</td>\n",
       "    </tr>\n",
       "    <tr>\n",
       "      <th>40</th>\n",
       "      <td>르노코리아자동차</td>\n",
       "      <td>0.250286</td>\n",
       "      <td>18</td>\n",
       "      <td>-1.897174</td>\n",
       "    </tr>\n",
       "  </tbody>\n",
       "</table>\n",
       "<p>295 rows × 4 columns</p>\n",
       "</div>"
      ],
      "text/plain": [
       "            0         1    2         3\n",
       "0       동부구치소  0.696736  892 -1.747690\n",
       "1    아동보호전문기관  0.669614   75 -2.749990\n",
       "2       탄도미사일  0.606798  125 -2.900636\n",
       "3    거시경제금융회의  0.438067   30 -2.585476\n",
       "4       선별검사소  0.422928  475 -0.424993\n",
       "..        ...       ...  ...       ...\n",
       "30  산창조경제혁신센터  0.288560   13 -1.408146\n",
       "37    아시아문화전당  0.256280   26 -2.156924\n",
       "38      립교향악단  0.255154   24 -2.510122\n",
       "39     국가산업단지  0.251288   46 -1.827210\n",
       "40   르노코리아자동차  0.250286   18 -1.897174\n",
       "\n",
       "[295 rows x 4 columns]"
      ]
     },
     "execution_count": 33,
     "metadata": {},
     "output_type": "execute_result"
    }
   ],
   "source": [
    "result1"
   ]
  },
  {
   "cell_type": "code",
   "execution_count": 34,
   "metadata": {},
   "outputs": [],
   "source": [
    "result1.to_csv('result_month_TB.csv',encoding='utf-8-sig', index=False)"
   ]
  },
  {
   "cell_type": "code",
   "execution_count": 376,
   "metadata": {},
   "outputs": [],
   "source": [
    "for i in range(1,13):\n",
    "    for j in range(1,7):\n",
    "        try:\n",
    "            cond1 = df.year == 2021  \n",
    "            cond2 = df.month == i\n",
    "            cond3 = df.week == j\n",
    "\n",
    "            f = open(f'new_dict{i}.{j}week.txt','w',encoding='utf-8-sig')\n",
    "\n",
    "            for k in df.loc[cond1&cond2&cond3].clean:\n",
    "                    f.write(str(k))\n",
    "            f.close()\n",
    "        except:\n",
    "            pass"
   ]
  },
  {
   "cell_type": "code",
   "execution_count": 377,
   "metadata": {},
   "outputs": [],
   "source": [
    "for i in range(1,13):\n",
    "    for j in range(1,7):\n",
    "        try:\n",
    "            inputs = list(open(f'new_dict{i}.{j}week.txt', encoding='utf-8-sig'))\n",
    "            globals()[f\"result{i}_{j}\"] = kiwi.extract_words(inputs, min_cnt=10, max_word_len=10, min_score=0.25)\n",
    "        except:\n",
    "            pass"
   ]
  },
  {
   "cell_type": "code",
   "execution_count": 384,
   "metadata": {},
   "outputs": [],
   "source": [
    "result = pd.DataFrame()"
   ]
  },
  {
   "cell_type": "code",
   "execution_count": 385,
   "metadata": {},
   "outputs": [],
   "source": [
    "for i in range(1,13):\n",
    "    for j in range(1,7):\n",
    "        try:\n",
    "            result = pd.concat([result,pd.DataFrame((globals()[f\"result{i}_{j}\"]))]).drop_duplicates(subset=0)\n",
    "        except:\n",
    "            pass"
   ]
  },
  {
   "cell_type": "code",
   "execution_count": 387,
   "metadata": {},
   "outputs": [],
   "source": [
    "result.to_csv('result_week_body.csv',encoding='utf-8-sig', index=False)"
   ]
  },
  {
   "cell_type": "code",
   "execution_count": 16,
   "metadata": {},
   "outputs": [],
   "source": [
    "for p in range(2021,2023):\n",
    "    for i in range(1,13):\n",
    "        for j in range(1,32):\n",
    "                try:\n",
    "                    cond1 = df.year == p  \n",
    "                    cond2 = df.month == i\n",
    "                    cond3 = df.day == j\n",
    "                    f = open(f'new_dict{p}_{i}_{j}_7.txt','w',encoding='utf-8-sig')\n",
    "\n",
    "                    for k in df.loc[cond1&cond2&cond3].TB:\n",
    "                        f.write(str(k))\n",
    "                    f.close()\n",
    "                except:\n",
    "                    pass"
   ]
  },
  {
   "cell_type": "code",
   "execution_count": 17,
   "metadata": {},
   "outputs": [
    {
     "name": "stderr",
     "output_type": "stream",
     "text": [
      "100%|██████████| 12/12 [05:04<00:00, 25.34s/it]\n",
      "100%|██████████| 12/12 [05:01<00:00, 25.15s/it]\n"
     ]
    }
   ],
   "source": [
    "for p in range(2021,2023):    \n",
    "    for i in tqdm(range(1,13)):\n",
    "        for j in range(1,32):\n",
    "                    try:\n",
    "                        inputs = list(open(f'new_dict{p}_{i}_{j}_7.txt', encoding='utf-8-sig'))\n",
    "                        globals()[f\"result{p}_{i}_{j}_7\"] = kiwi.extract_words(inputs, min_cnt=7, max_word_len=10, min_score=0.25)\n",
    "                    except:\n",
    "                        pass"
   ]
  },
  {
   "cell_type": "code",
   "execution_count": 18,
   "metadata": {},
   "outputs": [],
   "source": [
    "result5 = pd.DataFrame()\n",
    "result7 = pd.DataFrame()\n",
    "result9 = pd.DataFrame()"
   ]
  },
  {
   "cell_type": "code",
   "execution_count": 19,
   "metadata": {},
   "outputs": [
    {
     "name": "stderr",
     "output_type": "stream",
     "text": [
      "100%|██████████| 12/12 [00:00<00:00, 38.74it/s]\n",
      "100%|██████████| 12/12 [00:00<00:00, 38.12it/s]\n",
      "100%|██████████| 2/2 [00:00<00:00,  3.18it/s]\n"
     ]
    }
   ],
   "source": [
    "for p in tqdm(range(2021,2023)):       \n",
    "    for i in tqdm(range(1,13)):\n",
    "        for j in range(1,32):\n",
    "                try:\n",
    "                        result7 = pd.concat([result7,pd.DataFrame((globals()[f\"result{p}_{i}_{j}_7\"]))]).drop_duplicates(subset=0)\n",
    "                except:\n",
    "                    pass\n",
    "                os.remove(f'new_dict{p}_{i}_{j}_7.txt')"
   ]
  },
  {
   "cell_type": "code",
   "execution_count": 20,
   "metadata": {},
   "outputs": [
    {
     "data": {
      "text/html": [
       "<div>\n",
       "<style scoped>\n",
       "    .dataframe tbody tr th:only-of-type {\n",
       "        vertical-align: middle;\n",
       "    }\n",
       "\n",
       "    .dataframe tbody tr th {\n",
       "        vertical-align: top;\n",
       "    }\n",
       "\n",
       "    .dataframe thead th {\n",
       "        text-align: right;\n",
       "    }\n",
       "</style>\n",
       "<table border=\"1\" class=\"dataframe\">\n",
       "  <thead>\n",
       "    <tr style=\"text-align: right;\">\n",
       "      <th></th>\n",
       "      <th>0</th>\n",
       "      <th>1</th>\n",
       "      <th>2</th>\n",
       "      <th>3</th>\n",
       "    </tr>\n",
       "  </thead>\n",
       "  <tbody>\n",
       "    <tr>\n",
       "      <th>0</th>\n",
       "      <td>장직무대리</td>\n",
       "      <td>0.870138</td>\n",
       "      <td>13</td>\n",
       "      <td>-2.545420</td>\n",
       "    </tr>\n",
       "    <tr>\n",
       "      <th>0</th>\n",
       "      <td>허베이성</td>\n",
       "      <td>0.638081</td>\n",
       "      <td>12</td>\n",
       "      <td>-0.141931</td>\n",
       "    </tr>\n",
       "    <tr>\n",
       "      <th>1</th>\n",
       "      <td>스자좡</td>\n",
       "      <td>0.522854</td>\n",
       "      <td>18</td>\n",
       "      <td>-0.702574</td>\n",
       "    </tr>\n",
       "    <tr>\n",
       "      <th>0</th>\n",
       "      <td>렉키로나주</td>\n",
       "      <td>1.434822</td>\n",
       "      <td>16</td>\n",
       "      <td>-0.067069</td>\n",
       "    </tr>\n",
       "    <tr>\n",
       "      <th>1</th>\n",
       "      <td>다셀트리온</td>\n",
       "      <td>0.596039</td>\n",
       "      <td>15</td>\n",
       "      <td>-2.053973</td>\n",
       "    </tr>\n",
       "    <tr>\n",
       "      <th>...</th>\n",
       "      <td>...</td>\n",
       "      <td>...</td>\n",
       "      <td>...</td>\n",
       "      <td>...</td>\n",
       "    </tr>\n",
       "    <tr>\n",
       "      <th>1</th>\n",
       "      <td>경윳값</td>\n",
       "      <td>0.253197</td>\n",
       "      <td>7</td>\n",
       "      <td>0.376209</td>\n",
       "    </tr>\n",
       "    <tr>\n",
       "      <th>0</th>\n",
       "      <td>도교육청</td>\n",
       "      <td>0.322942</td>\n",
       "      <td>17</td>\n",
       "      <td>-1.946080</td>\n",
       "    </tr>\n",
       "    <tr>\n",
       "      <th>0</th>\n",
       "      <td>머티리얼즈</td>\n",
       "      <td>0.383598</td>\n",
       "      <td>11</td>\n",
       "      <td>-2.155141</td>\n",
       "    </tr>\n",
       "    <tr>\n",
       "      <th>0</th>\n",
       "      <td>CJ프레시웨이</td>\n",
       "      <td>0.326998</td>\n",
       "      <td>8</td>\n",
       "      <td>-1.876121</td>\n",
       "    </tr>\n",
       "    <tr>\n",
       "      <th>1</th>\n",
       "      <td>캣페스타</td>\n",
       "      <td>0.421631</td>\n",
       "      <td>15</td>\n",
       "      <td>-0.181154</td>\n",
       "    </tr>\n",
       "  </tbody>\n",
       "</table>\n",
       "<p>209 rows × 4 columns</p>\n",
       "</div>"
      ],
      "text/plain": [
       "          0         1   2         3\n",
       "0     장직무대리  0.870138  13 -2.545420\n",
       "0      허베이성  0.638081  12 -0.141931\n",
       "1       스자좡  0.522854  18 -0.702574\n",
       "0     렉키로나주  1.434822  16 -0.067069\n",
       "1     다셀트리온  0.596039  15 -2.053973\n",
       "..      ...       ...  ..       ...\n",
       "1       경윳값  0.253197   7  0.376209\n",
       "0      도교육청  0.322942  17 -1.946080\n",
       "0     머티리얼즈  0.383598  11 -2.155141\n",
       "0   CJ프레시웨이  0.326998   8 -1.876121\n",
       "1      캣페스타  0.421631  15 -0.181154\n",
       "\n",
       "[209 rows x 4 columns]"
      ]
     },
     "execution_count": 20,
     "metadata": {},
     "output_type": "execute_result"
    }
   ],
   "source": [
    "result7"
   ]
  },
  {
   "cell_type": "code",
   "execution_count": 9,
   "metadata": {},
   "outputs": [],
   "source": [
    "result5.to_csv('result_day_TB_5.csv',encoding='utf-8-sig', index=False)"
   ]
  },
  {
   "cell_type": "code",
   "execution_count": 21,
   "metadata": {},
   "outputs": [],
   "source": [
    "result7.to_csv('result_day_TB_7_space.csv',encoding='utf-8-sig', index=False)"
   ]
  },
  {
   "cell_type": "code",
   "execution_count": 11,
   "metadata": {},
   "outputs": [],
   "source": [
    "result9.to_csv('result_day_TB_9.csv',encoding='utf-8-sig', index=False)"
   ]
  },
  {
   "cell_type": "code",
   "execution_count": 9,
   "metadata": {},
   "outputs": [],
   "source": [
    "inputs = list(open('new_dict.txt', encoding='utf-8-sig'))\n",
    "result = kiwi.extract_words(inputs, min_cnt=10, max_word_len=10, min_score=0.25)"
   ]
  },
  {
   "cell_type": "code",
   "execution_count": null,
   "metadata": {},
   "outputs": [
    {
     "data": {
      "text/plain": [
       "792"
      ]
     },
     "execution_count": 21,
     "metadata": {},
     "output_type": "execute_result"
    }
   ],
   "source": [
    "len(result)"
   ]
  },
  {
   "cell_type": "code",
   "execution_count": null,
   "metadata": {},
   "outputs": [],
   "source": [
    "f = open('new_dict1.txt','w',encoding='utf-8-sig')"
   ]
  },
  {
   "cell_type": "code",
   "execution_count": null,
   "metadata": {},
   "outputs": [
    {
     "data": {
      "text/plain": [
       "<function TextIOWrapper.close()>"
      ]
     },
     "execution_count": 12,
     "metadata": {},
     "output_type": "execute_result"
    }
   ],
   "source": [
    "for i in df.title:\n",
    "    f.write(str(i))\n",
    "f.close"
   ]
  },
  {
   "cell_type": "code",
   "execution_count": null,
   "metadata": {},
   "outputs": [],
   "source": [
    "inputs = list(open('new_dict1.txt', encoding='utf-8-sig'))\n",
    "result1 = kiwi.extract_words(inputs, min_cnt=10, max_word_len=10, min_score=0.25)"
   ]
  },
  {
   "cell_type": "code",
   "execution_count": null,
   "metadata": {
    "collapsed": true
   },
   "outputs": [
    {
     "data": {
      "text/plain": [
       "891"
      ]
     },
     "execution_count": 20,
     "metadata": {},
     "output_type": "execute_result"
    }
   ],
   "source": [
    "len(result1)"
   ]
  },
  {
   "cell_type": "code",
   "execution_count": null,
   "metadata": {},
   "outputs": [],
   "source": [
    "f = open('new_dict2.txt','w',encoding='utf-8-sig')"
   ]
  },
  {
   "cell_type": "code",
   "execution_count": null,
   "metadata": {},
   "outputs": [
    {
     "data": {
      "text/plain": [
       "<function TextIOWrapper.close()>"
      ]
     },
     "execution_count": 16,
     "metadata": {},
     "output_type": "execute_result"
    }
   ],
   "source": [
    "for i in df.TB:\n",
    "    f.write(str(i))\n",
    "f.close"
   ]
  },
  {
   "cell_type": "code",
   "execution_count": null,
   "metadata": {},
   "outputs": [],
   "source": [
    "inputs = list(open('new_dict2.txt', encoding='utf-8-sig'))\n",
    "result2 = kiwi.extract_words(inputs, min_cnt=10, max_word_len=10, min_score=0.25)"
   ]
  },
  {
   "cell_type": "code",
   "execution_count": null,
   "metadata": {},
   "outputs": [
    {
     "data": {
      "text/plain": [
       "715"
      ]
     },
     "execution_count": 19,
     "metadata": {},
     "output_type": "execute_result"
    }
   ],
   "source": [
    "len(result2)"
   ]
  },
  {
   "cell_type": "code",
   "execution_count": null,
   "metadata": {},
   "outputs": [],
   "source": [
    "result = pd.DataFrame(result).rename(columns={0:'word',1:'FinScore',2:'counts',3:'score'})"
   ]
  },
  {
   "cell_type": "code",
   "execution_count": null,
   "metadata": {},
   "outputs": [],
   "source": [
    "result.to_csv('newword_body1.csv',encoding='utf-8-sig', index=False)"
   ]
  },
  {
   "cell_type": "code",
   "execution_count": null,
   "metadata": {},
   "outputs": [],
   "source": [
    "result1 = pd.DataFrame(result1).rename(columns={0:'word',1:'FinScore',2:'counts',3:'score'})"
   ]
  },
  {
   "cell_type": "code",
   "execution_count": null,
   "metadata": {},
   "outputs": [],
   "source": [
    "result1.to_csv('newword_title1.csv',encoding='utf-8-sig', index=False)"
   ]
  },
  {
   "cell_type": "code",
   "execution_count": null,
   "metadata": {},
   "outputs": [],
   "source": [
    "result2 = pd.DataFrame(result2).rename(columns={0:'word',1:'FinScore',2:'counts',3:'score'})"
   ]
  },
  {
   "cell_type": "code",
   "execution_count": null,
   "metadata": {},
   "outputs": [],
   "source": [
    "result2.to_csv('newword_TB1.csv',encoding='utf-8-sig', index=False)"
   ]
  },
  {
   "cell_type": "code",
   "execution_count": 63,
   "metadata": {},
   "outputs": [],
   "source": [
    "result_month = pd.read_csv('result_day_TB_5.csv',encoding='utf-8-sig')\n",
    "\n",
    "result_month_body = pd.read_csv('result_day_TB_7.csv',encoding='utf-8-sig')\n",
    "\n",
    "result1 = pd.read_csv('result_day_TB_9.csv',encoding='utf-8-sig')"
   ]
  },
  {
   "cell_type": "code",
   "execution_count": null,
   "metadata": {},
   "outputs": [],
   "source": []
  }
 ],
 "metadata": {
  "kernelspec": {
   "display_name": "Python 3",
   "language": "python",
   "name": "python3"
  },
  "language_info": {
   "codemirror_mode": {
    "name": "ipython",
    "version": 3
   },
   "file_extension": ".py",
   "mimetype": "text/x-python",
   "name": "python",
   "nbconvert_exporter": "python",
   "pygments_lexer": "ipython3",
   "version": "3.9.0"
  },
  "vscode": {
   "interpreter": {
    "hash": "1c8940dca79bc3c13ec6d26587f8e6028be92103652eba1a84294a4bc61f6292"
   }
  }
 },
 "nbformat": 4,
 "nbformat_minor": 2
}
