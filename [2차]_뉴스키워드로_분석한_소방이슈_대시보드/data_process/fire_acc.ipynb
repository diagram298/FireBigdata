{
 "cells": [
  {
   "cell_type": "code",
   "execution_count": 1,
   "metadata": {},
   "outputs": [],
   "source": [
    "import pandas as pd"
   ]
  },
  {
   "cell_type": "code",
   "execution_count": 2,
   "metadata": {},
   "outputs": [],
   "source": [
    "소소심   = pd.read_csv('data2/fire/SAFETY_TRAINING.csv')\n",
    "예산     = pd.read_csv('data2/fire/FIRE_BUDGET.csv')\n",
    "노후건물 = pd.read_csv('data2/fire/OLD_BUILDING.csv')\n",
    "서비스   = pd.read_csv('data2/fire/WAREHOUSE_TRANSIT.csv')\n",
    "화재     = pd.read_csv('data2/fire/FIRE.csv')\n",
    "신문고   = pd.read_csv('data2/fire/SAFETY_REPORT.csv')\n",
    "인구     = pd.read_csv('data2/fire/POPULATION.csv')"
   ]
  },
  {
   "attachments": {},
   "cell_type": "markdown",
   "metadata": {},
   "source": [
    "## 전국"
   ]
  },
  {
   "cell_type": "code",
   "execution_count": 8,
   "metadata": {},
   "outputs": [
    {
     "data": {
      "text/plain": [
       "0.0720180653456233"
      ]
     },
     "execution_count": 8,
     "metadata": {},
     "output_type": "execute_result"
    }
   ],
   "source": [
    "## - 위해지표(전국) 2/13기준\n",
    "\n",
    "화재['DATE'] = 화재['DATE'].apply(lambda x: pd.to_datetime(str(x), format='%Y-%m-%d'))\n",
    "화재['YEAR'] = 화재['DATE'].dt.year\n",
    "fire = pd.pivot_table(화재, index='YEAR',aggfunc ='sum')\n",
    "fire = fire.reset_index()\n",
    "dead = fire[fire.YEAR == 2022].iloc[0,1]\n",
    "fire_event = fire[fire.YEAR == 2022].iloc[0,2]\n",
    "\n",
    "## 해당 월 인구 수(전국)\n",
    "전국인구 = sum(인구[인구.YEAR == 2022].POPULATION.tolist())\n",
    "\n",
    "# 인구만명당 환산 화재사망자수 : 0.5 * (0.496 * 1년간 사망자수 + 0.004 * 1년간 발생건수) / 인구수 * 10000\n",
    "전국위해지표 = (0.5*((0.496*dead)+ 0.004 * fire_event ) / 전국인구 )* 10000\n",
    "전국위해지표"
   ]
  },
  {
   "cell_type": "code",
   "execution_count": 22,
   "metadata": {},
   "outputs": [
    {
     "data": {
      "text/html": [
       "<div>\n",
       "<style scoped>\n",
       "    .dataframe tbody tr th:only-of-type {\n",
       "        vertical-align: middle;\n",
       "    }\n",
       "\n",
       "    .dataframe tbody tr th {\n",
       "        vertical-align: top;\n",
       "    }\n",
       "\n",
       "    .dataframe thead th {\n",
       "        text-align: right;\n",
       "    }\n",
       "</style>\n",
       "<table border=\"1\" class=\"dataframe\">\n",
       "  <thead>\n",
       "    <tr style=\"text-align: right;\">\n",
       "      <th></th>\n",
       "      <th>REGION_NAME</th>\n",
       "      <th>DATE</th>\n",
       "      <th>FIRE_NUM</th>\n",
       "      <th>DEAD_NUM</th>\n",
       "      <th>YEAR</th>\n",
       "    </tr>\n",
       "  </thead>\n",
       "  <tbody>\n",
       "    <tr>\n",
       "      <th>0</th>\n",
       "      <td>서울특별시</td>\n",
       "      <td>2021-01-01</td>\n",
       "      <td>14</td>\n",
       "      <td>2</td>\n",
       "      <td>2021</td>\n",
       "    </tr>\n",
       "    <tr>\n",
       "      <th>1</th>\n",
       "      <td>부산광역시</td>\n",
       "      <td>2021-01-01</td>\n",
       "      <td>2</td>\n",
       "      <td>0</td>\n",
       "      <td>2021</td>\n",
       "    </tr>\n",
       "    <tr>\n",
       "      <th>2</th>\n",
       "      <td>대구광역시</td>\n",
       "      <td>2021-01-01</td>\n",
       "      <td>1</td>\n",
       "      <td>0</td>\n",
       "      <td>2021</td>\n",
       "    </tr>\n",
       "    <tr>\n",
       "      <th>3</th>\n",
       "      <td>인천광역시</td>\n",
       "      <td>2021-01-01</td>\n",
       "      <td>6</td>\n",
       "      <td>0</td>\n",
       "      <td>2021</td>\n",
       "    </tr>\n",
       "    <tr>\n",
       "      <th>4</th>\n",
       "      <td>광주광역시</td>\n",
       "      <td>2021-01-01</td>\n",
       "      <td>5</td>\n",
       "      <td>1</td>\n",
       "      <td>2021</td>\n",
       "    </tr>\n",
       "    <tr>\n",
       "      <th>...</th>\n",
       "      <td>...</td>\n",
       "      <td>...</td>\n",
       "      <td>...</td>\n",
       "      <td>...</td>\n",
       "      <td>...</td>\n",
       "    </tr>\n",
       "    <tr>\n",
       "      <th>12178</th>\n",
       "      <td>충청남도</td>\n",
       "      <td>2023-02-13</td>\n",
       "      <td>1</td>\n",
       "      <td>0</td>\n",
       "      <td>2023</td>\n",
       "    </tr>\n",
       "    <tr>\n",
       "      <th>12179</th>\n",
       "      <td>전라북도</td>\n",
       "      <td>2023-02-13</td>\n",
       "      <td>4</td>\n",
       "      <td>0</td>\n",
       "      <td>2023</td>\n",
       "    </tr>\n",
       "    <tr>\n",
       "      <th>12180</th>\n",
       "      <td>전라남도</td>\n",
       "      <td>2023-02-13</td>\n",
       "      <td>1</td>\n",
       "      <td>0</td>\n",
       "      <td>2023</td>\n",
       "    </tr>\n",
       "    <tr>\n",
       "      <th>12181</th>\n",
       "      <td>경상북도</td>\n",
       "      <td>2023-02-13</td>\n",
       "      <td>4</td>\n",
       "      <td>0</td>\n",
       "      <td>2023</td>\n",
       "    </tr>\n",
       "    <tr>\n",
       "      <th>12182</th>\n",
       "      <td>제주특별자치도</td>\n",
       "      <td>2023-02-13</td>\n",
       "      <td>2</td>\n",
       "      <td>0</td>\n",
       "      <td>2023</td>\n",
       "    </tr>\n",
       "  </tbody>\n",
       "</table>\n",
       "<p>12183 rows × 5 columns</p>\n",
       "</div>"
      ],
      "text/plain": [
       "      REGION_NAME       DATE  FIRE_NUM  DEAD_NUM  YEAR\n",
       "0           서울특별시 2021-01-01        14         2  2021\n",
       "1           부산광역시 2021-01-01         2         0  2021\n",
       "2           대구광역시 2021-01-01         1         0  2021\n",
       "3           인천광역시 2021-01-01         6         0  2021\n",
       "4           광주광역시 2021-01-01         5         1  2021\n",
       "...           ...        ...       ...       ...   ...\n",
       "12178        충청남도 2023-02-13         1         0  2023\n",
       "12179        전라북도 2023-02-13         4         0  2023\n",
       "12180        전라남도 2023-02-13         1         0  2023\n",
       "12181        경상북도 2023-02-13         4         0  2023\n",
       "12182     제주특별자치도 2023-02-13         2         0  2023\n",
       "\n",
       "[12183 rows x 5 columns]"
      ]
     },
     "execution_count": 22,
     "metadata": {},
     "output_type": "execute_result"
    }
   ],
   "source": [
    "화재"
   ]
  },
  {
   "cell_type": "code",
   "execution_count": 9,
   "metadata": {},
   "outputs": [
    {
     "name": "stdout",
     "output_type": "stream",
     "text": [
      "60.21867679562747\n",
      "0.03341881121493757\n"
     ]
    }
   ],
   "source": [
    "## - 취약지표(전국)\n",
    "# 인구만명당 노후건축물수 : 0.0847 * 노후건축물수 / 인구수 * 10000\n",
    "전국노후건축물수 = sum(노후건물[노후건물.YEAR == 2021].BUILDING_NUM)\n",
    "전국만명당노후건축물수 = (0.0847 * 전국노후건축물수 / 전국인구) * 10000\n",
    "print(전국만명당노후건축물수)\n",
    "\n",
    "# 인구만명당 창고 및 운송관련 서비스업 업체수 : 0.0153 * 창고 및 운송관련 서비스업 업체수 / 인구-수 * 10000\n",
    "전국서비스업체수 = sum(서비스[서비스.YEAR == 2020].SERVICE_NUM)\n",
    "전국만명당서비스업체수 = 0.0153 * 전국서비스업체수 / 전국인구 * 10000\n",
    "print(전국만명당서비스업체수)"
   ]
  },
  {
   "cell_type": "code",
   "execution_count": 11,
   "metadata": {},
   "outputs": [
    {
     "data": {
      "text/plain": [
       "7026162440000"
      ]
     },
     "execution_count": 11,
     "metadata": {},
     "output_type": "execute_result"
    }
   ],
   "source": [
    "##- 경감지표(전국)\n",
    "# 소방정책 예산액 비율 : 0.2 * (일반회계 + 특별회계 - 특별회계_행정운영경비) / (일반회계 + 특별회계) * 100\n",
    "\n",
    "# 예산['BUDGET'] = 예산[\"BUDGET\"].str.replace(pat=r'[^\\w]', repl=r'', regex=True)\n",
    "예산['BUDGET']  = pd.to_numeric(예산['BUDGET'])\n",
    "\n",
    "전국소방정책예산비율 = sum(예산['BUDGET'].tolist())\n",
    "전국소방정책예산비율"
   ]
  },
  {
   "cell_type": "code",
   "execution_count": 12,
   "metadata": {},
   "outputs": [
    {
     "name": "stdout",
     "output_type": "stream",
     "text": [
      "0.0020381018789659327 1.6077283560396286e-05\n"
     ]
    }
   ],
   "source": [
    "## - 의식지표(전국)\n",
    "# 인구만명당 화재관련 안전신문고 신고건수 : 0.0346 * 안전신문고 ‘소방안전’ 신고건수 / 인구수 * 10000\n",
    "신문고['DATE'] = 신문고['DATE'].apply(lambda x: pd.to_datetime(str(x), format='%Y-%m-%d'))\n",
    "신문고['YEAR'] = 신문고['DATE'].dt.year\n",
    "전국신문고신고수 = sum(신문고[신문고.YEAR == 2022].REPORT_NUM)\n",
    "전국화재안전신문고 = 0.0346 * 전국신문고신고수 / 전국인구 * 10000\n",
    "\n",
    "# 기준연도 대비 소소심 교육 인원수 : 0.1654 * (올해 소소심 교육 인원수-작년 소소심 교육 인원수) / 인구수 * 10000\n",
    "올해전국소소심 = sum(소소심[소소심.YEAR == 2021].TRAINED_PERSON)\n",
    "작년전국소소심 = sum(소소심[소소심.YEAR == 2021].TRAINED_PERSON)\n",
    "\n",
    "전국소소심교육인원수 = 0.1654 * (올해전국소소심-작년전국소소심+1) / 전국인구 * 10000\n",
    "\n",
    "\n",
    "print(전국화재안전신문고, 전국소소심교육인원수)"
   ]
  },
  {
   "cell_type": "code",
   "execution_count": 14,
   "metadata": {},
   "outputs": [
    {
     "data": {
      "text/html": [
       "<div>\n",
       "<style scoped>\n",
       "    .dataframe tbody tr th:only-of-type {\n",
       "        vertical-align: middle;\n",
       "    }\n",
       "\n",
       "    .dataframe tbody tr th {\n",
       "        vertical-align: top;\n",
       "    }\n",
       "\n",
       "    .dataframe thead th {\n",
       "        text-align: right;\n",
       "    }\n",
       "</style>\n",
       "<table border=\"1\" class=\"dataframe\">\n",
       "  <thead>\n",
       "    <tr style=\"text-align: right;\">\n",
       "      <th></th>\n",
       "      <th>전국</th>\n",
       "      <th>전국위해지표</th>\n",
       "      <th>전국만명당노후건축물수</th>\n",
       "      <th>전국만명당서비스업체수</th>\n",
       "      <th>전국소방정책예산비율</th>\n",
       "      <th>전국화재안전신문고</th>\n",
       "      <th>전국소소심교육인원수</th>\n",
       "    </tr>\n",
       "  </thead>\n",
       "  <tbody>\n",
       "    <tr>\n",
       "      <th>0</th>\n",
       "      <td>전국</td>\n",
       "      <td>0.072018</td>\n",
       "      <td>60.218677</td>\n",
       "      <td>0.033419</td>\n",
       "      <td>7026162440000</td>\n",
       "      <td>0.002038</td>\n",
       "      <td>0.000016</td>\n",
       "    </tr>\n",
       "  </tbody>\n",
       "</table>\n",
       "</div>"
      ],
      "text/plain": [
       "   전국    전국위해지표 전국만명당노후건축물수 전국만명당서비스업체수     전국소방정책예산비율 전국화재안전신문고 전국소소심교육인원수\n",
       "0  전국  0.072018   60.218677    0.033419  7026162440000  0.002038   0.000016"
      ]
     },
     "execution_count": 14,
     "metadata": {},
     "output_type": "execute_result"
    }
   ],
   "source": [
    "li_전국 = ['전국', 전국위해지표, 전국만명당노후건축물수, 전국만명당서비스업체수, 전국소방정책예산비율, 전국화재안전신문고, 전국소소심교육인원수]\n",
    "\n",
    "df_전국 = pd.DataFrame(columns = ['전국', '전국위해지표', '전국만명당노후건축물수', '전국만명당서비스업체수', '전국소방정책예산비율', '전국화재안전신문고', '전국소소심교육인원수'])\n",
    "df_전국.loc[0,:] = li_전국\n",
    "df_전국"
   ]
  },
  {
   "attachments": {},
   "cell_type": "markdown",
   "metadata": {},
   "source": [
    "## 지역"
   ]
  },
  {
   "cell_type": "code",
   "execution_count": 15,
   "metadata": {},
   "outputs": [],
   "source": [
    "df_지역 = pd.DataFrame()"
   ]
  },
  {
   "cell_type": "code",
   "execution_count": 16,
   "metadata": {},
   "outputs": [],
   "source": [
    "지역 = '서울특별시'"
   ]
  },
  {
   "cell_type": "code",
   "execution_count": 17,
   "metadata": {},
   "outputs": [
    {
     "data": {
      "text/plain": [
       "0.10666528643545249"
      ]
     },
     "execution_count": 17,
     "metadata": {},
     "output_type": "execute_result"
    }
   ],
   "source": [
    "## - 위해지표(지역)\n",
    "\n",
    "fire = 화재[(화재['REGION_NAME'] == 지역) & (화재['YEAR']==2022)]\n",
    "fire = pd.pivot_table(fire, index='YEAR',aggfunc ='sum')\n",
    "fire = fire.reset_index()\n",
    "dead = fire[fire.YEAR == 2022].iloc[0,1]\n",
    "fire_event = fire[fire.YEAR == 2022].iloc[0,2]\n",
    "지역인구 = 인구[인구.REGION_NAME == 지역].iloc[0,-1]\n",
    "\n",
    "지역위해지표 = (0.5*((0.496*dead)+ 0.004 * fire_event ) / 지역인구 )* 10000\n",
    "지역위해지표"
   ]
  },
  {
   "cell_type": "code",
   "execution_count": 18,
   "metadata": {},
   "outputs": [
    {
     "name": "stdout",
     "output_type": "stream",
     "text": [
      "52.61074679700801\n",
      "0.08206305393974697\n"
     ]
    }
   ],
   "source": [
    "## - 취약지표 (지역)\n",
    "\n",
    "# 인구만명당 노후건축물수 : 0.0847 * 노후건축물수 / 인구수 * 10000\n",
    "지역노후건축물수 = 노후건물[(노후건물['REGION_NAME'] == 지역) & (노후건물['YEAR']==2021)].iloc[0,2]\n",
    "지역만명당노후건축물수 = (0.0847 * 지역노후건축물수 / 지역인구) * 10000\n",
    "print(지역만명당노후건축물수)\n",
    "\n",
    "# 인구만명당 창고 및 운송관련 서비스업 업체수 : 0.0153 * 창고 및 운송관련 서비스업 업체수 / 인구-수 * 10000\n",
    "지역서비스업체수 = 서비스[(서비스['REGION_NAME'] == 지역) & (서비스['YEAR']==2020)].iloc[0,2]\n",
    "지역만명당서비스업체수 = 0.0153 * 지역서비스업체수 / 지역인구 * 10000\n",
    "print(지역만명당서비스업체수)"
   ]
  },
  {
   "cell_type": "code",
   "execution_count": 19,
   "metadata": {},
   "outputs": [
    {
     "data": {
      "text/plain": [
       "976373425000"
      ]
     },
     "execution_count": 19,
     "metadata": {},
     "output_type": "execute_result"
    }
   ],
   "source": [
    "##- 경감지표(지역)\n",
    "지역소방정책예산비율 = 예산[예산['REGION_NAME'] == 지역].iloc[0,2]\n",
    "지역소방정책예산비율"
   ]
  },
  {
   "cell_type": "code",
   "execution_count": 20,
   "metadata": {},
   "outputs": [
    {
     "name": "stdout",
     "output_type": "stream",
     "text": [
      "0.0038532633205393256 0.0001754279529912481\n"
     ]
    }
   ],
   "source": [
    "## - 의식지표(지역)\n",
    "# 인구만명당 화재관련 안전신문고 신고건수 : 0.0346 * 안전신문고 ‘소방안전’ 신고건수 / 인구수 * 10000\n",
    "지역신문고신고수 = sum(신문고[(신문고.YEAR == 2022) & (신문고.REGION_NAME == 지역)].REPORT_NUM)\n",
    "지역화재안전신문고 = 0.0346 * 지역신문고신고수 / 지역인구 * 10000\n",
    "지역화재안전신문고\n",
    "\n",
    "# 기준연도 대비 소소심 교육 인원수 : 0.1654 * (올해 소소심 교육 인원수-작년 소소심 교육 인원수) / 인구수 * 10000\n",
    "올해지역소소심 = sum(소소심[(소소심.YEAR == 2021) & (소소심.REGION_NAME == 지역)].TRAINED_PERSON)\n",
    "작년지역소소심 = sum(소소심[(소소심.YEAR == 2021) & (소소심.REGION_NAME == 지역)].TRAINED_PERSON)\n",
    "\n",
    "지역소소심교육인원수 = 0.1654 * (올해지역소소심-작년지역소소심+1) / 지역인구 * 10000\n",
    "\n",
    "\n",
    "print(지역화재안전신문고, 지역소소심교육인원수)"
   ]
  },
  {
   "cell_type": "code",
   "execution_count": 21,
   "metadata": {},
   "outputs": [
    {
     "data": {
      "text/html": [
       "<div>\n",
       "<style scoped>\n",
       "    .dataframe tbody tr th:only-of-type {\n",
       "        vertical-align: middle;\n",
       "    }\n",
       "\n",
       "    .dataframe tbody tr th {\n",
       "        vertical-align: top;\n",
       "    }\n",
       "\n",
       "    .dataframe thead th {\n",
       "        text-align: right;\n",
       "    }\n",
       "</style>\n",
       "<table border=\"1\" class=\"dataframe\">\n",
       "  <thead>\n",
       "    <tr style=\"text-align: right;\">\n",
       "      <th></th>\n",
       "      <th>지역</th>\n",
       "      <th>지역위해지표</th>\n",
       "      <th>지역만명당노후건축물수</th>\n",
       "      <th>지역만명당서비스업체수</th>\n",
       "      <th>지역소방정책예산비율</th>\n",
       "      <th>지역화재안전신문고</th>\n",
       "      <th>지역소소심교육인원수</th>\n",
       "    </tr>\n",
       "  </thead>\n",
       "  <tbody>\n",
       "    <tr>\n",
       "      <th>0</th>\n",
       "      <td>서울특별시</td>\n",
       "      <td>0.106665</td>\n",
       "      <td>52.610747</td>\n",
       "      <td>0.082063</td>\n",
       "      <td>976373425000</td>\n",
       "      <td>0.003853</td>\n",
       "      <td>0.000175</td>\n",
       "    </tr>\n",
       "  </tbody>\n",
       "</table>\n",
       "</div>"
      ],
      "text/plain": [
       "      지역    지역위해지표 지역만명당노후건축물수 지역만명당서비스업체수    지역소방정책예산비율 지역화재안전신문고 지역소소심교육인원수\n",
       "0  서울특별시  0.106665   52.610747    0.082063  976373425000  0.003853   0.000175"
      ]
     },
     "execution_count": 21,
     "metadata": {},
     "output_type": "execute_result"
    }
   ],
   "source": [
    "li_지역 = [지역, 지역위해지표, 지역만명당노후건축물수, 지역만명당서비스업체수, 지역소방정책예산비율, 지역화재안전신문고, 지역소소심교육인원수]\n",
    "\n",
    "df_지역 = pd.DataFrame(columns = ['지역', '지역위해지표', '지역만명당노후건축물수', '지역만명당서비스업체수', '지역소방정책예산비율', '지역화재안전신문고', '지역소소심교육인원수'])\n",
    "df_지역.loc[0,:] = li_지역\n",
    "df_지역"
   ]
  },
  {
   "cell_type": "code",
   "execution_count": null,
   "metadata": {},
   "outputs": [],
   "source": []
  }
 ],
 "metadata": {
  "kernelspec": {
   "display_name": "base",
   "language": "python",
   "name": "python3"
  },
  "language_info": {
   "codemirror_mode": {
    "name": "ipython",
    "version": 3
   },
   "file_extension": ".py",
   "mimetype": "text/x-python",
   "name": "python",
   "nbconvert_exporter": "python",
   "pygments_lexer": "ipython3",
   "version": "3.9.13"
  },
  "orig_nbformat": 4,
  "vscode": {
   "interpreter": {
    "hash": "a077222d77dfe082b8f1dd562ad70e458ac2ab76993a0b248ab0476e32e9e8dd"
   }
  }
 },
 "nbformat": 4,
 "nbformat_minor": 2
}
