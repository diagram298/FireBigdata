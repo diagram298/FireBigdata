{
 "cells": [
  {
   "cell_type": "code",
   "execution_count": 12,
   "metadata": {},
   "outputs": [],
   "source": [
    "import os\n",
    "import sys\n",
    "import urllib.request\n",
    "from urllib.parse import quote\n",
    "import json"
   ]
  },
  {
   "cell_type": "code",
   "execution_count": 34,
   "metadata": {},
   "outputs": [
    {
     "name": "stdout",
     "output_type": "stream",
     "text": [
      "&apos;서민갑부&apos; 이진철 포항 구룡포 생물 대게 배송, 홍게-초코오징어-<b>문어</b> 外 온...\n",
      "[M포토] 종로의 아침을 깨우는 광장시장 상인들\n",
      "우리의 첫 전통주 &apos;조옥화 안동소주&apos;, 미래가 길을 묻다\n",
      "&apos;챗GPT&apos; 열풍에 언론계도 주목...AI, 기자 대체할까?\n",
      "[주말엔 음식] &quot;배불리 먹었더니 졸리네&quot; 춘곤증 예방하려면?\n",
      "아구찜 프랜차이즈 브랜드 ‘포차천국’ 업종변경 창업 혜택 제공\n",
      "&apos;2TV저녁 생생정보&apos; 장사의 신, 인천 돌<b>문어</b> 덮밥 &quot;행복함이 느껴지는 맛&quot;\n",
      "강화도 돌<b>문어</b>덮밥, 장사의신 정원에서 즐기는 바다 식탁\n",
      "2TV 저녁 생생정보 장사의신 돌<b>문어</b>덮밥\n",
      "&apos;2TV 생생정보&apos; 오늘 맛집은? 돌<b>문어</b>덮밥\n"
     ]
    }
   ],
   "source": [
    "client_id = \"xOeuXkvjv31R4C4APpEv\"\n",
    "client_secret = \"AuLFQc9E0B\"\n",
    "\n",
    "encText = urllib.parse.quote(\"외교부와 유니세프\")\n",
    "url = \"https://openapi.naver.com/v1/search/news?query=\" + quote(encText) # json 결과\n",
    "# url = \"https://openapi.naver.com/v1/search/blog.xml?query=\" + encText # xml 결과\n",
    "request = urllib.request.Request(url)\n",
    "request.add_header(\"X-Naver-Client-Id\",client_id)\n",
    "request.add_header(\"X-Naver-Client-Secret\",client_secret)\n",
    "response = urllib.request.urlopen(request)\n",
    "rescode = response.getcode()\n",
    "if(rescode==200):\n",
    "    response_body = response.read()\n",
    "    res = response_body.decode('utf-8')\n",
    "else:\n",
    "    print(\"Error Code:\" + rescode)\n",
    "\n",
    "data = json.loads(res)\n",
    "\n",
    "for head in data[\"items\"]:\n",
    "    print(head[\"title\"])"
   ]
  },
  {
   "cell_type": "code",
   "execution_count": 44,
   "metadata": {},
   "outputs": [
    {
     "name": "stdout",
     "output_type": "stream",
     "text": [
      "{'startDate': '2022-10-01', 'endDate': '2022-10-04', 'timeUnit': 'date', 'results': [{'title': '한글', 'keywords': ['한글', 'korean'], 'data': [{'period': '2022-10-01', 'ratio': 43.33895}, {'period': '2022-10-02', 'ratio': 47.0489}, {'period': '2022-10-03', 'ratio': 65.59865}, {'period': '2022-10-04', 'ratio': 100}]}, {'title': '영어', 'keywords': ['영어', 'english'], 'data': [{'period': '2022-10-01', 'ratio': 9.61214}, {'period': '2022-10-02', 'ratio': 10.79258}, {'period': '2022-10-03', 'ratio': 16.3575}, {'period': '2022-10-04', 'ratio': 25.2951}]}]}\n"
     ]
    },
    {
     "data": {
      "text/html": [
       "<div>\n",
       "<style scoped>\n",
       "    .dataframe tbody tr th:only-of-type {\n",
       "        vertical-align: middle;\n",
       "    }\n",
       "\n",
       "    .dataframe tbody tr th {\n",
       "        vertical-align: top;\n",
       "    }\n",
       "\n",
       "    .dataframe thead th {\n",
       "        text-align: right;\n",
       "    }\n",
       "</style>\n",
       "<table border=\"1\" class=\"dataframe\">\n",
       "  <thead>\n",
       "    <tr style=\"text-align: right;\">\n",
       "      <th></th>\n",
       "      <th>date</th>\n",
       "      <th>seraching_result</th>\n",
       "      <th>searching_result2</th>\n",
       "    </tr>\n",
       "  </thead>\n",
       "  <tbody>\n",
       "    <tr>\n",
       "      <th>0</th>\n",
       "      <td>2022-10-01</td>\n",
       "      <td>43.33895</td>\n",
       "      <td>9.61214</td>\n",
       "    </tr>\n",
       "    <tr>\n",
       "      <th>1</th>\n",
       "      <td>2022-10-02</td>\n",
       "      <td>47.04890</td>\n",
       "      <td>10.79258</td>\n",
       "    </tr>\n",
       "    <tr>\n",
       "      <th>2</th>\n",
       "      <td>2022-10-03</td>\n",
       "      <td>65.59865</td>\n",
       "      <td>16.35750</td>\n",
       "    </tr>\n",
       "    <tr>\n",
       "      <th>3</th>\n",
       "      <td>2022-10-04</td>\n",
       "      <td>100.00000</td>\n",
       "      <td>25.29510</td>\n",
       "    </tr>\n",
       "  </tbody>\n",
       "</table>\n",
       "</div>"
      ],
      "text/plain": [
       "         date  seraching_result  searching_result2\n",
       "0  2022-10-01          43.33895            9.61214\n",
       "1  2022-10-02          47.04890           10.79258\n",
       "2  2022-10-03          65.59865           16.35750\n",
       "3  2022-10-04         100.00000           25.29510"
      ]
     },
     "execution_count": 44,
     "metadata": {},
     "output_type": "execute_result"
    }
   ],
   "source": [
    "import pandas as pd\n",
    "import urllib.request\n",
    "import json\n",
    "\n",
    "\n",
    "url = \"https://openapi.naver.com/v1/datalab/search\"\n",
    "body = \"{\\\n",
    "         \\\"startDate\\\":\\\"2022-10-01\\\",\\\n",
    "         \\\"endDate\\\":\\\"2022-10-04\\\",\\\n",
    "         \\\"timeUnit\\\":\\\"date\\\",\\\n",
    "         \\\"keywordGroups\\\":[{\\\"groupName\\\":\\\"한글\\\",\\\"keywords\\\":[\\\"한글\\\",\\\"korean\\\"]},\\\n",
    "                             {\\\"groupName\\\":\\\"영어\\\",\\\"keywords\\\":[\\\"영어\\\",\\\"english\\\"]}\\\n",
    "                            ],\\\n",
    "         \\\"device\\\":\\\"pc\\\",\\\n",
    "         \\\"ages\\\":[\\\"1\\\",\\\"2\\\",\\\"3\\\",\\\"4\\\",\\\"5\\\",\\\"6\\\",\\\"7\\\",\\\"8\\\",\\\"9\\\",\\\"10\\\",\\\"11\\\"],\\\n",
    "         \\\"gender\\\":\\\"f\\\"\\\n",
    "         }\";\n",
    "\n",
    "request = urllib.request.Request(url)\n",
    "request.add_header(\"X-Naver-Client-Id\",client_id)\n",
    "request.add_header(\"X-Naver-Client-Secret\",client_secret)\n",
    "request.add_header(\"Content-Type\",\"application/json\")\n",
    "\n",
    "response = urllib.request.urlopen(request, data=body.encode(\"utf-8\"))\n",
    "\n",
    "rescode = response.getcode()\n",
    "\n",
    "if(rescode==200):\n",
    "    response_body = response.read()\n",
    "    response_data = response_body.decode('utf-8')\n",
    "else:\n",
    "    print(\"Error Code:\" + rescode)\n",
    "\n",
    "result = json.loads(response_data)\n",
    "\n",
    "print(result)\n",
    "\n",
    "date = [a['period'] for a in result['results'][0]['data']]\n",
    "ratio_data1 = [a['ratio'] for a in result['results'][0]['data']]\n",
    "ratio_data2 = [a['ratio'] for a in result['results'][1]['data']]\n",
    "\n",
    "pd.DataFrame({'date':date,\n",
    "        'seraching_result':ratio_data1,\n",
    "        'searching_result2':ratio_data2})"
   ]
  }
 ],
 "metadata": {
  "kernelspec": {
   "display_name": "base",
   "language": "python",
   "name": "python3"
  },
  "language_info": {
   "codemirror_mode": {
    "name": "ipython",
    "version": 3
   },
   "file_extension": ".py",
   "mimetype": "text/x-python",
   "name": "python",
   "nbconvert_exporter": "python",
   "pygments_lexer": "ipython3",
   "version": "3.9.13"
  },
  "orig_nbformat": 4,
  "vscode": {
   "interpreter": {
    "hash": "a077222d77dfe082b8f1dd562ad70e458ac2ab76993a0b248ab0476e32e9e8dd"
   }
  }
 },
 "nbformat": 4,
 "nbformat_minor": 2
}
